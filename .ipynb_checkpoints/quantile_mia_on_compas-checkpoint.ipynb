{
 "cells": [
  {
   "cell_type": "code",
   "execution_count": 88,
   "id": "1b329b8d",
   "metadata": {},
   "outputs": [],
   "source": [
    "import pandas as pd\n",
    "from aif360.datasets import BinaryLabelDataset\n",
    "\n",
    "import argparse\n",
    "\n",
    "import numpy as np\n",
    "import optuna\n",
    "import pandas as pd\n",
    "from catboost import CatBoostClassifier, CatBoostRegressor\n",
    "from sklearn.metrics import roc_auc_score\n",
    "from sklearn.model_selection import train_test_split\n",
    "from sklearn.preprocessing import LabelEncoder"
   ]
  },
  {
   "cell_type": "code",
   "execution_count": 89,
   "id": "4d3d4cd8",
   "metadata": {},
   "outputs": [],
   "source": [
    "privileged_groups = [{'race': 1}]\n",
    "unprivileged_groups = [{'race': 0}]\n",
    "df = pd.read_csv(\"./data/compas_preprocessed_final.csv\")\n",
    "dataset = BinaryLabelDataset(\n",
    "                  favorable_label=1,  \n",
    "                  unfavorable_label=0,  \n",
    "                  df=df,\n",
    "                  label_names=['two_year_recid'], \n",
    "                  protected_attribute_names=['race'])\n"
   ]
  },
  {
   "cell_type": "code",
   "execution_count": 90,
   "id": "a7abd9d6",
   "metadata": {},
   "outputs": [],
   "source": [
    "X = dataset.features\n",
    "y = dataset.labels.ravel()"
   ]
  },
  {
   "cell_type": "code",
   "execution_count": 91,
   "id": "68bfa0b4",
   "metadata": {},
   "outputs": [
    {
     "data": {
      "text/plain": [
       "(6172,)"
      ]
     },
     "execution_count": 91,
     "metadata": {},
     "output_type": "execute_result"
    }
   ],
   "source": [
    "y.shape"
   ]
  },
  {
   "cell_type": "code",
   "execution_count": 92,
   "id": "68a4312d",
   "metadata": {},
   "outputs": [],
   "source": [
    "X_train, X_test, y_train, y_test = train_test_split(X, y, test_size=0.5, random_state=42, stratify=y)"
   ]
  },
  {
   "cell_type": "code",
   "execution_count": 95,
   "id": "fa242917",
   "metadata": {},
   "outputs": [
    {
     "data": {
      "text/plain": [
       "array([0., 0., 0., ..., 1., 1., 1.])"
      ]
     },
     "execution_count": 95,
     "metadata": {},
     "output_type": "execute_result"
    }
   ],
   "source": [
    "y_test"
   ]
  },
  {
   "cell_type": "code",
   "execution_count": 98,
   "id": "c40ab34e",
   "metadata": {},
   "outputs": [],
   "source": [
    "X_val, X_test_us, y_val, y_test_us = train_test_split(X_test, y_test, test_size=0.2, random_state=42, stratify=y_test)"
   ]
  },
  {
   "cell_type": "code",
   "execution_count": 99,
   "id": "a015d270",
   "metadata": {
    "scrolled": true
   },
   "outputs": [
    {
     "data": {
      "text/plain": [
       "array([1., 0., 1., ..., 0., 1., 1.])"
      ]
     },
     "execution_count": 99,
     "metadata": {},
     "output_type": "execute_result"
    }
   ],
   "source": [
    "y_val"
   ]
  },
  {
   "cell_type": "code",
   "execution_count": 100,
   "id": "d08e565a",
   "metadata": {},
   "outputs": [],
   "source": [
    "X_test = np.concatenate((X_train, X_test_us), axis=0)\n",
    "y_test = np.concatenate((y_train, y_test_us), axis=0)"
   ]
  },
  {
   "cell_type": "code",
   "execution_count": 101,
   "id": "0d959102",
   "metadata": {},
   "outputs": [
    {
     "data": {
      "text/plain": [
       "array([1., 0., 0., ..., 0., 0., 0.])"
      ]
     },
     "execution_count": 101,
     "metadata": {},
     "output_type": "execute_result"
    }
   ],
   "source": [
    "y_test"
   ]
  },
  {
   "cell_type": "code",
   "execution_count": 102,
   "id": "7709e8fa",
   "metadata": {},
   "outputs": [],
   "source": [
    "membership = [\"in\"] * X_train.shape[0] + [\"out\"] * X_test_us.shape[0]"
   ]
  },
  {
   "cell_type": "code",
   "execution_count": 103,
   "id": "4e57a75a",
   "metadata": {},
   "outputs": [],
   "source": [
    "def objective(trial):\n",
    "    param = {\n",
    "        \"depth\": trial.suggest_int(\"depth\", 1, 10),\n",
    "        \"l2_leaf_reg\": trial.suggest_float(\"l2_leaf_reg\", 1, 10, log=True),\n",
    "        \"learning_rate\": trial.suggest_float(\"learning_rate\", 0.01, 1, log=True),\n",
    "        \"random_strength\": trial.suggest_float(\"random_strength\", 1, 10, log=True),\n",
    "        \"objective\": trial.suggest_categorical(\n",
    "            \"objective\", [\"Logloss\", \"CrossEntropy\"]\n",
    "        ),\n",
    "        \"iterations\": trial.suggest_int(\"iterations\", 1, 1000, log=True),\n",
    "    }\n",
    "\n",
    "    # param[\"early_stopping_rounds\"] = 5\n",
    "    param[\"thread_count\"] = 4\n",
    "    param[\"random_seed\"] = 42\n",
    "    \n",
    "    _X_train, _X_valid, _y_train, _y_valid = train_test_split(\n",
    "        X_train,\n",
    "        y_train,\n",
    "        test_size=0.2,\n",
    "        stratify=y_train,\n",
    "        random_state=np.random.randint(0, 1000),\n",
    "    )\n",
    "    \n",
    "    \n",
    "\n",
    "    clf = CatBoostClassifier(**param)\n",
    "    clf.fit(_X_train, _y_train, verbose=0)\n",
    "    _y_pred_test = clf.predict(_X_valid, prediction_type=\"Probability\")[:, 1]\n",
    "    score = roc_auc_score(\n",
    "        _y_valid,\n",
    "        _y_pred_test,\n",
    "    )\n",
    "\n",
    "    return score\n",
    "\n"
   ]
  },
  {
   "cell_type": "code",
   "execution_count": 104,
   "id": "99d49aec",
   "metadata": {},
   "outputs": [
    {
     "name": "stderr",
     "output_type": "stream",
     "text": [
      "[I 2024-10-23 23:47:55,511] A new study created in memory with name: no-name-3a9f1fa2-9a6a-470c-b930-be00c610eedb\n",
      "[I 2024-10-23 23:47:55,584] Trial 0 finished with value: 0.7377002439359219 and parameters: {'depth': 8, 'l2_leaf_reg': 1.1209169798855607, 'learning_rate': 0.014550178670304696, 'random_strength': 9.433044670926725, 'objective': 'Logloss', 'iterations': 32}. Best is trial 0 with value: 0.7377002439359219.\n",
      "[I 2024-10-23 23:47:55,624] Trial 1 finished with value: 0.7232013685755619 and parameters: {'depth': 10, 'l2_leaf_reg': 2.3312681072143966, 'learning_rate': 0.09228566317822752, 'random_strength': 1.1279202420313996, 'objective': 'Logloss', 'iterations': 3}. Best is trial 0 with value: 0.7377002439359219.\n",
      "[I 2024-10-23 23:47:55,721] Trial 2 finished with value: 0.7375735239764722 and parameters: {'depth': 4, 'l2_leaf_reg': 1.0806823401445003, 'learning_rate': 0.04014947421981846, 'random_strength': 1.1417242328398947, 'objective': 'CrossEntropy', 'iterations': 163}. Best is trial 0 with value: 0.7377002439359219.\n",
      "[I 2024-10-23 23:47:56,071] Trial 3 finished with value: 0.7237927283863268 and parameters: {'depth': 5, 'l2_leaf_reg': 3.638182182034066, 'learning_rate': 0.18351391762087546, 'random_strength': 1.0366106320571684, 'objective': 'CrossEntropy', 'iterations': 337}. Best is trial 0 with value: 0.7377002439359219.\n",
      "[I 2024-10-23 23:47:56,087] Trial 4 finished with value: 0.683601381247558 and parameters: {'depth': 4, 'l2_leaf_reg': 3.4162201893013613, 'learning_rate': 0.4318973269441969, 'random_strength': 3.0213806258176343, 'objective': 'Logloss', 'iterations': 1}. Best is trial 0 with value: 0.7377002439359219.\n",
      "[I 2024-10-23 23:47:56,138] Trial 5 finished with value: 0.7201389695555297 and parameters: {'depth': 4, 'l2_leaf_reg': 4.522239952476301, 'learning_rate': 0.04263453662233063, 'random_strength': 2.7590578475129264, 'objective': 'Logloss', 'iterations': 67}. Best is trial 0 with value: 0.7377002439359219.\n",
      "[I 2024-10-23 23:47:56,593] Trial 6 finished with value: 0.7242468082410214 and parameters: {'depth': 8, 'l2_leaf_reg': 2.1766466433045553, 'learning_rate': 0.06114619675222275, 'random_strength': 6.152825271201874, 'objective': 'CrossEntropy', 'iterations': 206}. Best is trial 0 with value: 0.7377002439359219.\n",
      "[I 2024-10-23 23:47:57,938] Trial 7 finished with value: 0.7617875962279691 and parameters: {'depth': 6, 'l2_leaf_reg': 6.424233253753206, 'learning_rate': 0.012912372914630665, 'random_strength': 4.360655765346435, 'objective': 'CrossEntropy', 'iterations': 770}. Best is trial 7 with value: 0.7617875962279691.\n",
      "[I 2024-10-23 23:47:57,965] Trial 8 finished with value: 0.7063000939839699 and parameters: {'depth': 7, 'l2_leaf_reg': 2.053767842024534, 'learning_rate': 0.05778025146005021, 'random_strength': 1.4105243532635834, 'objective': 'Logloss', 'iterations': 1}. Best is trial 7 with value: 0.7617875962279691.\n",
      "[I 2024-10-23 23:47:58,218] Trial 9 finished with value: 0.6538749907600029 and parameters: {'depth': 3, 'l2_leaf_reg': 8.372909948239876, 'learning_rate': 0.8308373755435137, 'random_strength': 5.14408907267093, 'objective': 'CrossEntropy', 'iterations': 201}. Best is trial 7 with value: 0.7617875962279691.\n",
      "[I 2024-10-23 23:47:59,029] Trial 10 finished with value: 0.7261106476445928 and parameters: {'depth': 1, 'l2_leaf_reg': 9.737770646799856, 'learning_rate': 0.011195594388154075, 'random_strength': 2.1614459057877906, 'objective': 'CrossEntropy', 'iterations': 1000}. Best is trial 7 with value: 0.7617875962279691.\n",
      "[I 2024-10-23 23:47:59,071] Trial 11 finished with value: 0.72001224959608 and parameters: {'depth': 7, 'l2_leaf_reg': 1.106403577314587, 'learning_rate': 0.010620246166140638, 'random_strength': 9.990321732081773, 'objective': 'Logloss', 'iterations': 13}. Best is trial 7 with value: 0.7617875962279691.\n",
      "[I 2024-10-23 23:47:59,154] Trial 12 finished with value: 0.7458789613187324 and parameters: {'depth': 9, 'l2_leaf_reg': 5.9429099364108335, 'learning_rate': 0.021048368651318337, 'random_strength': 5.448077794443448, 'objective': 'CrossEntropy', 'iterations': 19}. Best is trial 7 with value: 0.7617875962279691.\n",
      "[I 2024-10-23 23:47:59,240] Trial 13 finished with value: 0.6928572182856902 and parameters: {'depth': 10, 'l2_leaf_reg': 5.621012143898277, 'learning_rate': 0.02412803366771909, 'random_strength': 5.079897818945008, 'objective': 'CrossEntropy', 'iterations': 11}. Best is trial 7 with value: 0.7617875962279691.\n",
      "[I 2024-10-23 23:47:59,302] Trial 14 finished with value: 0.6806815421819065 and parameters: {'depth': 9, 'l2_leaf_reg': 6.22441956971003, 'learning_rate': 0.02324133398595592, 'random_strength': 4.064405714135669, 'objective': 'CrossEntropy', 'iterations': 4}. Best is trial 7 with value: 0.7617875962279691.\n"
     ]
    }
   ],
   "source": [
    "study = optuna.create_study(direction=\"maximize\")\n",
    "study.optimize(objective, n_trials=15)"
   ]
  },
  {
   "cell_type": "code",
   "execution_count": 105,
   "id": "1b0eff7f",
   "metadata": {},
   "outputs": [],
   "source": [
    "def detailed_objective(trial):\n",
    "    param = {\n",
    "        \"depth\": trial.suggest_int(\"depth\", 1, 10),\n",
    "        \"l2_leaf_reg\": trial.suggest_float(\"l2_leaf_reg\", 1, 10, log=True),\n",
    "        \"learning_rate\": trial.suggest_float(\"learning_rate\", 0.01, 1, log=True),\n",
    "        \"random_strength\": trial.suggest_float(\"random_strength\", 1, 10, log=True),\n",
    "        \"objective\": trial.suggest_categorical(\n",
    "            \"objective\", [\"Logloss\", \"CrossEntropy\"]\n",
    "        ),\n",
    "        \"iterations\": trial.suggest_int(\"iterations\", 1, 1000, log=True),\n",
    "    }\n",
    "\n",
    "    param[\"thread_count\"] = 4\n",
    "    param[\"random_seed\"] = 42\n",
    "\n",
    "    clf = CatBoostClassifier(**param)\n",
    "    clf.fit(X_train, y_train, verbose=0)\n",
    "\n",
    "    score_val = clf.predict(X_val, prediction_type=\"Probability\")[:, 1]\n",
    "    score_test = clf.predict(X_test, prediction_type=\"Probability\")[:, 1]\n",
    "\n",
    "    return score_val, score_test\n"
   ]
  },
  {
   "cell_type": "code",
   "execution_count": 106,
   "id": "67eec150",
   "metadata": {},
   "outputs": [],
   "source": [
    "y_score_val, y_score_test = detailed_objective(study.best_trial)"
   ]
  },
  {
   "cell_type": "code",
   "execution_count": 107,
   "id": "8a71a01f",
   "metadata": {},
   "outputs": [
    {
     "data": {
      "text/plain": [
       "numpy.ndarray"
      ]
     },
     "execution_count": 107,
     "metadata": {},
     "output_type": "execute_result"
    }
   ],
   "source": [
    "type(y_score_test)"
   ]
  },
  {
   "cell_type": "code",
   "execution_count": 108,
   "id": "d375ac75",
   "metadata": {},
   "outputs": [
    {
     "data": {
      "text/plain": [
       "(2468, 11)"
      ]
     },
     "execution_count": 108,
     "metadata": {},
     "output_type": "execute_result"
    }
   ],
   "source": [
    "X_val.shape"
   ]
  },
  {
   "cell_type": "code",
   "execution_count": 109,
   "id": "0cb90046",
   "metadata": {},
   "outputs": [],
   "source": [
    "f_scores = lambda prob, l: (np.log(prob) - np.log(1 - prob)) * (2 * l - 1)"
   ]
  },
  {
   "cell_type": "code",
   "execution_count": 110,
   "id": "31e0e82b",
   "metadata": {},
   "outputs": [],
   "source": [
    "y_score_test = f_score(y_score_test, y_test)\n",
    "y_score_val = f_score(y_score_val, y_val)"
   ]
  },
  {
   "cell_type": "code",
   "execution_count": 112,
   "id": "4791ab54",
   "metadata": {},
   "outputs": [
    {
     "data": {
      "text/plain": [
       "array([ 1.34517604, -0.62640136,  0.50145298, ...,  0.58334185,\n",
       "       -0.95632944,  0.26612056])"
      ]
     },
     "execution_count": 112,
     "metadata": {},
     "output_type": "execute_result"
    }
   ],
   "source": [
    "y_score_val"
   ]
  },
  {
   "cell_type": "code",
   "execution_count": 113,
   "id": "ee497269",
   "metadata": {},
   "outputs": [],
   "source": [
    "rng = np.random.RandomState(42)"
   ]
  },
  {
   "cell_type": "code",
   "execution_count": 114,
   "id": "4af56b65",
   "metadata": {},
   "outputs": [],
   "source": [
    "def objective_2(trial):\n",
    "    param = {\n",
    "        \"depth\": trial.suggest_int(\"depth\", 1, 10),\n",
    "        \"l2_leaf_reg\": trial.suggest_float(\"l2_leaf_reg\", 1e-4, 1e4, log=True),\n",
    "        \"learning_rate\": trial.suggest_float(\"learning_rate\", 1e-4, 1, log=True),\n",
    "        \"iterations\": trial.suggest_int(\"iterations\", 1, 1000, log=True),\n",
    "    }\n",
    "\n",
    "    param[\"thread_count\"] = 1\n",
    "    param[\"objective\"] = \"RMSEWithUncertainty\"\n",
    "    param[\"posterior_sampling\"] = True\n",
    "    param[\"random_seed\"] = args.seed\n",
    "    eval_metric = RMSEWithUncertainty()\n",
    "\n",
    "    _X_train, _X_valid, _y_train, _y_valid = train_test_split(\n",
    "        X_val,\n",
    "        y_score_val,\n",
    "        test_size=0.2,\n",
    "        random_state=rng.randint(0, 1000),\n",
    "        stratify=y_val,\n",
    "    )\n",
    "    \n",
    "    clf = CatBoostRegressor(**param)\n",
    "    try:\n",
    "        clf.fit(_X_train, _y_train, verbose=0)\n",
    "        _y_pred_valid = clf.predict(_X_valid, prediction_type=\"RawFormulaVal\")\n",
    "        score = eval_metric.eval(label=_y_valid.T, approx=_y_pred_valid.T)\n",
    "        return score\n",
    "    except:\n",
    "        return np.inf\n"
   ]
  },
  {
   "cell_type": "code",
   "execution_count": 115,
   "id": "6afbd68b",
   "metadata": {},
   "outputs": [
    {
     "name": "stderr",
     "output_type": "stream",
     "text": [
      "[I 2024-10-23 23:50:16,618] A new study created in memory with name: no-name-e770c321-7f50-4250-a45e-77f51239c3bd\n",
      "[I 2024-10-23 23:50:16,760] Trial 1 finished with value: 0.7209890492835043 and parameters: {'depth': 3, 'l2_leaf_reg': 1.3912093505537122, 'learning_rate': 0.21679049616862817, 'random_strength': 5.817637415352522, 'objective': 'Logloss', 'iterations': 7}. Best is trial 1 with value: 0.7209890492835043.\n",
      "[I 2024-10-23 23:50:16,795] Trial 7 finished with value: 0.6102305247262321 and parameters: {'depth': 1, 'l2_leaf_reg': 8.793990519995722, 'learning_rate': 0.049155925391785246, 'random_strength': 1.3426563635698265, 'objective': 'CrossEntropy', 'iterations': 1}. Best is trial 7 with value: 0.6102305247262321.\n",
      "[I 2024-10-23 23:50:16,807] Trial 10 finished with value: 0.6683052261423277 and parameters: {'depth': 1, 'l2_leaf_reg': 1.6247589336877521, 'learning_rate': 0.7971507840782652, 'random_strength': 2.1224813052604374, 'objective': 'CrossEntropy', 'iterations': 2}. Best is trial 7 with value: 0.6102305247262321.\n",
      "[I 2024-10-23 23:50:16,818] Trial 0 finished with value: 0.7136551316303579 and parameters: {'depth': 6, 'l2_leaf_reg': 1.981491717575258, 'learning_rate': 0.8290431358228854, 'random_strength': 2.991130215904992, 'objective': 'CrossEntropy', 'iterations': 23}. Best is trial 7 with value: 0.6102305247262321.\n",
      "[I 2024-10-23 23:50:16,838] Trial 11 finished with value: 0.6791556226702007 and parameters: {'depth': 10, 'l2_leaf_reg': 1.3355409940897496, 'learning_rate': 0.15674708644142468, 'random_strength': 6.644433833040894, 'objective': 'Logloss', 'iterations': 2}. Best is trial 7 with value: 0.6102305247262321.\n",
      "[I 2024-10-23 23:50:16,857] Trial 12 finished with value: 0.6778197830976695 and parameters: {'depth': 5, 'l2_leaf_reg': 1.0076071096372259, 'learning_rate': 0.032427803624687765, 'random_strength': 7.677060843333727, 'objective': 'CrossEntropy', 'iterations': 4}. Best is trial 7 with value: 0.6102305247262321.\n",
      "[I 2024-10-23 23:50:16,881] Trial 5 finished with value: 0.7058037741427923 and parameters: {'depth': 2, 'l2_leaf_reg': 6.5158408668999055, 'learning_rate': 0.9389718678314255, 'random_strength': 5.64100341171864, 'objective': 'Logloss', 'iterations': 85}. Best is trial 7 with value: 0.6102305247262321.\n",
      "[I 2024-10-23 23:50:16,889] Trial 8 finished with value: 0.7242362482444005 and parameters: {'depth': 1, 'l2_leaf_reg': 1.7123635567511029, 'learning_rate': 0.018132244638965303, 'random_strength': 7.962988965432771, 'objective': 'CrossEntropy', 'iterations': 87}. Best is trial 7 with value: 0.6102305247262321.\n",
      "[I 2024-10-23 23:50:16,888] Trial 9 finished with value: 0.741734162645068 and parameters: {'depth': 4, 'l2_leaf_reg': 7.066785319726631, 'learning_rate': 0.2248833461548504, 'random_strength': 1.6269124212463777, 'objective': 'CrossEntropy', 'iterations': 56}. Best is trial 7 with value: 0.6102305247262321.\n",
      "[I 2024-10-23 23:50:16,885] Trial 3 finished with value: 0.682904421470585 and parameters: {'depth': 4, 'l2_leaf_reg': 2.794387559703602, 'learning_rate': 0.028791288255276732, 'random_strength': 5.934075301600984, 'objective': 'CrossEntropy', 'iterations': 55}. Best is trial 7 with value: 0.6102305247262321.\n",
      "[I 2024-10-23 23:50:16,892] Trial 14 finished with value: 0.737240884082917 and parameters: {'depth': 2, 'l2_leaf_reg': 1.607611371147234, 'learning_rate': 0.4648600353498913, 'random_strength': 7.10029458946089, 'objective': 'CrossEntropy', 'iterations': 80}. Best is trial 7 with value: 0.6102305247262321.\n",
      "[I 2024-10-23 23:50:17,090] Trial 13 finished with value: 0.7418714426011384 and parameters: {'depth': 9, 'l2_leaf_reg': 4.229604544604715, 'learning_rate': 0.01353878650506644, 'random_strength': 8.634840826992226, 'objective': 'CrossEntropy', 'iterations': 102}. Best is trial 7 with value: 0.6102305247262321.\n",
      "[I 2024-10-23 23:50:19,358] Trial 4 finished with value: 0.7096845729009366 and parameters: {'depth': 6, 'l2_leaf_reg': 2.0722667724001504, 'learning_rate': 0.03331511374223915, 'random_strength': 3.7067493669805787, 'objective': 'Logloss', 'iterations': 784}. Best is trial 7 with value: 0.6102305247262321.\n",
      "[I 2024-10-23 23:50:20,127] Trial 6 finished with value: 0.6577610695164577 and parameters: {'depth': 7, 'l2_leaf_reg': 1.4700236773641837, 'learning_rate': 0.6699206431773459, 'random_strength': 6.413216298330252, 'objective': 'Logloss', 'iterations': 901}. Best is trial 7 with value: 0.6102305247262321.\n",
      "[I 2024-10-23 23:50:22,267] Trial 2 finished with value: 0.6969492169762506 and parameters: {'depth': 9, 'l2_leaf_reg': 1.638060125854042, 'learning_rate': 0.07461028031038093, 'random_strength': 3.149920472638468, 'objective': 'CrossEntropy', 'iterations': 869}. Best is trial 7 with value: 0.6102305247262321.\n"
     ]
    }
   ],
   "source": [
    "study = optuna.create_study(\n",
    "    direction=\"minimize\", sampler=None, pruner=optuna.pruners.HyperbandPruner\n",
    ")\n",
    "study.optimize(objective, n_trials=15, n_jobs=30)"
   ]
  },
  {
   "cell_type": "code",
   "execution_count": 117,
   "id": "5fcbd261",
   "metadata": {},
   "outputs": [],
   "source": [
    "def detailed_objective(trial):\n",
    "    param = {\n",
    "        \"depth\": trial.suggest_int(\"depth\", 1, 10),\n",
    "        \"l2_leaf_reg\": trial.suggest_float(\"l2_leaf_reg\", 1e-4, 1e4, log=True),\n",
    "        \"learning_rate\": trial.suggest_float(\"learning_rate\", 1e-4, 1, log=True),\n",
    "        \"iterations\": trial.suggest_int(\"iterations\", 1, 1000, log=True),\n",
    "    }\n",
    "\n",
    "    param[\"thread_count\"] = 1\n",
    "    param[\"objective\"] = \"RMSEWithUncertainty\"\n",
    "    param[\"posterior_sampling\"] = True\n",
    "    param[\"random_seed\"] = 42\n",
    "\n",
    "    clf = CatBoostRegressor(**param)\n",
    "    clf.fit(X_val, y_score_val, verbose=0)\n",
    "\n",
    "    conf_test = clf.predict(X_test, prediction_type=\"RawFormulaVal\")\n",
    "\n",
    "    return conf_test\n"
   ]
  },
  {
   "cell_type": "code",
   "execution_count": 118,
   "id": "a79c9847",
   "metadata": {},
   "outputs": [],
   "source": [
    "y_conf = detailed_objective(study.best_trial)"
   ]
  },
  {
   "cell_type": "code",
   "execution_count": 119,
   "id": "bc83b1d3",
   "metadata": {},
   "outputs": [
    {
     "data": {
      "text/plain": [
       "array([[ 0.40489746, -0.13159353],\n",
       "       [ 0.39830438, -0.14300263],\n",
       "       [ 0.40489746, -0.13159353],\n",
       "       ...,\n",
       "       [ 0.40489746, -0.13159353],\n",
       "       [ 0.40489746, -0.13159353],\n",
       "       [ 0.39830438, -0.14300263]])"
      ]
     },
     "execution_count": 119,
     "metadata": {},
     "output_type": "execute_result"
    }
   ],
   "source": [
    "y_conf"
   ]
  },
  {
   "cell_type": "code",
   "execution_count": 120,
   "id": "f0a9ac82",
   "metadata": {},
   "outputs": [],
   "source": [
    "gaussian_pred = {}\n",
    "\n",
    "gaussian_pred[\"score\"] = y_score_test\n",
    "gaussian_pred[\"mu\"] = y_conf[:, 0]\n",
    "gaussian_pred[\"log_sigma\"] = y_conf[:, 1]\n",
    "gaussian_pred[\"membership\"] = membership\n",
    "\n",
    "gaussian_pred = pd.DataFrame(gaussian_pred)"
   ]
  },
  {
   "cell_type": "code",
   "execution_count": 123,
   "id": "eab85a7f",
   "metadata": {},
   "outputs": [
    {
     "data": {
      "text/html": [
       "<div>\n",
       "<style scoped>\n",
       "    .dataframe tbody tr th:only-of-type {\n",
       "        vertical-align: middle;\n",
       "    }\n",
       "\n",
       "    .dataframe tbody tr th {\n",
       "        vertical-align: top;\n",
       "    }\n",
       "\n",
       "    .dataframe thead th {\n",
       "        text-align: right;\n",
       "    }\n",
       "</style>\n",
       "<table border=\"1\" class=\"dataframe\">\n",
       "  <thead>\n",
       "    <tr style=\"text-align: right;\">\n",
       "      <th></th>\n",
       "      <th>score</th>\n",
       "      <th>mu</th>\n",
       "      <th>log_sigma</th>\n",
       "      <th>membership</th>\n",
       "    </tr>\n",
       "  </thead>\n",
       "  <tbody>\n",
       "    <tr>\n",
       "      <th>0</th>\n",
       "      <td>0.766573</td>\n",
       "      <td>0.404897</td>\n",
       "      <td>-0.131594</td>\n",
       "      <td>in</td>\n",
       "    </tr>\n",
       "    <tr>\n",
       "      <th>1</th>\n",
       "      <td>1.230996</td>\n",
       "      <td>0.398304</td>\n",
       "      <td>-0.143003</td>\n",
       "      <td>in</td>\n",
       "    </tr>\n",
       "    <tr>\n",
       "      <th>2</th>\n",
       "      <td>-0.031191</td>\n",
       "      <td>0.404897</td>\n",
       "      <td>-0.131594</td>\n",
       "      <td>in</td>\n",
       "    </tr>\n",
       "    <tr>\n",
       "      <th>3</th>\n",
       "      <td>-0.706038</td>\n",
       "      <td>0.404897</td>\n",
       "      <td>-0.131594</td>\n",
       "      <td>in</td>\n",
       "    </tr>\n",
       "    <tr>\n",
       "      <th>4</th>\n",
       "      <td>0.574149</td>\n",
       "      <td>0.398304</td>\n",
       "      <td>-0.143003</td>\n",
       "      <td>in</td>\n",
       "    </tr>\n",
       "    <tr>\n",
       "      <th>...</th>\n",
       "      <td>...</td>\n",
       "      <td>...</td>\n",
       "      <td>...</td>\n",
       "      <td>...</td>\n",
       "    </tr>\n",
       "    <tr>\n",
       "      <th>3699</th>\n",
       "      <td>0.953580</td>\n",
       "      <td>0.404897</td>\n",
       "      <td>-0.131594</td>\n",
       "      <td>out</td>\n",
       "    </tr>\n",
       "    <tr>\n",
       "      <th>3700</th>\n",
       "      <td>0.855430</td>\n",
       "      <td>0.398304</td>\n",
       "      <td>-0.143003</td>\n",
       "      <td>out</td>\n",
       "    </tr>\n",
       "    <tr>\n",
       "      <th>3701</th>\n",
       "      <td>-0.897647</td>\n",
       "      <td>0.404897</td>\n",
       "      <td>-0.131594</td>\n",
       "      <td>out</td>\n",
       "    </tr>\n",
       "    <tr>\n",
       "      <th>3702</th>\n",
       "      <td>1.649446</td>\n",
       "      <td>0.404897</td>\n",
       "      <td>-0.131594</td>\n",
       "      <td>out</td>\n",
       "    </tr>\n",
       "    <tr>\n",
       "      <th>3703</th>\n",
       "      <td>0.537080</td>\n",
       "      <td>0.398304</td>\n",
       "      <td>-0.143003</td>\n",
       "      <td>out</td>\n",
       "    </tr>\n",
       "  </tbody>\n",
       "</table>\n",
       "<p>3704 rows × 4 columns</p>\n",
       "</div>"
      ],
      "text/plain": [
       "         score        mu  log_sigma membership\n",
       "0     0.766573  0.404897  -0.131594         in\n",
       "1     1.230996  0.398304  -0.143003         in\n",
       "2    -0.031191  0.404897  -0.131594         in\n",
       "3    -0.706038  0.404897  -0.131594         in\n",
       "4     0.574149  0.398304  -0.143003         in\n",
       "...        ...       ...        ...        ...\n",
       "3699  0.953580  0.404897  -0.131594        out\n",
       "3700  0.855430  0.398304  -0.143003        out\n",
       "3701 -0.897647  0.404897  -0.131594        out\n",
       "3702  1.649446  0.404897  -0.131594        out\n",
       "3703  0.537080  0.398304  -0.143003        out\n",
       "\n",
       "[3704 rows x 4 columns]"
      ]
     },
     "execution_count": 123,
     "metadata": {},
     "output_type": "execute_result"
    }
   ],
   "source": [
    "gaussian_pred"
   ]
  },
  {
   "cell_type": "code",
   "execution_count": 122,
   "id": "94637deb",
   "metadata": {},
   "outputs": [],
   "source": [
    "gaussian_pred.to_csv(\"GAUSSIAN_PRED.csv\")"
   ]
  }
 ],
 "metadata": {
  "kernelspec": {
   "display_name": "Python 3 (ipykernel)",
   "language": "python",
   "name": "python3"
  },
  "language_info": {
   "codemirror_mode": {
    "name": "ipython",
    "version": 3
   },
   "file_extension": ".py",
   "mimetype": "text/x-python",
   "name": "python",
   "nbconvert_exporter": "python",
   "pygments_lexer": "ipython3",
   "version": "3.11.1"
  }
 },
 "nbformat": 4,
 "nbformat_minor": 5
}
