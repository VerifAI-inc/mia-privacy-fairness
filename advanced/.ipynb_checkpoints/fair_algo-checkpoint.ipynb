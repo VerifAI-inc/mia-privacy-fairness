{
 "cells": [
  {
   "cell_type": "code",
   "execution_count": 1,
   "metadata": {
    "executionInfo": {
     "elapsed": 328,
     "status": "ok",
     "timestamp": 1730999657017,
     "user": {
      "displayName": "Ilhama Novruzova",
      "userId": "12259181736104464630"
     },
     "user_tz": -240
    },
    "id": "nw_thihFGqUR"
   },
   "outputs": [],
   "source": [
    "import sys\n",
    "sys.path.append('../')"
   ]
  },
  {
   "cell_type": "code",
   "execution_count": 2,
   "metadata": {
    "executionInfo": {
     "elapsed": 20426,
     "status": "ok",
     "timestamp": 1730999678534,
     "user": {
      "displayName": "Ilhama Novruzova",
      "userId": "12259181736104464630"
     },
     "user_tz": -240
    },
    "id": "ETU_TG0eFJ-I"
   },
   "outputs": [],
   "source": [
    "import numpy as np\n",
    "from fairlearn.datasets import fetch_acs_income\n",
    "from sklearn import preprocessing\n",
    "from fairlearn.metrics import MetricFrame\n",
    "from fairlearn.metrics import equalized_odds_difference\n",
    "import numpy as np\n",
    "from privacy_meter.audit import Audit, MetricEnum\n",
    "from privacy_meter.dataset import Dataset\n",
    "from privacy_meter.information_source import InformationSource\n",
    "\n",
    "\n",
    "import keras as keras\n",
    "import tensorflow as tf\n",
    "import matplotlib.pyplot as plt\n",
    "# load dataset\n",
    "import pandas as pd\n",
    "from fairlearn.reductions import EqualizedOdds\n",
    "import warnings\n",
    "warnings.filterwarnings('ignore')\n",
    "\n",
    "from fairlearn.metrics import MetricFrame\n",
    "from sklearn.metrics import accuracy_score\n",
    "from sklearn.tree import DecisionTreeClassifier\n",
    "from privacy_meter.audit import Audit, MetricEnum\n",
    "from privacy_meter.dataset import Dataset\n",
    "from privacy_meter.information_source import InformationSource\n",
    "from privacy_meter.model import Fairlearn_Model, Sklearn_Model\n"
   ]
  },
  {
   "cell_type": "markdown",
   "metadata": {
    "id": "Cm_csV0yFJ-O"
   },
   "source": [
    "# load dataset"
   ]
  },
  {
   "cell_type": "code",
   "execution_count": 3,
   "metadata": {
    "executionInfo": {
     "elapsed": 6,
     "status": "aborted",
     "timestamp": 1730998309565,
     "user": {
      "displayName": "Ilhama Novruzova",
      "userId": "12259181736104464630"
     },
     "user_tz": -240
    },
    "id": "VhvzIPkTFJ-R"
   },
   "outputs": [],
   "source": [
    "data = fetch_acs_income(as_frame=False,states=[\"CA\"])\n",
    "sex = data.data[:,data['feature_names'].index('SEX')]\n",
    "X = data.data\n",
    "y_true = (data.target > 50000) * 1\n",
    "X = preprocessing.normalize(X, norm='l2')"
   ]
  },
  {
   "cell_type": "code",
   "execution_count": 4,
   "metadata": {
    "executionInfo": {
     "elapsed": 7,
     "status": "aborted",
     "timestamp": 1730998309566,
     "user": {
      "displayName": "Ilhama Novruzova",
      "userId": "12259181736104464630"
     },
     "user_tz": -240
    },
    "id": "UqYprn6wFJ-S"
   },
   "outputs": [
    {
     "data": {
      "text/plain": [
       "((195665, 10), (195665,))"
      ]
     },
     "execution_count": 4,
     "metadata": {},
     "output_type": "execute_result"
    }
   ],
   "source": [
    "X.shape, y_true.shape"
   ]
  },
  {
   "cell_type": "markdown",
   "metadata": {
    "id": "IemPkiZBFJ-U"
   },
   "source": [
    "# standard model"
   ]
  },
  {
   "cell_type": "code",
   "execution_count": 5,
   "metadata": {
    "executionInfo": {
     "elapsed": 6,
     "status": "aborted",
     "timestamp": 1730998309566,
     "user": {
      "displayName": "Ilhama Novruzova",
      "userId": "12259181736104464630"
     },
     "user_tz": -240
    },
    "id": "yuup0Vp1FJ-U"
   },
   "outputs": [
    {
     "name": "stdout",
     "output_type": "stream",
     "text": [
      "0.7455702348401605\n",
      "sensitive_feature_0\n",
      "1.0    0.732420\n",
      "2.0    0.760281\n",
      "Name: accuracy_score, dtype: float64\n",
      "0.029908267724111592\n"
     ]
    }
   ],
   "source": [
    "classifier = DecisionTreeClassifier(min_samples_leaf=10, max_depth=4)\n",
    "classifier.fit(X, y_true)\n",
    "\n",
    "y_pred = classifier.predict(X)\n",
    "gm = MetricFrame(metrics=accuracy_score, y_true=y_true, y_pred=y_pred, sensitive_features=sex)\n",
    "print(gm.overall)\n",
    "print(gm.by_group)\n",
    "print(equalized_odds_difference(y_true,\n",
    "                                y_pred,\n",
    "                                sensitive_features=sex))"
   ]
  },
  {
   "cell_type": "markdown",
   "metadata": {
    "id": "QjCn07GOFJ-V"
   },
   "source": [
    "# fair models\n"
   ]
  },
  {
   "cell_type": "code",
   "execution_count": null,
   "metadata": {
    "executionInfo": {
     "elapsed": 5,
     "status": "aborted",
     "timestamp": 1730998309566,
     "user": {
      "displayName": "Ilhama Novruzova",
      "userId": "12259181736104464630"
     },
     "user_tz": -240
    },
    "id": "ZDS5cy5DFJ-W"
   },
   "outputs": [],
   "source": [
    "from fairlearn.reductions import ExponentiatedGradient, DemographicParity\n",
    "from fairlearn.metrics import equalized_odds_difference\n",
    "\n",
    "np.random.seed(0)  # set seed for consistent results with ExponentiatedGradient\n",
    "constraint = EqualizedOdds(difference_bound=0.0001)\n",
    "classifier = DecisionTreeClassifier(min_samples_leaf=10, max_depth=4)\n",
    "mitigator = ExponentiatedGradient(classifier, constraint)\n",
    "mitigator.fit(X, y_true, sensitive_features=sex)\n",
    "y_pred_mitigated = mitigator.predict(X)\n",
    "sr_mitigated = MetricFrame(metrics=accuracy_score, y_true=y_true, y_pred=y_pred_mitigated, sensitive_features=sex)\n",
    "print(sr_mitigated.overall)\n",
    "print(sr_mitigated.by_group)"
   ]
  },
  {
   "cell_type": "code",
   "execution_count": null,
   "metadata": {
    "executionInfo": {
     "elapsed": 5,
     "status": "aborted",
     "timestamp": 1730998309566,
     "user": {
      "displayName": "Ilhama Novruzova",
      "userId": "12259181736104464630"
     },
     "user_tz": -240
    },
    "id": "QPGCovg-FJ-X"
   },
   "outputs": [],
   "source": [
    "print(equalized_odds_difference(y_true,\n",
    "                                y_pred_mitigated,\n",
    "                                sensitive_features=sex))\n"
   ]
  },
  {
   "cell_type": "markdown",
   "metadata": {
    "id": "XEiWIinUFJ-Y"
   },
   "source": [
    "# Attack models"
   ]
  },
  {
   "cell_type": "code",
   "execution_count": null,
   "metadata": {
    "executionInfo": {
     "elapsed": 5,
     "status": "aborted",
     "timestamp": 1730998309566,
     "user": {
      "displayName": "Ilhama Novruzova",
      "userId": "12259181736104464630"
     },
     "user_tz": -240
    },
    "id": "fOnePn9bIN3H"
   },
   "outputs": [],
   "source": [
    "# for the population metric\n",
    "seed = 1234\n",
    "np.random.seed(seed)\n",
    "rng = np.random.default_rng(seed=seed)"
   ]
  },
  {
   "cell_type": "code",
   "execution_count": null,
   "metadata": {
    "executionInfo": {
     "elapsed": 5,
     "status": "aborted",
     "timestamp": 1730998309566,
     "user": {
      "displayName": "Ilhama Novruzova",
      "userId": "12259181736104464630"
     },
     "user_tz": -240
    },
    "id": "JQvzLJTPFJ-Z"
   },
   "outputs": [],
   "source": [
    "# for training the target and reference models\n",
    "num_train_points = 2000\n",
    "num_test_points = 2000\n",
    "num_fair_train_points = 10000\n",
    "num_population_points = 30000\n",
    "\n",
    "train_index = np.random.choice(X.shape[0], num_train_points, replace=False)\n",
    "test_index = np.random.choice(X.shape[0], num_test_points, replace=False)\n",
    "fair_train_index = np.random.choice(X.shape[0], num_fair_train_points, replace=False)\n",
    "population_index = np.random.choice(X.shape[0], num_population_points, replace=False)"
   ]
  },
  {
   "cell_type": "code",
   "execution_count": null,
   "metadata": {
    "id": "T7Tp__zTiUf2"
   },
   "outputs": [],
   "source": [
    "combined_indices = np.concatenate([train_index, test_index, fair_train_index, population_index])\n",
    "assert len(combined_indices) == len(np.unique(combined_indices)), \"Overlapping indices detected!\""
   ]
  },
  {
   "cell_type": "code",
   "execution_count": null,
   "metadata": {
    "id": "GE84QnrvFJ-Z"
   },
   "outputs": [],
   "source": [
    "input_shape= X.shape[-1]\n",
    "num_classes= 1"
   ]
  },
  {
   "cell_type": "code",
   "execution_count": null,
   "metadata": {
    "colab": {
     "base_uri": "https://localhost:8080/"
    },
    "executionInfo": {
     "elapsed": 413,
     "status": "ok",
     "timestamp": 1730958455137,
     "user": {
      "displayName": "Ilhama Novruzova",
      "userId": "12259181736104464630"
     },
     "user_tz": -240
    },
    "id": "UiuyKe-AKWvu",
    "outputId": "a1044458-84af-4738-b1eb-b6c30b693775"
   },
   "outputs": [
    {
     "data": {
      "text/plain": [
       "array([2., 5., 2., ..., 2., 3., 3.])"
      ]
     },
     "execution_count": 17,
     "metadata": {},
     "output_type": "execute_result"
    }
   ],
   "source": [
    "(y_true[train_index])+ (sex[train_index])*2"
   ]
  },
  {
   "cell_type": "code",
   "execution_count": null,
   "metadata": {
    "id": "FS5PKNglFJ-a"
   },
   "outputs": [],
   "source": [
    "# create the target model's dataset\n",
    "g_train  = (y_true[train_index])+ (sex[train_index])*2\n",
    "g_test  = (y_true[test_index])+ (sex[test_index])*2\n",
    "g_pop_train = (y_true[population_index])+ (sex[population_index])*2"
   ]
  },
  {
   "cell_type": "code",
   "execution_count": null,
   "metadata": {
    "id": "tKNxmEDBFJ-a"
   },
   "outputs": [],
   "source": [
    "# create the target model's dataset\n",
    "train_ds = {'x': X[train_index], 'y': y_true[train_index],'g':g_train}\n",
    "test_ds = {'x': X[test_index], 'y': y_true[test_index], 'g':g_test}\n",
    "target_dataset = Dataset(\n",
    "    data_dict={'train': train_ds, 'test': test_ds},\n",
    "    default_input='x', default_output='y', default_group='g'\n",
    ")\n",
    "\n",
    "# create the reference dataset\n",
    "population_ds = {'x': X[population_index], 'y': y_true[population_index], 'g': g_pop_train}\n",
    "reference_dataset = Dataset(\n",
    "    data_dict={'train': population_ds},\n",
    "    default_input='x', default_output='y', default_group='g'\n",
    ")"
   ]
  },
  {
   "cell_type": "code",
   "execution_count": null,
   "metadata": {
    "colab": {
     "base_uri": "https://localhost:8080/"
    },
    "executionInfo": {
     "elapsed": 311,
     "status": "ok",
     "timestamp": 1730960025490,
     "user": {
      "displayName": "Ilhama Novruzova",
      "userId": "12259181736104464630"
     },
     "user_tz": -240
    },
    "id": "mZTBk_bzFJ-a",
    "outputId": "444a9ca1-ce69-46e5-bc7d-34185d5b81b4"
   },
   "outputs": [
    {
     "name": "stdout",
     "output_type": "stream",
     "text": [
      "DecisionTreeClassifier(max_depth=8, min_samples_leaf=10)\n",
      "0.7405 sensitive_feature_0\n",
      "1.0    0.746860\n",
      "2.0    0.733679\n",
      "Name: accuracy_score, dtype: float64\n",
      "0.806 sensitive_feature_0\n",
      "1.0    0.810732\n",
      "2.0    0.801026\n",
      "Name: accuracy_score, dtype: float64\n",
      "0.22076978939724035\n"
     ]
    }
   ],
   "source": [
    "def log(y, pre):\n",
    "    e = 0.0000001\n",
    "    pre = np.clip(pre, e, 1 - e)\n",
    "    return - y * np.log(pre) - (1 - y) * np.log(1 - pre)\n",
    "\n",
    "model = DecisionTreeClassifier(min_samples_leaf=10, max_depth=8)\n",
    "model.fit(X[train_index], y_true[train_index])\n",
    "target_model = Sklearn_Model(model_obj=model, loss_fn=log)\n",
    "print(model)\n",
    "y_pred_test= model.predict(X[test_index])\n",
    "sr_test = MetricFrame(metrics=accuracy_score, y_true=y_true[test_index], y_pred=y_pred_test, sensitive_features=sex[test_index])\n",
    "y_pred_train= model.predict(X[train_index])\n",
    "sr_train = MetricFrame(metrics=accuracy_score, y_true=y_true[train_index], y_pred=y_pred_train, sensitive_features=sex[train_index])\n",
    "print(sr_test.overall, sr_test.by_group)\n",
    "print(sr_train.overall, sr_train.by_group)\n",
    "print(equalized_odds_difference(y_true[test_index],y_pred_test, sensitive_features=sex[test_index]))"
   ]
  },
  {
   "cell_type": "code",
   "execution_count": null,
   "metadata": {
    "colab": {
     "base_uri": "https://localhost:8080/"
    },
    "executionInfo": {
     "elapsed": 2301,
     "status": "ok",
     "timestamp": 1730960033447,
     "user": {
      "displayName": "Ilhama Novruzova",
      "userId": "12259181736104464630"
     },
     "user_tz": -240
    },
    "id": "0zf7U0wDFJ-b",
    "outputId": "0ffabadc-b4cd-43f1-9dfd-80573eb465a8"
   },
   "outputs": [
    {
     "name": "stdout",
     "output_type": "stream",
     "text": [
      "ExponentiatedGradient(constraints=<fairlearn.reductions._moments.utility_parity.EqualizedOdds object at 0x78c3e7b68be0>,\n",
      "                      estimator=DecisionTreeClassifier(max_depth=8,\n",
      "                                                       min_samples_leaf=10),\n",
      "                      nu=0.004422134963885585)\n",
      "0.743 sensitive_feature_0\n",
      "1.0    0.741063\n",
      "2.0    0.745078\n",
      "Name: accuracy_score, dtype: float64\n",
      "0.81 sensitive_feature_0\n",
      "1.0    0.808780\n",
      "2.0    0.811282\n",
      "Name: accuracy_score, dtype: float64\n",
      "0.049745824255628124\n"
     ]
    }
   ],
   "source": [
    "constraint = EqualizedOdds(difference_bound=0.0001)\n",
    "classifier = DecisionTreeClassifier(min_samples_leaf=10, max_depth=8)\n",
    "mitigator = ExponentiatedGradient(classifier, constraint)\n",
    "mitigator.fit(X[train_index], y_true[train_index], sensitive_features=sex[train_index])\n",
    "fair_target_model = Fairlearn_Model(model_obj=mitigator, loss_fn=log)\n",
    "print(mitigator)\n",
    "y_pred_test= mitigator.predict(X[test_index])\n",
    "sr_test = MetricFrame(metrics=accuracy_score, y_true=y_true[test_index], y_pred=y_pred_test, sensitive_features=sex[test_index])\n",
    "y_pred_train= mitigator.predict(X[train_index])\n",
    "sr_train = MetricFrame(metrics=accuracy_score, y_true=y_true[train_index], y_pred=y_pred_train, sensitive_features=sex[train_index])\n",
    "print(sr_test.overall, sr_test.by_group)\n",
    "print(sr_train.overall, sr_train.by_group)\n",
    "print(equalized_odds_difference(y_true[test_index],y_pred_test, sensitive_features=sex[test_index]))"
   ]
  },
  {
   "cell_type": "code",
   "execution_count": null,
   "metadata": {
    "id": "CDm7aRYrFJ-b"
   },
   "outputs": [],
   "source": [
    "un_target_info_source = InformationSource(\n",
    "    models=[target_model],\n",
    "    datasets=[target_dataset]\n",
    ")\n",
    "\n",
    "un_reference_info_source = InformationSource(\n",
    "    models=[target_model],\n",
    "    datasets=[reference_dataset]\n",
    ")\n",
    "\n",
    "fair_target_info_source = InformationSource(\n",
    "    models=[fair_target_model],\n",
    "    datasets=[target_dataset]\n",
    ")\n",
    "\n",
    "fair_reference_info_source = InformationSource(\n",
    "    models=[fair_target_model],\n",
    "    datasets=[reference_dataset]\n",
    ")"
   ]
  },
  {
   "cell_type": "code",
   "execution_count": null,
   "metadata": {
    "id": "K874rLuFFJ-b"
   },
   "outputs": [],
   "source": [
    "from privacy_meter import audit_report\n",
    "from privacy_meter.audit_report import *\n",
    "\n",
    "\n",
    "un_audit_obj = Audit(\n",
    "    metrics=MetricEnum.GROUPPOPULATION,\n",
    "    inference_game_type=InferenceGame.PRIVACY_LOSS_MODEL,\n",
    "    target_info_sources=un_target_info_source,\n",
    "    reference_info_sources=un_reference_info_source,\n",
    "    logs_directory_names='un_log'\n",
    ")\n",
    "un_audit_obj.prepare()"
   ]
  },
  {
   "cell_type": "code",
   "execution_count": null,
   "metadata": {
    "id": "zD_KRFPnFJ-c"
   },
   "outputs": [],
   "source": [
    "fair_audit_obj = Audit(\n",
    "    metrics=MetricEnum.GROUPPOPULATION,\n",
    "    inference_game_type=InferenceGame.PRIVACY_LOSS_MODEL,\n",
    "    target_info_sources=fair_target_info_source,\n",
    "    reference_info_sources=fair_reference_info_source,\n",
    "    logs_directory_names='fair_log'\n",
    ")\n",
    "fair_audit_obj.prepare()"
   ]
  },
  {
   "cell_type": "code",
   "execution_count": null,
   "metadata": {
    "colab": {
     "base_uri": "https://localhost:8080/"
    },
    "executionInfo": {
     "elapsed": 448,
     "status": "ok",
     "timestamp": 1730963460554,
     "user": {
      "displayName": "Ilhama Novruzova",
      "userId": "12259181736104464630"
     },
     "user_tz": -240
    },
    "id": "S82MH90RFJ-c",
    "outputId": "16ed7019-d280-4350-fb0d-ba81f83f2aa6"
   },
   "outputs": [
    {
     "name": "stdout",
     "output_type": "stream",
     "text": [
      "Results are stored in: ['un_log']\n",
      "Metric ID: reference_metric, Accuracy: [0.5     0.5     0.5     0.5     0.5     0.5     0.5     0.5     0.5\n",
      " 0.5     0.5     0.5     0.5     0.5     0.5     0.5     0.5     0.5\n",
      " 0.5     0.5     0.5     0.5     0.5     0.5     0.5     0.5     0.5\n",
      " 0.5     0.5     0.5     0.5     0.5     0.5     0.5     0.5     0.5\n",
      " 0.5     0.5     0.5     0.5     0.5     0.5     0.5     0.5     0.5\n",
      " 0.5     0.5     0.5     0.5     0.5     0.5     0.5     0.5     0.5\n",
      " 0.5     0.5     0.5     0.5     0.5     0.5     0.5     0.5     0.5\n",
      " 0.5     0.5     0.5     0.5     0.5     0.5     0.5     0.5     0.5\n",
      " 0.5     0.5     0.5     0.5     0.5     0.5     0.5     0.50225 0.50225\n",
      " 0.50225 0.50325 0.50325 0.50525 0.507   0.50875 0.50875 0.51    0.51125\n",
      " 0.52225 0.531   0.53575 0.53425 0.53275 0.52975 0.53275 0.54075 0.5375\n",
      " 0.5    ]\n"
     ]
    }
   ],
   "source": [
    "un_audit_results = un_audit_obj.run()[0]\n",
    "\n",
    "for result in un_audit_results:\n",
    "  print(f\"Metric ID: {result.metric_id}, Accuracy: {result.accuracy}\")"
   ]
  },
  {
   "cell_type": "code",
   "execution_count": null,
   "metadata": {
    "colab": {
     "base_uri": "https://localhost:8080/"
    },
    "executionInfo": {
     "elapsed": 426,
     "status": "ok",
     "timestamp": 1730963521117,
     "user": {
      "displayName": "Ilhama Novruzova",
      "userId": "12259181736104464630"
     },
     "user_tz": -240
    },
    "id": "Fw5h71HjdvST",
    "outputId": "bdb5a0dd-bc44-4465-def0-28f8817c764e"
   },
   "outputs": [
    {
     "name": "stdout",
     "output_type": "stream",
     "text": [
      "Results are stored in: ['fair_log']\n",
      "Metric ID: reference_metric, Accuracy: [0.5     0.5     0.5     0.5     0.5     0.5     0.5     0.5     0.5\n",
      " 0.5     0.5     0.5     0.5     0.5     0.5     0.5     0.5     0.5\n",
      " 0.5     0.5     0.5     0.5     0.5     0.5     0.5     0.5     0.5\n",
      " 0.5     0.5     0.5     0.5     0.5     0.5     0.5     0.5     0.5\n",
      " 0.5     0.5     0.5     0.5     0.5     0.5     0.5     0.5     0.5\n",
      " 0.5     0.5     0.5     0.5     0.5     0.5     0.5     0.5     0.5\n",
      " 0.5     0.5     0.5     0.5     0.5     0.5     0.5     0.501   0.501\n",
      " 0.5005  0.5005  0.5005  0.5005  0.5005  0.4995  0.5     0.5     0.503\n",
      " 0.5035  0.50475 0.50475 0.505   0.505   0.50575 0.5065  0.5055  0.5055\n",
      " 0.5055  0.51225 0.51325 0.514   0.52225 0.5255  0.52775 0.52975 0.54\n",
      " 0.5395  0.5425  0.54125 0.538   0.546   0.54475 0.54025 0.545   0.5375\n",
      " 0.5    ]\n"
     ]
    }
   ],
   "source": [
    "fair_audit_results = fair_audit_obj.run()[0]\n",
    "\n",
    "for result in fair_audit_results:\n",
    "  print(f\"Metric ID: {result.metric_id}, Accuracy: {result.accuracy}\")"
   ]
  },
  {
   "cell_type": "code",
   "execution_count": null,
   "metadata": {
    "colab": {
     "base_uri": "https://localhost:8080/",
     "height": 489
    },
    "executionInfo": {
     "elapsed": 648,
     "status": "ok",
     "timestamp": 1730963527112,
     "user": {
      "displayName": "Ilhama Novruzova",
      "userId": "12259181736104464630"
     },
     "user_tz": -240
    },
    "id": "FYc2PUVYFJ-c",
    "outputId": "9f26ebde-0ea4-43f6-c0e3-376e4eda2307"
   },
   "outputs": [
    {
     "data": {
      "text/plain": [
       "Text(0, 0.5, 'True Positive Rate')"
      ]
     },
     "execution_count": 34,
     "metadata": {},
     "output_type": "execute_result"
    },
    {
     "data": {
      "image/png": "[encoded data removed]",
      "text/plain": [
       "<Figure size 640x480 with 1 Axes>"
      ]
     },
     "metadata": {},
     "output_type": "display_data"
    }
   ],
   "source": [
    "tpr = un_audit_results[0].tp/(un_audit_results[0].tp+un_audit_results[0].fn)\n",
    "fpr = un_audit_results[0].fp/(un_audit_results[0].fp+un_audit_results[0].tn)\n",
    "roc = np.trapz(tpr, fpr)\n",
    "fair_tpr = fair_audit_results[0].tp/(fair_audit_results[0].tp+fair_audit_results[0].fn)\n",
    "fair_fpr = fair_audit_results[0].fp/(fair_audit_results[0].fp+fair_audit_results[0].tn)\n",
    "fair_roc = np.trapz(fair_tpr, fair_fpr)\n",
    "plt.title('Overall ROC')\n",
    "plt.plot([0, 1], [0, 1], 'k--', label='Random Guess')\n",
    "plt.plot(fpr, tpr, label=f'Unfair-ROC:{roc:.3f}')\n",
    "plt.plot(fair_fpr, fair_tpr, label=f'Fair-ROC:{fair_roc:.3f}')\n",
    "plt.legend()\n",
    "plt.xlabel('False Positive Rate')\n",
    "plt.ylabel('True Positive Rate')"
   ]
  },
  {
   "cell_type": "code",
   "execution_count": null,
   "metadata": {
    "id": "GeoZfhenFJ-d"
   },
   "outputs": [],
   "source": [
    "# show the results in each group\n",
    "un_train_signal = un_audit_obj.metric_objects[0].member_signals\n",
    "un_test_signal = un_audit_obj.metric_objects[0].non_member_signals\n",
    "un_pop_signal = un_audit_obj.metric_objects[0].reference_signals\n",
    "\n",
    "fair_train_signal = fair_audit_obj.metric_objects[0].member_signals\n",
    "fair_test_signal = fair_audit_obj.metric_objects[0].non_member_signals\n",
    "fair_pop_signal = fair_audit_obj.metric_objects[0].reference_signals"
   ]
  },
  {
   "cell_type": "code",
   "execution_count": null,
   "metadata": {
    "id": "NV03sOo9FJ-d"
   },
   "outputs": [],
   "source": [
    "import scipy\n",
    "def compute_p_value( target_value, observed_distribution):\n",
    "    return scipy.stats.percentileofscore(observed_distribution, target_value)/100\n",
    "\n",
    "p_results = {}\n",
    "p_fair_results = {}\n",
    "\n",
    "for g in np.unique(g_train):\n",
    "    un_pop = un_pop_signal[g_pop_train==g]\n",
    "    p_train = compute_p_value(un_train_signal[g_train==g], un_pop)\n",
    "    p_test = compute_p_value(un_test_signal[g_test==g], un_pop)\n",
    "    p_results[g] = {}\n",
    "    p_results[g]['p'] = np.concatenate([p_train, p_test])\n",
    "    p_results[g]['mem'] = np.concatenate([np.ones(len(p_train)), np.zeros(len(p_test))])\n",
    "\n",
    "\n",
    "    fair_pop  = fair_pop_signal[g_pop_train==g]\n",
    "    p_fair_train = compute_p_value(fair_train_signal[g_train==g], fair_pop)\n",
    "    p_fair_test = compute_p_value(fair_test_signal[g_test==g], fair_pop)\n",
    "    p_fair_results[g] = {}\n",
    "    p_fair_results[g]['p'] = np.concatenate([p_fair_train, p_fair_test])\n",
    "    p_fair_results[g]['mem'] = np.concatenate([np.ones(len(p_fair_train)), np.zeros(len(p_fair_test))])\n"
   ]
  },
  {
   "cell_type": "code",
   "execution_count": null,
   "metadata": {
    "colab": {
     "base_uri": "https://localhost:8080/"
    },
    "executionInfo": {
     "elapsed": 404,
     "status": "ok",
     "timestamp": 1730963749195,
     "user": {
      "displayName": "Ilhama Novruzova",
      "userId": "12259181736104464630"
     },
     "user_tz": -240
    },
    "id": "6S9y6RNcFJ-d",
    "outputId": "dc780fd7-e245-4100-cf13-2be44f52571c"
   },
   "outputs": [
    {
     "data": {
      "text/plain": [
       "(2000,)"
      ]
     },
     "execution_count": 37,
     "metadata": {},
     "output_type": "execute_result"
    }
   ],
   "source": [
    "g_train.shape"
   ]
  },
  {
   "cell_type": "code",
   "execution_count": null,
   "metadata": {
    "colab": {
     "base_uri": "https://localhost:8080/",
     "height": 171
    },
    "executionInfo": {
     "elapsed": 3080,
     "status": "ok",
     "timestamp": 1730963762756,
     "user": {
      "displayName": "Ilhama Novruzova",
      "userId": "12259181736104464630"
     },
     "user_tz": -240
    },
    "id": "CblmqLDoFJ-e",
    "outputId": "b8046b68-d38e-4d2b-8154-b39237c4a47c"
   },
   "outputs": [
    {
     "data": {
      "image/png": "[encoded data removed]",
      "text/plain": [
       "<Figure size 1200x300 with 4 Axes>"
      ]
     },
     "metadata": {},
     "output_type": "display_data"
    }
   ],
   "source": [
    "figs, axes = plt.subplots(1,4, figsize=(12,3), sharey=True, sharex=True)\n",
    "\n",
    "# group = np.unique(g_train)\n",
    "for idx, group in enumerate(np.unique(g_train)):\n",
    "    tpr = [np.mean(p_results[group]['p'][p_results[group]['mem']==1]<i) for i in np.linspace(0,1,100)]\n",
    "    fpr = [np.mean(p_results[group]['p'][p_results[group]['mem']==0]<i) for i in np.linspace(0,1,100)]\n",
    "\n",
    "    fair_tpr = [np.mean(p_fair_results[group]['p'][p_fair_results[group]['mem']==1]<i) for i in np.linspace(0,1,100)]\n",
    "    fair_fpr = [np.mean(p_fair_results[group]['p'][p_fair_results[group]['mem']==0]<i) for i in np.linspace(0,1,100)]\n",
    "\n",
    "    roc = np.trapz(tpr, fpr)\n",
    "    fair_roc = np.trapz(fair_tpr, fair_fpr)\n",
    "\n",
    "    axes[idx].plot([0, 1], [0, 1], 'k--', label='Random Guess', color='grey')\n",
    "    axes[idx].plot(fpr, tpr, label=f'Unfair-ROC:{roc:.3f}', color='blue')\n",
    "    axes[idx].plot(fair_fpr, fair_tpr, label=f'Fair-ROC:{fair_roc:.3f}', ls='--', color='red')\n",
    "    axes[idx].set_xlabel('False Positive Rate')\n",
    "    axes[idx].set_title(f'Subgroup {idx}')\n",
    "    axes[idx].legend()\n",
    "axes[0].set_ylabel('True Positive Rate')\n",
    "plt.tight_layout()"
   ]
  },
  {
   "cell_type": "code",
   "execution_count": null,
   "metadata": {
    "colab": {
     "base_uri": "https://localhost:8080/"
    },
    "executionInfo": {
     "elapsed": 508,
     "status": "ok",
     "timestamp": 1730963910276,
     "user": {
      "displayName": "Ilhama Novruzova",
      "userId": "12259181736104464630"
     },
     "user_tz": -240
    },
    "id": "-yweKNLVet_k",
    "outputId": "0d797380-cd6b-43e6-cd30-3ddb7a5e449e"
   },
   "outputs": [
    {
     "name": "stdout",
     "output_type": "stream",
     "text": [
      "Subgroup 2.0: Unfair Model Accuracy: 0.559, Fair Model Accuracy: 0.570\n",
      "Subgroup 3.0: Unfair Model Accuracy: 0.542, Fair Model Accuracy: 0.540\n",
      "Subgroup 4.0: Unfair Model Accuracy: 0.547, Fair Model Accuracy: 0.554\n",
      "Subgroup 5.0: Unfair Model Accuracy: 0.571, Fair Model Accuracy: 0.596\n"
     ]
    }
   ],
   "source": [
    "# Initialize dictionaries to store accuracy for each subgroup\n",
    "accuracy_results = {}\n",
    "accuracy_fair_results = {}\n",
    "\n",
    "# Compute accuracy for each subgroup based on the p-values\n",
    "for group in np.unique(g_train):\n",
    "    thresholds = np.linspace(0, 1, 100)\n",
    "    accuracies = []\n",
    "    fair_accuracies = []\n",
    "\n",
    "    for i in thresholds:\n",
    "        # Unfair model accuracy\n",
    "        tp = np.sum(p_results[group]['p'][p_results[group]['mem'] == 1] < i)\n",
    "        tn = np.sum(p_results[group]['p'][p_results[group]['mem'] == 0] >= i)\n",
    "        fp = np.sum(p_results[group]['p'][p_results[group]['mem'] == 0] < i)\n",
    "        fn = np.sum(p_results[group]['p'][p_results[group]['mem'] == 1] >= i)\n",
    "        accuracy = (tp + tn) / (tp + tn + fp + fn)\n",
    "        accuracies.append(accuracy)\n",
    "\n",
    "        # Fair model accuracy\n",
    "        fair_tp = np.sum(p_fair_results[group]['p'][p_fair_results[group]['mem'] == 1] < i)\n",
    "        fair_tn = np.sum(p_fair_results[group]['p'][p_fair_results[group]['mem'] == 0] >= i)\n",
    "        fair_fp = np.sum(p_fair_results[group]['p'][p_fair_results[group]['mem'] == 0] < i)\n",
    "        fair_fn = np.sum(p_fair_results[group]['p'][p_fair_results[group]['mem'] == 1] >= i)\n",
    "        fair_accuracy = (fair_tp + fair_tn) / (fair_tp + fair_tn + fair_fp + fair_fn)\n",
    "        fair_accuracies.append(fair_accuracy)\n",
    "\n",
    "    # Store the best accuracy for each subgroup\n",
    "    accuracy_results[group] = max(accuracies)\n",
    "    accuracy_fair_results[group] = max(fair_accuracies)\n",
    "\n",
    "# Print the best accuracy for each subgroup\n",
    "for group in accuracy_results:\n",
    "    print(f\"Subgroup {group}: Unfair Model Accuracy: {accuracy_results[group]:.3f}, Fair Model Accuracy: {accuracy_fair_results[group]:.3f}\")"
   ]
  }
 ],
 "metadata": {
  "colab": {
   "provenance": []
  },
  "kernelspec": {
   "display_name": "Python 3 (ipykernel)",
   "language": "python",
   "name": "python3"
  },
  "language_info": {
   "codemirror_mode": {
    "name": "ipython",
    "version": 3
   },
   "file_extension": ".py",
   "mimetype": "text/x-python",
   "name": "python",
   "nbconvert_exporter": "python",
   "pygments_lexer": "ipython3",
   "version": "3.11.1"
  },
  "vscode": {
   "interpreter": {
    "hash": "af48e0a30d2a0b619bf296aea7d7271ba14c9beb98b0928b3e23c82f12ae949a"
   }
  }
 },
 "nbformat": 4,
 "nbformat_minor": 1
}
