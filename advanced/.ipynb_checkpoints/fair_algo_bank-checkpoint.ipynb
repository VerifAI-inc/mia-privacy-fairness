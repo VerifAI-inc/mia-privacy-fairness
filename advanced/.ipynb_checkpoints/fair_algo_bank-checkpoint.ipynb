{
 "cells": [
  {
   "cell_type": "code",
   "execution_count": 214,
   "metadata": {
    "executionInfo": {
     "elapsed": 311,
     "status": "ok",
     "timestamp": 1730997316329,
     "user": {
      "displayName": "Ilhama Novruzova",
      "userId": "12259181736104464630"
     },
     "user_tz": -240
    },
    "id": "nw_thihFGqUR"
   },
   "outputs": [],
   "source": [
    "import sys\n",
    "sys.path.append('../')"
   ]
  },
  {
   "cell_type": "code",
   "execution_count": 215,
   "metadata": {
    "executionInfo": {
     "elapsed": 12994,
     "status": "ok",
     "timestamp": 1730997484942,
     "user": {
      "displayName": "Ilhama Novruzova",
      "userId": "12259181736104464630"
     },
     "user_tz": -240
    },
    "id": "ETU_TG0eFJ-I"
   },
   "outputs": [],
   "source": [
    "import numpy as np\n",
    "from sklearn import preprocessing\n",
    "from fairlearn.metrics import MetricFrame\n",
    "from fairlearn.metrics import equalized_odds_difference\n",
    "from privacy_meter.audit import Audit, MetricEnum\n",
    "from privacy_meter.dataset import Dataset\n",
    "from privacy_meter.information_source import InformationSource\n",
    "\n",
    "import keras as keras\n",
    "import tensorflow as tf\n",
    "import matplotlib.pyplot as plt\n",
    "# load dataset\n",
    "import pandas as pd\n",
    "from fairlearn.reductions import EqualizedOdds\n",
    "import warnings\n",
    "warnings.filterwarnings('ignore')\n",
    "\n",
    "from fairlearn.metrics import MetricFrame\n",
    "from sklearn.metrics import accuracy_score\n",
    "from sklearn.tree import DecisionTreeClassifier\n",
    "from privacy_meter.audit import Audit, MetricEnum\n",
    "from privacy_meter.dataset import Dataset\n",
    "from privacy_meter.information_source import InformationSource\n",
    "from privacy_meter.model import Fairlearn_Model, Sklearn_Model"
   ]
  },
  {
   "cell_type": "code",
   "execution_count": 216,
   "metadata": {
    "colab": {
     "base_uri": "https://localhost:8080/"
    },
    "executionInfo": {
     "elapsed": 969,
     "status": "ok",
     "timestamp": 1730997496185,
     "user": {
      "displayName": "Ilhama Novruzova",
      "userId": "12259181736104464630"
     },
     "user_tz": -240
    },
    "id": "yEk9Vz49osFa",
    "outputId": "c8a21905-25fb-4c76-ed9b-41ef9d53591f"
   },
   "outputs": [],
   "source": [
    "from aif360.datasets import BinaryLabelDataset, StandardDataset\n",
    "from data_utils import DatasetBuilder\n",
    "from sklearn.metrics import auc, roc_auc_score"
   ]
  },
  {
   "cell_type": "code",
   "execution_count": 217,
   "metadata": {},
   "outputs": [],
   "source": [
    "from aif360.datasets import BinaryLabelDataset\n",
    "from aif360.metrics import utils\n",
    "from imblearn.over_sampling import ADASYN\n",
    "import random\n",
    "from aif360.metrics import BinaryLabelDatasetMetric"
   ]
  },
  {
   "cell_type": "markdown",
   "metadata": {
    "id": "Cm_csV0yFJ-O"
   },
   "source": [
    "# load dataset"
   ]
  },
  {
   "cell_type": "code",
   "execution_count": 218,
   "metadata": {
    "colab": {
     "base_uri": "https://localhost:8080/"
    },
    "executionInfo": {
     "elapsed": 141749,
     "status": "ok",
     "timestamp": 1730997641603,
     "user": {
      "displayName": "Ilhama Novruzova",
      "userId": "12259181736104464630"
     },
     "user_tz": -240
    },
    "id": "uI0GKXXEm3M2",
    "outputId": "28f85051-659f-49e1-b07d-8afc31f64bed"
   },
   "outputs": [],
   "source": [
    "# !wget https://archive.ics.uci.edu/ml/machine-learning-databases/00222/bank-additional.zip\n",
    "\n",
    "# # Step 2: Unzip the file\n",
    "# !unzip bank-additional.zip -d bank-additional\n",
    "\n",
    "# # Step 3: Move the contents to the required directory\n",
    "# !mv bank-additional/bank-additional/* /usr/local/lib/python3.10/dist-packages/aif360/data/raw/bank/\n",
    "\n",
    "# # Step 4: Remove the zip file\n",
    "# !rm bank-additional.zip"
   ]
  },
  {
   "cell_type": "code",
   "execution_count": 219,
   "metadata": {
    "executionInfo": {
     "elapsed": 657,
     "status": "ok",
     "timestamp": 1730997645504,
     "user": {
      "displayName": "Ilhama Novruzova",
      "userId": "12259181736104464630"
     },
     "user_tz": -240
    },
    "id": "_rxZ02zFVaJ7"
   },
   "outputs": [
    {
     "name": "stderr",
     "output_type": "stream",
     "text": [
      "11/21/2024 19:40:57:WARNING:Missing Data: 10700 rows removed from BankDataset.\n"
     ]
    }
   ],
   "source": [
    "DATASET = \"bank\"\n",
    "dataset_builder =  DatasetBuilder(DATASET)\n",
    "dataset_orig = dataset_builder.load_data()"
   ]
  },
  {
   "cell_type": "code",
   "execution_count": 220,
   "metadata": {
    "executionInfo": {
     "elapsed": 307,
     "status": "ok",
     "timestamp": 1730997647667,
     "user": {
      "displayName": "Ilhama Novruzova",
      "userId": "12259181736104464630"
     },
     "user_tz": -240
    },
    "id": "FcoeiUT6o4dN"
   },
   "outputs": [],
   "source": [
    "# Extract features (X) and labels (y) from the loaded dataset\n",
    "X = dataset_orig.features\n",
    "y_true = dataset_orig.labels.ravel()  # Flattening labels if needed"
   ]
  },
  {
   "cell_type": "code",
   "execution_count": 221,
   "metadata": {
    "executionInfo": {
     "elapsed": 324,
     "status": "ok",
     "timestamp": 1730997649636,
     "user": {
      "displayName": "Ilhama Novruzova",
      "userId": "12259181736104464630"
     },
     "user_tz": -240
    },
    "id": "qGd5F6ATo6wV"
   },
   "outputs": [],
   "source": [
    "# Get sensitive attribute for analysis\n",
    "sens_attr = dataset_orig.protected_attribute_names[0]  # 'age' is the protected attribute\n",
    "sensitive_features = dataset_orig.features[:, dataset_orig.feature_names.index(sens_attr)]"
   ]
  },
  {
   "cell_type": "code",
   "execution_count": 222,
   "metadata": {
    "executionInfo": {
     "elapsed": 2,
     "status": "ok",
     "timestamp": 1730997650723,
     "user": {
      "displayName": "Ilhama Novruzova",
      "userId": "12259181736104464630"
     },
     "user_tz": -240
    },
    "id": "vbTXbqVzo_Tl"
   },
   "outputs": [],
   "source": [
    "# Normalize the features (similar to how it was done for `fetch_acs_income`)\n",
    "X = preprocessing.normalize(X, norm='l2')"
   ]
  },
  {
   "cell_type": "code",
   "execution_count": 223,
   "metadata": {
    "executionInfo": {
     "elapsed": 2,
     "status": "ok",
     "timestamp": 1730997651872,
     "user": {
      "displayName": "Ilhama Novruzova",
      "userId": "12259181736104464630"
     },
     "user_tz": -240
    },
    "id": "idmgCp9opBmH"
   },
   "outputs": [],
   "source": [
    "# Set up variables like they were in the original code\n",
    "privileged_groups = dataset_builder.privileged_groups\n",
    "unprivileged_groups = dataset_builder.unprivileged_groups"
   ]
  },
  {
   "cell_type": "code",
   "execution_count": 224,
   "metadata": {
    "colab": {
     "base_uri": "https://localhost:8080/"
    },
    "executionInfo": {
     "elapsed": 339,
     "status": "ok",
     "timestamp": 1730997653813,
     "user": {
      "displayName": "Ilhama Novruzova",
      "userId": "12259181736104464630"
     },
     "user_tz": -240
    },
    "id": "11ndtNIqpDJx",
    "outputId": "3f9313e2-58a6-48cd-a9f9-efc67c206829"
   },
   "outputs": [
    {
     "name": "stdout",
     "output_type": "stream",
     "text": [
      "Features shape: (30488, 57)\n",
      "Labels shape: (30488,)\n",
      "Sensitive attribute: age with values [0. 1.]\n",
      "Privileged groups: [{'age': 1}], Unprivileged groups: [{'age': 0}]\n"
     ]
    }
   ],
   "source": [
    "# Print the summary to verify data shapes and values\n",
    "print(f\"Features shape: {X.shape}\")\n",
    "print(f\"Labels shape: {y_true.shape}\")\n",
    "print(f\"Sensitive attribute: {sens_attr} with values {np.unique(sensitive_features)}\")\n",
    "print(f\"Privileged groups: {privileged_groups}, Unprivileged groups: {unprivileged_groups}\")"
   ]
  },
  {
   "cell_type": "markdown",
   "metadata": {
    "id": "IemPkiZBFJ-U"
   },
   "source": [
    "# standard model"
   ]
  },
  {
   "cell_type": "code",
   "execution_count": 225,
   "metadata": {
    "colab": {
     "base_uri": "https://localhost:8080/"
    },
    "executionInfo": {
     "elapsed": 1136,
     "status": "ok",
     "timestamp": 1730997657186,
     "user": {
      "displayName": "Ilhama Novruzova",
      "userId": "12259181736104464630"
     },
     "user_tz": -240
    },
    "id": "yuup0Vp1FJ-U",
    "outputId": "148d99ba-1bb2-4611-ff77-cb98089f54aa"
   },
   "outputs": [
    {
     "name": "stdout",
     "output_type": "stream",
     "text": [
      "0.9220020991865652\n",
      "sensitive_feature_0\n",
      "0.0    0.863426\n",
      "1.0    0.923711\n",
      "Name: accuracy_score, dtype: float64\n",
      "0.038523496385394235\n"
     ]
    }
   ],
   "source": [
    "classifier = DecisionTreeClassifier(min_samples_leaf=10, max_depth=10)\n",
    "classifier.fit(X, y_true)\n",
    "\n",
    "y_pred = classifier.predict(X)\n",
    "gm = MetricFrame(metrics=accuracy_score, y_true=y_true, y_pred=y_pred, sensitive_features=sensitive_features)\n",
    "print(gm.overall)\n",
    "print(gm.by_group)\n",
    "print(equalized_odds_difference(y_true,\n",
    "                                y_pred,\n",
    "                                sensitive_features=sensitive_features))"
   ]
  },
  {
   "cell_type": "markdown",
   "metadata": {
    "id": "QjCn07GOFJ-V"
   },
   "source": [
    "# fair models\n"
   ]
  },
  {
   "cell_type": "code",
   "execution_count": 226,
   "metadata": {
    "colab": {
     "base_uri": "https://localhost:8080/"
    },
    "executionInfo": {
     "elapsed": 14474,
     "status": "ok",
     "timestamp": 1730997674173,
     "user": {
      "displayName": "Ilhama Novruzova",
      "userId": "12259181736104464630"
     },
     "user_tz": -240
    },
    "id": "ZDS5cy5DFJ-W",
    "outputId": "27c7cc97-e8bb-4aef-b0f0-a0fb92d2e564"
   },
   "outputs": [
    {
     "name": "stdout",
     "output_type": "stream",
     "text": [
      "0.900583836263448\n",
      "sensitive_feature_0\n",
      "0.0    0.855324\n",
      "1.0    0.901904\n",
      "Name: accuracy_score, dtype: float64\n"
     ]
    }
   ],
   "source": [
    "from fairlearn.reductions import ExponentiatedGradient, DemographicParity\n",
    "from fairlearn.metrics import equalized_odds_difference\n",
    "\n",
    "np.random.seed(0)  # set seed for consistent results with ExponentiatedGradient\n",
    "constraint = EqualizedOdds(difference_bound=0.0001)\n",
    "classifier = DecisionTreeClassifier(min_samples_leaf=10, max_depth=4)\n",
    "mitigator = ExponentiatedGradient(classifier, constraint)\n",
    "mitigator.fit(X, y_true, sensitive_features=sensitive_features)\n",
    "y_pred_mitigated = mitigator.predict(X)\n",
    "sr_mitigated = MetricFrame(metrics=accuracy_score, y_true=y_true, y_pred=y_pred_mitigated, sensitive_features=sensitive_features)\n",
    "print(sr_mitigated.overall)\n",
    "print(sr_mitigated.by_group)"
   ]
  },
  {
   "cell_type": "code",
   "execution_count": 227,
   "metadata": {
    "colab": {
     "base_uri": "https://localhost:8080/"
    },
    "executionInfo": {
     "elapsed": 328,
     "status": "ok",
     "timestamp": 1730997675970,
     "user": {
      "displayName": "Ilhama Novruzova",
      "userId": "12259181736104464630"
     },
     "user_tz": -240
    },
    "id": "QPGCovg-FJ-X",
    "outputId": "12151134-10a7-415c-d942-95e04c037186"
   },
   "outputs": [
    {
     "name": "stdout",
     "output_type": "stream",
     "text": [
      "0.030595600955597657\n"
     ]
    }
   ],
   "source": [
    "print(equalized_odds_difference(y_true,\n",
    "                                y_pred_mitigated,\n",
    "                                sensitive_features=sensitive_features))"
   ]
  },
  {
   "cell_type": "markdown",
   "metadata": {
    "id": "XEiWIinUFJ-Y"
   },
   "source": [
    "# Attack models"
   ]
  },
  {
   "cell_type": "code",
   "execution_count": 228,
   "metadata": {
    "executionInfo": {
     "elapsed": 332,
     "status": "ok",
     "timestamp": 1730997677590,
     "user": {
      "displayName": "Ilhama Novruzova",
      "userId": "12259181736104464630"
     },
     "user_tz": -240
    },
    "id": "fOnePn9bIN3H"
   },
   "outputs": [],
   "source": [
    "# # for the population metric\n",
    "# seed = 1234\n",
    "# np.random.seed(seed)\n",
    "# rng = np.random.default_rng(seed=seed) # useless"
   ]
  },
  {
   "cell_type": "code",
   "execution_count": 229,
   "metadata": {
    "executionInfo": {
     "elapsed": 304,
     "status": "ok",
     "timestamp": 1730997679461,
     "user": {
      "displayName": "Ilhama Novruzova",
      "userId": "12259181736104464630"
     },
     "user_tz": -240
    },
    "id": "mrNqYyU1t3XI"
   },
   "outputs": [],
   "source": [
    "dataset_size = len(X)  # Should be 25836"
   ]
  },
  {
   "cell_type": "code",
   "execution_count": 230,
   "metadata": {},
   "outputs": [
    {
     "data": {
      "text/plain": [
       "30488"
      ]
     },
     "execution_count": 230,
     "metadata": {},
     "output_type": "execute_result"
    }
   ],
   "source": [
    "dataset_size"
   ]
  },
  {
   "cell_type": "markdown",
   "metadata": {},
   "source": [
    "## Overlapping Indices Reference"
   ]
  },
  {
   "cell_type": "code",
   "execution_count": 231,
   "metadata": {
    "executionInfo": {
     "elapsed": 323,
     "status": "ok",
     "timestamp": 1730999428364,
     "user": {
      "displayName": "Ilhama Novruzova",
      "userId": "12259181736104464630"
     },
     "user_tz": -240
    },
    "id": "JQvzLJTPFJ-Z"
   },
   "outputs": [],
   "source": [
    "# # # Determine split sizes proportionally (to sum up to the full dataset size)\n",
    "# num_train_points = 5000\n",
    "# num_test_points = 5000\n",
    "# num_fair_train_points = 5000  # Reduced from 10000\n",
    "# num_population_points = 10000  # Reduced from 30000\n",
    "\n",
    "# train_index = np.random.choice(X.shape[0], num_train_points, replace=False)\n",
    "# test_index = np.random.choice(X.shape[0], num_test_points, replace=False)\n",
    "# fair_train_index = np.random.choice(X.shape[0], num_fair_train_points, replace=False)\n",
    "# population_index = np.random.choice(X.shape[0], num_population_points, replace=False)"
   ]
  },
  {
   "cell_type": "markdown",
   "metadata": {},
   "source": [
    "## Overlapping Indices Non-Reference"
   ]
  },
  {
   "cell_type": "code",
   "execution_count": 232,
   "metadata": {},
   "outputs": [],
   "source": [
    "# # Determine split sizes proportionally (to sum up to the full dataset size)\n",
    "# num_train_points = 12918  \n",
    "# num_test_points = 12918 \n",
    "# # num_fair_train_points = 5000  # Reduced from 10000\n",
    "# # num_population_points = 10000  # Reduced from 30000\n",
    "\n",
    "# train_index = np.random.choice(X.shape[0], num_train_points, replace=False)\n",
    "# test_index = np.random.choice(X.shape[0], num_test_points, replace=False)\n",
    "# # fair_train_index = np.random.choice(X.shape[0], num_fair_train_points, replace=False)\n",
    "# population_index = train_index"
   ]
  },
  {
   "cell_type": "markdown",
   "metadata": {},
   "source": [
    "## Unique Indices Reference"
   ]
  },
  {
   "cell_type": "code",
   "execution_count": null,
   "metadata": {},
   "outputs": [],
   "source": [
    "def get_unique_indices_reference():\n",
    "    # Determine split sizes proportionally (to sum up to the full dataset size)\n",
    "    num_train_points = 3000\n",
    "    num_test_points = 3000\n",
    "    num_fair_train_points = 5000  # Reduced from 10000\n",
    "    num_population_points = 10000  # Reduced from 30000\n",
    "\n",
    "    # Start with all indices\n",
    "    all_indices = np.arange(X.shape[0])\n",
    "\n",
    "    # Select train indices without replacement\n",
    "    train_index = np.random.choice(all_indices, num_train_points, replace=False)\n",
    "    # Remove train indices from available indices\n",
    "    remaining_indices = np.setdiff1d(all_indices, train_index)\n",
    "\n",
    "    # Select test indices from the remaining indices without replacement\n",
    "    test_index = np.random.choice(remaining_indices, num_test_points, replace=False)\n",
    "    # Remove test indices from available indices\n",
    "    remaining_indices = np.setdiff1d(remaining_indices, test_index)\n",
    "\n",
    "    # Select fair train indices from the remaining indices without replacement\n",
    "    fair_train_index = np.random.choice(remaining_indices, num_fair_train_points, replace=False)\n",
    "    # Remove fair train indices from available indices\n",
    "    remaining_indices = np.setdiff1d(remaining_indices, fair_train_index)\n",
    "\n",
    "    # Select population indices from the remaining indices (can also choose all remaining points)\n",
    "    population_index = np.random.choice(remaining_indices, min(num_population_points, len(remaining_indices)), replace=False)\n",
    "\n",
    "    # Summary of counts\n",
    "    print(\"==============================================================\")\n",
    "    print(\"GET UNIQUE INDICES REFERENCE\")\n",
    "    print(f\"Number of train points: {len(train_index)}\")\n",
    "    print(f\"Number of test points: {len(test_index)}\")\n",
    "    print(f\"Number of fair train points: {len(fair_train_index)}\")\n",
    "    print(f\"Number of population points: {len(population_index)}\")\n",
    "    print(\"==============================================================\")\n",
    "    \n",
    "    return train_index, test_index, population_index"
   ]
  },
  {
   "cell_type": "code",
   "execution_count": 233,
   "metadata": {},
   "outputs": [
    {
     "name": "stdout",
     "output_type": "stream",
     "text": [
      "Number of train points: 3000\n",
      "Number of test points: 3000\n",
      "Number of fair train points: 5000\n",
      "Number of population points: 10000\n"
     ]
    }
   ],
   "source": [
    "# # Determine split sizes proportionally (to sum up to the full dataset size)\n",
    "# num_train_points = 3000\n",
    "# num_test_points = 3000\n",
    "# num_fair_train_points = 5000  # Reduced from 10000\n",
    "# num_population_points = 10000  # Reduced from 30000\n",
    "\n",
    "# # Start with all indices\n",
    "# all_indices = np.arange(X.shape[0])\n",
    "\n",
    "# # Select train indices without replacement\n",
    "# train_index = np.random.choice(all_indices, num_train_points, replace=False)\n",
    "# # Remove train indices from available indices\n",
    "# remaining_indices = np.setdiff1d(all_indices, train_index)\n",
    "\n",
    "# # Select test indices from the remaining indices without replacement\n",
    "# test_index = np.random.choice(remaining_indices, num_test_points, replace=False)\n",
    "# # Remove test indices from available indices\n",
    "# remaining_indices = np.setdiff1d(remaining_indices, test_index)\n",
    "\n",
    "# # Select fair train indices from the remaining indices without replacement\n",
    "# fair_train_index = np.random.choice(remaining_indices, num_fair_train_points, replace=False)\n",
    "# # Remove fair train indices from available indices\n",
    "# remaining_indices = np.setdiff1d(remaining_indices, fair_train_index)\n",
    "\n",
    "# # Select population indices from the remaining indices (can also choose all remaining points)\n",
    "# population_index = np.random.choice(remaining_indices, min(num_population_points, len(remaining_indices)), replace=False)\n",
    "\n",
    "# # Summary of counts\n",
    "# print(f\"Number of train points: {len(train_index)}\")\n",
    "# print(f\"Number of test points: {len(test_index)}\")\n",
    "# print(f\"Number of fair train points: {len(fair_train_index)}\")\n",
    "# print(f\"Number of population points: {len(population_index)}\")"
   ]
  },
  {
   "cell_type": "markdown",
   "metadata": {},
   "source": [
    "## Unique Indices Non-Reference"
   ]
  },
  {
   "cell_type": "code",
   "execution_count": 236,
   "metadata": {
    "colab": {
     "base_uri": "https://localhost:8080/"
    },
    "executionInfo": {
     "elapsed": 316,
     "status": "ok",
     "timestamp": 1730999793105,
     "user": {
      "displayName": "Ilhama Novruzova",
      "userId": "12259181736104464630"
     },
     "user_tz": -240
    },
    "id": "gCmY6fY0idbq",
    "outputId": "878f8dfb-d501-4f12-8fa2-bf4a3ca4e47c",
    "scrolled": true
   },
   "outputs": [],
   "source": [
    "# # Determine split sizes proportionally (to sum up to the full dataset size)\n",
    "# num_train_points = 12918  \n",
    "# num_test_points = 12918  \n",
    "# # num_fair_train_points = 5000  # Reduced from 10000\n",
    "# # num_population_points = 10000  # Reduced from 30000\n",
    "\n",
    "# # Start with all indices\n",
    "# all_indices = np.arange(X.shape[0])\n",
    "\n",
    "# # Select train indices without replacement\n",
    "# train_index = np.random.choice(all_indices, num_train_points, replace=False)\n",
    "# # Remove train indices from available indices\n",
    "# remaining_indices = np.setdiff1d(all_indices, train_index)\n",
    "\n",
    "# # Select test indices from the remaining indices without replacement\n",
    "# test_index = np.random.choice(remaining_indices, num_test_points, replace=False)\n",
    "\n",
    "# # Select population indices from the remaining indices (can also choose all remaining points)\n",
    "# population_index = train_index\n",
    "\n",
    "# # Summary of counts\n",
    "# print(f\"Number of train points: {len(train_index)}\")\n",
    "# print(f\"Number of test points: {len(test_index)}\")\n",
    "# print(f\"Number of population points: {len(population_index)}\")"
   ]
  },
  {
   "cell_type": "code",
   "execution_count": 237,
   "metadata": {
    "executionInfo": {
     "elapsed": 411,
     "status": "ok",
     "timestamp": 1730999794481,
     "user": {
      "displayName": "Ilhama Novruzova",
      "userId": "12259181736104464630"
     },
     "user_tz": -240
    },
    "id": "PAkrC3jThpkV",
    "scrolled": true
   },
   "outputs": [],
   "source": [
    "# combined_indices = np.concatenate([population_index, test_index])\n",
    "# assert len(combined_indices) == len(np.unique(combined_indices)), \"Overlapping indices detected!\""
   ]
  },
  {
   "cell_type": "code",
   "execution_count": 238,
   "metadata": {
    "scrolled": true
   },
   "outputs": [],
   "source": [
    "# combined_indices = np.concatenate([train_index, test_index])\n",
    "# assert len(combined_indices) == len(np.unique(combined_indices)), \"Overlapping indices detected!\""
   ]
  },
  {
   "cell_type": "code",
   "execution_count": 239,
   "metadata": {
    "executionInfo": {
     "elapsed": 3,
     "status": "ok",
     "timestamp": 1730998307238,
     "user": {
      "displayName": "Ilhama Novruzova",
      "userId": "12259181736104464630"
     },
     "user_tz": -240
    },
    "id": "GE84QnrvFJ-Z"
   },
   "outputs": [],
   "source": [
    "# input_shape= X.shape[-1]\n",
    "# num_classes= 1"
   ]
  },
  {
   "cell_type": "code",
   "execution_count": 240,
   "metadata": {
    "colab": {
     "base_uri": "https://localhost:8080/"
    },
    "executionInfo": {
     "elapsed": 301,
     "status": "ok",
     "timestamp": 1730998308625,
     "user": {
      "displayName": "Ilhama Novruzova",
      "userId": "12259181736104464630"
     },
     "user_tz": -240
    },
    "id": "Tu5rUq60rmAg",
    "outputId": "315ee68e-3cc1-4e00-bbae-9cae1f06be79"
   },
   "outputs": [
    {
     "name": "stdout",
     "output_type": "stream",
     "text": [
      "Number of 0.0s: 26629\n",
      "Number of 1.0s: 3859\n"
     ]
    }
   ],
   "source": [
    "# unique_values, counts = np.unique(y_true, return_counts=True)\n",
    "# for value, count in zip(unique_values, counts):\n",
    "#     print(f\"Number of {value}s: {count}\")"
   ]
  },
  {
   "cell_type": "code",
   "execution_count": 241,
   "metadata": {
    "colab": {
     "base_uri": "https://localhost:8080/"
    },
    "executionInfo": {
     "elapsed": 4,
     "status": "ok",
     "timestamp": 1730998309503,
     "user": {
      "displayName": "Ilhama Novruzova",
      "userId": "12259181736104464630"
     },
     "user_tz": -240
    },
    "id": "f4hBPcX_rl31",
    "outputId": "6c6d4e74-4b70-4d28-9fa3-e908c0762842"
   },
   "outputs": [
    {
     "name": "stdout",
     "output_type": "stream",
     "text": [
      "Number of 0.0s: 864\n",
      "Number of 1.0s: 29624\n"
     ]
    }
   ],
   "source": [
    "# unique_values, counts = np.unique(sensitive_features, return_counts=True)\n",
    "# for value, count in zip(unique_values, counts):\n",
    "#     print(f\"Number of {value}s: {count}\")"
   ]
  },
  {
   "cell_type": "code",
   "execution_count": 242,
   "metadata": {
    "colab": {
     "base_uri": "https://localhost:8080/"
    },
    "executionInfo": {
     "elapsed": 373,
     "status": "ok",
     "timestamp": 1730998310770,
     "user": {
      "displayName": "Ilhama Novruzova",
      "userId": "12259181736104464630"
     },
     "user_tz": -240
    },
    "id": "UiuyKe-AKWvu",
    "outputId": "521234ca-88ce-4dd6-92ba-2978408507c4"
   },
   "outputs": [
    {
     "name": "stdout",
     "output_type": "stream",
     "text": [
      "Number of 2.0s: 58\n",
      "Number of 3.0s: 20\n",
      "Number of 4.0s: 2564\n",
      "Number of 5.0s: 358\n"
     ]
    }
   ],
   "source": [
    "# result = (y_true[train_index])+ (sensitive_features[train_index] + 1) * 2\n",
    "# unique_values, counts = np.unique(result, return_counts=True)\n",
    "# for value, count in zip(unique_values, counts):\n",
    "#     print(f\"Number of {value}s: {count}\")"
   ]
  },
  {
   "cell_type": "code",
   "execution_count": 243,
   "metadata": {
    "executionInfo": {
     "elapsed": 1,
     "status": "ok",
     "timestamp": 1730998311978,
     "user": {
      "displayName": "Ilhama Novruzova",
      "userId": "12259181736104464630"
     },
     "user_tz": -240
    },
    "id": "FS5PKNglFJ-a"
   },
   "outputs": [],
   "source": [
    "# g_train = y_true[train_index] + (sensitive_features[train_index] + 1) * 2\n",
    "# g_test = y_true[test_index] + (sensitive_features[test_index] + 1) * 2\n",
    "# g_pop_train = y_true[population_index] + (sensitive_features[population_index] + 1) * 2"
   ]
  },
  {
   "cell_type": "code",
   "execution_count": 244,
   "metadata": {
    "executionInfo": {
     "elapsed": 325,
     "status": "ok",
     "timestamp": 1730998530495,
     "user": {
      "displayName": "Ilhama Novruzova",
      "userId": "12259181736104464630"
     },
     "user_tz": -240
    },
    "id": "I8nxoTqYjWqz"
   },
   "outputs": [],
   "source": [
    "# # Check lengths before creating datasets\n",
    "# assert len(train_index) == len(g_train), \"Mismatch in train indices and group labels for train\"\n",
    "# assert len(test_index) == len(g_test), \"Mismatch in test indices and group labels for test\"\n",
    "# assert len(population_index) == len(g_pop_train), \"Mismatch in population indices and group labels for population\""
   ]
  },
  {
   "cell_type": "code",
   "execution_count": 245,
   "metadata": {
    "colab": {
     "base_uri": "https://localhost:8080/"
    },
    "executionInfo": {
     "elapsed": 3,
     "status": "ok",
     "timestamp": 1730998651934,
     "user": {
      "displayName": "Ilhama Novruzova",
      "userId": "12259181736104464630"
     },
     "user_tz": -240
    },
    "id": "01gVaN0UqyIB",
    "outputId": "b8eb549e-db0b-410d-e70b-57c34bc31b76",
    "scrolled": true
   },
   "outputs": [
    {
     "name": "stdout",
     "output_type": "stream",
     "text": [
      "g_train size: (3000,)\n",
      "g_test size: (3000,)\n",
      "g_test size: (10000,)\n"
     ]
    }
   ],
   "source": [
    "# # Check dimensions before using boolean indexing\n",
    "# print(f\"g_train size: {g_train.shape}\")\n",
    "# print(f\"g_test size: {g_test.shape}\")\n",
    "# print(f\"g_test size: {g_pop_train.shape}\")"
   ]
  },
  {
   "cell_type": "code",
   "execution_count": null,
   "metadata": {},
   "outputs": [],
   "source": [
    "def create_datasets(train_index, test_index, population_index):\n",
    "    # create the target model's dataset\n",
    "    train_ds = {'x': X[train_index], 'y': y_true[train_index],'g':g_train}\n",
    "    test_ds = {'x': X[test_index], 'y': y_true[test_index], 'g':g_test}\n",
    "    target_dataset = Dataset(\n",
    "        data_dict={'train': train_ds, 'test': test_ds},\n",
    "        default_input='x', default_output='y', default_group='g'\n",
    "    )\n",
    "\n",
    "    # create the reference dataset\n",
    "    population_ds = {'x': X[population_index], 'y': y_true[population_index], 'g': g_pop_train}\n",
    "    reference_dataset = Dataset(\n",
    "        data_dict={'train': population_ds},\n",
    "        default_input='x', default_output='y', default_group='g'\n",
    "    )\n",
    "    \n",
    "    return target_dataset, reference_dataset"
   ]
  },
  {
   "cell_type": "code",
   "execution_count": 246,
   "metadata": {
    "executionInfo": {
     "elapsed": 3,
     "status": "ok",
     "timestamp": 1730998313593,
     "user": {
      "displayName": "Ilhama Novruzova",
      "userId": "12259181736104464630"
     },
     "user_tz": -240
    },
    "id": "tKNxmEDBFJ-a"
   },
   "outputs": [],
   "source": [
    "# # create the target model's dataset\n",
    "# train_ds = {'x': X[train_index], 'y': y_true[train_index],'g':g_train}\n",
    "# test_ds = {'x': X[test_index], 'y': y_true[test_index], 'g':g_test}\n",
    "# target_dataset = Dataset(\n",
    "#     data_dict={'train': train_ds, 'test': test_ds},\n",
    "#     default_input='x', default_output='y', default_group='g'\n",
    "# )\n",
    "\n",
    "# # create the reference dataset\n",
    "# population_ds = {'x': X[population_index], 'y': y_true[population_index], 'g': g_pop_train}\n",
    "# reference_dataset = Dataset(\n",
    "#     data_dict={'train': population_ds},\n",
    "#     default_input='x', default_output='y', default_group='g'\n",
    "# )"
   ]
  },
  {
   "cell_type": "markdown",
   "metadata": {},
   "source": [
    "## Models"
   ]
  },
  {
   "cell_type": "markdown",
   "metadata": {},
   "source": [
    "### Original"
   ]
  },
  {
   "cell_type": "code",
   "execution_count": null,
   "metadata": {},
   "outputs": [],
   "source": [
    "def log(y, pre):\n",
    "    e = 0.0000001\n",
    "    pre = np.clip(pre, e, 1 - e)\n",
    "    return - y * np.log(pre) - (1 - y) * np.log(1 - pre)"
   ]
  },
  {
   "cell_type": "code",
   "execution_count": null,
   "metadata": {},
   "outputs": [],
   "source": [
    "def get_original_model(train_index, test_index):\n",
    "    model = DecisionTreeClassifier(min_samples_leaf=10, max_depth=10)\n",
    "    model.fit(X[train_index], y_true[train_index])\n",
    "    target_model = Sklearn_Model(model_obj=model, loss_fn=log)\n",
    "    print(model)\n",
    "    y_pred_test= model.predict(X[test_index])\n",
    "    sr_test = MetricFrame(metrics=accuracy_score, y_true=y_true[test_index], y_pred=y_pred_test, sensitive_features=sensitive_features[test_index])\n",
    "    y_pred_train= model.predict(X[train_index])\n",
    "    sr_train = MetricFrame(metrics=accuracy_score, y_true=y_true[train_index], y_pred=y_pred_train, sensitive_features=sensitive_features[train_index])\n",
    "    \n",
    "    print(\"==============================================================\")\n",
    "    print(\"GET ORIGINAL MODEL\")\n",
    "    print(sr_test.overall, sr_test.by_group)\n",
    "    print(sr_train.overall, sr_train.by_group)\n",
    "    print(equalized_odds_difference(y_true[test_index],y_pred_test, sensitive_features=sensitive_features[test_index]))\n",
    "    print(\"==============================================================\")\n",
    "    \n",
    "    return target_model"
   ]
  },
  {
   "cell_type": "markdown",
   "metadata": {},
   "source": [
    "### EG"
   ]
  },
  {
   "cell_type": "code",
   "execution_count": null,
   "metadata": {},
   "outputs": [],
   "source": [
    "def get_fair_model(train_index, test_index):\n",
    "    constraint = EqualizedOdds(difference_bound=0.0001)\n",
    "    classifier = DecisionTreeClassifier(min_samples_leaf=10, max_depth=10)\n",
    "    mitigator = ExponentiatedGradient(classifier, constraint)\n",
    "    mitigator.fit(X[train_index], y_true[train_index], sensitive_features=sensitive_features[train_index])\n",
    "    fair_target_model = Fairlearn_Model(model_obj=mitigator, loss_fn=log)\n",
    "    y_pred_test= mitigator.predict(X[test_index])\n",
    "    sr_test = MetricFrame(metrics=accuracy_score, y_true=y_true[test_index], y_pred=y_pred_test, sensitive_features=sensitive_features[test_index])\n",
    "    y_pred_train= mitigator.predict(X[train_index])\n",
    "    sr_train = MetricFrame(metrics=accuracy_score, y_true=y_true[train_index], y_pred=y_pred_train, sensitive_features=sensitive_features[train_index])\n",
    "    \n",
    "    print(\"==============================================================\")\n",
    "    print(\"GET FAIR MODEL\")\n",
    "    print(sr_test.overall, sr_test.by_group)\n",
    "    print(sr_train.overall, sr_train.by_group)\n",
    "    print(equalized_odds_difference(y_true[test_index],y_pred_test, sensitive_features=sensitive_features[test_index]))\n",
    "    print(\"==============================================================\")\n",
    "    \n",
    "    return fair_target_model"
   ]
  },
  {
   "cell_type": "markdown",
   "metadata": {},
   "source": [
    "### Syntethic"
   ]
  },
  {
   "cell_type": "code",
   "execution_count": 249,
   "metadata": {},
   "outputs": [],
   "source": [
    "def balance(dataset, n_extra, inflate_rate, f_label, uf_label):\n",
    "\n",
    "    # make a duplicate copy of the input data\n",
    "    dataset_transf_train = dataset.copy(deepcopy=True)\n",
    "\n",
    "    # subsets with favorable labels and unfavorable labels\n",
    "    f_dataset = dataset.subset(np.where(dataset.labels==f_label)[0].tolist())\n",
    "    uf_dataset = dataset.subset(np.where(dataset.labels==uf_label)[0].tolist())\n",
    "\n",
    "    # expand the group with uf_label for oversampling purpose\n",
    "    inflated_uf_features = np.repeat(uf_dataset.features, inflate_rate, axis=0)\n",
    "    sample_features = np.concatenate((f_dataset.features, inflated_uf_features))\n",
    "    inflated_uf_labels = np.repeat(uf_dataset.labels, inflate_rate, axis=0)\n",
    "    sample_labels = np.concatenate((f_dataset.labels, inflated_uf_labels))\n",
    "    \n",
    "\n",
    "    # oversampling favorable samples\n",
    "    # X: inflated dataset with synthetic samples of f_label attached to the end\n",
    "\n",
    "    # Now apply ADASYN oversampling\n",
    "    oversample = ADASYN(sampling_strategy='minority')\n",
    "    X, y = oversample.fit_resample(sample_features, sample_labels)\n",
    "    y = y.reshape(-1,1)\n",
    "\n",
    "    # take samples from dataset with only favorable labels\n",
    "    X = X[np.where(y==f_label)[0].tolist()]  # data with f_label + new samples\n",
    "    y = y[y==f_label]\n",
    "\n",
    "    selected = int(f_dataset.features.shape[0]+n_extra)\n",
    "\n",
    "    X = X[:selected, :]\n",
    "    y = y[:selected]\n",
    "    y = y.reshape(-1,1)\n",
    "    \n",
    "    # print(f\"Type of instance_weights: {type(f_dataset.instance_weights)}\")\n",
    "    # print(f\"Shape of instance_weights: {getattr(f_dataset.instance_weights, 'shape', 'N/A')}\")\n",
    "    # print(f\"Content of instance_weights: {f_dataset.instance_weights}\")\n",
    "\n",
    "    # print(f\"Type of protected_attributes: {type(f_dataset.protected_attributes)}\")\n",
    "    # print(f\"Shape of protected_attributes: {getattr(f_dataset.protected_attributes, 'shape', 'N/A')}\")\n",
    "    # print(f\"Content of protected_attributes: {f_dataset.protected_attributes}\")\n",
    "\n",
    "    # Convert to lists if necessary\n",
    "    instance_weights_list = f_dataset.instance_weights.flatten().tolist() if isinstance(f_dataset.instance_weights, np.ndarray) else f_dataset.instance_weights\n",
    "    protected_attributes_list = f_dataset.protected_attributes.flatten().tolist() if isinstance(f_dataset.protected_attributes, np.ndarray) else f_dataset.protected_attributes\n",
    "\n",
    "    # set weights and protected_attributes for the newly generated samples\n",
    "    inc = X.shape[0]-f_dataset.features.shape[0]\n",
    "    new_weights = [random.choice(instance_weights_list) for _ in range(inc)]\n",
    "    new_attributes = [random.choice(protected_attributes_list) for _ in range(inc)]\n",
    "    \n",
    "    # new_attributes is 1D, reshape it to match the shape (n, 1)\n",
    "    new_attributes = np.array(new_attributes).reshape(-1, 1)\n",
    "\n",
    "    # compose transformed dataset\n",
    "    dataset_transf_train.features = np.concatenate((uf_dataset.features, X))\n",
    "    dataset_transf_train.labels = np.concatenate((uf_dataset.labels, y))\n",
    "    dataset_transf_train.instance_weights = np.concatenate((uf_dataset.instance_weights, f_dataset.instance_weights, new_weights))\n",
    "    dataset_transf_train.protected_attributes = np.concatenate((uf_dataset.protected_attributes, f_dataset.protected_attributes, new_attributes))\n",
    "\n",
    "    # make a duplicate copy of the input data\n",
    "    dataset_extra_train = dataset.copy()\n",
    "\n",
    "    X_ex = X[-int(n_extra):]\n",
    "    y_ex = y[-int(n_extra):]\n",
    "    y_ex = y_ex.reshape(-1,1)\n",
    "    \n",
    "    # set weights and protected_attributes for the newly generated samples\n",
    "    inc = int(n_extra)\n",
    "    new_weights = [random.choice(instance_weights_list) for _ in range(inc)]\n",
    "    new_attributes = [random.choice(protected_attributes_list) for _ in range(inc)]\n",
    "    \n",
    "    # new_attributes is 1D, reshape it to match the shape (n, 1)\n",
    "    new_attributes = np.array(new_attributes).reshape(-1, 1)\n",
    "\n",
    "    # compose extra dataset\n",
    "    dataset_extra_train.features = X_ex\n",
    "    dataset_extra_train.labels = y_ex\n",
    "    dataset_extra_train.instance_weights = new_weights\n",
    "    dataset_extra_train.protected_attributes = new_attributes\n",
    "\n",
    "    # verifying\n",
    "    #print(dataset_transf_train.features.shape)\n",
    "    #print(dataset_transf_train.labels.shape)\n",
    "    #print(dataset_transf_train.instance_weights.shape)\n",
    "    #print(dataset_transf_train.protected_attributes.shape)\n",
    "\n",
    "    # return favor and unfavored oversampling results\n",
    "    return dataset_transf_train, dataset_extra_train"
   ]
  },
  {
   "cell_type": "code",
   "execution_count": 250,
   "metadata": {},
   "outputs": [],
   "source": [
    "# return dataset indices of unprivileged and privileaged groups\n",
    "def group_indices (dataset, unprivileged_groups):\n",
    "    feature_names = dataset.feature_names\n",
    "    cond_vec = utils.compute_boolean_conditioning_vector(dataset.features, feature_names, unprivileged_groups)\n",
    "\n",
    "    # indices of examples in the unprivileged and privileged groups\n",
    "    indices = [i for i, x in enumerate(cond_vec) if x == True]\n",
    "    priv_indices = [i for i, x in enumerate(cond_vec) if x == False]\n",
    "    return indices, priv_indices"
   ]
  },
  {
   "cell_type": "code",
   "execution_count": 251,
   "metadata": {},
   "outputs": [],
   "source": [
    "# oversample favorable in the unprivileged group\n",
    "def synthetic_favor_unpriv (dataset, unprivileged_groups, bp, bnp, f_label, uf_label, sampling_strategy=1.00):\n",
    "\n",
    "    indices, priv_indices = group_indices (dataset, unprivileged_groups)\n",
    "\n",
    "    # subset: unprivileged--unprivileged_dataset and privileged--privileged_dataset \n",
    "    unprivileged_dataset = dataset.subset(indices) # unprivileaged\n",
    "    privileged_dataset = dataset.subset(priv_indices) # privilegaed\n",
    "\n",
    "    n_unpriv_favor = np.count_nonzero(unprivileged_dataset.labels==f_label) # unprivileged with favorable label\n",
    "    n_unpriv_unfavor = np.count_nonzero(unprivileged_dataset.labels!=f_label) # unprivileged with unfavorable label\n",
    "\n",
    "    n_extra_sample = (bp * len(indices)-n_unpriv_favor) / (1- bp) * sampling_strategy\n",
    "    # unprivileged favorable > unprivileged unfavorable\n",
    "    if n_extra_sample + n_unpriv_favor >= n_unpriv_unfavor:\n",
    "        inflate_rate = int(((n_extra_sample+n_unpriv_favor)/n_unpriv_unfavor)+1)\n",
    "    else:\n",
    "        inflate_rate = round(((n_extra_sample+n_unpriv_favor)/n_unpriv_unfavor)+1)\n",
    "\n",
    "    dataset_transf_refprivileged_train, extra_favored_unpriv  = balance(unprivileged_dataset, n_extra_sample, inflate_rate, f_label, uf_label)\n",
    "\n",
    "    return dataset_transf_refprivileged_train, extra_favored_unpriv"
   ]
  },
  {
   "cell_type": "code",
   "execution_count": 252,
   "metadata": {},
   "outputs": [],
   "source": [
    "# adaptive oversampling for the unprivileged group\n",
    "def synthetic(dataset, unprivileged_groups, bp, bnp, f_label, uf_label, os_mode=2, sampling_strategy=0.50):\n",
    "\n",
    "    # make a duplicate copy of the input data\n",
    "    dataset_transf_train = dataset.copy(deepcopy=True)\n",
    "\n",
    "    # Case 1: privileged group is not relatively favored but has more favored in absolute number than the unprivileged group\n",
    "    # if privileged base rate is less than unprivilegeted base rate\n",
    "    if bp < bnp:\n",
    "        dataset_transf_train = synthetic_balance(dataset, unprivileged_groups, bp, bnp, f_label, uf_label)\n",
    "        return dataset_transf_train\n",
    "\n",
    "    # Case 2: if privileged is favored, i.e. has a higher base rate\n",
    "\n",
    "    # [Method 1] inflate privileged unfavored class\n",
    "    if os_mode == 1:\n",
    "        _, sample_unfavor_priv = synthetic_unfavor_priv (dataset, unprivileged_groups, bp, bnp, f_label, uf_label, sampling_strategy=1.00)\n",
    "        dataset_transf_train.features = np.concatenate((dataset_transf_train.features, sample_unfavor_priv.features))\n",
    "        dataset_transf_train.labels = np.concatenate((dataset_transf_train.labels, sample_unfavor_priv.labels))\n",
    "        dataset_transf_train.instance_weights = np.concatenate((dataset_transf_train.instance_weights, sample_unfavor_priv.instance_weights))\n",
    "        dataset_transf_train.protected_attributes = np.concatenate((dataset_transf_train.protected_attributes, sample_unfavor_priv.protected_attributes))\n",
    "    elif os_mode == 2:\n",
    "    # [Method 2] inflate unprivileged favored class\n",
    "        _, sample_favor_unpriv = synthetic_favor_unpriv (dataset, unprivileged_groups, bp, bnp, f_label, uf_label, sampling_strategy=1.0)\n",
    "        dataset_transf_train.features = np.concatenate((dataset_transf_train.features, sample_favor_unpriv.features))\n",
    "        dataset_transf_train.labels = np.concatenate((dataset_transf_train.labels, sample_favor_unpriv.labels))\n",
    "        dataset_transf_train.instance_weights = np.concatenate((dataset_transf_train.instance_weights, sample_favor_unpriv.instance_weights))\n",
    "        dataset_transf_train.protected_attributes = np.concatenate((dataset_transf_train.protected_attributes, sample_favor_unpriv.protected_attributes))\n",
    "    # [Method 3] combine methods 1 and 2 \n",
    "    elif os_mode == 3:\n",
    "        _, sample_unfavor_priv = synthetic_unfavor_priv (dataset, unprivileged_groups, bp, bnp, f_label, uf_label, sampling_strategy=1.00)\n",
    "        dataset_transf_train.features = np.concatenate((dataset_transf_train.features, sample_unfavor_priv.features))\n",
    "        dataset_transf_train.labels = np.concatenate((dataset_transf_train.labels, sample_unfavor_priv.labels))\n",
    "        dataset_transf_train.instance_weights = np.concatenate((dataset_transf_train.instance_weights, sample_unfavor_priv.instance_weights))\n",
    "        dataset_transf_train.protected_attributes = np.concatenate((dataset_transf_train.protected_attributes, sample_unfavor_priv.protected_attributes))\n",
    "        _, sample_favor_unpriv = synthetic_favor_unpriv (dataset, unprivileged_groups, bp, bnp, f_label, uf_label, sampling_strategy=1.00)\n",
    "        dataset_transf_train.features = np.concatenate((dataset_transf_train.features, sample_favor_unpriv.features))\n",
    "        dataset_transf_train.labels = np.concatenate((dataset_transf_train.labels, sample_favor_unpriv.labels))\n",
    "        dataset_transf_train.instance_weights = np.concatenate((dataset_transf_train.instance_weights, sample_favor_unpriv.instance_weights))\n",
    "        dataset_transf_train.protected_attributes = np.concatenate((dataset_transf_train.protected_attributes, sample_favor_unpriv.protected_attributes))\n",
    "    else:\n",
    "        sys.exit(\"Oversampling mode is missing: 1: oversample unfavorable privileged; 2: oversample favorable unprivileged; 3. both\")\n",
    "\n",
    "    return dataset_transf_train"
   ]
  },
  {
   "cell_type": "code",
   "execution_count": 253,
   "metadata": {},
   "outputs": [],
   "source": [
    "class BaseMitigator:\n",
    "\n",
    "    def __init__(self):\n",
    "        pass\n",
    "\n",
    "    def run_mitigator(self):\n",
    "        pass"
   ]
  },
  {
   "cell_type": "code",
   "execution_count": 254,
   "metadata": {},
   "outputs": [],
   "source": [
    "class SyntheticMitigator(BaseMitigator):\n",
    "    mitigator_type = 'Synthetic Data Mitigator'\n",
    "    \n",
    "    def run_mitigator (self, dataset_orig_train, dataset_orig_val, dataset_orig_test, \n",
    "                       privileged_groups, unprivileged_groups, \n",
    "                       base_rate_privileged, base_rate_unprivileged, \n",
    "                       f_label, uf_label, OS_MODE):\n",
    "        # generating synthetic data\n",
    "        dataset_transf_train = synthetic(dataset_orig_train, unprivileged_groups, base_rate_privileged, base_rate_unprivileged, f_label, uf_label, os_mode = OS_MODE)\n",
    "        print('origin, transf: ', dataset_orig_train.features.shape[0], dataset_transf_train.features.shape[0])\n",
    "\n",
    "        metric_transf_train = BinaryLabelDatasetMetric(dataset_transf_train,\n",
    "                                                       unprivileged_groups=unprivileged_groups,\n",
    "                                                       privileged_groups=privileged_groups)\n",
    "        print('after transf priv: ', metric_transf_train.base_rate(privileged=True))\n",
    "        print('after transf unpriv: ', metric_transf_train.base_rate(privileged=False))\n",
    "        print(\"Difference in mean outcomes between unprivileged and privileged groups = %f\" % metric_transf_train.mean_difference())\n",
    "\n",
    "        # fitting the model on the transformed dataset with synthetic generator\n",
    "        dataset = dataset_transf_train\n",
    "\n",
    "        return dataset"
   ]
  },
  {
   "cell_type": "code",
   "execution_count": 257,
   "metadata": {},
   "outputs": [],
   "source": [
    "# Combine features, labels, and protected attributes into a DataFrame\n",
    "def create_binary_label_dataset(dataset_orig, X, y, sensitive_features, sens_attr_name, privileged_value, unprivileged_value):\n",
    "    # Extract the feature names from the original dataset\n",
    "    feature_names = dataset_orig.feature_names\n",
    "\n",
    "    # Create a DataFrame with features, labels, and sensitive attribute\n",
    "    df = pd.DataFrame(X, columns=feature_names)\n",
    "    df['label'] = y\n",
    "    df[sens_attr_name] = sensitive_features\n",
    "\n",
    "    # Create the BinaryLabelDataset\n",
    "    dataset = BinaryLabelDataset(\n",
    "        favorable_label=1.0,  # Adjust as per your dataset\n",
    "        unfavorable_label=0.0,  # Adjust as per your dataset\n",
    "        df=df,  # DataFrame containing features, labels, and protected attribute\n",
    "        label_names=['label'],  # Column name of labels in DataFrame\n",
    "        protected_attribute_names=[sens_attr_name],  # Protected attribute column\n",
    "        privileged_protected_attributes=[privileged_value],  # Privileged group values\n",
    "        unprivileged_protected_attributes=[unprivileged_value]  # Unprivileged group values\n",
    "    )\n",
    "    return dataset"
   ]
  },
  {
   "cell_type": "code",
   "execution_count": null,
   "metadata": {},
   "outputs": [],
   "source": [
    "def get_syn_model(train_index, test_index):\n",
    "    synth_mitigator = SyntheticMitigator()\n",
    "\n",
    "    privileged_value = [1]  # Example: '1' indicates privileged (e.g., age >= 25)\n",
    "    unprivileged_value = [0]  # Example: '0' indicates unprivileged (e.g., age < 25)\n",
    "    \n",
    "    # Convert train dataset\n",
    "    dataset_orig_train = create_binary_label_dataset(\n",
    "        dataset_orig=dataset_orig,\n",
    "        X=X[train_index],\n",
    "        y=y_true[train_index],\n",
    "        sensitive_features=sensitive_features[train_index],\n",
    "        sens_attr_name=sens_attr,\n",
    "        privileged_value=privileged_value,\n",
    "        unprivileged_value=unprivileged_value\n",
    "    )\n",
    "    \n",
    "    # Convert test dataset\n",
    "    dataset_orig_val = create_binary_label_dataset(\n",
    "        dataset_orig=dataset_orig,\n",
    "        X=X[test_index],\n",
    "        y=y_true[test_index],\n",
    "        sensitive_features=sensitive_features[test_index],\n",
    "        sens_attr_name=sens_attr,\n",
    "        privileged_value=privileged_value,\n",
    "        unprivileged_value=unprivileged_value\n",
    "    )\n",
    "    \n",
    "    # Since validation and testing datasets are the same\n",
    "    dataset_orig_test = dataset_orig_val\n",
    "    \n",
    "    train_data = target_dataset.data_dict[\"train\"]\n",
    "\n",
    "    y_train = train_data['y']  # Labels\n",
    "    g_train = train_data['g']  # Sensitive attribute\n",
    "\n",
    "    # Separate privileged and unprivileged group indices\n",
    "    priv_indices = (g_train == 2) | (g_train == 5)\n",
    "    unpriv_indices = (g_train == 3) | (g_train == 4)\n",
    "\n",
    "    # Number of positive and negative instances for each group\n",
    "    num_pos_priv = np.sum(y_train[priv_indices] == 1)\n",
    "    num_neg_priv = np.sum(y_train[priv_indices] == 0)\n",
    "\n",
    "    num_pos_unpriv = np.sum(y_train[unpriv_indices] == 1)\n",
    "    num_neg_unpriv = np.sum(y_train[unpriv_indices] == 0)\n",
    "    \n",
    "    print(\"==============================================================\")\n",
    "    print(\"GET SYN MODEL\")\n",
    "\n",
    "    print(\"Privileged group (positives/negatives):\", num_pos_priv, num_neg_priv)\n",
    "    print(\"Unprivileged group (positives/negatives):\", num_pos_unpriv, num_neg_unpriv)\n",
    "\n",
    "    # Base rates\n",
    "    base_rate_privileged = num_pos_priv / (num_pos_priv + num_neg_priv)\n",
    "    base_rate_unprivileged = num_pos_unpriv / (num_pos_unpriv + num_neg_unpriv)\n",
    "    \n",
    "    f_label = dataset_orig_train.favorable_label\n",
    "    uf_label = dataset_orig_train.unfavorable_label\n",
    "    \n",
    "    syn_dataset_train = synth_mitigator.run_mitigator(dataset_orig_train, dataset_orig_val, dataset_orig_test, privileged_groups, unprivileged_groups, base_rate_privileged, base_rate_unprivileged, f_label, uf_label, OS_MODE=2)\n",
    "    \n",
    "    # Extract features and labels from the syn dataset train\n",
    "    X_syn = syn_dataset_train.features  # Feature matrix from the BinaryLabelDataset\n",
    "    y_syn = syn_dataset_train.labels.ravel()  # Flatten the label vector for compatibility\n",
    "\n",
    "    # Train the decision tree model using the synthetic dataset\n",
    "    syn_model = DecisionTreeClassifier(min_samples_leaf=10, max_depth=10)\n",
    "    syn_model.fit(X_syn, y_syn)\n",
    "    syn_target_model = Sklearn_Model(model_obj=syn_model, loss_fn=log)\n",
    "    print(model)\n",
    "\n",
    "    y_pred_test_syn = syn_model.predict(X[test_index])\n",
    "    sr_test_syn = MetricFrame(\n",
    "        metrics=accuracy_score,\n",
    "        y_true=y_true[test_index],\n",
    "        y_pred=y_pred_test_syn,\n",
    "        sensitive_features=sensitive_features[test_index]\n",
    "    )\n",
    "\n",
    "    # Evaluate on synthetic training data\n",
    "    y_pred_train_syn = syn_model.predict(X_syn)\n",
    "    sr_train_syn = MetricFrame(\n",
    "        metrics=accuracy_score,\n",
    "        y_true=y_syn,\n",
    "        y_pred=y_pred_train_syn,\n",
    "        sensitive_features=syn_dataset_train.protected_attributes[:, 0]  # Use the first protected attribute\n",
    "    )\n",
    "\n",
    "    print(sr_test.overall, sr_test.by_group)\n",
    "    print(sr_train.overall, sr_train.by_group)\n",
    "    print(equalized_odds_difference(y_true[test_index],y_pred_test, sensitive_features=sensitive_features[test_index]))\n",
    "    print(\"==============================================================\")\n",
    "    \n",
    "    return syn_target_model"
   ]
  },
  {
   "cell_type": "code",
   "execution_count": null,
   "metadata": {},
   "outputs": [],
   "source": [
    "def get_info_sources(target_dataset, reference_dataset, target_model, fair_target_model, syn_target_model):\n",
    "    un_target_info_source = InformationSource(\n",
    "        models=[target_model],\n",
    "        datasets=[target_dataset]\n",
    "    )\n",
    "\n",
    "    un_reference_info_source = InformationSource(\n",
    "        models=[target_model],\n",
    "        datasets=[reference_dataset]\n",
    "    )\n",
    "\n",
    "    fair_target_info_source = InformationSource(\n",
    "        models=[fair_target_model],\n",
    "        datasets=[target_dataset]\n",
    "    )\n",
    "\n",
    "    fair_reference_info_source = InformationSource(\n",
    "        models=[fair_target_model],\n",
    "        datasets=[reference_dataset]\n",
    "    )\n",
    "\n",
    "    syn_target_info_source = InformationSource(\n",
    "        models=[syn_target_model],\n",
    "        datasets=[target_dataset]\n",
    "    )\n",
    "\n",
    "    syn_reference_info_source = InformationSource(\n",
    "        models=[syn_target_model],\n",
    "        datasets=[reference_dataset]\n",
    "    )\n",
    "    \n",
    "    return un_target_info_source, un_reference_info_source, fair_target_info_source, fair_reference_info_source, syn_target_info_source, syn_reference_info_source"
   ]
  },
  {
   "cell_type": "code",
   "execution_count": 267,
   "metadata": {
    "executionInfo": {
     "elapsed": 1514,
     "status": "ok",
     "timestamp": 1730998319404,
     "user": {
      "displayName": "Ilhama Novruzova",
      "userId": "12259181736104464630"
     },
     "user_tz": -240
    },
    "id": "K874rLuFFJ-b"
   },
   "outputs": [
    {
     "name": "stdout",
     "output_type": "stream",
     "text": [
      "INFO SOURCE MAPPING OBJ FOR SIGNAL:  [(0, 'train', '<default_input>', '<default_output>')]\n",
      "INFO SOURCE MAPPING OBJ FOR SIGNAL:  [(0, 'test', '<default_input>', '<default_output>')]\n",
      "INFO SOURCE MAPPING OBJ FOR SIGNAL:  [(0, 'train', '<default_input>', '<default_output>')]\n",
      "INFO SOURCE MAPPING OBJ FOR GROUP:  [(0, 'train', '<default_group>')]\n",
      "INFO SOURCE MAPPING OBJ FOR GROUP:  [(0, 'test', '<default_group>')]\n",
      "INFO SOURCE MAPPING OBJ FOR GROUP:  [(0, 'train', '<default_group>')]\n"
     ]
    }
   ],
   "source": [
    "from privacy_meter import audit_report\n",
    "from privacy_meter.audit_report import *\n",
    "\n",
    "\n",
    "un_audit_obj = Audit(\n",
    "    metrics=MetricEnum.GROUPPOPULATION,\n",
    "    inference_game_type=InferenceGame.PRIVACY_LOSS_MODEL,\n",
    "    target_info_sources=un_target_info_source,\n",
    "    reference_info_sources=un_reference_info_source,\n",
    "    logs_directory_names='un_log'\n",
    ")\n",
    "un_audit_obj.prepare()"
   ]
  },
  {
   "cell_type": "code",
   "execution_count": 268,
   "metadata": {
    "executionInfo": {
     "elapsed": 980,
     "status": "ok",
     "timestamp": 1730998320382,
     "user": {
      "displayName": "Ilhama Novruzova",
      "userId": "12259181736104464630"
     },
     "user_tz": -240
    },
    "id": "zD_KRFPnFJ-c"
   },
   "outputs": [
    {
     "name": "stdout",
     "output_type": "stream",
     "text": [
      "INFO SOURCE MAPPING OBJ FOR SIGNAL:  [(0, 'train', '<default_input>', '<default_output>')]\n",
      "INFO SOURCE MAPPING OBJ FOR SIGNAL:  [(0, 'test', '<default_input>', '<default_output>')]\n",
      "INFO SOURCE MAPPING OBJ FOR SIGNAL:  [(0, 'train', '<default_input>', '<default_output>')]\n",
      "INFO SOURCE MAPPING OBJ FOR GROUP:  [(0, 'train', '<default_group>')]\n",
      "INFO SOURCE MAPPING OBJ FOR GROUP:  [(0, 'test', '<default_group>')]\n",
      "INFO SOURCE MAPPING OBJ FOR GROUP:  [(0, 'train', '<default_group>')]\n"
     ]
    }
   ],
   "source": [
    "fair_audit_obj = Audit(\n",
    "    metrics=MetricEnum.GROUPPOPULATION,\n",
    "    inference_game_type=InferenceGame.PRIVACY_LOSS_MODEL,\n",
    "    target_info_sources=fair_target_info_source,\n",
    "    reference_info_sources=fair_reference_info_source,\n",
    "    logs_directory_names='fair_log'\n",
    ")\n",
    "fair_audit_obj.prepare()"
   ]
  },
  {
   "cell_type": "code",
   "execution_count": 269,
   "metadata": {},
   "outputs": [
    {
     "name": "stdout",
     "output_type": "stream",
     "text": [
      "INFO SOURCE MAPPING OBJ FOR SIGNAL:  [(0, 'train', '<default_input>', '<default_output>')]\n",
      "INFO SOURCE MAPPING OBJ FOR SIGNAL:  [(0, 'test', '<default_input>', '<default_output>')]\n",
      "INFO SOURCE MAPPING OBJ FOR SIGNAL:  [(0, 'train', '<default_input>', '<default_output>')]\n",
      "INFO SOURCE MAPPING OBJ FOR GROUP:  [(0, 'train', '<default_group>')]\n",
      "INFO SOURCE MAPPING OBJ FOR GROUP:  [(0, 'test', '<default_group>')]\n",
      "INFO SOURCE MAPPING OBJ FOR GROUP:  [(0, 'train', '<default_group>')]\n"
     ]
    }
   ],
   "source": [
    "syn_audit_obj = Audit(\n",
    "    metrics=MetricEnum.GROUPPOPULATION,\n",
    "    inference_game_type=InferenceGame.PRIVACY_LOSS_MODEL,\n",
    "    target_info_sources=syn_target_info_source,\n",
    "    reference_info_sources=syn_reference_info_source,\n",
    "    logs_directory_names='syn_log'\n",
    ")\n",
    "syn_audit_obj.prepare()"
   ]
  },
  {
   "cell_type": "code",
   "execution_count": 270,
   "metadata": {
    "colab": {
     "base_uri": "https://localhost:8080/",
     "height": 356
    },
    "executionInfo": {
     "elapsed": 7,
     "status": "error",
     "timestamp": 1730998320383,
     "user": {
      "displayName": "Ilhama Novruzova",
      "userId": "12259181736104464630"
     },
     "user_tz": -240
    },
    "id": "S82MH90RFJ-c",
    "outputId": "a3d45946-96c1-4af4-9f9e-e2c5c9836a23",
    "scrolled": true
   },
   "outputs": [
    {
     "name": "stdout",
     "output_type": "stream",
     "text": [
      "Results are stored in: ['un_log']\n",
      "Metric ID: reference_metric, Accuracy: [0.5        0.5        0.5        0.5        0.5        0.5\n",
      " 0.5        0.5        0.5        0.5        0.5        0.5\n",
      " 0.5        0.5        0.5        0.5        0.5        0.5\n",
      " 0.5        0.5        0.5        0.5        0.5        0.5\n",
      " 0.5        0.5        0.5        0.5        0.5        0.5\n",
      " 0.5        0.5        0.5        0.5        0.5        0.5\n",
      " 0.5        0.5        0.5        0.5        0.5        0.5\n",
      " 0.5        0.5        0.5        0.5        0.5        0.5\n",
      " 0.5        0.5        0.5        0.5        0.5        0.5\n",
      " 0.5        0.5        0.5        0.5        0.5        0.5\n",
      " 0.5        0.5        0.5        0.5        0.5        0.5\n",
      " 0.5        0.5        0.5        0.5        0.5        0.5\n",
      " 0.5        0.5        0.5        0.5        0.5        0.5\n",
      " 0.5        0.5        0.49966667 0.50216667 0.50366667 0.50383333\n",
      " 0.505      0.5055     0.50683333 0.50683333 0.5085     0.5085\n",
      " 0.50716667 0.507      0.507      0.50583333 0.507      0.51066667\n",
      " 0.518      0.51633333 0.5185     0.5       ]\n"
     ]
    }
   ],
   "source": [
    "un_audit_results = un_audit_obj.run()[0]\n",
    "\n",
    "un_audit_result = un_audit_results[0]\n",
    "print(f\"Metric ID: {un_audit_result.metric_id}, Accuracy: {un_audit_result.accuracy}\")"
   ]
  },
  {
   "cell_type": "code",
   "execution_count": 271,
   "metadata": {},
   "outputs": [
    {
     "name": "stdout",
     "output_type": "stream",
     "text": [
      "Results are stored in: ['fair_log']\n",
      "Metric ID: reference_metric, Accuracy: [0.5        0.50016667 0.50016667 0.50016667 0.50016667 0.50016667\n",
      " 0.50016667 0.50016667 0.50016667 0.50016667 0.50016667 0.50016667\n",
      " 0.50016667 0.50016667 0.50016667 0.50016667 0.50016667 0.50016667\n",
      " 0.50016667 0.50016667 0.50016667 0.50016667 0.50016667 0.50016667\n",
      " 0.50016667 0.50016667 0.50016667 0.50016667 0.50016667 0.50016667\n",
      " 0.50016667 0.50016667 0.50016667 0.50016667 0.50016667 0.50016667\n",
      " 0.50016667 0.50016667 0.50016667 0.50016667 0.50016667 0.50016667\n",
      " 0.50016667 0.50016667 0.50016667 0.50016667 0.50016667 0.50016667\n",
      " 0.50016667 0.50016667 0.50016667 0.50016667 0.50016667 0.50016667\n",
      " 0.5        0.5        0.5        0.5        0.5        0.5\n",
      " 0.49983333 0.49966667 0.49966667 0.49966667 0.49983333 0.49983333\n",
      " 0.5        0.4995     0.4995     0.49916667 0.49983333 0.49966667\n",
      " 0.49983333 0.5        0.50083333 0.5015     0.50166667 0.50166667\n",
      " 0.50183333 0.502      0.50233333 0.50233333 0.502      0.50283333\n",
      " 0.50366667 0.50416667 0.50516667 0.505      0.5055     0.50683333\n",
      " 0.50766667 0.50833333 0.509      0.50983333 0.51283333 0.51283333\n",
      " 0.518      0.51883333 0.5255     0.50016667]\n"
     ]
    }
   ],
   "source": [
    "fair_audit_results = fair_audit_obj.run()[0]\n",
    "\n",
    "fair_audit_result = fair_audit_results[0]\n",
    "print(f\"Metric ID: {fair_audit_result.metric_id}, Accuracy: {fair_audit_result.accuracy}\")"
   ]
  },
  {
   "cell_type": "code",
   "execution_count": 272,
   "metadata": {},
   "outputs": [
    {
     "name": "stdout",
     "output_type": "stream",
     "text": [
      "Results are stored in: ['syn_log']\n",
      "Metric ID: reference_metric, Accuracy: [0.5        0.5        0.5        0.5        0.5        0.5\n",
      " 0.5        0.5        0.5        0.5        0.5        0.5\n",
      " 0.5        0.5        0.5        0.5        0.5        0.5\n",
      " 0.5        0.5        0.5        0.5        0.5        0.5\n",
      " 0.5        0.5        0.5        0.5        0.5        0.5\n",
      " 0.5        0.5        0.5        0.5        0.5        0.5\n",
      " 0.5        0.5        0.5        0.5        0.5        0.5\n",
      " 0.5        0.5        0.5        0.5        0.5        0.5\n",
      " 0.5        0.5        0.5        0.5        0.5        0.5\n",
      " 0.5        0.5        0.5        0.5        0.5        0.5\n",
      " 0.5        0.5        0.5        0.5        0.5        0.5\n",
      " 0.5        0.5        0.5        0.5        0.5        0.5\n",
      " 0.5        0.5        0.5        0.5        0.5        0.5\n",
      " 0.5        0.5        0.5        0.5        0.5        0.5\n",
      " 0.5        0.5        0.5        0.5        0.5        0.5\n",
      " 0.5        0.5        0.50283333 0.50333333 0.50016667 0.50033333\n",
      " 0.49766667 0.495      0.49583333 0.5       ]\n"
     ]
    }
   ],
   "source": [
    "syn_audit_results = syn_audit_obj.run()[0]\n",
    "\n",
    "syn_audit_result = syn_audit_results[0]\n",
    "print(f\"Metric ID: {syn_audit_result.metric_id}, Accuracy: {syn_audit_result.accuracy}\")"
   ]
  },
  {
   "cell_type": "code",
   "execution_count": 273,
   "metadata": {
    "colab": {
     "base_uri": "https://localhost:8080/",
     "height": 489
    },
    "executionInfo": {
     "elapsed": 648,
     "status": "ok",
     "timestamp": 1730963527112,
     "user": {
      "displayName": "Ilhama Novruzova",
      "userId": "12259181736104464630"
     },
     "user_tz": -240
    },
    "id": "FYc2PUVYFJ-c",
    "outputId": "9f26ebde-0ea4-43f6-c0e3-376e4eda2307"
   },
   "outputs": [
    {
     "data": {
      "image/png": "[encoded data removed]",
      "text/plain": [
       "<Figure size 640x480 with 1 Axes>"
      ]
     },
     "metadata": {},
     "output_type": "display_data"
    }
   ],
   "source": [
    "# Calculate TPR and FPR for unfair results\n",
    "tpr = un_audit_results[0].tp / (un_audit_results[0].tp + un_audit_results[0].fn)\n",
    "fpr = un_audit_results[0].fp / (un_audit_results[0].fp + un_audit_results[0].tn)\n",
    "roc = np.trapz(tpr, fpr)\n",
    "\n",
    "# Calculate TPR and FPR for fair results\n",
    "fair_tpr = fair_audit_results[0].tp / (fair_audit_results[0].tp + fair_audit_results[0].fn)\n",
    "fair_fpr = fair_audit_results[0].fp / (fair_audit_results[0].fp + fair_audit_results[0].tn)\n",
    "fair_roc = np.trapz(fair_tpr, fair_fpr)\n",
    "\n",
    "# Calculate TPR and FPR for synthetic results\n",
    "syn_tpr = syn_audit_results[0].tp / (syn_audit_results[0].tp + syn_audit_results[0].fn)\n",
    "syn_fpr = syn_audit_results[0].fp / (syn_audit_results[0].fp + syn_audit_results[0].tn)\n",
    "syn_roc = np.trapz(syn_tpr, syn_fpr)\n",
    "\n",
    "# Plot the ROC curve\n",
    "plt.title('Overall ROC')\n",
    "plt.plot([0, 1], [0, 1], 'k--', label='Random Guess')\n",
    "plt.plot(fpr, tpr, label=f'Unfair-ROC: {roc:.3f}')\n",
    "plt.plot(fair_fpr, fair_tpr, label=f'Fair-ROC: {fair_roc:.3f}')\n",
    "plt.plot(syn_fpr, syn_tpr, label=f'Synthetic-ROC: {syn_roc:.3f}')\n",
    "plt.legend()\n",
    "plt.xlabel('False Positive Rate')\n",
    "plt.ylabel('True Positive Rate')\n",
    "plt.show()"
   ]
  },
  {
   "cell_type": "code",
   "execution_count": 274,
   "metadata": {
    "id": "GeoZfhenFJ-d"
   },
   "outputs": [],
   "source": [
    "# Unfair signals\n",
    "un_train_signal = un_audit_obj.metric_objects[0].member_signals\n",
    "un_test_signal = un_audit_obj.metric_objects[0].non_member_signals\n",
    "un_pop_signal = un_audit_obj.metric_objects[0].reference_signals\n",
    "\n",
    "# Fair signals\n",
    "fair_train_signal = fair_audit_obj.metric_objects[0].member_signals\n",
    "fair_test_signal = fair_audit_obj.metric_objects[0].non_member_signals\n",
    "fair_pop_signal = fair_audit_obj.metric_objects[0].reference_signals\n",
    "\n",
    "# Synthetic signals\n",
    "syn_train_signal = syn_audit_obj.metric_objects[0].member_signals\n",
    "syn_test_signal = syn_audit_obj.metric_objects[0].non_member_signals\n",
    "syn_pop_signal = syn_audit_obj.metric_objects[0].reference_signals"
   ]
  },
  {
   "cell_type": "code",
   "execution_count": 275,
   "metadata": {
    "id": "NV03sOo9FJ-d"
   },
   "outputs": [],
   "source": [
    "import scipy\n",
    "\n",
    "def compute_p_value(target_value, observed_distribution):\n",
    "    return scipy.stats.percentileofscore(observed_distribution, target_value) / 100\n",
    "\n",
    "p_results = {}\n",
    "p_fair_results = {}\n",
    "p_syn_results = {}\n",
    "\n",
    "for g in np.unique(g_train):\n",
    "    # Unfair results\n",
    "    un_pop = un_pop_signal[g_pop_train == g]\n",
    "    p_train = compute_p_value(un_train_signal[g_train == g], un_pop)\n",
    "    p_test = compute_p_value(un_test_signal[g_test == g], un_pop)\n",
    "    p_results[g] = {}\n",
    "    p_results[g]['p'] = np.concatenate([p_train, p_test])\n",
    "    p_results[g]['mem'] = np.concatenate([np.ones(len(p_train)), np.zeros(len(p_test))])\n",
    "\n",
    "    # Fair results\n",
    "    fair_pop = fair_pop_signal[g_pop_train == g]\n",
    "    p_fair_train = compute_p_value(fair_train_signal[g_train == g], fair_pop)\n",
    "    p_fair_test = compute_p_value(fair_test_signal[g_test == g], fair_pop)\n",
    "    p_fair_results[g] = {}\n",
    "    p_fair_results[g]['p'] = np.concatenate([p_fair_train, p_fair_test])\n",
    "    p_fair_results[g]['mem'] = np.concatenate([np.ones(len(p_fair_train)), np.zeros(len(p_fair_test))])\n",
    "\n",
    "    # Synthetic results\n",
    "    syn_pop = syn_pop_signal[g_pop_train == g]\n",
    "    p_syn_train = compute_p_value(syn_train_signal[g_train == g], syn_pop)\n",
    "    p_syn_test = compute_p_value(syn_test_signal[g_test == g], syn_pop)\n",
    "    p_syn_results[g] = {}\n",
    "    p_syn_results[g]['p'] = np.concatenate([p_syn_train, p_syn_test])\n",
    "    p_syn_results[g]['mem'] = np.concatenate([np.ones(len(p_syn_train)), np.zeros(len(p_syn_test))])"
   ]
  },
  {
   "cell_type": "code",
   "execution_count": 276,
   "metadata": {
    "colab": {
     "base_uri": "https://localhost:8080/",
     "height": 171
    },
    "executionInfo": {
     "elapsed": 3080,
     "status": "ok",
     "timestamp": 1730963762756,
     "user": {
      "displayName": "Ilhama Novruzova",
      "userId": "12259181736104464630"
     },
     "user_tz": -240
    },
    "id": "CblmqLDoFJ-e",
    "outputId": "b8046b68-d38e-4d2b-8154-b39237c4a47c",
    "scrolled": true
   },
   "outputs": [
    {
     "data": {
      "image/png": "[encoded data removed]",
      "text/plain": [
       "<Figure size 1600x400 with 4 Axes>"
      ]
     },
     "metadata": {},
     "output_type": "display_data"
    }
   ],
   "source": [
    "figs, axes = plt.subplots(1, 4, figsize=(16, 4), sharey=True, sharex=True)\n",
    "\n",
    "# Iterate over groups\n",
    "for idx, group in enumerate(np.unique(g_train)):\n",
    "    # Unfair TPR and FPR\n",
    "    tpr = [np.mean(p_results[group]['p'][p_results[group]['mem'] == 1] < i) for i in np.linspace(0, 1, 100)]\n",
    "    fpr = [np.mean(p_results[group]['p'][p_results[group]['mem'] == 0] < i) for i in np.linspace(0, 1, 100)]\n",
    "\n",
    "    # Fair TPR and FPR\n",
    "    fair_tpr = [np.mean(p_fair_results[group]['p'][p_fair_results[group]['mem'] == 1] < i) for i in np.linspace(0, 1, 100)]\n",
    "    fair_fpr = [np.mean(p_fair_results[group]['p'][p_fair_results[group]['mem'] == 0] < i) for i in np.linspace(0, 1, 100)]\n",
    "\n",
    "    # Synthetic TPR and FPR\n",
    "    syn_tpr = [np.mean(p_syn_results[group]['p'][p_syn_results[group]['mem'] == 1] < i) for i in np.linspace(0, 1, 100)]\n",
    "    syn_fpr = [np.mean(p_syn_results[group]['p'][p_syn_results[group]['mem'] == 0] < i) for i in np.linspace(0, 1, 100)]\n",
    "\n",
    "    # Compute AUC for each\n",
    "    roc = np.trapz(tpr, fpr)\n",
    "    fair_roc = np.trapz(fair_tpr, fair_fpr)\n",
    "    syn_roc = np.trapz(syn_tpr, syn_fpr)\n",
    "\n",
    "    # Plot\n",
    "    axes[idx].plot([0, 1], [0, 1], 'k--', label='Random Guess', color='grey')\n",
    "    axes[idx].plot(fpr, tpr, label=f'Unfair-ROC: {roc:.3f}', color='blue')\n",
    "    axes[idx].plot(fair_fpr, fair_tpr, label=f'Fair-ROC: {fair_roc:.3f}', ls='--', color='red')\n",
    "    axes[idx].plot(syn_fpr, syn_tpr, label=f'Syn-ROC: {syn_roc:.3f}', ls=':', color='green')\n",
    "\n",
    "    axes[idx].set_xlabel('False Positive Rate')\n",
    "    axes[idx].set_title(f'Subgroup {group}')\n",
    "    axes[idx].legend()\n",
    "\n",
    "# Add shared labels\n",
    "axes[0].set_ylabel('True Positive Rate')\n",
    "plt.tight_layout()"
   ]
  },
  {
   "cell_type": "code",
   "execution_count": 277,
   "metadata": {},
   "outputs": [
    {
     "name": "stdout",
     "output_type": "stream",
     "text": [
      "Group 2.0 AUC Scores:\n",
      "Unfair Model AUC: 0.6388\n",
      "Fair Model AUC: 0.6537\n",
      "Synthetic Model AUC: 0.5888\n",
      "----------------------------------------\n",
      "Group 3.0 AUC Scores:\n",
      "Unfair Model AUC: 0.4631\n",
      "Fair Model AUC: 0.5226\n",
      "Synthetic Model AUC: 0.4905\n",
      "----------------------------------------\n",
      "Group 4.0 AUC Scores:\n",
      "Unfair Model AUC: 0.5099\n",
      "Fair Model AUC: 0.5044\n",
      "Synthetic Model AUC: 0.4934\n",
      "----------------------------------------\n",
      "Group 5.0 AUC Scores:\n",
      "Unfair Model AUC: 0.6008\n",
      "Fair Model AUC: 0.6100\n",
      "Synthetic Model AUC: 0.5097\n",
      "----------------------------------------\n"
     ]
    }
   ],
   "source": [
    "for group in np.unique(g_train):\n",
    "    # Unfair TPR and FPR\n",
    "    tpr = [np.mean(p_results[group]['p'][p_results[group]['mem'] == 1] < i) for i in np.linspace(0, 1, 100)]\n",
    "    fpr = [np.mean(p_results[group]['p'][p_results[group]['mem'] == 0] < i) for i in np.linspace(0, 1, 100)]\n",
    "\n",
    "    # Fair TPR and FPR\n",
    "    fair_tpr = [np.mean(p_fair_results[group]['p'][p_fair_results[group]['mem'] == 1] < i) for i in np.linspace(0, 1, 100)]\n",
    "    fair_fpr = [np.mean(p_fair_results[group]['p'][p_fair_results[group]['mem'] == 0] < i) for i in np.linspace(0, 1, 100)]\n",
    "\n",
    "    # Synthetic TPR and FPR\n",
    "    syn_tpr = [np.mean(p_syn_results[group]['p'][p_syn_results[group]['mem'] == 1] < i) for i in np.linspace(0, 1, 100)]\n",
    "    syn_fpr = [np.mean(p_syn_results[group]['p'][p_syn_results[group]['mem'] == 0] < i) for i in np.linspace(0, 1, 100)]\n",
    "\n",
    "    # Calculate AUC for unfair, fair, and synthetic models\n",
    "    auc_unfair = np.trapz(tpr, fpr)\n",
    "    auc_fair = np.trapz(fair_tpr, fair_fpr)\n",
    "    auc_syn = np.trapz(syn_tpr, syn_fpr)\n",
    "\n",
    "    # Print AUC results for each group\n",
    "    print(f\"Group {group} AUC Scores:\")\n",
    "    print(f\"Unfair Model AUC: {auc_unfair:.4f}\")\n",
    "    print(f\"Fair Model AUC: {auc_fair:.4f}\")\n",
    "    print(f\"Synthetic Model AUC: {auc_syn:.4f}\")\n",
    "    print(f\"{'-'*40}\")"
   ]
  },
  {
   "cell_type": "code",
   "execution_count": 278,
   "metadata": {
    "colab": {
     "base_uri": "https://localhost:8080/"
    },
    "executionInfo": {
     "elapsed": 508,
     "status": "ok",
     "timestamp": 1730963910276,
     "user": {
      "displayName": "Ilhama Novruzova",
      "userId": "12259181736104464630"
     },
     "user_tz": -240
    },
    "id": "-yweKNLVet_k",
    "outputId": "0d797380-cd6b-43e6-cd30-3ddb7a5e449e",
    "scrolled": true
   },
   "outputs": [
    {
     "name": "stdout",
     "output_type": "stream",
     "text": [
      "Subgroup 2.0:\n",
      "  Unfair Model Accuracy: 0.619\n",
      "  Fair Model Accuracy: 0.634\n",
      "  Synthetic Model Accuracy: 0.575\n",
      "Subgroup 3.0:\n",
      "  Unfair Model Accuracy: 0.512\n",
      "  Fair Model Accuracy: 0.561\n",
      "  Synthetic Model Accuracy: 0.512\n",
      "Subgroup 4.0:\n",
      "  Unfair Model Accuracy: 0.514\n",
      "  Fair Model Accuracy: 0.522\n",
      "  Synthetic Model Accuracy: 0.501\n",
      "Subgroup 5.0:\n",
      "  Unfair Model Accuracy: 0.588\n",
      "  Fair Model Accuracy: 0.610\n",
      "  Synthetic Model Accuracy: 0.523\n"
     ]
    }
   ],
   "source": [
    "# Initialize dictionaries to store accuracy for each subgroup\n",
    "accuracy_results = {}\n",
    "accuracy_fair_results = {}\n",
    "accuracy_syn_results = {}\n",
    "\n",
    "# Compute accuracy for each subgroup based on the p-values\n",
    "for group in np.unique(g_train):\n",
    "    thresholds = np.linspace(0, 1, 100)\n",
    "    accuracies = []\n",
    "    fair_accuracies = []\n",
    "    syn_accuracies = []\n",
    "\n",
    "    for i in thresholds:\n",
    "        # Unfair model accuracy\n",
    "        tp = np.sum(p_results[group]['p'][p_results[group]['mem'] == 1] < i)\n",
    "        tn = np.sum(p_results[group]['p'][p_results[group]['mem'] == 0] >= i)\n",
    "        fp = np.sum(p_results[group]['p'][p_results[group]['mem'] == 0] < i)\n",
    "        fn = np.sum(p_results[group]['p'][p_results[group]['mem'] == 1] >= i)\n",
    "        accuracy = (tp + tn) / (tp + tn + fp + fn)\n",
    "        accuracies.append(accuracy)\n",
    "\n",
    "        # Fair model accuracy\n",
    "        fair_tp = np.sum(p_fair_results[group]['p'][p_fair_results[group]['mem'] == 1] < i)\n",
    "        fair_tn = np.sum(p_fair_results[group]['p'][p_fair_results[group]['mem'] == 0] >= i)\n",
    "        fair_fp = np.sum(p_fair_results[group]['p'][p_fair_results[group]['mem'] == 0] < i)\n",
    "        fair_fn = np.sum(p_fair_results[group]['p'][p_fair_results[group]['mem'] == 1] >= i)\n",
    "        fair_accuracy = (fair_tp + fair_tn) / (fair_tp + fair_tn + fair_fp + fair_fn)\n",
    "        fair_accuracies.append(fair_accuracy)\n",
    "\n",
    "        # Synthetic model accuracy\n",
    "        syn_tp = np.sum(p_syn_results[group]['p'][p_syn_results[group]['mem'] == 1] < i)\n",
    "        syn_tn = np.sum(p_syn_results[group]['p'][p_syn_results[group]['mem'] == 0] >= i)\n",
    "        syn_fp = np.sum(p_syn_results[group]['p'][p_syn_results[group]['mem'] == 0] < i)\n",
    "        syn_fn = np.sum(p_syn_results[group]['p'][p_syn_results[group]['mem'] == 1] >= i)\n",
    "        syn_accuracy = (syn_tp + syn_tn) / (syn_tp + syn_tn + syn_fp + syn_fn)\n",
    "        syn_accuracies.append(syn_accuracy)\n",
    "\n",
    "    # Store the best accuracy for each subgroup\n",
    "    accuracy_results[group] = max(accuracies)\n",
    "    accuracy_fair_results[group] = max(fair_accuracies)\n",
    "    accuracy_syn_results[group] = max(syn_accuracies)\n",
    "\n",
    "# Print the best accuracy for each subgroup\n",
    "for group in accuracy_results:\n",
    "    print(f\"Subgroup {group}:\")\n",
    "    print(f\"  Unfair Model Accuracy: {accuracy_results[group]:.3f}\")\n",
    "    print(f\"  Fair Model Accuracy: {accuracy_fair_results[group]:.3f}\")\n",
    "    print(f\"  Synthetic Model Accuracy: {accuracy_syn_results[group]:.3f}\")"
   ]
  },
  {
   "cell_type": "code",
   "execution_count": 279,
   "metadata": {
    "scrolled": true
   },
   "outputs": [
    {
     "name": "stdout",
     "output_type": "stream",
     "text": [
      "Subgroup 2.0:\n",
      "  Unfair PR = 0.570\n",
      "  Fair PR = 0.585\n",
      "  Synthetic PR = 0.544\n",
      "Subgroup 3.0:\n",
      "  Unfair PR = 0.489\n",
      "  Fair PR = 0.510\n",
      "  Synthetic PR = 0.494\n",
      "Subgroup 4.0:\n",
      "  Unfair PR = 0.505\n",
      "  Fair PR = 0.502\n",
      "  Synthetic PR = 0.497\n",
      "Subgroup 5.0:\n",
      "  Unfair PR = 0.552\n",
      "  Fair PR = 0.558\n",
      "  Synthetic PR = 0.505\n"
     ]
    }
   ],
   "source": [
    "privacy_risks = {}  # Dictionary to store privacy risks for each subgroup\n",
    "fair_privacy_risks = {}  # Dictionary to store fair privacy risks for each subgroup\n",
    "syn_privacy_risks = {}  # Dictionary to store synthetic privacy risks for each subgroup\n",
    "\n",
    "# Iterate over each subgroup and calculate privacy risks\n",
    "for idx, group in enumerate(np.unique(g_train)):\n",
    "    # True Positive Rate (TPR) and False Positive Rate (FPR) for the \"unfair\" model\n",
    "    tpr = [np.mean(p_results[group]['p'][p_results[group]['mem'] == 1] < i) for i in np.linspace(0, 1, 100)]\n",
    "    fpr = [np.mean(p_results[group]['p'][p_results[group]['mem'] == 0] < i) for i in np.linspace(0, 1, 100)]\n",
    "\n",
    "    # True Positive Rate (TPR) and False Positive Rate (FPR) for the \"fair\" model\n",
    "    fair_tpr = [np.mean(p_fair_results[group]['p'][p_fair_results[group]['mem'] == 1] < i) for i in np.linspace(0, 1, 100)]\n",
    "    fair_fpr = [np.mean(p_fair_results[group]['p'][p_fair_results[group]['mem'] == 0] < i) for i in np.linspace(0, 1, 100)]\n",
    "\n",
    "    # True Positive Rate (TPR) and False Positive Rate (FPR) for the \"synthetic\" model\n",
    "    syn_tpr = [np.mean(p_syn_results[group]['p'][p_syn_results[group]['mem'] == 1] < i) for i in np.linspace(0, 1, 100)]\n",
    "    syn_fpr = [np.mean(p_syn_results[group]['p'][p_syn_results[group]['mem'] == 0] < i) for i in np.linspace(0, 1, 100)]\n",
    "\n",
    "    # Calculate TNR (True Negative Rate)\n",
    "    tnr = [1 - rate for rate in fpr]  # TNR for the unfair model\n",
    "    fair_tnr = [1 - rate for rate in fair_fpr]  # TNR for the fair model\n",
    "    syn_tnr = [1 - rate for rate in syn_fpr]  # TNR for the synthetic model\n",
    "\n",
    "    # Calculate Privacy Risk as the average of TPR and TNR\n",
    "    privacy_risk = [(tpr[i] + tnr[i]) / 2 for i in range(len(tpr))]\n",
    "    fair_privacy_risk = [(fair_tpr[i] + fair_tnr[i]) / 2 for i in range(len(fair_tpr))]\n",
    "    syn_privacy_risk = [(syn_tpr[i] + syn_tnr[i]) / 2 for i in range(len(syn_tpr))]\n",
    "\n",
    "    # Store the average privacy risk for each subgroup\n",
    "    privacy_risks[group] = np.mean(privacy_risk)\n",
    "    fair_privacy_risks[group] = np.mean(fair_privacy_risk)\n",
    "    syn_privacy_risks[group] = np.mean(syn_privacy_risk)\n",
    "\n",
    "# Print the calculated privacy risks for each subgroup\n",
    "for group in privacy_risks:\n",
    "    print(f\"Subgroup {group}:\")\n",
    "    print(f\"  Unfair PR = {privacy_risks[group]:.3f}\")\n",
    "    print(f\"  Fair PR = {fair_privacy_risks[group]:.3f}\")\n",
    "    print(f\"  Synthetic PR = {syn_privacy_risks[group]:.3f}\")"
   ]
  },
  {
   "cell_type": "markdown",
   "metadata": {},
   "source": [
    "# Run 10 times"
   ]
  },
  {
   "cell_type": "code",
   "execution_count": 287,
   "metadata": {},
   "outputs": [
    {
     "ename": "SyntaxError",
     "evalue": "incomplete input (811605590.py, line 1)",
     "output_type": "error",
     "traceback": [
      "\u001b[1;36m  Cell \u001b[1;32mIn[287], line 1\u001b[1;36m\u001b[0m\n\u001b[1;33m    def run_mia2_attack():\u001b[0m\n\u001b[1;37m                          ^\u001b[0m\n\u001b[1;31mSyntaxError\u001b[0m\u001b[1;31m:\u001b[0m incomplete input\n"
     ]
    }
   ],
   "source": [
    "def run_mia2_attack():\n",
    "    train_index, test_index, population_index = get_unique_indices_reference()\n",
    "    \n",
    "    g_train = y_true[train_index] + (sensitive_features[train_index] + 1) * 2\n",
    "    g_test = y_true[test_index] + (sensitive_features[test_index] + 1) * 2\n",
    "    g_pop_train = y_true[population_index] + (sensitive_features[population_index] + 1) * 2\n",
    "    \n",
    "    target_dataset, reference_dataset = create_datasets(train_index, test_index, population_index)\n",
    "    \n",
    "    target_model = get_model(train_index, test_index)\n",
    "    fair_target_model = get_fair_model(train_index, test_index)\n",
    "    syn_target_model = get_syn_model()"
   ]
  },
  {
   "cell_type": "code",
   "execution_count": 286,
   "metadata": {},
   "outputs": [
    {
     "name": "stdout",
     "output_type": "stream",
     "text": [
      "0\n",
      "1\n",
      "2\n",
      "3\n",
      "4\n",
      "5\n",
      "6\n",
      "7\n",
      "8\n",
      "9\n"
     ]
    }
   ],
   "source": [
    "for i in range(10):\n",
    "    "
   ]
  },
  {
   "cell_type": "markdown",
   "metadata": {},
   "source": [
    "# Different approach for PR, AUC, and ROC"
   ]
  },
  {
   "cell_type": "code",
   "execution_count": 280,
   "metadata": {},
   "outputs": [],
   "source": [
    "# Extracting the metric results for unfair and fair models\n",
    "un_metric_result, un_group_metrics = un_audit_results\n",
    "fair_metric_result, fair_group_metrics = fair_audit_results\n",
    "syn_metric_result, syn_group_metrics = syn_audit_results"
   ]
  },
  {
   "cell_type": "code",
   "execution_count": 281,
   "metadata": {},
   "outputs": [],
   "source": [
    "def evaluate_group_metrics(unfair_group_metrics, fair_group_metrics, syn_group_metrics):\n",
    "    print(f\"{'-'*80}\")\n",
    "    print(f\"{'Group':<10} {'Unfair PR':<15} {'Fair PR':<15} {'Synthetic PR':<15}\")\n",
    "    print(f\"{'-'*80}\")\n",
    "    \n",
    "    # Table for Privacy Risk\n",
    "    print(\"Privacy Risk Scores:\")\n",
    "    for group in unfair_group_metrics.keys():\n",
    "        # Extract privacy risk for all models\n",
    "        unfair_privacy_risk = (unfair_group_metrics[group]['tpr'] + unfair_group_metrics[group]['tnr']) / 2\n",
    "        fair_privacy_risk = (fair_group_metrics[group]['tpr'] + fair_group_metrics[group]['tnr']) / 2\n",
    "        syn_privacy_risk = (syn_group_metrics[group]['tpr'] + syn_group_metrics[group]['tnr']) / 2\n",
    "        \n",
    "        print(f\"{group:<10} {unfair_privacy_risk:<15.4f} {fair_privacy_risk:<15.4f} {syn_privacy_risk:<15.4f}\")\n",
    "    print(f\"{'-'*80}\\n\")\n",
    "\n",
    "    # Table for AUC Scores\n",
    "    print(\"AUC Scores:\")\n",
    "    print(f\"{'Group':<10} {'Unfair AUC':<15} {'Fair AUC':<15} {'Synthetic AUC':<15}\")\n",
    "    print(f\"{'-'*80}\")\n",
    "\n",
    "    # Prepare subplots for ROC curves\n",
    "    figs, axes = plt.subplots(1, len(unfair_group_metrics), figsize=(12, 3), sharey=True, sharex=True)\n",
    "\n",
    "    for idx, group in enumerate(unfair_group_metrics.keys()):\n",
    "        # Extract TPR and FPR from group metrics\n",
    "        unfair_tprs = unfair_group_metrics[group]['tprs']\n",
    "        unfair_fprs = unfair_group_metrics[group]['fprs']\n",
    "        fair_tprs = fair_group_metrics[group]['tprs']\n",
    "        fair_fprs = fair_group_metrics[group]['fprs']\n",
    "        syn_tprs = syn_group_metrics[group]['tprs']\n",
    "        syn_fprs = syn_group_metrics[group]['fprs']\n",
    "\n",
    "        # Calculate AUC scores\n",
    "        unfair_auc_score = auc(unfair_fprs, unfair_tprs)\n",
    "        fair_auc_score = auc(fair_fprs, fair_tprs)\n",
    "        syn_auc_score = auc(syn_fprs, syn_tprs)\n",
    "\n",
    "        # Print AUC scores for the group\n",
    "        print(f\"{group:<10} {unfair_auc_score:<15.4f} {fair_auc_score:<15.4f} {syn_auc_score:<15.4f}\")\n",
    "\n",
    "        # Plot ROC Curve for the group\n",
    "        axes[idx].plot([0, 1], [0, 1], 'k--', label='Random Guess', color='grey')\n",
    "        axes[idx].plot(unfair_fprs, unfair_tprs, label=f'Unfair-ROC:{unfair_auc_score:.3f}', color='blue')\n",
    "        axes[idx].plot(fair_fprs, fair_tprs, label=f'Fair-ROC:{fair_auc_score:.3f}', ls='--', color='red')\n",
    "        axes[idx].plot(syn_fprs, syn_tprs, label=f'Syn-ROC:{syn_auc_score:.3f}', ls=':', color='green')\n",
    "        axes[idx].set_xlabel('False Positive Rate')\n",
    "        axes[idx].set_title(f'Subgroup {group}')\n",
    "        axes[idx].legend()\n",
    "\n",
    "    # Set shared y-label and adjust layout\n",
    "    axes[0].set_ylabel('True Positive Rate')\n",
    "    plt.tight_layout()\n",
    "    plt.show()\n",
    "    print(f\"{'-'*80}\\n\")"
   ]
  },
  {
   "cell_type": "code",
   "execution_count": 282,
   "metadata": {
    "scrolled": true
   },
   "outputs": [
    {
     "name": "stdout",
     "output_type": "stream",
     "text": [
      "--------------------------------------------------------------------------------\n",
      "Group      Unfair PR       Fair PR         Synthetic PR   \n",
      "--------------------------------------------------------------------------------\n",
      "Privacy Risk Scores:\n",
      "2.0        0.6318          0.6420          0.5821         \n",
      "3.0        0.5000          0.5762          0.5000         \n",
      "4.0        0.5116          0.5216          0.5000         \n",
      "5.0        0.5829          0.6045          0.5236         \n",
      "--------------------------------------------------------------------------------\n",
      "\n",
      "AUC Scores:\n",
      "Group      Unfair AUC      Fair AUC        Synthetic AUC  \n",
      "--------------------------------------------------------------------------------\n",
      "2.0        0.6292          0.6385          0.5898         \n",
      "3.0        0.4798          0.5202          0.4905         \n",
      "4.0        0.5093          0.5087          0.4932         \n",
      "5.0        0.6006          0.6079          0.5120         \n"
     ]
    },
    {
     "data": {
      "image/png": "[encoded data removed]",
      "text/plain": [
       "<Figure size 1200x300 with 4 Axes>"
      ]
     },
     "metadata": {},
     "output_type": "display_data"
    },
    {
     "name": "stdout",
     "output_type": "stream",
     "text": [
      "--------------------------------------------------------------------------------\n",
      "\n"
     ]
    }
   ],
   "source": [
    "# Evaluate group-specific metrics for both unfair and fair models\n",
    "evaluate_group_metrics(un_group_metrics, fair_group_metrics, syn_group_metrics)"
   ]
  },
  {
   "cell_type": "markdown",
   "metadata": {},
   "source": [
    "# Prepare for next run"
   ]
  },
  {
   "cell_type": "code",
   "execution_count": 283,
   "metadata": {},
   "outputs": [],
   "source": [
    "import os\n",
    "import shutil\n",
    "\n",
    "def delete_logs():\n",
    "    for log_dir in [\"fair_log\", \"un_log\", \"syn_log\"]:\n",
    "        if os.path.exists(log_dir):\n",
    "            shutil.rmtree(log_dir)\n",
    "            print(f\"{log_dir} deleted.\")"
   ]
  },
  {
   "cell_type": "code",
   "execution_count": 284,
   "metadata": {},
   "outputs": [
    {
     "name": "stdout",
     "output_type": "stream",
     "text": [
      "fair_log deleted.\n",
      "un_log deleted.\n",
      "syn_log deleted.\n"
     ]
    }
   ],
   "source": [
    "delete_logs()"
   ]
  }
 ],
 "metadata": {
  "colab": {
   "provenance": []
  },
  "kernelspec": {
   "display_name": "Python 3 (ipykernel)",
   "language": "python",
   "name": "python3"
  },
  "language_info": {
   "codemirror_mode": {
    "name": "ipython",
    "version": 3
   },
   "file_extension": ".py",
   "mimetype": "text/x-python",
   "name": "python",
   "nbconvert_exporter": "python",
   "pygments_lexer": "ipython3",
   "version": "3.11.1"
  },
  "vscode": {
   "interpreter": {
    "hash": "af48e0a30d2a0b619bf296aea7d7271ba14c9beb98b0928b3e23c82f12ae949a"
   }
  }
 },
 "nbformat": 4,
 "nbformat_minor": 1
}
