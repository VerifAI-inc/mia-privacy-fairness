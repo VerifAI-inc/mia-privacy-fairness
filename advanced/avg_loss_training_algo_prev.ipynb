{
 "cells": [
  {
   "cell_type": "markdown",
   "metadata": {
    "collapsed": false,
    "pycharm": {
     "name": "#%% md\n"
    }
   },
   "source": [
    "# Evaluating the average privacy loss of a training algorithm"
   ]
  },
  {
   "cell_type": "markdown",
   "metadata": {
    "collapsed": false,
    "pycharm": {
     "name": "#%% md\n"
    }
   },
   "source": [
    "In this tutorial, we will see how to evaluate the average privacy loss of a training algorithm, regarding a membership inference game. To do so, we will train a PyTorch classifier on the Purchase100 dataset multiple time, and use the `privacy_meter` tool to display information about the privacy leakage. We will use the simple shadow metric, which makes use of shadow models.\n",
    "\n",
    "Among other things, we will cover:\n",
    "* Creating a Dataset object from a custom dataset\n",
    "* Auditing multiple PyTorch models trained with the same algorithm at once\n",
    "* Visualizing key information about privacy leakage"
   ]
  },
  {
   "attachments": {},
   "cell_type": "markdown",
   "metadata": {},
   "source": [
    "<table class=\"tfo-notebook-buttons\" align=\"left\">\n",
    "<td>\n",
    "    <a target=\"_blank\" href=\"https://colab.research.google.com/github/privacytrustlab/ml_privacy_meter/blob/master/advanced/avg_loss_training_algo.ipynb\"><img src=\"https://www.tensorflow.org/images/colab_logo_32px.png\" />Run in Google Colab</a>\n",
    "  </td>\n",
    "  <td>\n",
    "    <a target=\"_blank\" href=\"https://github.com/privacytrustlab/ml_privacy_meter/blob/master/advanced/avg_loss_training_algo.ipynb\"><img src=\"https://www.tensorflow.org/images/GitHub-Mark-32px.png\" />View GitHub</a>\n",
    "  </td>\n",
    "</table>"
   ]
  },
  {
   "cell_type": "markdown",
   "metadata": {
    "collapsed": false,
    "pycharm": {
     "name": "#%% md\n"
    }
   },
   "source": [
    "## Imports"
   ]
  },
  {
   "cell_type": "code",
   "execution_count": 1,
   "metadata": {
    "collapsed": false,
    "pycharm": {
     "name": "#%%\n"
    }
   },
   "outputs": [],
   "source": [
    "from math import ceil\n",
    "import random"
   ]
  },
  {
   "cell_type": "code",
   "execution_count": 2,
   "metadata": {
    "collapsed": false,
    "pycharm": {
     "name": "#%%\n"
    }
   },
   "outputs": [],
   "source": [
    "import numpy as np\n",
    "import torch\n",
    "from torch import nn, optim, Tensor\n",
    "from sklearn.model_selection import train_test_split\n",
    "from sklearn.preprocessing import OneHotEncoder"
   ]
  },
  {
   "cell_type": "markdown",
   "metadata": {
    "collapsed": false,
    "pycharm": {
     "name": "#%% md\n"
    }
   },
   "source": [
    "For now we install the library from the local source. A version will be pushed to pip soon."
   ]
  },
  {
   "cell_type": "code",
   "execution_count": 3,
   "metadata": {
    "collapsed": false,
    "pycharm": {
     "name": "#%%\n"
    }
   },
   "outputs": [
    {
     "name": "stdout",
     "output_type": "stream",
     "text": [
      "Obtaining file:///home/hongyan/Desktop/upgrade_privacy_meter/ml_privacy_meter\n",
      "Installing collected packages: privacy-meter\n",
      "  Attempting uninstall: privacy-meter\n",
      "    Found existing installation: privacy-meter 1.0\n",
      "    Uninstalling privacy-meter-1.0:\n",
      "      Successfully uninstalled privacy-meter-1.0\n",
      "  Running setup.py develop for privacy-meter\n",
      "Successfully installed privacy-meter-1.0\n"
     ]
    }
   ],
   "source": [
    "import sys\n",
    "!{sys.executable} -m pip install -e ../.\n",
    "\n",
    "from privacy_meter.audit import Audit\n",
    "from privacy_meter.audit_report import ROCCurveReport, SignalHistogramReport\n",
    "from privacy_meter.constants import InferenceGame\n",
    "from privacy_meter.dataset import Dataset\n",
    "from privacy_meter.hypothesis_test import threshold_func\n",
    "from privacy_meter.information_source import InformationSource\n",
    "from privacy_meter.information_source_signal import ModelLoss\n",
    "from privacy_meter.metric import ShadowMetric\n",
    "from privacy_meter.model import PytorchModel"
   ]
  },
  {
   "cell_type": "markdown",
   "metadata": {
    "collapsed": false,
    "pycharm": {
     "name": "#%% md\n"
    }
   },
   "source": [
    "## Settings"
   ]
  },
  {
   "cell_type": "markdown",
   "metadata": {
    "collapsed": false,
    "pycharm": {
     "name": "#%% md\n"
    }
   },
   "source": [
    "We set a fixed seed for reproducibility:"
   ]
  },
  {
   "cell_type": "code",
   "execution_count": 4,
   "metadata": {
    "collapsed": false,
    "pycharm": {
     "name": "#%%\n"
    }
   },
   "outputs": [
    {
     "data": {
      "text/plain": [
       "<torch._C.Generator at 0x7f747805fd70>"
      ]
     },
     "execution_count": 4,
     "metadata": {},
     "output_type": "execute_result"
    }
   ],
   "source": [
    "np.random.seed(0)\n",
    "random.seed(0)\n",
    "torch.manual_seed(0)"
   ]
  },
  {
   "cell_type": "markdown",
   "metadata": {
    "collapsed": false,
    "pycharm": {
     "name": "#%% md\n"
    }
   },
   "source": [
    "And we set some hyperparameters:"
   ]
  },
  {
   "cell_type": "code",
   "execution_count": 5,
   "metadata": {
    "collapsed": false,
    "pycharm": {
     "name": "#%%\n"
    }
   },
   "outputs": [],
   "source": [
    "N_TRAININGS = 5      # Number of rounds\n",
    "N_SHADOW_MODELS = 3  # Number of shadow models per round\n",
    "EPOCHS = 10          # Number of epochs\n",
    "BATCH_SIZE = 32      # Batch size for the training"
   ]
  },
  {
   "cell_type": "markdown",
   "metadata": {
    "collapsed": false,
    "pycharm": {
     "name": "#%% md\n"
    }
   },
   "source": [
    "## Dataset creation"
   ]
  },
  {
   "cell_type": "markdown",
   "metadata": {
    "collapsed": false,
    "pycharm": {
     "name": "#%% md\n"
    }
   },
   "source": [
    "Let’s download the Purchase100 dataset (presented in https://www.cs.cornell.edu/~shmat/shmat_oak17.pdf on page 7) and extract it:"
   ]
  },
  {
   "cell_type": "code",
   "execution_count": 6,
   "metadata": {
    "collapsed": false,
    "pycharm": {
     "name": "#%%\n"
    }
   },
   "outputs": [
    {
     "name": "stdout",
     "output_type": "stream",
     "text": [
      "--2022-12-21 20:40:00--  https://github.com/privacytrustlab/datasets/raw/master/dataset_purchase.tgz\n",
      "Resolving github.com (github.com)... 20.205.243.166\n",
      "Connecting to github.com (github.com)|20.205.243.166|:443... connected.\n",
      "HTTP request sent, awaiting response... 302 Found\n",
      "Location: https://raw.githubusercontent.com/privacytrustlab/datasets/master/dataset_purchase.tgz [following]\n",
      "--2022-12-21 20:40:00--  https://raw.githubusercontent.com/privacytrustlab/datasets/master/dataset_purchase.tgz\n",
      "Resolving raw.githubusercontent.com (raw.githubusercontent.com)... 185.199.109.133, 185.199.108.133, 185.199.111.133, ...\n",
      "Connecting to raw.githubusercontent.com (raw.githubusercontent.com)|185.199.109.133|:443... connected.\n",
      "HTTP request sent, awaiting response... 200 OK\n",
      "Length: 22045876 (21M) [application/octet-stream]\n",
      "Saving to: ‘dataset_purchase.tgz’\n",
      "\n",
      "dataset_purchase.tg 100%[===================>]  21.02M  12.5MB/s    in 1.7s    \n",
      "\n",
      "2022-12-21 20:40:02 (12.5 MB/s) - ‘dataset_purchase.tgz’ saved [22045876/22045876]\n",
      "\n",
      "dataset_purchase\n"
     ]
    }
   ],
   "source": [
    "!wget https://github.com/privacytrustlab/datasets/raw/master/dataset_purchase.tgz\n",
    "!tar -xvzf dataset_purchase.tgz\n",
    "!rm dataset_purchase.tgz"
   ]
  },
  {
   "cell_type": "markdown",
   "metadata": {
    "collapsed": false,
    "pycharm": {
     "name": "#%% md\n"
    }
   },
   "source": [
    "Bellow, we use the `preprocess_purchase100` function to read and preprocess the dataset."
   ]
  },
  {
   "cell_type": "code",
   "execution_count": 17,
   "metadata": {
    "collapsed": false,
    "pycharm": {
     "name": "#%%\n"
    }
   },
   "outputs": [],
   "source": [
    "def preprocess_purchase100():\n",
    "    \"\"\"\n",
    "    Cf. https://www.cs.cornell.edu/~shmat/shmat_oak17.pdf page 7\n",
    "    Returns:\n",
    "        The dataset, in the form x_train, y_train, x_test, y_test\n",
    "    \"\"\"\n",
    "    # Read raw dataset\n",
    "    dataset_path = \"dataset_purchase\"\n",
    "    with open(dataset_path, \"r\") as f:\n",
    "        purchase_dataset = f.readlines()\n",
    "    # Separate features and labels into different arrays\n",
    "    x, y = [], []\n",
    "    for datapoint in purchase_dataset:\n",
    "        split = datapoint.rstrip().split(\",\")\n",
    "        label = int(split[0]) - 1  # The first value is the label\n",
    "        features = np.array(split[1:], dtype=np.float32)  # The next values are the features\n",
    "        x.append(features)\n",
    "        y.append(label)\n",
    "    # Make sure the datatype is correct\n",
    "    x = np.array(x, dtype=np.float32)\n",
    "    # Convert labels into one hot vectors\n",
    "    y = OneHotEncoder(sparse=False).fit_transform(np.expand_dims(y, axis=1))\n",
    "    # Split data into train, test sets\n",
    "    x_train, x_test, y_train, y_test = train_test_split(x, y, test_size=0.25, random_state=1234)\n",
    "    return x_train, y_train, x_test, y_test"
   ]
  },
  {
   "cell_type": "markdown",
   "metadata": {
    "collapsed": false,
    "pycharm": {
     "name": "#%% md\n"
    }
   },
   "source": [
    "The `generate_splits` creates a Dataset object, and uses the built-in `subdivide` function to split this dataset into multiple independent ones, to train the target model and the shadow models."
   ]
  },
  {
   "cell_type": "code",
   "execution_count": 18,
   "metadata": {
    "collapsed": false,
    "pycharm": {
     "name": "#%%\n"
    }
   },
   "outputs": [],
   "source": [
    "def generate_splits(x_train, y_train, x_test, y_test, n_shadow_models):\n",
    "    dataset = Dataset(\n",
    "        data_dict={'train': {'x': x_train, 'y': y_train}, 'test': {'x': x_test, 'y': y_test}},\n",
    "        default_input='x',\n",
    "        default_output='y'\n",
    "    )\n",
    "    datasets_list = dataset.subdivide(\n",
    "        num_splits=n_shadow_models + 1,\n",
    "        return_results=True,\n",
    "        method='independent'\n",
    "    )\n",
    "    return datasets_list"
   ]
  },
  {
   "cell_type": "markdown",
   "metadata": {
    "collapsed": false,
    "pycharm": {
     "name": "#%% md\n"
    }
   },
   "source": [
    "Finally, the `generate_datasets` function puts it all together, and generate a list of datasets (or rather of splits of the Purchase100 dataset), ready to be used for training."
   ]
  },
  {
   "cell_type": "code",
   "execution_count": 19,
   "metadata": {
    "collapsed": false,
    "pycharm": {
     "name": "#%%\n"
    }
   },
   "outputs": [],
   "source": [
    "def generate_datasets(n_trainings, n_shadow_models):\n",
    "    x_train, y_train, x_test, y_test = preprocess_purchase100()\n",
    "    datasets_lists = [generate_splits(x_train, y_train, x_test, y_test, n_shadow_models) for _ in range(n_trainings)]\n",
    "    return datasets_lists"
   ]
  },
  {
   "cell_type": "markdown",
   "metadata": {
    "collapsed": false,
    "pycharm": {
     "name": "#%% md\n"
    }
   },
   "source": [
    "## Models training"
   ]
  },
  {
   "cell_type": "markdown",
   "metadata": {
    "collapsed": false,
    "pycharm": {
     "name": "#%% md\n"
    }
   },
   "source": [
    "We start with the `get_torch_models` function, which returns a 2D list of models. The 1st dimension corresponds to the different rounds we do to get the average privacy loss of the training algorithm. The 2nd dimension corresponds to the different models used in one round: index 0 is the target model, while indices >0 are the shadow models."
   ]
  },
  {
   "cell_type": "code",
   "execution_count": 20,
   "metadata": {
    "collapsed": false,
    "pycharm": {
     "name": "#%%\n"
    }
   },
   "outputs": [],
   "source": [
    "def get_torch_models(n_trainings, n_shadow_models):\n",
    "    torch_models = [[\n",
    "        nn.Sequential(\n",
    "            nn.Linear(in_features=600, out_features=350),\n",
    "            nn.Tanh(),\n",
    "            nn.Linear(in_features=350, out_features=100)\n",
    "        )\n",
    "        for _ in range(n_shadow_models + 1)\n",
    "        ] for _ in range(n_trainings)\n",
    "    ]\n",
    "    return torch_models"
   ]
  },
  {
   "cell_type": "markdown",
   "metadata": {
    "collapsed": false,
    "pycharm": {
     "name": "#%% md\n"
    }
   },
   "source": [
    "Then the `get_trained_torch_models` function takes those raw models, and train them using the previously generated datasets list."
   ]
  },
  {
   "cell_type": "code",
   "execution_count": 21,
   "metadata": {
    "collapsed": false,
    "pycharm": {
     "name": "#%%\n"
    }
   },
   "outputs": [],
   "source": [
    "def get_trained_torch_models(n_trainings, n_shadow_models, criterion, datasets_lists, batch_size, epochs):\n",
    "    torch_models = get_torch_models(n_trainings, n_shadow_models)\n",
    "    for i in range(n_trainings):\n",
    "        for j in range(n_shadow_models + 1):\n",
    "            optimizer = optim.Adam(torch_models[i][j].parameters())\n",
    "            x = datasets_lists[i][j].get_feature(split_name=f'train', feature_name='<default_input>')\n",
    "            y = datasets_lists[i][j].get_feature(split_name=f'train', feature_name='<default_output>')\n",
    "            n_samples = x.shape[0]\n",
    "            n_batches = ceil(n_samples / batch_size)\n",
    "            x = np.array_split(x, n_batches)\n",
    "            y = np.array_split(y, n_batches)\n",
    "            for epoch in range(epochs):\n",
    "                epoch_loss, acc = 0.0, 0.0\n",
    "                for b in range(n_batches):\n",
    "                    optimizer.zero_grad()\n",
    "                    y_pred = torch_models[i][j](Tensor(x[b]))\n",
    "                    loss = criterion(y_pred, Tensor(y[b]))\n",
    "                    loss.backward()\n",
    "                    optimizer.step()\n",
    "                    epoch_loss += loss.item()\n",
    "                    acc += torch.sum(y_pred.argmax(axis=1) == Tensor(y[b]).argmax(axis=1))\n",
    "                acc /= n_samples\n",
    "                epoch_loss /= n_samples\n",
    "                print(f'round #{i+1:02d}/{n_trainings:02d}, model #{j+1:02d}/{n_shadow_models+1:02d}, epoch #{epoch+1:02d}/{epochs:02d}:\\ttrain_acc = {acc:.3f}\\ttrain_loss = {epoch_loss:.3e}')\n",
    "    return torch_models"
   ]
  },
  {
   "cell_type": "markdown",
   "metadata": {
    "collapsed": false,
    "pycharm": {
     "name": "#%% md\n"
    }
   },
   "source": [
    "And finally the `get_models` function puts it all together, by generating the models, training them, and wrapping them `PytorchModel` objects, provided by the `privacy_meter` tool."
   ]
  },
  {
   "cell_type": "code",
   "execution_count": 22,
   "metadata": {
    "collapsed": false,
    "pycharm": {
     "name": "#%%\n"
    }
   },
   "outputs": [],
   "source": [
    "def get_models(n_trainings, n_shadow_models, datasets_lists, batch_size, epochs):\n",
    "    criterion = nn.CrossEntropyLoss(reduction='sum')\n",
    "    torch_models = get_trained_torch_models(n_trainings, n_shadow_models, criterion, datasets_lists, batch_size, epochs)\n",
    "    models = [[\n",
    "        PytorchModel(\n",
    "            model_obj=torch_models[i][j],\n",
    "            loss_fn=criterion\n",
    "        )\n",
    "        for j in range(n_shadow_models + 1)\n",
    "        ] for i in range(n_trainings)\n",
    "    ]\n",
    "    return models"
   ]
  },
  {
   "cell_type": "markdown",
   "metadata": {
    "collapsed": false,
    "pycharm": {
     "name": "#%% md\n"
    }
   },
   "source": [
    "## Auditing"
   ]
  },
  {
   "cell_type": "markdown",
   "metadata": {
    "collapsed": false,
    "pycharm": {
     "name": "#%% md\n"
    }
   },
   "source": [
    "Now that we have both the datasets and the trained model, we can start the actual auditing. We get started by wrapping those in two `InformationSource` objects, an interface provided by the `privacy_meter` tool."
   ]
  },
  {
   "cell_type": "code",
   "execution_count": 23,
   "metadata": {
    "collapsed": false,
    "pycharm": {
     "name": "#%%\n"
    }
   },
   "outputs": [],
   "source": [
    "def get_info_sources(models, datasets_lists, n_trainings):\n",
    "    target_info_sources = [InformationSource(\n",
    "        models=[models[i][0]],\n",
    "        datasets=[datasets_lists[i][0]]\n",
    "        ) for i in range(n_trainings)\n",
    "    ]\n",
    "    reference_info_sources = [InformationSource(\n",
    "        models=models[i][1:],\n",
    "        datasets=datasets_lists[i][1:]\n",
    "        ) for i in range(n_trainings)\n",
    "    ]\n",
    "    return target_info_sources, reference_info_sources"
   ]
  },
  {
   "cell_type": "markdown",
   "metadata": {
    "collapsed": false,
    "pycharm": {
     "name": "#%% md\n"
    }
   },
   "source": [
    "The final step before running the auditing algorithm is to create some `Metric` objects, which represent the algorithm to use for the membership inference attack. As mentioned in the introduction, here, we use the `ShadowMetric` one, which makes use of shadow models."
   ]
  },
  {
   "cell_type": "code",
   "execution_count": 24,
   "metadata": {
    "collapsed": false,
    "pycharm": {
     "name": "#%%\n"
    }
   },
   "outputs": [],
   "source": [
    "def get_metrics(models, datasets_lists, n_trainings):\n",
    "    target_info_sources, reference_info_sources = get_info_sources(models, datasets_lists, n_trainings)\n",
    "    metrics = [ShadowMetric(\n",
    "        target_info_source=target_info_sources[i],\n",
    "        reference_info_source=reference_info_sources[i],\n",
    "        signals=[ModelLoss()],\n",
    "        hypothesis_test_func=threshold_func,\n",
    "        unique_dataset=False,\n",
    "        reweight_samples=True\n",
    "    ) for i in range(n_trainings)]\n",
    "    return metrics"
   ]
  },
  {
   "cell_type": "markdown",
   "metadata": {
    "collapsed": false,
    "pycharm": {
     "name": "#%% md\n"
    }
   },
   "source": [
    "We now have everything we need. The `get_audit_results` puts everything together, by calling the datasets related functions, the models related functions, and metrics related function, and by running the actual auditing."
   ]
  },
  {
   "cell_type": "code",
   "execution_count": 25,
   "metadata": {
    "collapsed": false,
    "pycharm": {
     "name": "#%%\n"
    }
   },
   "outputs": [],
   "source": [
    "def get_audit_results(n_trainings, n_shadow_models, batch_size, epochs):\n",
    "    datasets_lists = generate_datasets(n_trainings, n_shadow_models)\n",
    "    models = get_models(n_trainings, n_shadow_models, datasets_lists, batch_size, epochs)\n",
    "    metrics = get_metrics(models, datasets_lists, n_trainings)\n",
    "    audit = Audit(\n",
    "        metrics=metrics,\n",
    "        inference_game_type=InferenceGame.AVG_PRIVACY_LOSS_TRAINING_ALGO\n",
    "    )\n",
    "    audit.prepare()\n",
    "    results = audit.run()\n",
    "    return results"
   ]
  },
  {
   "cell_type": "code",
   "execution_count": 26,
   "metadata": {
    "collapsed": false,
    "pycharm": {
     "name": "#%%\n"
    }
   },
   "outputs": [
    {
     "name": "stdout",
     "output_type": "stream",
     "text": [
      "round #01/05, model #01/04, epoch #01/10:\ttrain_acc = 0.238\ttrain_loss = 4.405e+00\n",
      "round #01/05, model #01/04, epoch #02/10:\ttrain_acc = 0.339\ttrain_loss = 4.297e+00\n",
      "round #01/05, model #01/04, epoch #03/10:\ttrain_acc = 0.359\ttrain_loss = 4.273e+00\n",
      "round #01/05, model #01/04, epoch #04/10:\ttrain_acc = 0.367\ttrain_loss = 4.262e+00\n",
      "round #01/05, model #01/04, epoch #05/10:\ttrain_acc = 0.370\ttrain_loss = 4.257e+00\n",
      "round #01/05, model #01/04, epoch #06/10:\ttrain_acc = 0.382\ttrain_loss = 4.245e+00\n",
      "round #01/05, model #01/04, epoch #07/10:\ttrain_acc = 0.383\ttrain_loss = 4.242e+00\n",
      "round #01/05, model #01/04, epoch #08/10:\ttrain_acc = 0.385\ttrain_loss = 4.240e+00\n",
      "round #01/05, model #01/04, epoch #09/10:\ttrain_acc = 0.394\ttrain_loss = 4.232e+00\n",
      "round #01/05, model #01/04, epoch #10/10:\ttrain_acc = 0.397\ttrain_loss = 4.227e+00\n",
      "round #01/05, model #02/04, epoch #01/10:\ttrain_acc = 0.118\ttrain_loss = 4.509e+00\n",
      "round #01/05, model #02/04, epoch #02/10:\ttrain_acc = 0.186\ttrain_loss = 4.441e+00\n",
      "round #01/05, model #02/04, epoch #03/10:\ttrain_acc = 0.200\ttrain_loss = 4.426e+00\n",
      "round #01/05, model #02/04, epoch #04/10:\ttrain_acc = 0.204\ttrain_loss = 4.421e+00\n",
      "round #01/05, model #02/04, epoch #05/10:\ttrain_acc = 0.212\ttrain_loss = 4.412e+00\n",
      "round #01/05, model #02/04, epoch #06/10:\ttrain_acc = 0.218\ttrain_loss = 4.406e+00\n",
      "round #01/05, model #02/04, epoch #07/10:\ttrain_acc = 0.219\ttrain_loss = 4.404e+00\n",
      "round #01/05, model #02/04, epoch #08/10:\ttrain_acc = 0.220\ttrain_loss = 4.403e+00\n",
      "round #01/05, model #02/04, epoch #09/10:\ttrain_acc = 0.221\ttrain_loss = 4.402e+00\n",
      "round #01/05, model #02/04, epoch #10/10:\ttrain_acc = 0.223\ttrain_loss = 4.400e+00\n",
      "round #01/05, model #03/04, epoch #01/10:\ttrain_acc = 0.250\ttrain_loss = 4.395e+00\n",
      "round #01/05, model #03/04, epoch #02/10:\ttrain_acc = 0.372\ttrain_loss = 4.268e+00\n",
      "round #01/05, model #03/04, epoch #03/10:\ttrain_acc = 0.398\ttrain_loss = 4.238e+00\n",
      "round #01/05, model #03/04, epoch #04/10:\ttrain_acc = 0.409\ttrain_loss = 4.223e+00\n",
      "round #01/05, model #03/04, epoch #05/10:\ttrain_acc = 0.414\ttrain_loss = 4.214e+00\n",
      "round #01/05, model #03/04, epoch #06/10:\ttrain_acc = 0.423\ttrain_loss = 4.206e+00\n",
      "round #01/05, model #03/04, epoch #07/10:\ttrain_acc = 0.431\ttrain_loss = 4.196e+00\n",
      "round #01/05, model #03/04, epoch #08/10:\ttrain_acc = 0.434\ttrain_loss = 4.192e+00\n",
      "round #01/05, model #03/04, epoch #09/10:\ttrain_acc = 0.435\ttrain_loss = 4.190e+00\n",
      "round #01/05, model #03/04, epoch #10/10:\ttrain_acc = 0.435\ttrain_loss = 4.189e+00\n",
      "round #01/05, model #04/04, epoch #01/10:\ttrain_acc = 0.280\ttrain_loss = 4.367e+00\n",
      "round #01/05, model #04/04, epoch #02/10:\ttrain_acc = 0.428\ttrain_loss = 4.217e+00\n",
      "round #01/05, model #04/04, epoch #03/10:\ttrain_acc = 0.458\ttrain_loss = 4.180e+00\n",
      "round #01/05, model #04/04, epoch #04/10:\ttrain_acc = 0.471\ttrain_loss = 4.163e+00\n",
      "round #01/05, model #04/04, epoch #05/10:\ttrain_acc = 0.476\ttrain_loss = 4.154e+00\n",
      "round #01/05, model #04/04, epoch #06/10:\ttrain_acc = 0.480\ttrain_loss = 4.148e+00\n",
      "round #01/05, model #04/04, epoch #07/10:\ttrain_acc = 0.481\ttrain_loss = 4.146e+00\n",
      "round #01/05, model #04/04, epoch #08/10:\ttrain_acc = 0.482\ttrain_loss = 4.145e+00\n",
      "round #01/05, model #04/04, epoch #09/10:\ttrain_acc = 0.482\ttrain_loss = 4.143e+00\n",
      "round #01/05, model #04/04, epoch #10/10:\ttrain_acc = 0.484\ttrain_loss = 4.142e+00\n",
      "round #02/05, model #01/04, epoch #01/10:\ttrain_acc = 0.205\ttrain_loss = 4.434e+00\n",
      "round #02/05, model #01/04, epoch #02/10:\ttrain_acc = 0.319\ttrain_loss = 4.317e+00\n",
      "round #02/05, model #01/04, epoch #03/10:\ttrain_acc = 0.341\ttrain_loss = 4.291e+00\n",
      "round #02/05, model #01/04, epoch #04/10:\ttrain_acc = 0.356\ttrain_loss = 4.274e+00\n",
      "round #02/05, model #01/04, epoch #05/10:\ttrain_acc = 0.361\ttrain_loss = 4.266e+00\n",
      "round #02/05, model #01/04, epoch #06/10:\ttrain_acc = 0.363\ttrain_loss = 4.263e+00\n",
      "round #02/05, model #01/04, epoch #07/10:\ttrain_acc = 0.365\ttrain_loss = 4.261e+00\n",
      "round #02/05, model #01/04, epoch #08/10:\ttrain_acc = 0.366\ttrain_loss = 4.259e+00\n",
      "round #02/05, model #01/04, epoch #09/10:\ttrain_acc = 0.370\ttrain_loss = 4.255e+00\n",
      "round #02/05, model #01/04, epoch #10/10:\ttrain_acc = 0.375\ttrain_loss = 4.250e+00\n",
      "round #02/05, model #02/04, epoch #01/10:\ttrain_acc = 0.159\ttrain_loss = 4.473e+00\n",
      "round #02/05, model #02/04, epoch #02/10:\ttrain_acc = 0.270\ttrain_loss = 4.361e+00\n",
      "round #02/05, model #02/04, epoch #03/10:\ttrain_acc = 0.292\ttrain_loss = 4.336e+00\n",
      "round #02/05, model #02/04, epoch #04/10:\ttrain_acc = 0.299\ttrain_loss = 4.327e+00\n",
      "round #02/05, model #02/04, epoch #05/10:\ttrain_acc = 0.305\ttrain_loss = 4.321e+00\n",
      "round #02/05, model #02/04, epoch #06/10:\ttrain_acc = 0.307\ttrain_loss = 4.317e+00\n",
      "round #02/05, model #02/04, epoch #07/10:\ttrain_acc = 0.308\ttrain_loss = 4.316e+00\n",
      "round #02/05, model #02/04, epoch #08/10:\ttrain_acc = 0.308\ttrain_loss = 4.315e+00\n",
      "round #02/05, model #02/04, epoch #09/10:\ttrain_acc = 0.309\ttrain_loss = 4.315e+00\n",
      "round #02/05, model #02/04, epoch #10/10:\ttrain_acc = 0.310\ttrain_loss = 4.314e+00\n",
      "round #02/05, model #03/04, epoch #01/10:\ttrain_acc = 0.256\ttrain_loss = 4.388e+00\n",
      "round #02/05, model #03/04, epoch #02/10:\ttrain_acc = 0.378\ttrain_loss = 4.262e+00\n",
      "round #02/05, model #03/04, epoch #03/10:\ttrain_acc = 0.402\ttrain_loss = 4.232e+00\n",
      "round #02/05, model #03/04, epoch #04/10:\ttrain_acc = 0.413\ttrain_loss = 4.218e+00\n",
      "round #02/05, model #03/04, epoch #05/10:\ttrain_acc = 0.419\ttrain_loss = 4.210e+00\n",
      "round #02/05, model #03/04, epoch #06/10:\ttrain_acc = 0.424\ttrain_loss = 4.204e+00\n",
      "round #02/05, model #03/04, epoch #07/10:\ttrain_acc = 0.426\ttrain_loss = 4.201e+00\n",
      "round #02/05, model #03/04, epoch #08/10:\ttrain_acc = 0.428\ttrain_loss = 4.197e+00\n",
      "round #02/05, model #03/04, epoch #09/10:\ttrain_acc = 0.429\ttrain_loss = 4.195e+00\n",
      "round #02/05, model #03/04, epoch #10/10:\ttrain_acc = 0.428\ttrain_loss = 4.196e+00\n",
      "round #02/05, model #04/04, epoch #01/10:\ttrain_acc = 0.176\ttrain_loss = 4.458e+00\n",
      "round #02/05, model #04/04, epoch #02/10:\ttrain_acc = 0.284\ttrain_loss = 4.348e+00\n",
      "round #02/05, model #04/04, epoch #03/10:\ttrain_acc = 0.311\ttrain_loss = 4.318e+00\n",
      "round #02/05, model #04/04, epoch #04/10:\ttrain_acc = 0.320\ttrain_loss = 4.307e+00\n",
      "round #02/05, model #04/04, epoch #05/10:\ttrain_acc = 0.327\ttrain_loss = 4.299e+00\n",
      "round #02/05, model #04/04, epoch #06/10:\ttrain_acc = 0.337\ttrain_loss = 4.289e+00\n",
      "round #02/05, model #04/04, epoch #07/10:\ttrain_acc = 0.340\ttrain_loss = 4.285e+00\n",
      "round #02/05, model #04/04, epoch #08/10:\ttrain_acc = 0.342\ttrain_loss = 4.282e+00\n",
      "round #02/05, model #04/04, epoch #09/10:\ttrain_acc = 0.344\ttrain_loss = 4.281e+00\n",
      "round #02/05, model #04/04, epoch #10/10:\ttrain_acc = 0.347\ttrain_loss = 4.277e+00\n",
      "round #03/05, model #01/04, epoch #01/10:\ttrain_acc = 0.212\ttrain_loss = 4.427e+00\n",
      "round #03/05, model #01/04, epoch #02/10:\ttrain_acc = 0.334\ttrain_loss = 4.302e+00\n",
      "round #03/05, model #01/04, epoch #03/10:\ttrain_acc = 0.351\ttrain_loss = 4.279e+00\n",
      "round #03/05, model #01/04, epoch #04/10:\ttrain_acc = 0.358\ttrain_loss = 4.270e+00\n",
      "round #03/05, model #01/04, epoch #05/10:\ttrain_acc = 0.368\ttrain_loss = 4.259e+00\n",
      "round #03/05, model #01/04, epoch #06/10:\ttrain_acc = 0.372\ttrain_loss = 4.254e+00\n",
      "round #03/05, model #01/04, epoch #07/10:\ttrain_acc = 0.374\ttrain_loss = 4.251e+00\n",
      "round #03/05, model #01/04, epoch #08/10:\ttrain_acc = 0.374\ttrain_loss = 4.251e+00\n",
      "round #03/05, model #01/04, epoch #09/10:\ttrain_acc = 0.374\ttrain_loss = 4.250e+00\n",
      "round #03/05, model #01/04, epoch #10/10:\ttrain_acc = 0.375\ttrain_loss = 4.249e+00\n",
      "round #03/05, model #02/04, epoch #01/10:\ttrain_acc = 0.283\ttrain_loss = 4.365e+00\n",
      "round #03/05, model #02/04, epoch #02/10:\ttrain_acc = 0.429\ttrain_loss = 4.216e+00\n",
      "round #03/05, model #02/04, epoch #03/10:\ttrain_acc = 0.461\ttrain_loss = 4.177e+00\n",
      "round #03/05, model #02/04, epoch #04/10:\ttrain_acc = 0.475\ttrain_loss = 4.159e+00\n",
      "round #03/05, model #02/04, epoch #05/10:\ttrain_acc = 0.480\ttrain_loss = 4.150e+00\n",
      "round #03/05, model #02/04, epoch #06/10:\ttrain_acc = 0.483\ttrain_loss = 4.145e+00\n",
      "round #03/05, model #02/04, epoch #07/10:\ttrain_acc = 0.484\ttrain_loss = 4.142e+00\n",
      "round #03/05, model #02/04, epoch #08/10:\ttrain_acc = 0.485\ttrain_loss = 4.141e+00\n",
      "round #03/05, model #02/04, epoch #09/10:\ttrain_acc = 0.485\ttrain_loss = 4.140e+00\n",
      "round #03/05, model #02/04, epoch #10/10:\ttrain_acc = 0.486\ttrain_loss = 4.139e+00\n",
      "round #03/05, model #03/04, epoch #01/10:\ttrain_acc = 0.333\ttrain_loss = 4.327e+00\n",
      "round #03/05, model #03/04, epoch #02/10:\ttrain_acc = 0.491\ttrain_loss = 4.161e+00\n",
      "round #03/05, model #03/04, epoch #03/10:\ttrain_acc = 0.524\ttrain_loss = 4.120e+00\n",
      "round #03/05, model #03/04, epoch #04/10:\ttrain_acc = 0.538\ttrain_loss = 4.099e+00\n",
      "round #03/05, model #03/04, epoch #05/10:\ttrain_acc = 0.545\ttrain_loss = 4.089e+00\n",
      "round #03/05, model #03/04, epoch #06/10:\ttrain_acc = 0.547\ttrain_loss = 4.083e+00\n",
      "round #03/05, model #03/04, epoch #07/10:\ttrain_acc = 0.550\ttrain_loss = 4.079e+00\n",
      "round #03/05, model #03/04, epoch #08/10:\ttrain_acc = 0.550\ttrain_loss = 4.077e+00\n",
      "round #03/05, model #03/04, epoch #09/10:\ttrain_acc = 0.552\ttrain_loss = 4.075e+00\n",
      "round #03/05, model #03/04, epoch #10/10:\ttrain_acc = 0.553\ttrain_loss = 4.073e+00\n",
      "round #03/05, model #04/04, epoch #01/10:\ttrain_acc = 0.229\ttrain_loss = 4.412e+00\n",
      "round #03/05, model #04/04, epoch #02/10:\ttrain_acc = 0.335\ttrain_loss = 4.301e+00\n",
      "round #03/05, model #04/04, epoch #03/10:\ttrain_acc = 0.353\ttrain_loss = 4.279e+00\n",
      "round #03/05, model #04/04, epoch #04/10:\ttrain_acc = 0.361\ttrain_loss = 4.268e+00\n",
      "round #03/05, model #04/04, epoch #05/10:\ttrain_acc = 0.367\ttrain_loss = 4.261e+00\n",
      "round #03/05, model #04/04, epoch #06/10:\ttrain_acc = 0.374\ttrain_loss = 4.253e+00\n",
      "round #03/05, model #04/04, epoch #07/10:\ttrain_acc = 0.378\ttrain_loss = 4.248e+00\n",
      "round #03/05, model #04/04, epoch #08/10:\ttrain_acc = 0.379\ttrain_loss = 4.246e+00\n",
      "round #03/05, model #04/04, epoch #09/10:\ttrain_acc = 0.380\ttrain_loss = 4.244e+00\n",
      "round #03/05, model #04/04, epoch #10/10:\ttrain_acc = 0.380\ttrain_loss = 4.244e+00\n",
      "round #04/05, model #01/04, epoch #01/10:\ttrain_acc = 0.258\ttrain_loss = 4.386e+00\n",
      "round #04/05, model #01/04, epoch #02/10:\ttrain_acc = 0.366\ttrain_loss = 4.272e+00\n",
      "round #04/05, model #01/04, epoch #03/10:\ttrain_acc = 0.391\ttrain_loss = 4.243e+00\n",
      "round #04/05, model #01/04, epoch #04/10:\ttrain_acc = 0.399\ttrain_loss = 4.231e+00\n",
      "round #04/05, model #01/04, epoch #05/10:\ttrain_acc = 0.403\ttrain_loss = 4.225e+00\n",
      "round #04/05, model #01/04, epoch #06/10:\ttrain_acc = 0.407\ttrain_loss = 4.220e+00\n",
      "round #04/05, model #01/04, epoch #07/10:\ttrain_acc = 0.416\ttrain_loss = 4.211e+00\n",
      "round #04/05, model #01/04, epoch #08/10:\ttrain_acc = 0.419\ttrain_loss = 4.207e+00\n",
      "round #04/05, model #01/04, epoch #09/10:\ttrain_acc = 0.420\ttrain_loss = 4.204e+00\n",
      "round #04/05, model #01/04, epoch #10/10:\ttrain_acc = 0.420\ttrain_loss = 4.205e+00\n",
      "round #04/05, model #02/04, epoch #01/10:\ttrain_acc = 0.237\ttrain_loss = 4.405e+00\n",
      "round #04/05, model #02/04, epoch #02/10:\ttrain_acc = 0.355\ttrain_loss = 4.282e+00\n",
      "round #04/05, model #02/04, epoch #03/10:\ttrain_acc = 0.376\ttrain_loss = 4.256e+00\n",
      "round #04/05, model #02/04, epoch #04/10:\ttrain_acc = 0.386\ttrain_loss = 4.243e+00\n",
      "round #04/05, model #02/04, epoch #05/10:\ttrain_acc = 0.390\ttrain_loss = 4.238e+00\n",
      "round #04/05, model #02/04, epoch #06/10:\ttrain_acc = 0.392\ttrain_loss = 4.234e+00\n",
      "round #04/05, model #02/04, epoch #07/10:\ttrain_acc = 0.393\ttrain_loss = 4.232e+00\n",
      "round #04/05, model #02/04, epoch #08/10:\ttrain_acc = 0.393\ttrain_loss = 4.231e+00\n",
      "round #04/05, model #02/04, epoch #09/10:\ttrain_acc = 0.393\ttrain_loss = 4.231e+00\n",
      "round #04/05, model #02/04, epoch #10/10:\ttrain_acc = 0.394\ttrain_loss = 4.230e+00\n",
      "round #04/05, model #03/04, epoch #01/10:\ttrain_acc = 0.283\ttrain_loss = 4.366e+00\n",
      "round #04/05, model #03/04, epoch #02/10:\ttrain_acc = 0.400\ttrain_loss = 4.241e+00\n",
      "round #04/05, model #03/04, epoch #03/10:\ttrain_acc = 0.423\ttrain_loss = 4.212e+00\n",
      "round #04/05, model #03/04, epoch #04/10:\ttrain_acc = 0.435\ttrain_loss = 4.197e+00\n",
      "round #04/05, model #03/04, epoch #05/10:\ttrain_acc = 0.441\ttrain_loss = 4.188e+00\n",
      "round #04/05, model #03/04, epoch #06/10:\ttrain_acc = 0.443\ttrain_loss = 4.184e+00\n",
      "round #04/05, model #03/04, epoch #07/10:\ttrain_acc = 0.444\ttrain_loss = 4.181e+00\n",
      "round #04/05, model #03/04, epoch #08/10:\ttrain_acc = 0.445\ttrain_loss = 4.181e+00\n",
      "round #04/05, model #03/04, epoch #09/10:\ttrain_acc = 0.445\ttrain_loss = 4.179e+00\n",
      "round #04/05, model #03/04, epoch #10/10:\ttrain_acc = 0.445\ttrain_loss = 4.179e+00\n",
      "round #04/05, model #04/04, epoch #01/10:\ttrain_acc = 0.293\ttrain_loss = 4.358e+00\n",
      "round #04/05, model #04/04, epoch #02/10:\ttrain_acc = 0.441\ttrain_loss = 4.206e+00\n",
      "round #04/05, model #04/04, epoch #03/10:\ttrain_acc = 0.474\ttrain_loss = 4.166e+00\n",
      "round #04/05, model #04/04, epoch #04/10:\ttrain_acc = 0.491\ttrain_loss = 4.144e+00\n",
      "round #04/05, model #04/04, epoch #05/10:\ttrain_acc = 0.499\ttrain_loss = 4.132e+00\n",
      "round #04/05, model #04/04, epoch #06/10:\ttrain_acc = 0.502\ttrain_loss = 4.127e+00\n",
      "round #04/05, model #04/04, epoch #07/10:\ttrain_acc = 0.505\ttrain_loss = 4.122e+00\n",
      "round #04/05, model #04/04, epoch #08/10:\ttrain_acc = 0.506\ttrain_loss = 4.121e+00\n",
      "round #04/05, model #04/04, epoch #09/10:\ttrain_acc = 0.506\ttrain_loss = 4.120e+00\n",
      "round #04/05, model #04/04, epoch #10/10:\ttrain_acc = 0.507\ttrain_loss = 4.118e+00\n",
      "round #05/05, model #01/04, epoch #01/10:\ttrain_acc = 0.211\ttrain_loss = 4.429e+00\n",
      "round #05/05, model #01/04, epoch #02/10:\ttrain_acc = 0.327\ttrain_loss = 4.309e+00\n",
      "round #05/05, model #01/04, epoch #03/10:\ttrain_acc = 0.354\ttrain_loss = 4.279e+00\n",
      "round #05/05, model #01/04, epoch #04/10:\ttrain_acc = 0.369\ttrain_loss = 4.260e+00\n",
      "round #05/05, model #01/04, epoch #05/10:\ttrain_acc = 0.375\ttrain_loss = 4.253e+00\n",
      "round #05/05, model #01/04, epoch #06/10:\ttrain_acc = 0.377\ttrain_loss = 4.249e+00\n",
      "round #05/05, model #01/04, epoch #07/10:\ttrain_acc = 0.377\ttrain_loss = 4.249e+00\n",
      "round #05/05, model #01/04, epoch #08/10:\ttrain_acc = 0.378\ttrain_loss = 4.246e+00\n",
      "round #05/05, model #01/04, epoch #09/10:\ttrain_acc = 0.379\ttrain_loss = 4.246e+00\n",
      "round #05/05, model #01/04, epoch #10/10:\ttrain_acc = 0.379\ttrain_loss = 4.245e+00\n",
      "round #05/05, model #02/04, epoch #01/10:\ttrain_acc = 0.284\ttrain_loss = 4.366e+00\n",
      "round #05/05, model #02/04, epoch #02/10:\ttrain_acc = 0.409\ttrain_loss = 4.233e+00\n",
      "round #05/05, model #02/04, epoch #03/10:\ttrain_acc = 0.433\ttrain_loss = 4.202e+00\n",
      "round #05/05, model #02/04, epoch #04/10:\ttrain_acc = 0.443\ttrain_loss = 4.188e+00\n",
      "round #05/05, model #02/04, epoch #05/10:\ttrain_acc = 0.448\ttrain_loss = 4.181e+00\n",
      "round #05/05, model #02/04, epoch #06/10:\ttrain_acc = 0.449\ttrain_loss = 4.178e+00\n",
      "round #05/05, model #02/04, epoch #07/10:\ttrain_acc = 0.451\ttrain_loss = 4.175e+00\n",
      "round #05/05, model #02/04, epoch #08/10:\ttrain_acc = 0.452\ttrain_loss = 4.174e+00\n",
      "round #05/05, model #02/04, epoch #09/10:\ttrain_acc = 0.452\ttrain_loss = 4.173e+00\n",
      "round #05/05, model #02/04, epoch #10/10:\ttrain_acc = 0.453\ttrain_loss = 4.172e+00\n",
      "round #05/05, model #03/04, epoch #01/10:\ttrain_acc = 0.185\ttrain_loss = 4.449e+00\n",
      "round #05/05, model #03/04, epoch #02/10:\ttrain_acc = 0.293\ttrain_loss = 4.339e+00\n",
      "round #05/05, model #03/04, epoch #03/10:\ttrain_acc = 0.313\ttrain_loss = 4.317e+00\n",
      "round #05/05, model #03/04, epoch #04/10:\ttrain_acc = 0.319\ttrain_loss = 4.308e+00\n",
      "round #05/05, model #03/04, epoch #05/10:\ttrain_acc = 0.321\ttrain_loss = 4.304e+00\n",
      "round #05/05, model #03/04, epoch #06/10:\ttrain_acc = 0.322\ttrain_loss = 4.303e+00\n",
      "round #05/05, model #03/04, epoch #07/10:\ttrain_acc = 0.323\ttrain_loss = 4.301e+00\n",
      "round #05/05, model #03/04, epoch #08/10:\ttrain_acc = 0.324\ttrain_loss = 4.300e+00\n",
      "round #05/05, model #03/04, epoch #09/10:\ttrain_acc = 0.325\ttrain_loss = 4.298e+00\n",
      "round #05/05, model #03/04, epoch #10/10:\ttrain_acc = 0.331\ttrain_loss = 4.293e+00\n",
      "round #05/05, model #04/04, epoch #01/10:\ttrain_acc = 0.155\ttrain_loss = 4.475e+00\n",
      "round #05/05, model #04/04, epoch #02/10:\ttrain_acc = 0.229\ttrain_loss = 4.400e+00\n",
      "round #05/05, model #04/04, epoch #03/10:\ttrain_acc = 0.246\ttrain_loss = 4.381e+00\n",
      "round #05/05, model #04/04, epoch #04/10:\ttrain_acc = 0.255\ttrain_loss = 4.371e+00\n",
      "round #05/05, model #04/04, epoch #05/10:\ttrain_acc = 0.261\ttrain_loss = 4.364e+00\n",
      "round #05/05, model #04/04, epoch #06/10:\ttrain_acc = 0.263\ttrain_loss = 4.362e+00\n",
      "round #05/05, model #04/04, epoch #07/10:\ttrain_acc = 0.263\ttrain_loss = 4.361e+00\n",
      "round #05/05, model #04/04, epoch #08/10:\ttrain_acc = 0.264\ttrain_loss = 4.360e+00\n",
      "round #05/05, model #04/04, epoch #09/10:\ttrain_acc = 0.263\ttrain_loss = 4.360e+00\n",
      "round #05/05, model #04/04, epoch #10/10:\ttrain_acc = 0.264\ttrain_loss = 4.359e+00\n"
     ]
    },
    {
     "name": "stderr",
     "output_type": "stream",
     "text": [
      "/home/hongyan/.local/lib/python3.9/site-packages/numpy/lib/npyio.py:716: VisibleDeprecationWarning: Creating an ndarray from ragged nested sequences (which is a list-or-tuple of lists-or-tuples-or ndarrays with different lengths or shapes) is deprecated. If you meant to do this, you must specify 'dtype=object' when creating the ndarray.\n",
      "  val = np.asanyarray(val)\n"
     ]
    },
    {
     "name": "stdout",
     "output_type": "stream",
     "text": [
      "Results are stored in: ['/home/hongyan/Desktop/upgrade_privacy_meter/ml_privacy_meter/docs/log_2022-12-21_20-46-23-000', '/home/hongyan/Desktop/upgrade_privacy_meter/ml_privacy_meter/docs/log_2022-12-21_20-46-23-001', '/home/hongyan/Desktop/upgrade_privacy_meter/ml_privacy_meter/docs/log_2022-12-21_20-46-23-002', '/home/hongyan/Desktop/upgrade_privacy_meter/ml_privacy_meter/docs/log_2022-12-21_20-46-23-003', '/home/hongyan/Desktop/upgrade_privacy_meter/ml_privacy_meter/docs/log_2022-12-21_20-46-23-004']\n"
     ]
    }
   ],
   "source": [
    "results = get_audit_results(N_TRAININGS, N_SHADOW_MODELS, BATCH_SIZE, EPOCHS)"
   ]
  },
  {
   "cell_type": "markdown",
   "metadata": {
    "collapsed": false,
    "pycharm": {
     "name": "#%% md\n"
    }
   },
   "source": [
    "## Results visualization"
   ]
  },
  {
   "cell_type": "markdown",
   "metadata": {
    "collapsed": false,
    "pycharm": {
     "name": "#%% md\n"
    }
   },
   "source": [
    "The `get_audit_results` function returns a list of results, one per round. We can start by displaying them individually:"
   ]
  },
  {
   "cell_type": "code",
   "execution_count": 37,
   "metadata": {
    "collapsed": false,
    "pycharm": {
     "name": "#%%\n"
    }
   },
   "outputs": [
    {
     "name": "stdout",
     "output_type": "stream",
     "text": [
      "============= METRIC RESULT OBJECT =============\n",
      "Accuracy          = 0.4612016540987594\n",
      "ROC AUC Score     = 0.521984208772436\n",
      "FPR               = 0.35165815292305197\n",
      "TN, FP, FN, TP    = (7996, 4337, 22243, 14756)\n",
      "============= METRIC RESULT OBJECT =============\n",
      "Accuracy          = 0.44530933268466716\n",
      "ROC AUC Score     = 0.5144575053622639\n",
      "FPR               = 0.35165815292305197\n",
      "TN, FP, FN, TP    = (7996, 4337, 23027, 13972)\n",
      "============= METRIC RESULT OBJECT =============\n",
      "Accuracy          = 0.4428768345090408\n",
      "ROC AUC Score     = 0.5123275019889114\n",
      "FPR               = 0.3476850725695289\n",
      "TN, FP, FN, TP    = (8045, 4288, 23196, 13803)\n",
      "============= METRIC RESULT OBJECT =============\n",
      "Accuracy          = 0.4697762101678424\n",
      "ROC AUC Score     = 0.5186156402766726\n",
      "FPR               = 0.3836049622962783\n",
      "TN, FP, FN, TP    = (7602, 4731, 21426, 15573)\n",
      "============= METRIC RESULT OBJECT =============\n",
      "Accuracy          = 0.4499918916727479\n",
      "ROC AUC Score     = 0.5206481416667897\n",
      "FPR               = 0.3406308278602124\n",
      "TN, FP, FN, TP    = (8132, 4201, 22932, 14067)\n"
     ]
    }
   ],
   "source": [
    "for result in results:\n",
    "    print(result)"
   ]
  },
  {
   "cell_type": "markdown",
   "metadata": {
    "collapsed": false,
    "pycharm": {
     "name": "#%% md\n"
    }
   },
   "source": [
    "We can also use built-in visualizations from the `privacy_meter` tool, to get easily interpretable aggregates:"
   ]
  },
  {
   "cell_type": "code",
   "execution_count": 38,
   "metadata": {
    "collapsed": false,
    "pycharm": {
     "name": "#%%\n"
    }
   },
   "outputs": [],
   "source": [
    "# This instruction won't be needed once the tool is on pip\n",
    "from privacy_meter import audit_report\n",
    "audit_report.REPORT_FILES_DIR = '../privacy_meter/report_files'"
   ]
  },
  {
   "cell_type": "code",
   "execution_count": 39,
   "metadata": {
    "collapsed": false,
    "pycharm": {
     "name": "#%%\n"
    }
   },
   "outputs": [
    {
     "data": {
      "image/png": "[encoded data removed]",
      "text/plain": [
       "<Figure size 432x288 with 1 Axes>"
      ]
     },
     "metadata": {
      "needs_background": "light"
     },
     "output_type": "display_data"
    },
    {
     "data": {
      "text/plain": [
       "<Figure size 432x288 with 0 Axes>"
      ]
     },
     "metadata": {},
     "output_type": "display_data"
    }
   ],
   "source": [
    "ROCCurveReport.generate_report(\n",
    "    metric_result=results,\n",
    "    inference_game_type=InferenceGame.AVG_PRIVACY_LOSS_TRAINING_ALGO,\n",
    "    save=False,\n",
    "    show=True\n",
    ")"
   ]
  },
  {
   "cell_type": "code",
   "execution_count": 47,
   "metadata": {
    "collapsed": false,
    "pycharm": {
     "name": "#%%\n"
    }
   },
   "outputs": [
    {
     "name": "stdout",
     "output_type": "stream",
     "text": [
      "The autoreload extension is already loaded. To reload it, use:\n",
      "  %reload_ext autoreload\n"
     ]
    },
    {
     "data": {
      "image/png": "[encoded data removed]",
      "text/plain": [
       "<Figure size 432x288 with 1 Axes>"
      ]
     },
     "metadata": {
      "needs_background": "light"
     },
     "output_type": "display_data"
    },
    {
     "data": {
      "text/plain": [
       "<Figure size 432x288 with 0 Axes>"
      ]
     },
     "metadata": {},
     "output_type": "display_data"
    }
   ],
   "source": [
    "SignalHistogramReport.generate_report(\n",
    "    metric_result=results,\n",
    "    inference_game_type=InferenceGame.AVG_PRIVACY_LOSS_TRAINING_ALGO,\n",
    "    save=False,\n",
    "    show=True\n",
    ")"
   ]
  },
  {
   "cell_type": "code",
   "execution_count": null,
   "metadata": {},
   "outputs": [],
   "source": []
  }
 ],
 "metadata": {
  "kernelspec": {
   "display_name": "privacy_meter",
   "language": "python",
   "name": "python3"
  },
  "language_info": {
   "codemirror_mode": {
    "name": "ipython",
    "version": 3
   },
   "file_extension": ".py",
   "mimetype": "text/x-python",
   "name": "python",
   "nbconvert_exporter": "python",
   "pygments_lexer": "ipython3",
   "version": "3.9.16 | packaged by conda-forge | (main, Feb  1 2023, 21:39:03) \n[GCC 11.3.0]"
  },
  "vscode": {
   "interpreter": {
    "hash": "ff5ee332438c92f929e001ac582f4dc65f589c5b69932de359bcb69410618153"
   }
  }
 },
 "nbformat": 4,
 "nbformat_minor": 0
}
