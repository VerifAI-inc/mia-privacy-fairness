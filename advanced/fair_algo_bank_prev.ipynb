{
 "cells": [
  {
   "cell_type": "code",
   "execution_count": null,
   "metadata": {
    "colab": {
     "base_uri": "https://localhost:8080/"
    },
    "executionInfo": {
     "elapsed": 13163,
     "status": "ok",
     "timestamp": 1730957734655,
     "user": {
      "displayName": "Ilhama Novruzova",
      "userId": "12259181736104464630"
     },
     "user_tz": -240
    },
    "id": "Jzh0hOVvFcqo",
    "outputId": "1207b9b2-b1ac-4718-db08-6405e2e2705d",
    "scrolled": true
   },
   "outputs": [
    {
     "name": "stdout",
     "output_type": "stream",
     "text": [
      "Collecting fairlearn\n",
      "  Downloading fairlearn-0.11.0-py3-none-any.whl.metadata (7.0 kB)\n",
      "Requirement already satisfied: numpy>=1.24.4 in /usr/local/lib/python3.10/dist-packages (from fairlearn) (1.26.4)\n",
      "Requirement already satisfied: pandas>=2.0.3 in /usr/local/lib/python3.10/dist-packages (from fairlearn) (2.2.2)\n",
      "Requirement already satisfied: scikit-learn>=1.2.1 in /usr/local/lib/python3.10/dist-packages (from fairlearn) (1.5.2)\n",
      "Requirement already satisfied: scipy>=1.9.3 in /usr/local/lib/python3.10/dist-packages (from fairlearn) (1.13.1)\n",
      "Requirement already satisfied: python-dateutil>=2.8.2 in /usr/local/lib/python3.10/dist-packages (from pandas>=2.0.3->fairlearn) (2.8.2)\n",
      "Requirement already satisfied: pytz>=2020.1 in /usr/local/lib/python3.10/dist-packages (from pandas>=2.0.3->fairlearn) (2024.2)\n",
      "Requirement already satisfied: tzdata>=2022.7 in /usr/local/lib/python3.10/dist-packages (from pandas>=2.0.3->fairlearn) (2024.2)\n",
      "Requirement already satisfied: joblib>=1.2.0 in /usr/local/lib/python3.10/dist-packages (from scikit-learn>=1.2.1->fairlearn) (1.4.2)\n",
      "Requirement already satisfied: threadpoolctl>=3.1.0 in /usr/local/lib/python3.10/dist-packages (from scikit-learn>=1.2.1->fairlearn) (3.5.0)\n",
      "Requirement already satisfied: six>=1.5 in /usr/local/lib/python3.10/dist-packages (from python-dateutil>=2.8.2->pandas>=2.0.3->fairlearn) (1.16.0)\n",
      "Downloading fairlearn-0.11.0-py3-none-any.whl (232 kB)\n",
      "\u001b[2K   \u001b[90m━━━━━━━━━━━━━━━━━━━━━━━━━━━━━━━━━━━━━━━━\u001b[0m \u001b[32m232.3/232.3 kB\u001b[0m \u001b[31m3.6 MB/s\u001b[0m eta \u001b[36m0:00:00\u001b[0m\n",
      "\u001b[?25hInstalling collected packages: fairlearn\n",
      "Successfully installed fairlearn-0.11.0\n"
     ]
    }
   ],
   "source": [
    "!pip install fairlearn"
   ]
  },
  {
   "cell_type": "code",
   "execution_count": null,
   "metadata": {
    "colab": {
     "base_uri": "https://localhost:8080/"
    },
    "executionInfo": {
     "elapsed": 5347,
     "status": "ok",
     "timestamp": 1730957739994,
     "user": {
      "displayName": "Ilhama Novruzova",
      "userId": "12259181736104464630"
     },
     "user_tz": -240
    },
    "id": "srBFQ8wLFn8t",
    "outputId": "97522882-a7b2-4866-a8cf-a26ba3a3b45c"
   },
   "outputs": [
    {
     "name": "stdout",
     "output_type": "stream",
     "text": [
      "Cloning into 'ml_privacy_meter'...\n",
      "remote: Enumerating objects: 3129, done.\u001b[K\n",
      "remote: Counting objects: 100% (639/639), done.\u001b[K\n",
      "remote: Compressing objects: 100% (201/201), done.\u001b[K\n",
      "remote: Total 3129 (delta 510), reused 448 (delta 438), pack-reused 2490 (from 1)\u001b[K\n",
      "Receiving objects: 100% (3129/3129), 61.04 MiB | 15.01 MiB/s, done.\n",
      "Resolving deltas: 100% (2014/2014), done.\n"
     ]
    }
   ],
   "source": [
    "!git clone https://github.com/privacytrustlab/ml_privacy_meter.git"
   ]
  },
  {
   "cell_type": "code",
   "execution_count": null,
   "metadata": {
    "colab": {
     "base_uri": "https://localhost:8080/"
    },
    "executionInfo": {
     "elapsed": 7,
     "status": "ok",
     "timestamp": 1730957739995,
     "user": {
      "displayName": "Ilhama Novruzova",
      "userId": "12259181736104464630"
     },
     "user_tz": -240
    },
    "id": "zbTgRrUAFpLT",
    "outputId": "9db7aef9-e712-4b73-dae3-34224b239e1d"
   },
   "outputs": [
    {
     "name": "stdout",
     "output_type": "stream",
     "text": [
      "/content/ml_privacy_meter\n"
     ]
    }
   ],
   "source": [
    "%cd ml_privacy_meter"
   ]
  },
  {
   "cell_type": "code",
   "execution_count": null,
   "metadata": {
    "colab": {
     "base_uri": "https://localhost:8080/"
    },
    "executionInfo": {
     "elapsed": 978,
     "status": "ok",
     "timestamp": 1730957740968,
     "user": {
      "displayName": "Ilhama Novruzova",
      "userId": "12259181736104464630"
     },
     "user_tz": -240
    },
    "id": "y496C0jFFsha",
    "outputId": "6dd33bcc-1f4c-4fff-ec36-dbed8233ddd3"
   },
   "outputs": [
    {
     "name": "stdout",
     "output_type": "stream",
     "text": [
      "Note: switching to 'd32734161a3395211fe5f3cd461932290b1fafbe'.\n",
      "\n",
      "You are in 'detached HEAD' state. You can look around, make experimental\n",
      "changes and commit them, and you can discard any commits you make in this\n",
      "state without impacting any branches by switching back to a branch.\n",
      "\n",
      "If you want to create a new branch to retain commits you create, you may\n",
      "do so (now or later) by using -c with the switch command. Example:\n",
      "\n",
      "  git switch -c <new-branch-name>\n",
      "\n",
      "Or undo this operation with:\n",
      "\n",
      "  git switch -\n",
      "\n",
      "Turn off this advice by setting config variable advice.detachedHead to false\n",
      "\n",
      "HEAD is now at d327341 Update README.md\n"
     ]
    }
   ],
   "source": [
    "!git checkout d32734161a3395211fe5f3cd461932290b1fafbe"
   ]
  },
  {
   "cell_type": "code",
   "execution_count": null,
   "metadata": {
    "colab": {
     "base_uri": "https://localhost:8080/",
     "height": 1000
    },
    "executionInfo": {
     "elapsed": 202086,
     "status": "ok",
     "timestamp": 1730957943051,
     "user": {
      "displayName": "Ilhama Novruzova",
      "userId": "12259181736104464630"
     },
     "user_tz": -240
    },
    "id": "RFzqqPTAFt2N",
    "outputId": "46ddc592-dc84-43e9-d6d9-e68785e1870c"
   },
   "outputs": [
    {
     "name": "stdout",
     "output_type": "stream",
     "text": [
      "Requirement already satisfied: tensorflow>=2.4.0 in /usr/local/lib/python3.10/dist-packages (from -r requirements.txt (line 1)) (2.17.0)\n",
      "Collecting torch==1.13.0 (from -r requirements.txt (line 2))\n",
      "  Downloading torch-1.13.0-cp310-cp310-manylinux1_x86_64.whl.metadata (23 kB)\n",
      "Collecting matplotlib==3.6.3 (from -r requirements.txt (line 3))\n",
      "  Downloading matplotlib-3.6.3-cp310-cp310-manylinux_2_17_x86_64.manylinux2014_x86_64.whl.metadata (6.8 kB)\n",
      "Collecting numpy==1.24.2 (from -r requirements.txt (line 4))\n",
      "  Downloading numpy-1.24.2-cp310-cp310-manylinux_2_17_x86_64.manylinux2014_x86_64.whl.metadata (5.6 kB)\n",
      "Collecting scikit-learn==1.2.1 (from -r requirements.txt (line 5))\n",
      "  Downloading scikit_learn-1.2.1-cp310-cp310-manylinux_2_17_x86_64.manylinux2014_x86_64.whl.metadata (11 kB)\n",
      "Collecting seaborn==0.12.2 (from -r requirements.txt (line 6))\n",
      "  Downloading seaborn-0.12.2-py3-none-any.whl.metadata (5.4 kB)\n",
      "Requirement already satisfied: setuptools in /usr/local/lib/python3.10/dist-packages (from -r requirements.txt (line 7)) (75.1.0)\n",
      "Collecting scipy==1.10.0 (from -r requirements.txt (line 8))\n",
      "  Downloading scipy-1.10.0-cp310-cp310-manylinux_2_17_x86_64.manylinux2014_x86_64.whl.metadata (58 kB)\n",
      "\u001b[2K     \u001b[90m━━━━━━━━━━━━━━━━━━━━━━━━━━━━━━━━━━━━━━━━\u001b[0m \u001b[32m58.9/58.9 kB\u001b[0m \u001b[31m1.7 MB/s\u001b[0m eta \u001b[36m0:00:00\u001b[0m\n",
      "\u001b[?25hCollecting pandas==1.5.3 (from -r requirements.txt (line 9))\n",
      "  Downloading pandas-1.5.3-cp310-cp310-manylinux_2_17_x86_64.manylinux2014_x86_64.whl.metadata (11 kB)\n",
      "Collecting jinja2==3.1.2 (from -r requirements.txt (line 10))\n",
      "  Downloading Jinja2-3.1.2-py3-none-any.whl.metadata (3.5 kB)\n",
      "Collecting Pillow==9.4.0 (from -r requirements.txt (line 11))\n",
      "  Downloading Pillow-9.4.0-cp310-cp310-manylinux_2_28_x86_64.whl.metadata (9.3 kB)\n",
      "Collecting opacus==1.3.0 (from -r requirements.txt (line 12))\n",
      "  Downloading opacus-1.3.0-py3-none-any.whl.metadata (7.8 kB)\n",
      "Collecting torchvision==0.14.0 (from -r requirements.txt (line 13))\n",
      "  Downloading torchvision-0.14.0-cp310-cp310-manylinux1_x86_64.whl.metadata (11 kB)\n",
      "Collecting PyYAML==6.0 (from -r requirements.txt (line 14))\n",
      "  Downloading PyYAML-6.0-cp310-cp310-manylinux_2_5_x86_64.manylinux1_x86_64.manylinux_2_12_x86_64.manylinux2010_x86_64.whl.metadata (2.0 kB)\n",
      "Collecting pytest==7.2.1 (from -r requirements.txt (line 15))\n",
      "  Downloading pytest-7.2.1-py3-none-any.whl.metadata (7.8 kB)\n",
      "Requirement already satisfied: typing-extensions in /usr/local/lib/python3.10/dist-packages (from torch==1.13.0->-r requirements.txt (line 2)) (4.12.2)\n",
      "Collecting nvidia-cuda-runtime-cu11==11.7.99 (from torch==1.13.0->-r requirements.txt (line 2))\n",
      "  Downloading nvidia_cuda_runtime_cu11-11.7.99-py3-none-manylinux1_x86_64.whl.metadata (1.6 kB)\n",
      "Collecting nvidia-cudnn-cu11==8.5.0.96 (from torch==1.13.0->-r requirements.txt (line 2))\n",
      "  Downloading nvidia_cudnn_cu11-8.5.0.96-2-py3-none-manylinux1_x86_64.whl.metadata (1.6 kB)\n",
      "Collecting nvidia-cublas-cu11==11.10.3.66 (from torch==1.13.0->-r requirements.txt (line 2))\n",
      "  Downloading nvidia_cublas_cu11-11.10.3.66-py3-none-manylinux1_x86_64.whl.metadata (1.6 kB)\n",
      "Collecting nvidia-cuda-nvrtc-cu11==11.7.99 (from torch==1.13.0->-r requirements.txt (line 2))\n",
      "  Downloading nvidia_cuda_nvrtc_cu11-11.7.99-2-py3-none-manylinux1_x86_64.whl.metadata (1.5 kB)\n",
      "Requirement already satisfied: contourpy>=1.0.1 in /usr/local/lib/python3.10/dist-packages (from matplotlib==3.6.3->-r requirements.txt (line 3)) (1.3.0)\n",
      "Requirement already satisfied: cycler>=0.10 in /usr/local/lib/python3.10/dist-packages (from matplotlib==3.6.3->-r requirements.txt (line 3)) (0.12.1)\n",
      "Requirement already satisfied: fonttools>=4.22.0 in /usr/local/lib/python3.10/dist-packages (from matplotlib==3.6.3->-r requirements.txt (line 3)) (4.54.1)\n",
      "Requirement already satisfied: kiwisolver>=1.0.1 in /usr/local/lib/python3.10/dist-packages (from matplotlib==3.6.3->-r requirements.txt (line 3)) (1.4.7)\n",
      "Requirement already satisfied: packaging>=20.0 in /usr/local/lib/python3.10/dist-packages (from matplotlib==3.6.3->-r requirements.txt (line 3)) (24.1)\n",
      "Requirement already satisfied: pyparsing>=2.2.1 in /usr/local/lib/python3.10/dist-packages (from matplotlib==3.6.3->-r requirements.txt (line 3)) (3.2.0)\n",
      "Requirement already satisfied: python-dateutil>=2.7 in /usr/local/lib/python3.10/dist-packages (from matplotlib==3.6.3->-r requirements.txt (line 3)) (2.8.2)\n",
      "Requirement already satisfied: joblib>=1.1.1 in /usr/local/lib/python3.10/dist-packages (from scikit-learn==1.2.1->-r requirements.txt (line 5)) (1.4.2)\n",
      "Requirement already satisfied: threadpoolctl>=2.0.0 in /usr/local/lib/python3.10/dist-packages (from scikit-learn==1.2.1->-r requirements.txt (line 5)) (3.5.0)\n",
      "Requirement already satisfied: pytz>=2020.1 in /usr/local/lib/python3.10/dist-packages (from pandas==1.5.3->-r requirements.txt (line 9)) (2024.2)\n",
      "Requirement already satisfied: MarkupSafe>=2.0 in /usr/local/lib/python3.10/dist-packages (from jinja2==3.1.2->-r requirements.txt (line 10)) (3.0.2)\n",
      "Collecting functorch (from opacus==1.3.0->-r requirements.txt (line 12))\n",
      "  Downloading functorch-2.0.0-py2.py3-none-any.whl.metadata (346 bytes)\n",
      "Requirement already satisfied: opt-einsum>=3.3.0 in /usr/local/lib/python3.10/dist-packages (from opacus==1.3.0->-r requirements.txt (line 12)) (3.4.0)\n",
      "Requirement already satisfied: requests in /usr/local/lib/python3.10/dist-packages (from torchvision==0.14.0->-r requirements.txt (line 13)) (2.32.3)\n",
      "Requirement already satisfied: attrs>=19.2.0 in /usr/local/lib/python3.10/dist-packages (from pytest==7.2.1->-r requirements.txt (line 15)) (24.2.0)\n",
      "Requirement already satisfied: iniconfig in /usr/local/lib/python3.10/dist-packages (from pytest==7.2.1->-r requirements.txt (line 15)) (2.0.0)\n",
      "Requirement already satisfied: pluggy<2.0,>=0.12 in /usr/local/lib/python3.10/dist-packages (from pytest==7.2.1->-r requirements.txt (line 15)) (1.5.0)\n",
      "Requirement already satisfied: exceptiongroup>=1.0.0rc8 in /usr/local/lib/python3.10/dist-packages (from pytest==7.2.1->-r requirements.txt (line 15)) (1.2.2)\n",
      "Requirement already satisfied: tomli>=1.0.0 in /usr/local/lib/python3.10/dist-packages (from pytest==7.2.1->-r requirements.txt (line 15)) (2.0.2)\n",
      "Requirement already satisfied: wheel in /usr/local/lib/python3.10/dist-packages (from nvidia-cublas-cu11==11.10.3.66->torch==1.13.0->-r requirements.txt (line 2)) (0.44.0)\n",
      "Requirement already satisfied: absl-py>=1.0.0 in /usr/local/lib/python3.10/dist-packages (from tensorflow>=2.4.0->-r requirements.txt (line 1)) (1.4.0)\n",
      "Requirement already satisfied: astunparse>=1.6.0 in /usr/local/lib/python3.10/dist-packages (from tensorflow>=2.4.0->-r requirements.txt (line 1)) (1.6.3)\n",
      "Requirement already satisfied: flatbuffers>=24.3.25 in /usr/local/lib/python3.10/dist-packages (from tensorflow>=2.4.0->-r requirements.txt (line 1)) (24.3.25)\n",
      "Requirement already satisfied: gast!=0.5.0,!=0.5.1,!=0.5.2,>=0.2.1 in /usr/local/lib/python3.10/dist-packages (from tensorflow>=2.4.0->-r requirements.txt (line 1)) (0.6.0)\n",
      "Requirement already satisfied: google-pasta>=0.1.1 in /usr/local/lib/python3.10/dist-packages (from tensorflow>=2.4.0->-r requirements.txt (line 1)) (0.2.0)\n",
      "Requirement already satisfied: h5py>=3.10.0 in /usr/local/lib/python3.10/dist-packages (from tensorflow>=2.4.0->-r requirements.txt (line 1)) (3.12.1)\n",
      "Requirement already satisfied: libclang>=13.0.0 in /usr/local/lib/python3.10/dist-packages (from tensorflow>=2.4.0->-r requirements.txt (line 1)) (18.1.1)\n",
      "Requirement already satisfied: ml-dtypes<0.5.0,>=0.3.1 in /usr/local/lib/python3.10/dist-packages (from tensorflow>=2.4.0->-r requirements.txt (line 1)) (0.4.1)\n",
      "Requirement already satisfied: protobuf!=4.21.0,!=4.21.1,!=4.21.2,!=4.21.3,!=4.21.4,!=4.21.5,<5.0.0dev,>=3.20.3 in /usr/local/lib/python3.10/dist-packages (from tensorflow>=2.4.0->-r requirements.txt (line 1)) (3.20.3)\n",
      "Requirement already satisfied: six>=1.12.0 in /usr/local/lib/python3.10/dist-packages (from tensorflow>=2.4.0->-r requirements.txt (line 1)) (1.16.0)\n",
      "Requirement already satisfied: termcolor>=1.1.0 in /usr/local/lib/python3.10/dist-packages (from tensorflow>=2.4.0->-r requirements.txt (line 1)) (2.5.0)\n",
      "Requirement already satisfied: wrapt>=1.11.0 in /usr/local/lib/python3.10/dist-packages (from tensorflow>=2.4.0->-r requirements.txt (line 1)) (1.16.0)\n",
      "Requirement already satisfied: grpcio<2.0,>=1.24.3 in /usr/local/lib/python3.10/dist-packages (from tensorflow>=2.4.0->-r requirements.txt (line 1)) (1.64.1)\n",
      "Requirement already satisfied: tensorboard<2.18,>=2.17 in /usr/local/lib/python3.10/dist-packages (from tensorflow>=2.4.0->-r requirements.txt (line 1)) (2.17.0)\n",
      "Requirement already satisfied: keras>=3.2.0 in /usr/local/lib/python3.10/dist-packages (from tensorflow>=2.4.0->-r requirements.txt (line 1)) (3.4.1)\n",
      "Requirement already satisfied: tensorflow-io-gcs-filesystem>=0.23.1 in /usr/local/lib/python3.10/dist-packages (from tensorflow>=2.4.0->-r requirements.txt (line 1)) (0.37.1)\n",
      "Requirement already satisfied: rich in /usr/local/lib/python3.10/dist-packages (from keras>=3.2.0->tensorflow>=2.4.0->-r requirements.txt (line 1)) (13.9.3)\n",
      "Requirement already satisfied: namex in /usr/local/lib/python3.10/dist-packages (from keras>=3.2.0->tensorflow>=2.4.0->-r requirements.txt (line 1)) (0.0.8)\n",
      "Requirement already satisfied: optree in /usr/local/lib/python3.10/dist-packages (from keras>=3.2.0->tensorflow>=2.4.0->-r requirements.txt (line 1)) (0.13.0)\n",
      "Requirement already satisfied: charset-normalizer<4,>=2 in /usr/local/lib/python3.10/dist-packages (from requests->torchvision==0.14.0->-r requirements.txt (line 13)) (3.4.0)\n",
      "Requirement already satisfied: idna<4,>=2.5 in /usr/local/lib/python3.10/dist-packages (from requests->torchvision==0.14.0->-r requirements.txt (line 13)) (3.10)\n",
      "Requirement already satisfied: urllib3<3,>=1.21.1 in /usr/local/lib/python3.10/dist-packages (from requests->torchvision==0.14.0->-r requirements.txt (line 13)) (2.2.3)\n",
      "Requirement already satisfied: certifi>=2017.4.17 in /usr/local/lib/python3.10/dist-packages (from requests->torchvision==0.14.0->-r requirements.txt (line 13)) (2024.8.30)\n",
      "Requirement already satisfied: markdown>=2.6.8 in /usr/local/lib/python3.10/dist-packages (from tensorboard<2.18,>=2.17->tensorflow>=2.4.0->-r requirements.txt (line 1)) (3.7)\n",
      "Requirement already satisfied: tensorboard-data-server<0.8.0,>=0.7.0 in /usr/local/lib/python3.10/dist-packages (from tensorboard<2.18,>=2.17->tensorflow>=2.4.0->-r requirements.txt (line 1)) (0.7.2)\n",
      "Requirement already satisfied: werkzeug>=1.0.1 in /usr/local/lib/python3.10/dist-packages (from tensorboard<2.18,>=2.17->tensorflow>=2.4.0->-r requirements.txt (line 1)) (3.0.6)\n",
      "INFO: pip is looking at multiple versions of functorch to determine which version is compatible with other requirements. This could take a while.\n",
      "  Downloading functorch-1.13.1-py2.py3-none-any.whl.metadata (353 bytes)\n",
      "  Downloading functorch-1.13.0-py2.py3-none-any.whl.metadata (353 bytes)\n",
      "Requirement already satisfied: markdown-it-py>=2.2.0 in /usr/local/lib/python3.10/dist-packages (from rich->keras>=3.2.0->tensorflow>=2.4.0->-r requirements.txt (line 1)) (3.0.0)\n",
      "Requirement already satisfied: pygments<3.0.0,>=2.13.0 in /usr/local/lib/python3.10/dist-packages (from rich->keras>=3.2.0->tensorflow>=2.4.0->-r requirements.txt (line 1)) (2.18.0)\n",
      "Requirement already satisfied: mdurl~=0.1 in /usr/local/lib/python3.10/dist-packages (from markdown-it-py>=2.2.0->rich->keras>=3.2.0->tensorflow>=2.4.0->-r requirements.txt (line 1)) (0.1.2)\n",
      "Downloading torch-1.13.0-cp310-cp310-manylinux1_x86_64.whl (890.1 MB)\n",
      "\u001b[2K   \u001b[90m━━━━━━━━━━━━━━━━━━━━━━━━━━━━━━━━━━━━━━━━\u001b[0m \u001b[32m890.1/890.1 MB\u001b[0m \u001b[31m1.9 MB/s\u001b[0m eta \u001b[36m0:00:00\u001b[0m\n",
      "\u001b[?25hDownloading matplotlib-3.6.3-cp310-cp310-manylinux_2_17_x86_64.manylinux2014_x86_64.whl (11.8 MB)\n",
      "\u001b[2K   \u001b[90m━━━━━━━━━━━━━━━━━━━━━━━━━━━━━━━━━━━━━━━━\u001b[0m \u001b[32m11.8/11.8 MB\u001b[0m \u001b[31m58.2 MB/s\u001b[0m eta \u001b[36m0:00:00\u001b[0m\n",
      "\u001b[?25hDownloading numpy-1.24.2-cp310-cp310-manylinux_2_17_x86_64.manylinux2014_x86_64.whl (17.3 MB)\n",
      "\u001b[2K   \u001b[90m━━━━━━━━━━━━━━━━━━━━━━━━━━━━━━━━━━━━━━━━\u001b[0m \u001b[32m17.3/17.3 MB\u001b[0m \u001b[31m44.8 MB/s\u001b[0m eta \u001b[36m0:00:00\u001b[0m\n",
      "\u001b[?25hDownloading scikit_learn-1.2.1-cp310-cp310-manylinux_2_17_x86_64.manylinux2014_x86_64.whl (9.6 MB)\n",
      "\u001b[2K   \u001b[90m━━━━━━━━━━━━━━━━━━━━━━━━━━━━━━━━━━━━━━━━\u001b[0m \u001b[32m9.6/9.6 MB\u001b[0m \u001b[31m53.5 MB/s\u001b[0m eta \u001b[36m0:00:00\u001b[0m\n",
      "\u001b[?25hDownloading seaborn-0.12.2-py3-none-any.whl (293 kB)\n",
      "\u001b[2K   \u001b[90m━━━━━━━━━━━━━━━━━━━━━━━━━━━━━━━━━━━━━━━━\u001b[0m \u001b[32m293.3/293.3 kB\u001b[0m \u001b[31m15.3 MB/s\u001b[0m eta \u001b[36m0:00:00\u001b[0m\n",
      "\u001b[?25hDownloading scipy-1.10.0-cp310-cp310-manylinux_2_17_x86_64.manylinux2014_x86_64.whl (34.4 MB)\n",
      "\u001b[2K   \u001b[90m━━━━━━━━━━━━━━━━━━━━━━━━━━━━━━━━━━━━━━━━\u001b[0m \u001b[32m34.4/34.4 MB\u001b[0m \u001b[31m10.5 MB/s\u001b[0m eta \u001b[36m0:00:00\u001b[0m\n",
      "\u001b[?25hDownloading pandas-1.5.3-cp310-cp310-manylinux_2_17_x86_64.manylinux2014_x86_64.whl (12.1 MB)\n",
      "\u001b[2K   \u001b[90m━━━━━━━━━━━━━━━━━━━━━━━━━━━━━━━━━━━━━━━━\u001b[0m \u001b[32m12.1/12.1 MB\u001b[0m \u001b[31m51.6 MB/s\u001b[0m eta \u001b[36m0:00:00\u001b[0m\n",
      "\u001b[?25hDownloading Jinja2-3.1.2-py3-none-any.whl (133 kB)\n",
      "\u001b[2K   \u001b[90m━━━━━━━━━━━━━━━━━━━━━━━━━━━━━━━━━━━━━━━━\u001b[0m \u001b[32m133.1/133.1 kB\u001b[0m \u001b[31m7.6 MB/s\u001b[0m eta \u001b[36m0:00:00\u001b[0m\n",
      "\u001b[?25hDownloading Pillow-9.4.0-cp310-cp310-manylinux_2_28_x86_64.whl (3.4 MB)\n",
      "\u001b[2K   \u001b[90m━━━━━━━━━━━━━━━━━━━━━━━━━━━━━━━━━━━━━━━━\u001b[0m \u001b[32m3.4/3.4 MB\u001b[0m \u001b[31m47.0 MB/s\u001b[0m eta \u001b[36m0:00:00\u001b[0m\n",
      "\u001b[?25hDownloading opacus-1.3.0-py3-none-any.whl (216 kB)\n",
      "\u001b[2K   \u001b[90m━━━━━━━━━━━━━━━━━━━━━━━━━━━━━━━━━━━━━━━━\u001b[0m \u001b[32m216.9/216.9 kB\u001b[0m \u001b[31m14.0 MB/s\u001b[0m eta \u001b[36m0:00:00\u001b[0m\n",
      "\u001b[?25hDownloading torchvision-0.14.0-cp310-cp310-manylinux1_x86_64.whl (24.3 MB)\n",
      "\u001b[2K   \u001b[90m━━━━━━━━━━━━━━━━━━━━━━━━━━━━━━━━━━━━━━━━\u001b[0m \u001b[32m24.3/24.3 MB\u001b[0m \u001b[31m17.8 MB/s\u001b[0m eta \u001b[36m0:00:00\u001b[0m\n",
      "\u001b[?25hDownloading PyYAML-6.0-cp310-cp310-manylinux_2_5_x86_64.manylinux1_x86_64.manylinux_2_12_x86_64.manylinux2010_x86_64.whl (682 kB)\n",
      "\u001b[2K   \u001b[90m━━━━━━━━━━━━━━━━━━━━━━━━━━━━━━━━━━━━━━━━\u001b[0m \u001b[32m682.2/682.2 kB\u001b[0m \u001b[31m5.1 MB/s\u001b[0m eta \u001b[36m0:00:00\u001b[0m\n",
      "\u001b[?25hDownloading pytest-7.2.1-py3-none-any.whl (317 kB)\n",
      "\u001b[2K   \u001b[90m━━━━━━━━━━━━━━━━━━━━━━━━━━━━━━━━━━━━━━━━\u001b[0m \u001b[32m317.1/317.1 kB\u001b[0m \u001b[31m7.8 MB/s\u001b[0m eta \u001b[36m0:00:00\u001b[0m\n",
      "\u001b[?25hDownloading nvidia_cublas_cu11-11.10.3.66-py3-none-manylinux1_x86_64.whl (317.1 MB)\n",
      "\u001b[2K   \u001b[90m━━━━━━━━━━━━━━━━━━━━━━━━━━━━━━━━━━━━━━━━\u001b[0m \u001b[32m317.1/317.1 MB\u001b[0m \u001b[31m4.4 MB/s\u001b[0m eta \u001b[36m0:00:00\u001b[0m\n",
      "\u001b[?25hDownloading nvidia_cuda_nvrtc_cu11-11.7.99-2-py3-none-manylinux1_x86_64.whl (21.0 MB)\n",
      "\u001b[2K   \u001b[90m━━━━━━━━━━━━━━━━━━━━━━━━━━━━━━━━━━━━━━━━\u001b[0m \u001b[32m21.0/21.0 MB\u001b[0m \u001b[31m77.5 MB/s\u001b[0m eta \u001b[36m0:00:00\u001b[0m\n",
      "\u001b[?25hDownloading nvidia_cuda_runtime_cu11-11.7.99-py3-none-manylinux1_x86_64.whl (849 kB)\n",
      "\u001b[2K   \u001b[90m━━━━━━━━━━━━━━━━━━━━━━━━━━━━━━━━━━━━━━━━\u001b[0m \u001b[32m849.3/849.3 kB\u001b[0m \u001b[31m45.0 MB/s\u001b[0m eta \u001b[36m0:00:00\u001b[0m\n",
      "\u001b[?25hDownloading nvidia_cudnn_cu11-8.5.0.96-2-py3-none-manylinux1_x86_64.whl (557.1 MB)\n",
      "\u001b[2K   \u001b[90m━━━━━━━━━━━━━━━━━━━━━━━━━━━━━━━━━━━━━━━━\u001b[0m \u001b[32m557.1/557.1 MB\u001b[0m \u001b[31m1.6 MB/s\u001b[0m eta \u001b[36m0:00:00\u001b[0m\n",
      "\u001b[?25hDownloading functorch-1.13.0-py2.py3-none-any.whl (2.1 kB)\n",
      "Installing collected packages: PyYAML, pytest, Pillow, nvidia-cuda-runtime-cu11, nvidia-cuda-nvrtc-cu11, nvidia-cublas-cu11, numpy, jinja2, scipy, pandas, nvidia-cudnn-cu11, torch, scikit-learn, matplotlib, torchvision, seaborn, functorch, opacus\n",
      "  Attempting uninstall: PyYAML\n",
      "    Found existing installation: PyYAML 6.0.2\n",
      "    Uninstalling PyYAML-6.0.2:\n",
      "      Successfully uninstalled PyYAML-6.0.2\n",
      "  Attempting uninstall: pytest\n",
      "    Found existing installation: pytest 7.4.4\n",
      "    Uninstalling pytest-7.4.4:\n",
      "      Successfully uninstalled pytest-7.4.4\n",
      "  Attempting uninstall: Pillow\n",
      "    Found existing installation: pillow 10.4.0\n",
      "    Uninstalling pillow-10.4.0:\n",
      "      Successfully uninstalled pillow-10.4.0\n",
      "  Attempting uninstall: numpy\n",
      "    Found existing installation: numpy 1.26.4\n",
      "    Uninstalling numpy-1.26.4:\n",
      "      Successfully uninstalled numpy-1.26.4\n",
      "  Attempting uninstall: jinja2\n",
      "    Found existing installation: Jinja2 3.1.4\n",
      "    Uninstalling Jinja2-3.1.4:\n",
      "      Successfully uninstalled Jinja2-3.1.4\n",
      "  Attempting uninstall: scipy\n",
      "    Found existing installation: scipy 1.13.1\n",
      "    Uninstalling scipy-1.13.1:\n",
      "      Successfully uninstalled scipy-1.13.1\n",
      "  Attempting uninstall: pandas\n",
      "    Found existing installation: pandas 2.2.2\n",
      "    Uninstalling pandas-2.2.2:\n",
      "      Successfully uninstalled pandas-2.2.2\n",
      "  Attempting uninstall: torch\n",
      "    Found existing installation: torch 2.5.0+cu121\n",
      "    Uninstalling torch-2.5.0+cu121:\n",
      "      Successfully uninstalled torch-2.5.0+cu121\n",
      "  Attempting uninstall: scikit-learn\n",
      "    Found existing installation: scikit-learn 1.5.2\n",
      "    Uninstalling scikit-learn-1.5.2:\n",
      "      Successfully uninstalled scikit-learn-1.5.2\n",
      "  Attempting uninstall: matplotlib\n",
      "    Found existing installation: matplotlib 3.8.0\n",
      "    Uninstalling matplotlib-3.8.0:\n",
      "      Successfully uninstalled matplotlib-3.8.0\n",
      "  Attempting uninstall: torchvision\n",
      "    Found existing installation: torchvision 0.20.0+cu121\n",
      "    Uninstalling torchvision-0.20.0+cu121:\n",
      "      Successfully uninstalled torchvision-0.20.0+cu121\n",
      "  Attempting uninstall: seaborn\n",
      "    Found existing installation: seaborn 0.13.2\n",
      "    Uninstalling seaborn-0.13.2:\n",
      "      Successfully uninstalled seaborn-0.13.2\n",
      "\u001b[31mERROR: pip's dependency resolver does not currently take into account all the packages that are installed. This behaviour is the source of the following dependency conflicts.\n",
      "albucore 0.0.19 requires numpy>=1.24.4, but you have numpy 1.24.2 which is incompatible.\n",
      "albumentations 1.4.20 requires numpy>=1.24.4, but you have numpy 1.24.2 which is incompatible.\n",
      "bigframes 1.25.0 requires matplotlib>=3.7.1, but you have matplotlib 3.6.3 which is incompatible.\n",
      "bigframes 1.25.0 requires scikit-learn>=1.2.2, but you have scikit-learn 1.2.1 which is incompatible.\n",
      "cudf-cu12 24.10.1 requires pandas<2.2.3dev0,>=2.0, but you have pandas 1.5.3 which is incompatible.\n",
      "fairlearn 0.11.0 requires numpy>=1.24.4, but you have numpy 1.24.2 which is incompatible.\n",
      "fairlearn 0.11.0 requires pandas>=2.0.3, but you have pandas 1.5.3 which is incompatible.\n",
      "google-colab 1.0.0 requires pandas==2.2.2, but you have pandas 1.5.3 which is incompatible.\n",
      "mizani 0.13.0 requires pandas>=2.2.0, but you have pandas 1.5.3 which is incompatible.\n",
      "plotnine 0.14.0 requires matplotlib>=3.8.0, but you have matplotlib 3.6.3 which is incompatible.\n",
      "plotnine 0.14.0 requires pandas>=2.2.0, but you have pandas 1.5.3 which is incompatible.\n",
      "torchaudio 2.5.0+cu121 requires torch==2.5.0, but you have torch 1.13.0 which is incompatible.\n",
      "xarray 2024.10.0 requires pandas>=2.1, but you have pandas 1.5.3 which is incompatible.\u001b[0m\u001b[31m\n",
      "\u001b[0mSuccessfully installed Pillow-9.4.0 PyYAML-6.0 functorch-1.13.0 jinja2-3.1.2 matplotlib-3.6.3 numpy-1.24.2 nvidia-cublas-cu11-11.10.3.66 nvidia-cuda-nvrtc-cu11-11.7.99 nvidia-cuda-runtime-cu11-11.7.99 nvidia-cudnn-cu11-8.5.0.96 opacus-1.3.0 pandas-1.5.3 pytest-7.2.1 scikit-learn-1.2.1 scipy-1.10.0 seaborn-0.12.2 torch-1.13.0 torchvision-0.14.0\n"
     ]
    },
    {
     "data": {
      "application/vnd.colab-display-data+json": {
       "id": "977e144d7a984af6b60d3cd79fd291b4",
       "pip_warning": {
        "packages": [
         "PIL",
         "matplotlib",
         "mpl_toolkits",
         "numpy"
        ]
       }
      }
     },
     "metadata": {},
     "output_type": "display_data"
    }
   ],
   "source": [
    "!pip install -r requirements.txt"
   ]
  },
  {
   "cell_type": "code",
   "execution_count": null,
   "metadata": {
    "colab": {
     "base_uri": "https://localhost:8080/"
    },
    "executionInfo": {
     "elapsed": 454,
     "status": "ok",
     "timestamp": 1730904675789,
     "user": {
      "displayName": "Ilhama Novruzova",
      "userId": "12259181736104464630"
     },
     "user_tz": -240
    },
    "id": "jabHQEauGpZb",
    "outputId": "e5b77479-8c2c-46a4-ef09-ae0326a0b51c"
   },
   "outputs": [
    {
     "name": "stdout",
     "output_type": "stream",
     "text": [
      "/content/ml_privacy_meter\n"
     ]
    }
   ],
   "source": [
    "%cd ml_privacy_meter"
   ]
  },
  {
   "cell_type": "code",
   "execution_count": null,
   "metadata": {
    "id": "nw_thihFGqUR"
   },
   "outputs": [],
   "source": [
    "import sys\n",
    "sys.path.append('/content/ml_privacy_meter')"
   ]
  },
  {
   "cell_type": "code",
   "execution_count": null,
   "metadata": {
    "colab": {
     "base_uri": "https://localhost:8080/"
    },
    "executionInfo": {
     "elapsed": 16085,
     "status": "ok",
     "timestamp": 1730904694180,
     "user": {
      "displayName": "Ilhama Novruzova",
      "userId": "12259181736104464630"
     },
     "user_tz": -240
    },
    "id": "k_x8p6ZPQRyd",
    "outputId": "4e483b11-b3e5-408f-8cbe-e8c9d02597a6"
   },
   "outputs": [
    {
     "name": "stdout",
     "output_type": "stream",
     "text": [
      "Requirement already satisfied: aif360 in /usr/local/lib/python3.10/dist-packages (0.6.1)\n",
      "Requirement already satisfied: numpy>=1.16 in /usr/local/lib/python3.10/dist-packages (from aif360) (1.26.4)\n",
      "Requirement already satisfied: scipy>=1.2.0 in /usr/local/lib/python3.10/dist-packages (from aif360) (1.10.0)\n",
      "Requirement already satisfied: pandas>=0.24.0 in /usr/local/lib/python3.10/dist-packages (from aif360) (2.2.3)\n",
      "Requirement already satisfied: scikit-learn>=1.0 in /usr/local/lib/python3.10/dist-packages (from aif360) (1.2.1)\n",
      "Requirement already satisfied: matplotlib in /usr/local/lib/python3.10/dist-packages (from aif360) (3.6.3)\n",
      "Requirement already satisfied: python-dateutil>=2.8.2 in /usr/local/lib/python3.10/dist-packages (from pandas>=0.24.0->aif360) (2.8.2)\n",
      "Requirement already satisfied: pytz>=2020.1 in /usr/local/lib/python3.10/dist-packages (from pandas>=0.24.0->aif360) (2024.2)\n",
      "Requirement already satisfied: tzdata>=2022.7 in /usr/local/lib/python3.10/dist-packages (from pandas>=0.24.0->aif360) (2024.2)\n",
      "Requirement already satisfied: joblib>=1.1.1 in /usr/local/lib/python3.10/dist-packages (from scikit-learn>=1.0->aif360) (1.4.2)\n",
      "Requirement already satisfied: threadpoolctl>=2.0.0 in /usr/local/lib/python3.10/dist-packages (from scikit-learn>=1.0->aif360) (3.5.0)\n",
      "Requirement already satisfied: contourpy>=1.0.1 in /usr/local/lib/python3.10/dist-packages (from matplotlib->aif360) (1.3.0)\n",
      "Requirement already satisfied: cycler>=0.10 in /usr/local/lib/python3.10/dist-packages (from matplotlib->aif360) (0.12.1)\n",
      "Requirement already satisfied: fonttools>=4.22.0 in /usr/local/lib/python3.10/dist-packages (from matplotlib->aif360) (4.54.1)\n",
      "Requirement already satisfied: kiwisolver>=1.0.1 in /usr/local/lib/python3.10/dist-packages (from matplotlib->aif360) (1.4.7)\n",
      "Requirement already satisfied: packaging>=20.0 in /usr/local/lib/python3.10/dist-packages (from matplotlib->aif360) (24.1)\n",
      "Requirement already satisfied: pillow>=6.2.0 in /usr/local/lib/python3.10/dist-packages (from matplotlib->aif360) (9.4.0)\n",
      "Requirement already satisfied: pyparsing>=2.2.1 in /usr/local/lib/python3.10/dist-packages (from matplotlib->aif360) (3.2.0)\n",
      "Requirement already satisfied: six>=1.5 in /usr/local/lib/python3.10/dist-packages (from python-dateutil>=2.8.2->pandas>=0.24.0->aif360) (1.16.0)\n",
      "Requirement already satisfied: aif360[Reductions] in /usr/local/lib/python3.10/dist-packages (0.6.1)\n",
      "Requirement already satisfied: numpy>=1.16 in /usr/local/lib/python3.10/dist-packages (from aif360[Reductions]) (1.26.4)\n",
      "Requirement already satisfied: scipy>=1.2.0 in /usr/local/lib/python3.10/dist-packages (from aif360[Reductions]) (1.10.0)\n",
      "Requirement already satisfied: pandas>=0.24.0 in /usr/local/lib/python3.10/dist-packages (from aif360[Reductions]) (2.2.3)\n",
      "Requirement already satisfied: scikit-learn>=1.0 in /usr/local/lib/python3.10/dist-packages (from aif360[Reductions]) (1.2.1)\n",
      "Requirement already satisfied: matplotlib in /usr/local/lib/python3.10/dist-packages (from aif360[Reductions]) (3.6.3)\n",
      "Requirement already satisfied: fairlearn~=0.7 in /usr/local/lib/python3.10/dist-packages (from aif360[Reductions]) (0.11.0)\n",
      "Requirement already satisfied: python-dateutil>=2.8.2 in /usr/local/lib/python3.10/dist-packages (from pandas>=0.24.0->aif360[Reductions]) (2.8.2)\n",
      "Requirement already satisfied: pytz>=2020.1 in /usr/local/lib/python3.10/dist-packages (from pandas>=0.24.0->aif360[Reductions]) (2024.2)\n",
      "Requirement already satisfied: tzdata>=2022.7 in /usr/local/lib/python3.10/dist-packages (from pandas>=0.24.0->aif360[Reductions]) (2024.2)\n",
      "Requirement already satisfied: joblib>=1.1.1 in /usr/local/lib/python3.10/dist-packages (from scikit-learn>=1.0->aif360[Reductions]) (1.4.2)\n",
      "Requirement already satisfied: threadpoolctl>=2.0.0 in /usr/local/lib/python3.10/dist-packages (from scikit-learn>=1.0->aif360[Reductions]) (3.5.0)\n",
      "Requirement already satisfied: contourpy>=1.0.1 in /usr/local/lib/python3.10/dist-packages (from matplotlib->aif360[Reductions]) (1.3.0)\n",
      "Requirement already satisfied: cycler>=0.10 in /usr/local/lib/python3.10/dist-packages (from matplotlib->aif360[Reductions]) (0.12.1)\n",
      "Requirement already satisfied: fonttools>=4.22.0 in /usr/local/lib/python3.10/dist-packages (from matplotlib->aif360[Reductions]) (4.54.1)\n",
      "Requirement already satisfied: kiwisolver>=1.0.1 in /usr/local/lib/python3.10/dist-packages (from matplotlib->aif360[Reductions]) (1.4.7)\n",
      "Requirement already satisfied: packaging>=20.0 in /usr/local/lib/python3.10/dist-packages (from matplotlib->aif360[Reductions]) (24.1)\n",
      "Requirement already satisfied: pillow>=6.2.0 in /usr/local/lib/python3.10/dist-packages (from matplotlib->aif360[Reductions]) (9.4.0)\n",
      "Requirement already satisfied: pyparsing>=2.2.1 in /usr/local/lib/python3.10/dist-packages (from matplotlib->aif360[Reductions]) (3.2.0)\n",
      "Requirement already satisfied: six>=1.5 in /usr/local/lib/python3.10/dist-packages (from python-dateutil>=2.8.2->pandas>=0.24.0->aif360[Reductions]) (1.16.0)\n"
     ]
    }
   ],
   "source": [
    "!pip install aif360\n",
    "!pip install aif360[Reductions]"
   ]
  },
  {
   "cell_type": "code",
   "execution_count": null,
   "metadata": {
    "colab": {
     "base_uri": "https://localhost:8080/"
    },
    "executionInfo": {
     "elapsed": 2366,
     "status": "ok",
     "timestamp": 1730904713199,
     "user": {
      "displayName": "Ilhama Novruzova",
      "userId": "12259181736104464630"
     },
     "user_tz": -240
    },
    "id": "IG-Jy-8FQWYQ",
    "outputId": "b33ccdcc-29db-475f-abce-09076af62a9f"
   },
   "outputs": [
    {
     "name": "stdout",
     "output_type": "stream",
     "text": [
      "Drive already mounted at /content/drive; to attempt to forcibly remount, call drive.mount(\"/content/drive\", force_remount=True).\n"
     ]
    }
   ],
   "source": [
    "from google.colab import drive\n",
    "drive.mount('/content/drive')"
   ]
  },
  {
   "cell_type": "code",
   "execution_count": null,
   "metadata": {
    "colab": {
     "base_uri": "https://localhost:8080/"
    },
    "executionInfo": {
     "elapsed": 318,
     "status": "ok",
     "timestamp": 1730904716336,
     "user": {
      "displayName": "Ilhama Novruzova",
      "userId": "12259181736104464630"
     },
     "user_tz": -240
    },
    "id": "wPnJzRaIV2AW",
    "outputId": "cddb0667-d3b6-42f3-a17b-e29c56a70470"
   },
   "outputs": [
    {
     "name": "stdout",
     "output_type": "stream",
     "text": [
      "/content/drive/MyDrive/Senior Design Project/mia-privacy-fairness\n"
     ]
    }
   ],
   "source": [
    "%cd '/content/drive/MyDrive/Senior Design Project/mia-privacy-fairness'"
   ]
  },
  {
   "cell_type": "code",
   "execution_count": null,
   "metadata": {
    "colab": {
     "base_uri": "https://localhost:8080/"
    },
    "executionInfo": {
     "elapsed": 11878,
     "status": "ok",
     "timestamp": 1730904730579,
     "user": {
      "displayName": "Ilhama Novruzova",
      "userId": "12259181736104464630"
     },
     "user_tz": -240
    },
    "id": "ETU_TG0eFJ-I",
    "outputId": "89ed4c27-b669-45a2-8832-8188cfa116d9"
   },
   "outputs": [
    {
     "name": "stderr",
     "output_type": "stream",
     "text": [
      "WARNING:root:No module named 'inFairness': SenSeI and SenSR will be unavailable. To install, run:\n",
      "pip install 'aif360[inFairness]'\n"
     ]
    }
   ],
   "source": [
    "from fairlearn.datasets import fetch_acs_income\n",
    "from sklearn import preprocessing\n",
    "from fairlearn.metrics import MetricFrame\n",
    "from fairlearn.metrics import equalized_odds_difference\n",
    "import numpy as np\n",
    "from privacy_meter.audit import Audit, MetricEnum\n",
    "from privacy_meter.dataset import Dataset\n",
    "from privacy_meter.information_source import InformationSource\n",
    "import pandas as pd\n",
    "\n",
    "import keras as keras\n",
    "import tensorflow as tf\n",
    "import matplotlib.pyplot as plt\n",
    "# load dataset\n",
    "import pandas as pd\n",
    "from fairlearn.reductions import EqualizedOdds\n",
    "import warnings\n",
    "warnings.filterwarnings('ignore')\n",
    "\n",
    "from fairlearn.metrics import MetricFrame\n",
    "from sklearn.metrics import accuracy_score\n",
    "from sklearn.tree import DecisionTreeClassifier\n",
    "from privacy_meter.audit import Audit, MetricEnum\n",
    "from privacy_meter.dataset import Dataset\n",
    "from privacy_meter.information_source import InformationSource\n",
    "from privacy_meter.model import Fairlearn_Model, Sklearn_Model\n",
    "\n",
    "from aif360.datasets import BinaryLabelDataset, StandardDataset\n",
    "from data_utils import DatasetBuilder"
   ]
  },
  {
   "cell_type": "markdown",
   "metadata": {
    "id": "Cm_csV0yFJ-O"
   },
   "source": [
    "# load dataset"
   ]
  },
  {
   "cell_type": "code",
   "execution_count": null,
   "metadata": {
    "colab": {
     "base_uri": "https://localhost:8080/"
    },
    "executionInfo": {
     "elapsed": 531163,
     "status": "ok",
     "timestamp": 1730905270034,
     "user": {
      "displayName": "Ilhama Novruzova",
      "userId": "12259181736104464630"
     },
     "user_tz": -240
    },
    "id": "8nkUbG4tWVdX",
    "outputId": "55989ced-d5d1-4b4f-c7de-2adde08cbef0"
   },
   "outputs": [
    {
     "name": "stdout",
     "output_type": "stream",
     "text": [
      "--2024-11-06 14:52:18--  https://archive.ics.uci.edu/ml/machine-learning-databases/00222/bank-additional.zip\n",
      "Resolving archive.ics.uci.edu (archive.ics.uci.edu)... 128.195.10.252\n",
      "Connecting to archive.ics.uci.edu (archive.ics.uci.edu)|128.195.10.252|:443... connected.\n",
      "HTTP request sent, awaiting response... 200 OK\n",
      "Length: unspecified\n",
      "Saving to: ‘bank-additional.zip.1’\n",
      "\n",
      "bank-additional.zip     [  <=>               ] 434.15K  1.12MB/s    in 0.4s    \n",
      "\n",
      "2024-11-06 14:52:19 (1.12 MB/s) - ‘bank-additional.zip.1’ saved [444572]\n",
      "\n",
      "Archive:  bank-additional.zip\n",
      "replace bank-additional/bank-additional/.DS_Store? [y]es, [n]o, [A]ll, [N]one, [r]ename: mv: cannot stat 'bank-additional/bank-additional/*': No such file or directory\n",
      "/bin/bash: -c: line 1: unexpected EOF while looking for matching `''\n",
      "/bin/bash: -c: line 2: syntax error: unexpected end of file\n"
     ]
    }
   ],
   "source": [
    "!wget https://archive.ics.uci.edu/ml/machine-learning-databases/00222/bank-additional.zip\n",
    "\n",
    "# Step 2: Unzip the file\n",
    "!unzip bank-additional.zip -d bank-additional\n",
    "\n",
    "# Step 3: Move the contents to the required directory\n",
    "!mv bank-additional/bank-additional/* /usr/local/lib/python3.10/dist-packages/aif360/data/raw/bank/\n",
    "\n",
    "# Step 4: Remove the zip file\n",
    "!rm bank-additional.zip'"
   ]
  },
  {
   "cell_type": "code",
   "execution_count": null,
   "metadata": {
    "id": "MC4p7pWRVUFh"
   },
   "outputs": [],
   "source": [
    "DATASET = \"bank\""
   ]
  },
  {
   "cell_type": "code",
   "execution_count": null,
   "metadata": {
    "colab": {
     "base_uri": "https://localhost:8080/"
    },
    "executionInfo": {
     "elapsed": 760,
     "status": "ok",
     "timestamp": 1730905279242,
     "user": {
      "displayName": "Ilhama Novruzova",
      "userId": "12259181736104464630"
     },
     "user_tz": -240
    },
    "id": "_rxZ02zFVaJ7",
    "outputId": "20f4f179-76da-485d-bb08-4c8ef107fea5"
   },
   "outputs": [
    {
     "name": "stderr",
     "output_type": "stream",
     "text": [
      "WARNING:root:Missing Data: 10700 rows removed from BankDataset.\n"
     ]
    }
   ],
   "source": [
    "# load dataset and set the groups\n",
    "dataset_builder =  DatasetBuilder(DATASET)\n",
    "dataset_orig = dataset_builder.load_data()\n",
    "sens_attr = dataset_orig.protected_attribute_names[0]\n",
    "unprivileged_groups = dataset_builder.unprivileged_groups\n",
    "privileged_groups = dataset_builder.privileged_groups"
   ]
  },
  {
   "cell_type": "code",
   "execution_count": null,
   "metadata": {
    "id": "GNfulWrGQEfI"
   },
   "outputs": [],
   "source": [
    "X = dataset_orig.features\n",
    "y_true = dataset_orig.labels.ravel()  # Flatten the labels array\n",
    "X = preprocessing.normalize(X, norm='l2')"
   ]
  },
  {
   "cell_type": "code",
   "execution_count": null,
   "metadata": {
    "id": "sxTIPYa0ww2U"
   },
   "outputs": [],
   "source": [
    "age = dataset_orig.features[:, dataset_orig.feature_names.index(sens_attr)]\n",
    "sensitive_features = dataset_orig.features[:, dataset_orig.feature_names.index(sens_attr)]"
   ]
  },
  {
   "cell_type": "code",
   "execution_count": null,
   "metadata": {
    "colab": {
     "base_uri": "https://localhost:8080/"
    },
    "executionInfo": {
     "elapsed": 435,
     "status": "ok",
     "timestamp": 1730905285612,
     "user": {
      "displayName": "Ilhama Novruzova",
      "userId": "12259181736104464630"
     },
     "user_tz": -240
    },
    "id": "UqYprn6wFJ-S",
    "outputId": "9429d97c-e6d3-40bf-e3b4-6edd9288f1c9"
   },
   "outputs": [
    {
     "data": {
      "text/plain": [
       "((30488, 57), (30488,))"
      ]
     },
     "execution_count": 12,
     "metadata": {},
     "output_type": "execute_result"
    }
   ],
   "source": [
    "X.shape, y_true.shape"
   ]
  },
  {
   "cell_type": "markdown",
   "metadata": {
    "id": "IemPkiZBFJ-U"
   },
   "source": [
    "# standard model"
   ]
  },
  {
   "cell_type": "code",
   "execution_count": null,
   "metadata": {
    "colab": {
     "base_uri": "https://localhost:8080/"
    },
    "executionInfo": {
     "elapsed": 1234,
     "status": "ok",
     "timestamp": 1730905288867,
     "user": {
      "displayName": "Ilhama Novruzova",
      "userId": "12259181736104464630"
     },
     "user_tz": -240
    },
    "id": "yuup0Vp1FJ-U",
    "outputId": "20ecd90e-e25e-4282-8393-d8304d5042ae"
   },
   "outputs": [
    {
     "name": "stdout",
     "output_type": "stream",
     "text": [
      "0.9218709000262398\n",
      "sensitive_feature_0\n",
      "0.0    0.863426\n",
      "1.0    0.923575\n",
      "Name: accuracy_score, dtype: float64\n",
      "0.03709676672037511\n"
     ]
    }
   ],
   "source": [
    "classifier = DecisionTreeClassifier(min_samples_leaf=10, max_depth=10) # changed max depth into 10\n",
    "classifier.fit(X, y_true)\n",
    "\n",
    "y_pred = classifier.predict(X)\n",
    "gm = MetricFrame(metrics=accuracy_score, y_true=y_true, y_pred=y_pred, sensitive_features=age)\n",
    "print(gm.overall)\n",
    "print(gm.by_group)\n",
    "print(equalized_odds_difference(y_true,\n",
    "                                y_pred,\n",
    "                                sensitive_features=age))"
   ]
  },
  {
   "cell_type": "markdown",
   "metadata": {
    "id": "QjCn07GOFJ-V"
   },
   "source": [
    "# fair models\n"
   ]
  },
  {
   "cell_type": "code",
   "execution_count": null,
   "metadata": {
    "colab": {
     "base_uri": "https://localhost:8080/"
    },
    "executionInfo": {
     "elapsed": 27846,
     "status": "ok",
     "timestamp": 1730905319989,
     "user": {
      "displayName": "Ilhama Novruzova",
      "userId": "12259181736104464630"
     },
     "user_tz": -240
    },
    "id": "ZDS5cy5DFJ-W",
    "outputId": "216e4ea2-1d73-4be0-8722-0ff5b843c530"
   },
   "outputs": [
    {
     "name": "stdout",
     "output_type": "stream",
     "text": [
      "0.9229204933088428\n",
      "sensitive_feature_0\n",
      "0.0    0.883102\n",
      "1.0    0.924082\n",
      "Name: accuracy_score, dtype: float64\n"
     ]
    }
   ],
   "source": [
    "from fairlearn.reductions import ExponentiatedGradient, DemographicParity\n",
    "from fairlearn.metrics import equalized_odds_difference\n",
    "\n",
    "np.random.seed(0)  # set seed for consistent results with ExponentiatedGradient\n",
    "constraint = EqualizedOdds(difference_bound=0.0001)\n",
    "classifier = DecisionTreeClassifier(min_samples_leaf=10, max_depth=10)\n",
    "mitigator = ExponentiatedGradient(classifier, constraint)\n",
    "mitigator.fit(X, y_true, sensitive_features=age)\n",
    "y_pred_mitigated = mitigator.predict(X)\n",
    "sr_mitigated = MetricFrame(metrics=accuracy_score, y_true=y_true, y_pred=y_pred_mitigated, sensitive_features=age)\n",
    "print(sr_mitigated.overall)\n",
    "print(sr_mitigated.by_group)"
   ]
  },
  {
   "cell_type": "code",
   "execution_count": null,
   "metadata": {
    "colab": {
     "base_uri": "https://localhost:8080/"
    },
    "executionInfo": {
     "elapsed": 417,
     "status": "ok",
     "timestamp": 1730905321430,
     "user": {
      "displayName": "Ilhama Novruzova",
      "userId": "12259181736104464630"
     },
     "user_tz": -240
    },
    "id": "QPGCovg-FJ-X",
    "outputId": "af306cab-d595-44a9-a0cb-faa49331874b"
   },
   "outputs": [
    {
     "name": "stdout",
     "output_type": "stream",
     "text": [
      "0.009553230634044563\n"
     ]
    }
   ],
   "source": [
    "print(equalized_odds_difference(y_true,\n",
    "                                y_pred_mitigated,\n",
    "                                sensitive_features=age))\n"
   ]
  },
  {
   "cell_type": "markdown",
   "metadata": {
    "id": "XEiWIinUFJ-Y"
   },
   "source": [
    "# Attack models"
   ]
  },
  {
   "cell_type": "code",
   "execution_count": 1,
   "metadata": {
    "id": "JQvzLJTPFJ-Z"
   },
   "outputs": [
    {
     "ename": "NameError",
     "evalue": "name 'np' is not defined",
     "output_type": "error",
     "traceback": [
      "\u001b[1;31m---------------------------------------------------------------------------\u001b[0m",
      "\u001b[1;31mNameError\u001b[0m                                 Traceback (most recent call last)",
      "Cell \u001b[1;32mIn[1], line 3\u001b[0m\n\u001b[0;32m      1\u001b[0m \u001b[38;5;66;03m# Set random seed for reproducibility\u001b[39;00m\n\u001b[0;32m      2\u001b[0m seed \u001b[38;5;241m=\u001b[39m \u001b[38;5;241m1234\u001b[39m\n\u001b[1;32m----> 3\u001b[0m \u001b[43mnp\u001b[49m\u001b[38;5;241m.\u001b[39mrandom\u001b[38;5;241m.\u001b[39mseed(seed)\n\u001b[0;32m      4\u001b[0m rng \u001b[38;5;241m=\u001b[39m np\u001b[38;5;241m.\u001b[39mrandom\u001b[38;5;241m.\u001b[39mdefault_rng(seed\u001b[38;5;241m=\u001b[39mseed)\n\u001b[0;32m      6\u001b[0m \u001b[38;5;66;03m# Dataset size adjustments for smaller dataset\u001b[39;00m\n",
      "\u001b[1;31mNameError\u001b[0m: name 'np' is not defined"
     ]
    }
   ],
   "source": [
    "# Set random seed for reproducibility\n",
    "seed = 1234\n",
    "np.random.seed(seed)\n",
    "rng = np.random.default_rng(seed=seed)\n",
    "\n",
    "# Dataset size adjustments for smaller dataset\n",
    "num_train_points = 1500  # Reduced from 2000\n",
    "num_test_points = 1500   # Reduced from 2000\n",
    "num_fair_train_points = 5000  # Reduced from 10000\n",
    "num_population_points = 10000  # Reduced from 30000\n",
    "\n",
    "# Randomly select indices for training, test, fair training, and population\n",
    "train_index = np.random.choice(X.shape[0], num_train_points, replace=False)\n",
    "test_index = np.random.choice(X.shape[0], num_test_points, replace=False)\n",
    "fair_train_index = np.random.choice(X.shape[0], num_fair_train_points, replace=False)\n",
    "population_index = np.random.choice(X.shape[0], num_population_points, replace=False)"
   ]
  },
  {
   "cell_type": "code",
   "execution_count": null,
   "metadata": {
    "id": "GE84QnrvFJ-Z"
   },
   "outputs": [],
   "source": [
    "input_shape= X.shape[-1]\n",
    "num_classes= 1"
   ]
  },
  {
   "cell_type": "code",
   "execution_count": null,
   "metadata": {
    "id": "FS5PKNglFJ-a"
   },
   "outputs": [],
   "source": [
    "# Define group labels based on y_true and sensitive attribute\n",
    "g_train = y_true[train_index] + (sensitive_features[train_index] * 2)\n",
    "g_test = y_true[test_index] + (sensitive_features[test_index] * 2)\n",
    "g_pop_train = y_true[population_index] + (sensitive_features[population_index] * 2)"
   ]
  },
  {
   "cell_type": "code",
   "execution_count": null,
   "metadata": {
    "id": "tKNxmEDBFJ-a"
   },
   "outputs": [],
   "source": [
    "# Create target model's dataset\n",
    "train_ds = {'x': X[train_index], 'y': y_true[train_index], 'g': g_train}\n",
    "test_ds = {'x': X[test_index], 'y': y_true[test_index], 'g': g_test}\n",
    "target_dataset = Dataset(\n",
    "    data_dict={'train': train_ds, 'test': test_ds},\n",
    "    default_input='x', default_output='y', default_group='g'\n",
    ")\n",
    "\n",
    "# Create reference dataset\n",
    "population_ds = {'x': X[population_index], 'y': y_true[population_index], 'g': g_pop_train}\n",
    "reference_dataset = Dataset(\n",
    "    data_dict={'train': population_ds},\n",
    "    default_input='x', default_output='y', default_group='g'\n",
    ")"
   ]
  },
  {
   "cell_type": "code",
   "execution_count": null,
   "metadata": {
    "colab": {
     "base_uri": "https://localhost:8080/"
    },
    "executionInfo": {
     "elapsed": 361,
     "status": "ok",
     "timestamp": 1730905332277,
     "user": {
      "displayName": "Ilhama Novruzova",
      "userId": "12259181736104464630"
     },
     "user_tz": -240
    },
    "id": "mZTBk_bzFJ-a",
    "outputId": "f0ed6721-e8c5-4bec-bceb-64c0a2581830"
   },
   "outputs": [
    {
     "name": "stdout",
     "output_type": "stream",
     "text": [
      "DecisionTreeClassifier(max_depth=8, min_samples_leaf=10)\n",
      "0.8873333333333333 sensitive_feature_0\n",
      "0.0    0.75000\n",
      "1.0    0.89071\n",
      "Name: accuracy_score, dtype: float64\n",
      "0.9233333333333333 sensitive_feature_0\n",
      "0.0    0.885714\n",
      "1.0    0.924232\n",
      "Name: accuracy_score, dtype: float64\n",
      "0.26399331662489556\n"
     ]
    }
   ],
   "source": [
    "# Define custom log loss function\n",
    "def log(y, pre):\n",
    "    e = 0.0000001\n",
    "    pre = np.clip(pre, e, 1 - e)\n",
    "    return -y * np.log(pre) - (1 - y) * np.log(1 - pre)\n",
    "\n",
    "# Train decision tree as target model\n",
    "model = DecisionTreeClassifier(min_samples_leaf=10, max_depth=8)\n",
    "model.fit(X[train_index], y_true[train_index])\n",
    "target_model = Sklearn_Model(model_obj=model, loss_fn=log)\n",
    "print(model)\n",
    "y_pred_test= model.predict(X[test_index])\n",
    "sr_test = MetricFrame(metrics=accuracy_score, y_true=y_true[test_index], y_pred=y_pred_test, sensitive_features=age[test_index])\n",
    "y_pred_train= model.predict(X[train_index])\n",
    "sr_train = MetricFrame(metrics=accuracy_score, y_true=y_true[train_index], y_pred=y_pred_train, sensitive_features=age[train_index])\n",
    "print(sr_test.overall, sr_test.by_group)\n",
    "print(sr_train.overall, sr_train.by_group)\n",
    "print(equalized_odds_difference(y_true[test_index],y_pred_test, sensitive_features=age[test_index]))"
   ]
  },
  {
   "cell_type": "code",
   "execution_count": null,
   "metadata": {
    "colab": {
     "base_uri": "https://localhost:8080/"
    },
    "executionInfo": {
     "elapsed": 1826,
     "status": "ok",
     "timestamp": 1730905336991,
     "user": {
      "displayName": "Ilhama Novruzova",
      "userId": "12259181736104464630"
     },
     "user_tz": -240
    },
    "id": "0zf7U0wDFJ-b",
    "outputId": "d4e22a21-cd06-4320-93b6-54633f5744ca"
   },
   "outputs": [
    {
     "name": "stdout",
     "output_type": "stream",
     "text": [
      "ExponentiatedGradient(constraints=<fairlearn.reductions._moments.utility_parity.EqualizedOdds object at 0x796268427550>,\n",
      "                      estimator=DecisionTreeClassifier(max_depth=8,\n",
      "                                                       min_samples_leaf=10),\n",
      "                      nu=0.0034359887699709764)\n",
      "0.8806666666666667 sensitive_feature_0\n",
      "0.0    0.777778\n",
      "1.0    0.883197\n",
      "Name: accuracy_score, dtype: float64\n",
      "0.9273333333333333 sensitive_feature_0\n",
      "0.0    0.857143\n",
      "1.0    0.929010\n",
      "Name: accuracy_score, dtype: float64\n",
      "0.07451262767688081\n"
     ]
    }
   ],
   "source": [
    "# Fair model with Equalized Odds\n",
    "constraint = EqualizedOdds(difference_bound=0.0001)\n",
    "classifier = DecisionTreeClassifier(min_samples_leaf=10, max_depth=8)\n",
    "mitigator = ExponentiatedGradient(classifier, constraint)\n",
    "mitigator.fit(X[train_index], y_true[train_index], sensitive_features=sensitive_features[train_index])\n",
    "fair_target_model = Fairlearn_Model(model_obj=mitigator, loss_fn=log)\n",
    "print(mitigator)\n",
    "y_pred_test= mitigator.predict(X[test_index])\n",
    "sr_test = MetricFrame(metrics=accuracy_score, y_true=y_true[test_index], y_pred=y_pred_test, sensitive_features=age[test_index])\n",
    "y_pred_train= mitigator.predict(X[train_index])\n",
    "sr_train = MetricFrame(metrics=accuracy_score, y_true=y_true[train_index], y_pred=y_pred_train, sensitive_features=age[train_index])\n",
    "print(sr_test.overall, sr_test.by_group)\n",
    "print(sr_train.overall, sr_train.by_group)\n",
    "print(equalized_odds_difference(y_true[test_index],y_pred_test, sensitive_features=age[test_index]))"
   ]
  },
  {
   "cell_type": "code",
   "execution_count": null,
   "metadata": {
    "id": "CDm7aRYrFJ-b"
   },
   "outputs": [],
   "source": [
    "# Define information sources\n",
    "un_target_info_source = InformationSource(\n",
    "    models=[target_model],\n",
    "    datasets=[target_dataset]\n",
    ")\n",
    "un_reference_info_source = InformationSource(\n",
    "    models=[target_model],\n",
    "    datasets=[reference_dataset]\n",
    ")\n",
    "fair_target_info_source = InformationSource(\n",
    "    models=[fair_target_model],\n",
    "    datasets=[target_dataset]\n",
    ")\n",
    "fair_reference_info_source = InformationSource(\n",
    "    models=[fair_target_model],\n",
    "    datasets=[reference_dataset]\n",
    ")"
   ]
  },
  {
   "cell_type": "code",
   "execution_count": null,
   "metadata": {
    "id": "K874rLuFFJ-b"
   },
   "outputs": [],
   "source": [
    "from privacy_meter import audit_report\n",
    "from privacy_meter.audit_report import *\n",
    "\n",
    "# Create audit objects\n",
    "un_audit_obj = Audit(\n",
    "    metrics=MetricEnum.GROUPPOPULATION,\n",
    "    inference_game_type=InferenceGame.PRIVACY_LOSS_MODEL,\n",
    "    target_info_sources=un_target_info_source,\n",
    "    reference_info_sources=un_reference_info_source,\n",
    "    logs_directory_names='un_log'\n",
    ")\n",
    "un_audit_obj.prepare()"
   ]
  },
  {
   "cell_type": "code",
   "execution_count": null,
   "metadata": {
    "colab": {
     "base_uri": "https://localhost:8080/",
     "height": 304
    },
    "executionInfo": {
     "elapsed": 1446,
     "status": "error",
     "timestamp": 1730905347047,
     "user": {
      "displayName": "Ilhama Novruzova",
      "userId": "12259181736104464630"
     },
     "user_tz": -240
    },
    "id": "AX6KMG5M3r93",
    "outputId": "90a703cf-91be-4455-cd0a-d3f4afcc042b"
   },
   "outputs": [
    {
     "name": "stdout",
     "output_type": "stream",
     "text": [
      "Results are stored in: ['un_log']\n"
     ]
    },
    {
     "ename": "IndexError",
     "evalue": "boolean index did not match indexed array along dimension 0; dimension is 4688 but corresponding boolean dimension is 10000",
     "output_type": "error",
     "traceback": [
      "\u001b[0;31m---------------------------------------------------------------------------\u001b[0m",
      "\u001b[0;31mIndexError\u001b[0m                                Traceback (most recent call last)",
      "\u001b[0;32m<ipython-input-24-ab412c0f6147>\u001b[0m in \u001b[0;36m<cell line: 1>\u001b[0;34m()\u001b[0m\n\u001b[0;32m----> 1\u001b[0;31m \u001b[0mun_audit_obj\u001b[0m\u001b[0;34m.\u001b[0m\u001b[0mrun\u001b[0m\u001b[0;34m(\u001b[0m\u001b[0;34m)\u001b[0m\u001b[0;34m\u001b[0m\u001b[0;34m\u001b[0m\u001b[0m\n\u001b[0m",
      "\u001b[0;32m/content/ml_privacy_meter/privacy_meter/audit.py\u001b[0m in \u001b[0;36mrun\u001b[0;34m(self)\u001b[0m\n\u001b[1;32m    178\u001b[0m         \"\"\"\n\u001b[1;32m    179\u001b[0m         \u001b[0mprint\u001b[0m\u001b[0;34m(\u001b[0m\u001b[0;34mf\"Results are stored in: {self.logs_directory_names}\"\u001b[0m\u001b[0;34m)\u001b[0m\u001b[0;34m\u001b[0m\u001b[0;34m\u001b[0m\u001b[0m\n\u001b[0;32m--> 180\u001b[0;31m         return [\n\u001b[0m\u001b[1;32m    181\u001b[0m             \u001b[0mself\u001b[0m\u001b[0;34m.\u001b[0m\u001b[0mmetric_objects\u001b[0m\u001b[0;34m[\u001b[0m\u001b[0mi\u001b[0m\u001b[0;34m]\u001b[0m\u001b[0;34m.\u001b[0m\u001b[0mrun_metric\u001b[0m\u001b[0;34m(\u001b[0m\u001b[0mself\u001b[0m\u001b[0;34m.\u001b[0m\u001b[0mfpr_tolerances\u001b[0m\u001b[0;34m)\u001b[0m\u001b[0;34m\u001b[0m\u001b[0;34m\u001b[0m\u001b[0m\n\u001b[1;32m    182\u001b[0m             \u001b[0;32mfor\u001b[0m \u001b[0mi\u001b[0m \u001b[0;32min\u001b[0m \u001b[0mrange\u001b[0m\u001b[0;34m(\u001b[0m\u001b[0mlen\u001b[0m\u001b[0;34m(\u001b[0m\u001b[0mself\u001b[0m\u001b[0;34m.\u001b[0m\u001b[0mmetric_objects\u001b[0m\u001b[0;34m)\u001b[0m\u001b[0;34m)\u001b[0m\u001b[0;34m\u001b[0m\u001b[0;34m\u001b[0m\u001b[0m\n",
      "\u001b[0;32m/content/ml_privacy_meter/privacy_meter/audit.py\u001b[0m in \u001b[0;36m<listcomp>\u001b[0;34m(.0)\u001b[0m\n\u001b[1;32m    179\u001b[0m         \u001b[0mprint\u001b[0m\u001b[0;34m(\u001b[0m\u001b[0;34mf\"Results are stored in: {self.logs_directory_names}\"\u001b[0m\u001b[0;34m)\u001b[0m\u001b[0;34m\u001b[0m\u001b[0;34m\u001b[0m\u001b[0m\n\u001b[1;32m    180\u001b[0m         return [\n\u001b[0;32m--> 181\u001b[0;31m             \u001b[0mself\u001b[0m\u001b[0;34m.\u001b[0m\u001b[0mmetric_objects\u001b[0m\u001b[0;34m[\u001b[0m\u001b[0mi\u001b[0m\u001b[0;34m]\u001b[0m\u001b[0;34m.\u001b[0m\u001b[0mrun_metric\u001b[0m\u001b[0;34m(\u001b[0m\u001b[0mself\u001b[0m\u001b[0;34m.\u001b[0m\u001b[0mfpr_tolerances\u001b[0m\u001b[0;34m)\u001b[0m\u001b[0;34m\u001b[0m\u001b[0;34m\u001b[0m\u001b[0m\n\u001b[0m\u001b[1;32m    182\u001b[0m             \u001b[0;32mfor\u001b[0m \u001b[0mi\u001b[0m \u001b[0;32min\u001b[0m \u001b[0mrange\u001b[0m\u001b[0;34m(\u001b[0m\u001b[0mlen\u001b[0m\u001b[0;34m(\u001b[0m\u001b[0mself\u001b[0m\u001b[0;34m.\u001b[0m\u001b[0mmetric_objects\u001b[0m\u001b[0;34m)\u001b[0m\u001b[0;34m)\u001b[0m\u001b[0;34m\u001b[0m\u001b[0;34m\u001b[0m\u001b[0m\n\u001b[1;32m    183\u001b[0m         ]\n",
      "\u001b[0;32m/content/ml_privacy_meter/privacy_meter/metric.py\u001b[0m in \u001b[0;36mrun_metric\u001b[0;34m(self, fpr_tolerance_rate_list)\u001b[0m\n\u001b[1;32m    853\u001b[0m \u001b[0;34m\u001b[0m\u001b[0m\n\u001b[1;32m    854\u001b[0m             thresholds = self.hypothesis_test_func(\n\u001b[0;32m--> 855\u001b[0;31m                 \u001b[0mself\u001b[0m\u001b[0;34m.\u001b[0m\u001b[0mreference_signals\u001b[0m\u001b[0;34m[\u001b[0m\u001b[0mself\u001b[0m\u001b[0;34m.\u001b[0m\u001b[0mreference_groups\u001b[0m \u001b[0;34m==\u001b[0m \u001b[0mg\u001b[0m\u001b[0;34m]\u001b[0m\u001b[0;34m,\u001b[0m \u001b[0mself\u001b[0m\u001b[0;34m.\u001b[0m\u001b[0mquantiles\u001b[0m\u001b[0;34m\u001b[0m\u001b[0;34m\u001b[0m\u001b[0m\n\u001b[0m\u001b[1;32m    856\u001b[0m             ).reshape(-1, 1)\n\u001b[1;32m    857\u001b[0m \u001b[0;34m\u001b[0m\u001b[0m\n",
      "\u001b[0;31mIndexError\u001b[0m: boolean index did not match indexed array along dimension 0; dimension is 4688 but corresponding boolean dimension is 10000"
     ]
    }
   ],
   "source": [
    "un_audit_obj.run()"
   ]
  },
  {
   "cell_type": "code",
   "execution_count": null,
   "metadata": {
    "id": "zD_KRFPnFJ-c"
   },
   "outputs": [],
   "source": [
    "fair_audit_obj = Audit(\n",
    "    metrics=MetricEnum.GROUPPOPULATION,\n",
    "    inference_game_type=InferenceGame.PRIVACY_LOSS_MODEL,\n",
    "    target_info_sources=fair_target_info_source,\n",
    "    reference_info_sources=fair_reference_info_source,\n",
    "    logs_directory_names='fair_log'\n",
    ")\n",
    "fair_audit_obj.prepare()"
   ]
  },
  {
   "cell_type": "code",
   "execution_count": null,
   "metadata": {
    "id": "S82MH90RFJ-c"
   },
   "outputs": [],
   "source": [
    "# un_audit_results = un_audit_obj.run()[0]\n",
    "# fair_audit_results = fair_audit_obj.run()[0]"
   ]
  },
  {
   "cell_type": "code",
   "execution_count": null,
   "metadata": {
    "id": "FYc2PUVYFJ-c"
   },
   "outputs": [],
   "source": [
    "# tpr = un_audit_results[0].tp/(un_audit_results[0].tp+un_audit_results[0].fn)\n",
    "# fpr = un_audit_results[0].fp/(un_audit_results[0].fp+un_audit_results[0].tn)\n",
    "# roc = np.trapz(tpr, fpr)\n",
    "# fair_tpr = fair_audit_results[0].tp/(fair_audit_results[0].tp+fair_audit_results[0].fn)\n",
    "# fair_fpr = fair_audit_results[0].fp/(fair_audit_results[0].fp+fair_audit_results[0].tn)\n",
    "# fair_roc = np.trapz(fair_tpr, fair_fpr)\n",
    "# plt.title('Overall ROC')\n",
    "# plt.plot([0, 1], [0, 1], 'k--', label='Random Guess')\n",
    "# plt.plot(fpr, tpr, label=f'Unfair-ROC:{roc:.3f}')\n",
    "# plt.plot(fair_fpr, fair_tpr, label=f'Fair-ROC:{fair_roc:.3f}')\n",
    "# plt.legend()\n",
    "# plt.xlabel('False Positive Rate')\n",
    "# plt.ylabel('True Positive Rate')"
   ]
  },
  {
   "cell_type": "code",
   "execution_count": null,
   "metadata": {
    "id": "GeoZfhenFJ-d"
   },
   "outputs": [],
   "source": [
    "# show the results in each group\n",
    "un_train_signal = un_audit_obj.metric_objects[0].member_signals\n",
    "un_test_signal = un_audit_obj.metric_objects[0].non_member_signals\n",
    "un_pop_signal = un_audit_obj.metric_objects[0].reference_signals\n",
    "\n",
    "fair_train_signal = fair_audit_obj.metric_objects[0].member_signals\n",
    "fair_test_signal = fair_audit_obj.metric_objects[0].non_member_signals\n",
    "fair_pop_signal = fair_audit_obj.metric_objects[0].reference_signals"
   ]
  },
  {
   "cell_type": "code",
   "execution_count": null,
   "metadata": {
    "colab": {
     "base_uri": "https://localhost:8080/"
    },
    "executionInfo": {
     "elapsed": 301,
     "status": "ok",
     "timestamp": 1730903238075,
     "user": {
      "displayName": "Ilhama Novruzova",
      "userId": "12259181736104464630"
     },
     "user_tz": -240
    },
    "id": "cnEe5W4w31Lf",
    "outputId": "a66de526-fab9-4dbd-b18f-5d68fcbc42ee"
   },
   "outputs": [
    {
     "data": {
      "text/plain": [
       "array([1.00000005e-07, 1.00000005e-07, 1.61180957e+01, ...,\n",
       "       3.10154928e-01, 1.00000005e-07, 1.00000005e-07])"
      ]
     },
     "execution_count": 122,
     "metadata": {},
     "output_type": "execute_result"
    }
   ],
   "source": [
    "un_pop_signal"
   ]
  },
  {
   "cell_type": "code",
   "execution_count": null,
   "metadata": {
    "colab": {
     "base_uri": "https://localhost:8080/",
     "height": 211
    },
    "executionInfo": {
     "elapsed": 932,
     "status": "error",
     "timestamp": 1730903563751,
     "user": {
      "displayName": "Ilhama Novruzova",
      "userId": "12259181736104464630"
     },
     "user_tz": -240
    },
    "id": "NV03sOo9FJ-d",
    "outputId": "da460028-1bb3-4fc0-ecd0-880f347b9748"
   },
   "outputs": [
    {
     "ename": "IndexError",
     "evalue": "boolean index did not match indexed array along dimension 0; dimension is 312 but corresponding boolean dimension is 1500",
     "output_type": "error",
     "traceback": [
      "\u001b[0;31m---------------------------------------------------------------------------\u001b[0m",
      "\u001b[0;31mIndexError\u001b[0m                                Traceback (most recent call last)",
      "\u001b[0;32m<ipython-input-124-6a7a89d546a6>\u001b[0m in \u001b[0;36m<cell line: 8>\u001b[0;34m()\u001b[0m\n\u001b[1;32m     11\u001b[0m         \u001b[0;32mcontinue\u001b[0m\u001b[0;34m\u001b[0m\u001b[0;34m\u001b[0m\u001b[0m\n\u001b[1;32m     12\u001b[0m     \u001b[0mun_pop\u001b[0m \u001b[0;34m=\u001b[0m \u001b[0mun_audit_obj\u001b[0m\u001b[0;34m.\u001b[0m\u001b[0mmetric_objects\u001b[0m\u001b[0;34m[\u001b[0m\u001b[0;36m0\u001b[0m\u001b[0;34m]\u001b[0m\u001b[0;34m.\u001b[0m\u001b[0mreference_signals\u001b[0m\u001b[0;34m[\u001b[0m\u001b[0mmask\u001b[0m\u001b[0;34m]\u001b[0m\u001b[0;34m\u001b[0m\u001b[0;34m\u001b[0m\u001b[0m\n\u001b[0;32m---> 13\u001b[0;31m     \u001b[0mp_train\u001b[0m \u001b[0;34m=\u001b[0m \u001b[0mcompute_p_value\u001b[0m\u001b[0;34m(\u001b[0m\u001b[0mun_audit_obj\u001b[0m\u001b[0;34m.\u001b[0m\u001b[0mmetric_objects\u001b[0m\u001b[0;34m[\u001b[0m\u001b[0;36m0\u001b[0m\u001b[0;34m]\u001b[0m\u001b[0;34m.\u001b[0m\u001b[0mmember_signals\u001b[0m\u001b[0;34m[\u001b[0m\u001b[0mg_train\u001b[0m \u001b[0;34m==\u001b[0m \u001b[0mg\u001b[0m\u001b[0;34m]\u001b[0m\u001b[0;34m,\u001b[0m \u001b[0mun_pop\u001b[0m\u001b[0;34m)\u001b[0m\u001b[0;34m\u001b[0m\u001b[0;34m\u001b[0m\u001b[0m\n\u001b[0m\u001b[1;32m     14\u001b[0m     \u001b[0mp_test\u001b[0m \u001b[0;34m=\u001b[0m \u001b[0mcompute_p_value\u001b[0m\u001b[0;34m(\u001b[0m\u001b[0mun_audit_obj\u001b[0m\u001b[0;34m.\u001b[0m\u001b[0mmetric_objects\u001b[0m\u001b[0;34m[\u001b[0m\u001b[0;36m0\u001b[0m\u001b[0;34m]\u001b[0m\u001b[0;34m.\u001b[0m\u001b[0mnon_member_signals\u001b[0m\u001b[0;34m[\u001b[0m\u001b[0mg_test\u001b[0m \u001b[0;34m==\u001b[0m \u001b[0mg\u001b[0m\u001b[0;34m]\u001b[0m\u001b[0;34m,\u001b[0m \u001b[0mun_pop\u001b[0m\u001b[0;34m)\u001b[0m\u001b[0;34m\u001b[0m\u001b[0;34m\u001b[0m\u001b[0m\n\u001b[1;32m     15\u001b[0m     \u001b[0mp_results\u001b[0m\u001b[0;34m[\u001b[0m\u001b[0mg\u001b[0m\u001b[0;34m]\u001b[0m \u001b[0;34m=\u001b[0m \u001b[0;34m{\u001b[0m\u001b[0;34m'p'\u001b[0m\u001b[0;34m:\u001b[0m \u001b[0mnp\u001b[0m\u001b[0;34m.\u001b[0m\u001b[0mconcatenate\u001b[0m\u001b[0;34m(\u001b[0m\u001b[0;34m[\u001b[0m\u001b[0mp_train\u001b[0m\u001b[0;34m,\u001b[0m \u001b[0mp_test\u001b[0m\u001b[0;34m]\u001b[0m\u001b[0;34m)\u001b[0m\u001b[0;34m,\u001b[0m \u001b[0;34m'mem'\u001b[0m\u001b[0;34m:\u001b[0m \u001b[0mnp\u001b[0m\u001b[0;34m.\u001b[0m\u001b[0mconcatenate\u001b[0m\u001b[0;34m(\u001b[0m\u001b[0;34m[\u001b[0m\u001b[0mnp\u001b[0m\u001b[0;34m.\u001b[0m\u001b[0mones\u001b[0m\u001b[0;34m(\u001b[0m\u001b[0mlen\u001b[0m\u001b[0;34m(\u001b[0m\u001b[0mp_train\u001b[0m\u001b[0;34m)\u001b[0m\u001b[0;34m)\u001b[0m\u001b[0;34m,\u001b[0m \u001b[0mnp\u001b[0m\u001b[0;34m.\u001b[0m\u001b[0mzeros\u001b[0m\u001b[0;34m(\u001b[0m\u001b[0mlen\u001b[0m\u001b[0;34m(\u001b[0m\u001b[0mp_test\u001b[0m\u001b[0;34m)\u001b[0m\u001b[0;34m)\u001b[0m\u001b[0;34m]\u001b[0m\u001b[0;34m)\u001b[0m\u001b[0;34m}\u001b[0m\u001b[0;34m\u001b[0m\u001b[0;34m\u001b[0m\u001b[0m\n",
      "\u001b[0;31mIndexError\u001b[0m: boolean index did not match indexed array along dimension 0; dimension is 312 but corresponding boolean dimension is 1500"
     ]
    }
   ],
   "source": [
    "import scipy\n",
    "def compute_p_value( target_value, observed_distribution):\n",
    "    return scipy.stats.percentileofscore(observed_distribution, target_value)/100\n",
    "\n",
    "p_results = {}\n",
    "p_fair_results = {}\n",
    "\n",
    "for g in np.unique(g_train):\n",
    "    mask = (g_pop_train == g)[:len(un_audit_obj.metric_objects[0].reference_signals)]\n",
    "    if np.sum(mask) == 0:\n",
    "        continue\n",
    "    un_pop = un_audit_obj.metric_objects[0].reference_signals[mask]\n",
    "    p_train = compute_p_value(un_audit_obj.metric_objects[0].member_signals[g_train == g], un_pop)\n",
    "    p_test = compute_p_value(un_audit_obj.metric_objects[0].non_member_signals[g_test == g], un_pop)\n",
    "    p_results[g] = {'p': np.concatenate([p_train, p_test]), 'mem': np.concatenate([np.ones(len(p_train)), np.zeros(len(p_test))])}\n",
    "\n",
    "    fair_pop = fair_audit_obj.metric_objects[0].reference_signals[mask]\n",
    "    p_fair_train = compute_p_value(fair_audit_obj.metric_objects[0].member_signals[g_train == g], fair_pop)\n",
    "    p_fair_test = compute_p_value(fair_audit_obj.metric_objects[0].non_member_signals[g_test == g], fair_pop)\n",
    "    p_fair_results[g] = {'p': np.concatenate([p_fair_train, p_fair_test]), 'mem': np.concatenate([np.ones(len(p_fair_train)), np.zeros(len(p_fair_test))])}"
   ]
  },
  {
   "cell_type": "code",
   "execution_count": null,
   "metadata": {
    "colab": {
     "base_uri": "https://localhost:8080/"
    },
    "executionInfo": {
     "elapsed": 421,
     "status": "ok",
     "timestamp": 1730793043258,
     "user": {
      "displayName": "Ilhama Novruzova",
      "userId": "12259181736104464630"
     },
     "user_tz": -240
    },
    "id": "6S9y6RNcFJ-d",
    "outputId": "e6f9da1c-0051-4439-e19d-65c8c4859e25"
   },
   "outputs": [
    {
     "data": {
      "text/plain": [
       "(2000,)"
      ]
     },
     "execution_count": 23,
     "metadata": {},
     "output_type": "execute_result"
    }
   ],
   "source": [
    "g_train.shape"
   ]
  },
  {
   "cell_type": "code",
   "execution_count": null,
   "metadata": {
    "colab": {
     "base_uri": "https://localhost:8080/",
     "height": 174
    },
    "executionInfo": {
     "elapsed": 1963,
     "status": "ok",
     "timestamp": 1730793046815,
     "user": {
      "displayName": "Ilhama Novruzova",
      "userId": "12259181736104464630"
     },
     "user_tz": -240
    },
    "id": "CblmqLDoFJ-e",
    "outputId": "61c21236-e363-4fc6-8ad6-0e224fabbfec"
   },
   "outputs": [
    {
     "data": {
      "image/png": "[encoded data removed]",
      "text/plain": [
       "<Figure size 1200x300 with 4 Axes>"
      ]
     },
     "metadata": {},
     "output_type": "display_data"
    }
   ],
   "source": [
    "# Visualize results\n",
    "figs, axes = plt.subplots(1, 4, figsize=(16, 4), sharey=True, sharex=True)\n",
    "\n",
    "# Visualize results\n",
    "figs, axes = plt.subplots(1, 4, figsize=(16, 4), sharey=True, sharex=True)\n",
    "\n",
    "for idx, group in enumerate(np.unique(g_train)):\n",
    "    tpr = [np.mean(p_results[group]['p'][p_results[group]['mem'] == 1] < i) for i in np.linspace(0, 1, 100)]\n",
    "    fpr = [np.mean(p_results[group]['p'][p_results[group]['mem'] == 0] < i) for i in np.linspace(0, 1, 100)]\n",
    "\n",
    "    fair_tpr = [np.mean(p_fair_results[group]['p'][p_fair_results[group]['mem'] == 1] < i) for i in np.linspace(0, 1, 100)]\n",
    "    fair_fpr = [np.mean(p_fair_results[group]['p'][p_fair_results[group]['mem'] == 0] < i) for i in np.linspace(0, 1, 100)]\n",
    "\n",
    "    axes[idx].plot(fpr, tpr, label=f'Unfair-ROC', color='blue')\n",
    "    axes[idx].plot(fair_fpr, fair_tpr, label=f'Fair-ROC', ls='--', color='red')\n",
    "    axes[idx].set_xlabel('False Positive Rate')\n",
    "    axes[idx].set_title(f'Subgroup {idx}')\n",
    "    axes[idx].legend()\n",
    "axes[0].set_ylabel('True Positive Rate')\n",
    "plt.tight_layout()\n",
    "plt.show()"
   ]
  }
 ],
 "metadata": {
  "colab": {
   "provenance": []
  },
  "kernelspec": {
   "display_name": "Python 3 (ipykernel)",
   "language": "python",
   "name": "python3"
  },
  "language_info": {
   "codemirror_mode": {
    "name": "ipython",
    "version": 3
   },
   "file_extension": ".py",
   "mimetype": "text/x-python",
   "name": "python",
   "nbconvert_exporter": "python",
   "pygments_lexer": "ipython3",
   "version": "3.11.1"
  },
  "vscode": {
   "interpreter": {
    "hash": "af48e0a30d2a0b619bf296aea7d7271ba14c9beb98b0928b3e23c82f12ae949a"
   }
  }
 },
 "nbformat": 4,
 "nbformat_minor": 1
}
