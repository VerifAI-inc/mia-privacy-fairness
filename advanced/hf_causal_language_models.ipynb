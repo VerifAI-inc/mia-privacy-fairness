{
 "cells": [
  {
   "cell_type": "markdown",
   "id": "6c33bce9",
   "metadata": {},
   "source": [
    "# Auditing a Causal Language Model (LM) using the Population Attack"
   ]
  },
  {
   "attachments": {},
   "cell_type": "markdown",
   "id": "3b136388",
   "metadata": {},
   "source": [
    "<table class=\"tfo-notebook-buttons\" align=\"left\">\n",
    "<td>\n",
    "    <a target=\"_blank\" href=\"https://colab.research.google.com/github/privacytrustlab/ml_privacy_meter/blob/master/advanced/hf_causal_language_models.ipynb\"><img src=\"https://www.tensorflow.org/images/colab_logo_32px.png\" />Run in Google Colab</a>\n",
    "  </td>\n",
    "  <td>\n",
    "    <a target=\"_blank\" href=\"https://github.com/privacytrustlab/ml_privacy_meter/blob/master/advanced/hf_causal_language_models.ipynb\"><img src=\"https://www.tensorflow.org/images/GitHub-Mark-32px.png\" />View GitHub</a>\n",
    "  </td>\n",
    "</table>"
   ]
  },
  {
   "cell_type": "markdown",
   "id": "6b26ec80",
   "metadata": {},
   "source": [
    "## Imports"
   ]
  },
  {
   "cell_type": "code",
   "execution_count": 1,
   "id": "52763e91",
   "metadata": {},
   "outputs": [],
   "source": [
    "import sys\n",
    "import numpy as np\n",
    "import torch\n",
    "from typing import List, Tuple"
   ]
  },
  {
   "cell_type": "code",
   "execution_count": 2,
   "id": "b234f1c2",
   "metadata": {},
   "outputs": [
    {
     "name": "stdout",
     "output_type": "stream",
     "text": [
      "Collecting datasets\n",
      "  Downloading datasets-2.8.0-py3-none-any.whl (452 kB)\n",
      "\u001b[K     |████████████████████████████████| 452 kB 15.2 MB/s eta 0:00:01\n",
      "\u001b[?25hCollecting aiohttp\n",
      "  Using cached aiohttp-3.8.3-cp39-cp39-manylinux_2_17_x86_64.manylinux2014_x86_64.whl (1.0 MB)\n",
      "Collecting responses<0.19\n",
      "  Using cached responses-0.18.0-py3-none-any.whl (38 kB)\n",
      "Requirement already satisfied: pyarrow>=6.0.0 in /home/hongyan/.conda/envs/privacy_meter/lib/python3.9/site-packages (from datasets) (10.0.0)\n",
      "Requirement already satisfied: dill<0.3.7 in /home/hongyan/.conda/envs/privacy_meter/lib/python3.9/site-packages (from datasets) (0.3.5.1)\n",
      "Collecting multiprocess\n",
      "  Using cached multiprocess-0.70.14-py39-none-any.whl (132 kB)\n",
      "Collecting pyyaml>=5.1\n",
      "  Using cached PyYAML-6.0-cp39-cp39-manylinux_2_5_x86_64.manylinux1_x86_64.manylinux_2_12_x86_64.manylinux2010_x86_64.whl (661 kB)\n",
      "Requirement already satisfied: requests>=2.19.0 in /home/hongyan/.conda/envs/privacy_meter/lib/python3.9/site-packages (from datasets) (2.28.0)\n",
      "Requirement already satisfied: tqdm>=4.62.1 in /home/hongyan/.conda/envs/privacy_meter/lib/python3.9/site-packages (from datasets) (4.64.0)\n",
      "Collecting huggingface-hub<1.0.0,>=0.2.0\n",
      "  Using cached huggingface_hub-0.11.1-py3-none-any.whl (182 kB)\n",
      "Collecting xxhash\n",
      "  Using cached xxhash-3.1.0-cp39-cp39-manylinux_2_17_x86_64.manylinux2014_x86_64.whl (212 kB)\n",
      "Requirement already satisfied: numpy>=1.17 in /home/hongyan/.local/lib/python3.9/site-packages (from datasets) (1.23.5)\n",
      "Collecting fsspec[http]>=2021.11.1\n",
      "  Using cached fsspec-2022.11.0-py3-none-any.whl (139 kB)\n",
      "Requirement already satisfied: packaging in /home/hongyan/.local/lib/python3.9/site-packages (from datasets) (21.3)\n",
      "Requirement already satisfied: pandas in /home/hongyan/.conda/envs/privacy_meter/lib/python3.9/site-packages (from datasets) (1.4.2)\n",
      "Collecting multidict<7.0,>=4.5\n",
      "  Downloading multidict-6.0.3-cp39-cp39-manylinux_2_17_x86_64.manylinux2014_x86_64.whl (114 kB)\n",
      "\u001b[K     |████████████████████████████████| 114 kB 14.4 MB/s eta 0:00:01\n",
      "\u001b[?25hCollecting async-timeout<5.0,>=4.0.0a3\n",
      "  Using cached async_timeout-4.0.2-py3-none-any.whl (5.8 kB)\n",
      "Requirement already satisfied: attrs>=17.3.0 in /home/hongyan/.conda/envs/privacy_meter/lib/python3.9/site-packages (from aiohttp->datasets) (21.4.0)\n",
      "Collecting frozenlist>=1.1.1\n",
      "  Using cached frozenlist-1.3.3-cp39-cp39-manylinux_2_5_x86_64.manylinux1_x86_64.manylinux_2_17_x86_64.manylinux2014_x86_64.whl (158 kB)\n",
      "Collecting aiosignal>=1.1.2\n",
      "  Using cached aiosignal-1.3.1-py3-none-any.whl (7.6 kB)\n",
      "Requirement already satisfied: charset-normalizer<3.0,>=2.0 in /home/hongyan/.conda/envs/privacy_meter/lib/python3.9/site-packages (from aiohttp->datasets) (2.0.12)\n",
      "Collecting yarl<2.0,>=1.0\n",
      "  Downloading yarl-1.8.2-cp39-cp39-manylinux_2_17_x86_64.manylinux2014_x86_64.whl (264 kB)\n",
      "\u001b[K     |████████████████████████████████| 264 kB 14.8 MB/s eta 0:00:01\n",
      "\u001b[?25hRequirement already satisfied: typing-extensions>=3.7.4.3 in /home/hongyan/.local/lib/python3.9/site-packages (from huggingface-hub<1.0.0,>=0.2.0->datasets) (4.4.0)\n",
      "Collecting filelock\n",
      "  Using cached filelock-3.8.2-py3-none-any.whl (10 kB)\n",
      "Requirement already satisfied: pyparsing!=3.0.5,>=2.0.2 in /home/hongyan/.local/lib/python3.9/site-packages (from packaging->datasets) (3.0.9)\n",
      "Requirement already satisfied: certifi>=2017.4.17 in /home/hongyan/.conda/envs/privacy_meter/lib/python3.9/site-packages (from requests>=2.19.0->datasets) (2021.10.8)\n",
      "Requirement already satisfied: idna<4,>=2.5 in /home/hongyan/.conda/envs/privacy_meter/lib/python3.9/site-packages (from requests>=2.19.0->datasets) (3.3)\n",
      "Requirement already satisfied: urllib3<1.27,>=1.21.1 in /home/hongyan/.conda/envs/privacy_meter/lib/python3.9/site-packages (from requests>=2.19.0->datasets) (1.26.9)\n",
      "Collecting dill<0.3.7\n",
      "  Using cached dill-0.3.6-py3-none-any.whl (110 kB)\n",
      "Requirement already satisfied: python-dateutil>=2.8.1 in /home/hongyan/.local/lib/python3.9/site-packages (from pandas->datasets) (2.8.2)\n",
      "Requirement already satisfied: pytz>=2020.1 in /home/hongyan/.local/lib/python3.9/site-packages (from pandas->datasets) (2022.6)\n",
      "Requirement already satisfied: six>=1.5 in /home/hongyan/.conda/envs/privacy_meter/lib/python3.9/site-packages (from python-dateutil>=2.8.1->pandas->datasets) (1.16.0)\n",
      "Installing collected packages: multidict, frozenlist, yarl, async-timeout, aiosignal, pyyaml, fsspec, filelock, dill, aiohttp, xxhash, responses, multiprocess, huggingface-hub, datasets\n",
      "  Attempting uninstall: dill\n",
      "    Found existing installation: dill 0.3.5.1\n",
      "    Uninstalling dill-0.3.5.1:\n",
      "      Successfully uninstalled dill-0.3.5.1\n",
      "Successfully installed aiohttp-3.8.3 aiosignal-1.3.1 async-timeout-4.0.2 datasets-2.8.0 dill-0.3.6 filelock-3.8.2 frozenlist-1.3.3 fsspec-2022.11.0 huggingface-hub-0.11.1 multidict-6.0.3 multiprocess-0.70.14 pyyaml-6.0 responses-0.18.0 xxhash-3.1.0 yarl-1.8.2\n",
      "Collecting transformers\n",
      "  Downloading transformers-4.25.1-py3-none-any.whl (5.8 MB)\n",
      "\u001b[K     |████████████████████████████████| 5.8 MB 15.4 MB/s eta 0:00:01\n",
      "\u001b[?25hRequirement already satisfied: tqdm>=4.27 in /home/hongyan/.conda/envs/privacy_meter/lib/python3.9/site-packages (from transformers) (4.64.0)\n",
      "Requirement already satisfied: numpy>=1.17 in /home/hongyan/.local/lib/python3.9/site-packages (from transformers) (1.23.5)\n",
      "Requirement already satisfied: huggingface-hub<1.0,>=0.10.0 in /home/hongyan/.conda/envs/privacy_meter/lib/python3.9/site-packages (from transformers) (0.11.1)\n",
      "Requirement already satisfied: pyyaml>=5.1 in /home/hongyan/.conda/envs/privacy_meter/lib/python3.9/site-packages (from transformers) (6.0)\n",
      "Requirement already satisfied: requests in /home/hongyan/.conda/envs/privacy_meter/lib/python3.9/site-packages (from transformers) (2.28.0)\n",
      "Requirement already satisfied: packaging>=20.0 in /home/hongyan/.local/lib/python3.9/site-packages (from transformers) (21.3)\n",
      "Collecting regex!=2019.12.17\n",
      "  Using cached regex-2022.10.31-cp39-cp39-manylinux_2_17_x86_64.manylinux2014_x86_64.whl (769 kB)\n",
      "Requirement already satisfied: filelock in /home/hongyan/.conda/envs/privacy_meter/lib/python3.9/site-packages (from transformers) (3.8.2)\n",
      "Collecting tokenizers!=0.11.3,<0.14,>=0.11.1\n",
      "  Using cached tokenizers-0.13.2-cp39-cp39-manylinux_2_17_x86_64.manylinux2014_x86_64.whl (7.6 MB)\n",
      "Requirement already satisfied: typing-extensions>=3.7.4.3 in /home/hongyan/.local/lib/python3.9/site-packages (from huggingface-hub<1.0,>=0.10.0->transformers) (4.4.0)\n",
      "Requirement already satisfied: pyparsing!=3.0.5,>=2.0.2 in /home/hongyan/.local/lib/python3.9/site-packages (from packaging>=20.0->transformers) (3.0.9)\n",
      "Requirement already satisfied: urllib3<1.27,>=1.21.1 in /home/hongyan/.conda/envs/privacy_meter/lib/python3.9/site-packages (from requests->transformers) (1.26.9)\n",
      "Requirement already satisfied: charset-normalizer~=2.0.0 in /home/hongyan/.conda/envs/privacy_meter/lib/python3.9/site-packages (from requests->transformers) (2.0.12)\n",
      "Requirement already satisfied: certifi>=2017.4.17 in /home/hongyan/.conda/envs/privacy_meter/lib/python3.9/site-packages (from requests->transformers) (2021.10.8)\n",
      "Requirement already satisfied: idna<4,>=2.5 in /home/hongyan/.conda/envs/privacy_meter/lib/python3.9/site-packages (from requests->transformers) (3.3)\n",
      "Installing collected packages: tokenizers, regex, transformers\n",
      "Successfully installed regex-2022.10.31 tokenizers-0.13.2 transformers-4.25.1\n"
     ]
    }
   ],
   "source": [
    "!{sys.executable} -m pip install datasets\n",
    "!{sys.executable} -m pip install transformers\n",
    "from datasets import load_dataset\n",
    "from transformers import AutoModelForCausalLM, AutoTokenizer, TrainingArguments, Trainer"
   ]
  },
  {
   "cell_type": "code",
   "execution_count": 44,
   "id": "03ae357b",
   "metadata": {},
   "outputs": [
    {
     "name": "stdout",
     "output_type": "stream",
     "text": [
      "Obtaining file:///home/hongyan/Desktop/upgrade_privacy_meter/ml_privacy_meter\n",
      "Installing collected packages: privacy-meter\n",
      "  Attempting uninstall: privacy-meter\n",
      "    Found existing installation: privacy-meter 1.0\n",
      "    Uninstalling privacy-meter-1.0:\n",
      "      Successfully uninstalled privacy-meter-1.0\n",
      "  Running setup.py develop for privacy-meter\n",
      "Successfully installed privacy-meter-1.0\n"
     ]
    }
   ],
   "source": [
    "!{sys.executable} -m pip install -e ../.\n",
    "from privacy_meter.audit import Audit\n",
    "from privacy_meter.dataset import Dataset\n",
    "from privacy_meter.hypothesis_test import threshold_func\n",
    "from privacy_meter.information_source import InformationSource\n",
    "from privacy_meter.information_source_signal import Signal\n",
    "from privacy_meter.model import Model\n",
    "from privacy_meter.metric import PopulationMetric\n",
    "from privacy_meter.constants import InferenceGame\n",
    "from privacy_meter.audit_report import ROCCurveReport, SignalHistogramReport\n",
    "\n"
   ]
  },
  {
   "cell_type": "markdown",
   "id": "984f8e98",
   "metadata": {},
   "source": [
    "## Hyperparameters"
   ]
  },
  {
   "cell_type": "code",
   "execution_count": 4,
   "id": "2cd43118",
   "metadata": {},
   "outputs": [],
   "source": [
    "# a toy example for the population metric\n",
    "num_train_seqs = 25\n",
    "num_test_seqs = 25\n",
    "num_population_seqs = 100\n",
    "fpr_tolerance_list = [0.0, 0.1, 0.5, 0.9, 1.0]"
   ]
  },
  {
   "cell_type": "markdown",
   "id": "1f608226",
   "metadata": {},
   "source": [
    "## Load dataset and model using HuggingFace "
   ]
  },
  {
   "cell_type": "markdown",
   "id": "51ee6e0d",
   "metadata": {},
   "source": [
    "### Load and split dataset"
   ]
  },
  {
   "cell_type": "code",
   "execution_count": 5,
   "id": "f6a25579",
   "metadata": {},
   "outputs": [
    {
     "data": {
      "application/vnd.jupyter.widget-view+json": {
       "model_id": "8471603c23f14272a4952250984b9228",
       "version_major": 2,
       "version_minor": 0
      },
      "text/plain": [
       "Downloading builder script:   0%|          | 0.00/8.48k [00:00<?, ?B/s]"
      ]
     },
     "metadata": {},
     "output_type": "display_data"
    },
    {
     "data": {
      "application/vnd.jupyter.widget-view+json": {
       "model_id": "919fe0575c744fd4aeb36891cceb1422",
       "version_major": 2,
       "version_minor": 0
      },
      "text/plain": [
       "Downloading metadata:   0%|          | 0.00/6.84k [00:00<?, ?B/s]"
      ]
     },
     "metadata": {},
     "output_type": "display_data"
    },
    {
     "data": {
      "application/vnd.jupyter.widget-view+json": {
       "model_id": "ebc640006dad42e384a4e67de0cec10d",
       "version_major": 2,
       "version_minor": 0
      },
      "text/plain": [
       "Downloading readme:   0%|          | 0.00/9.25k [00:00<?, ?B/s]"
      ]
     },
     "metadata": {},
     "output_type": "display_data"
    },
    {
     "name": "stdout",
     "output_type": "stream",
     "text": [
      "Downloading and preparing dataset wikitext/wikitext-2-raw-v1 to /home/hongyan/.cache/huggingface/datasets/wikitext/wikitext-2-raw-v1/1.0.0/a241db52902eaf2c6aa732210bead40c090019a499ceb13bcbfa3f8ab646a126...\n"
     ]
    },
    {
     "data": {
      "application/vnd.jupyter.widget-view+json": {
       "model_id": "367657c36d30477ea58e486e3af30485",
       "version_major": 2,
       "version_minor": 0
      },
      "text/plain": [
       "Downloading data:   0%|          | 0.00/4.72M [00:00<?, ?B/s]"
      ]
     },
     "metadata": {},
     "output_type": "display_data"
    },
    {
     "data": {
      "application/vnd.jupyter.widget-view+json": {
       "model_id": "6c9cf81b54ce47869335d15317b76cb5",
       "version_major": 2,
       "version_minor": 0
      },
      "text/plain": [
       "Generating test split:   0%|          | 0/4358 [00:00<?, ? examples/s]"
      ]
     },
     "metadata": {},
     "output_type": "display_data"
    },
    {
     "data": {
      "application/vnd.jupyter.widget-view+json": {
       "model_id": "5c0657d7ba754a2ea9ac2d59a239be10",
       "version_major": 2,
       "version_minor": 0
      },
      "text/plain": [
       "Generating train split:   0%|          | 0/36718 [00:00<?, ? examples/s]"
      ]
     },
     "metadata": {},
     "output_type": "display_data"
    },
    {
     "data": {
      "application/vnd.jupyter.widget-view+json": {
       "model_id": "c13a2c7942ad447e80be9b4f55963d0f",
       "version_major": 2,
       "version_minor": 0
      },
      "text/plain": [
       "Generating validation split:   0%|          | 0/3760 [00:00<?, ? examples/s]"
      ]
     },
     "metadata": {},
     "output_type": "display_data"
    },
    {
     "name": "stdout",
     "output_type": "stream",
     "text": [
      "Dataset wikitext downloaded and prepared to /home/hongyan/.cache/huggingface/datasets/wikitext/wikitext-2-raw-v1/1.0.0/a241db52902eaf2c6aa732210bead40c090019a499ceb13bcbfa3f8ab646a126. Subsequent calls will reuse this data.\n"
     ]
    },
    {
     "data": {
      "application/vnd.jupyter.widget-view+json": {
       "model_id": "1ab7d9cd331f470d8200bc51e2598bf0",
       "version_major": 2,
       "version_minor": 0
      },
      "text/plain": [
       "  0%|          | 0/3 [00:00<?, ?it/s]"
      ]
     },
     "metadata": {},
     "output_type": "display_data"
    },
    {
     "name": "stderr",
     "output_type": "stream",
     "text": [
      "12/21/2022 20:27:59:WARNING:Parameter 'function'=<function <lambda> at 0x7f6a3ae289d0> of the transform datasets.arrow_dataset.Dataset.filter@2.0.1 couldn't be hashed properly, a random hash was used instead. Make sure your transforms and parameters are serializable with pickle or dill for the dataset fingerprinting and caching to work. If you reuse this transform, the caching mechanism will consider it to be different from the previous calls and recompute everything. This warning is only showed once. Subsequent hashing failures won't be showed.\n"
     ]
    },
    {
     "data": {
      "application/vnd.jupyter.widget-view+json": {
       "model_id": "77b108fe3e8945828667532c0f94c324",
       "version_major": 2,
       "version_minor": 0
      },
      "text/plain": [
       "  0%|          | 0/5 [00:00<?, ?ba/s]"
      ]
     },
     "metadata": {},
     "output_type": "display_data"
    },
    {
     "data": {
      "application/vnd.jupyter.widget-view+json": {
       "model_id": "6dc14daae1c14aee86b339c4c29bf6bb",
       "version_major": 2,
       "version_minor": 0
      },
      "text/plain": [
       "  0%|          | 0/37 [00:00<?, ?ba/s]"
      ]
     },
     "metadata": {},
     "output_type": "display_data"
    },
    {
     "data": {
      "application/vnd.jupyter.widget-view+json": {
       "model_id": "c4eadc01d32442e285ce5d85f39b42ba",
       "version_major": 2,
       "version_minor": 0
      },
      "text/plain": [
       "  0%|          | 0/4 [00:00<?, ?ba/s]"
      ]
     },
     "metadata": {},
     "output_type": "display_data"
    }
   ],
   "source": [
    "# download dataset from huggingface\n",
    "hf_dataset = load_dataset(\"wikitext\", \"wikitext-2-raw-v1\")\n",
    "\n",
    "# remove empty rows\n",
    "hf_dataset = hf_dataset.filter(lambda elem: len(elem[\"text\"]) > 0)"
   ]
  },
  {
   "cell_type": "markdown",
   "id": "9593e25d",
   "metadata": {},
   "source": [
    "### Load and finetune model"
   ]
  },
  {
   "cell_type": "code",
   "execution_count": 6,
   "id": "d7942897",
   "metadata": {},
   "outputs": [
    {
     "data": {
      "application/vnd.jupyter.widget-view+json": {
       "model_id": "d0acede0655e48409770c426bc9330f6",
       "version_major": 2,
       "version_minor": 0
      },
      "text/plain": [
       "Downloading:   0%|          | 0.00/762 [00:00<?, ?B/s]"
      ]
     },
     "metadata": {},
     "output_type": "display_data"
    },
    {
     "data": {
      "application/vnd.jupyter.widget-view+json": {
       "model_id": "34b4baf49c9b48629fec445ff9e32ed9",
       "version_major": 2,
       "version_minor": 0
      },
      "text/plain": [
       "Downloading:   0%|          | 0.00/1.04M [00:00<?, ?B/s]"
      ]
     },
     "metadata": {},
     "output_type": "display_data"
    },
    {
     "data": {
      "application/vnd.jupyter.widget-view+json": {
       "model_id": "a9ed035ead834b28be7bbc319d1d2bd1",
       "version_major": 2,
       "version_minor": 0
      },
      "text/plain": [
       "Downloading:   0%|          | 0.00/456k [00:00<?, ?B/s]"
      ]
     },
     "metadata": {},
     "output_type": "display_data"
    },
    {
     "data": {
      "application/vnd.jupyter.widget-view+json": {
       "model_id": "5b83b33b775c4453898fdcf66f4b73f9",
       "version_major": 2,
       "version_minor": 0
      },
      "text/plain": [
       "Downloading:   0%|          | 0.00/1.36M [00:00<?, ?B/s]"
      ]
     },
     "metadata": {},
     "output_type": "display_data"
    },
    {
     "data": {
      "application/vnd.jupyter.widget-view+json": {
       "model_id": "7ff74719ab124fc6a41dcf9edff52e6b",
       "version_major": 2,
       "version_minor": 0
      },
      "text/plain": [
       "Downloading:   0%|          | 0.00/353M [00:00<?, ?B/s]"
      ]
     },
     "metadata": {},
     "output_type": "display_data"
    }
   ],
   "source": [
    "# load pretrained and tokenizer\n",
    "model_id = \"distilgpt2\"\n",
    "tokenizer = AutoTokenizer.from_pretrained(model_id, use_fast=True)\n",
    "model_obj = AutoModelForCausalLM.from_pretrained(model_id)"
   ]
  },
  {
   "cell_type": "markdown",
   "id": "d3379ea0",
   "metadata": {},
   "source": [
    "We tokenize and group the dataset before finetuning the model:"
   ]
  },
  {
   "cell_type": "code",
   "execution_count": 7,
   "id": "57247626",
   "metadata": {},
   "outputs": [
    {
     "name": "stdout",
     "output_type": "stream",
     "text": [
      "    "
     ]
    },
    {
     "data": {
      "application/vnd.jupyter.widget-view+json": {
       "model_id": "7b16c16bebf64435809fbb185f5bd320",
       "version_major": 2,
       "version_minor": 0
      },
      "text/plain": [
       "#0:   0%|          | 0/2 [00:00<?, ?ba/s]"
      ]
     },
     "metadata": {},
     "output_type": "display_data"
    },
    {
     "data": {
      "application/vnd.jupyter.widget-view+json": {
       "model_id": "a93f2c2d0e534bd0a29533561ad5003a",
       "version_major": 2,
       "version_minor": 0
      },
      "text/plain": [
       "#1:   0%|          | 0/2 [00:00<?, ?ba/s]"
      ]
     },
     "metadata": {},
     "output_type": "display_data"
    },
    {
     "name": "stdout",
     "output_type": "stream",
     "text": [
      "    "
     ]
    },
    {
     "data": {
      "application/vnd.jupyter.widget-view+json": {
       "model_id": "d39ddbfeb6274558b66b7fee007748ea",
       "version_major": 2,
       "version_minor": 0
      },
      "text/plain": [
       "#0:   0%|          | 0/12 [00:00<?, ?ba/s]"
      ]
     },
     "metadata": {},
     "output_type": "display_data"
    },
    {
     "data": {
      "application/vnd.jupyter.widget-view+json": {
       "model_id": "4cbb90bac5404249ac62794e7438398c",
       "version_major": 2,
       "version_minor": 0
      },
      "text/plain": [
       "#1:   0%|          | 0/12 [00:00<?, ?ba/s]"
      ]
     },
     "metadata": {},
     "output_type": "display_data"
    },
    {
     "name": "stdout",
     "output_type": "stream",
     "text": [
      "    "
     ]
    },
    {
     "data": {
      "application/vnd.jupyter.widget-view+json": {
       "model_id": "0365f724229a4ecc9e806e2b759f101d",
       "version_major": 2,
       "version_minor": 0
      },
      "text/plain": [
       "#0:   0%|          | 0/2 [00:00<?, ?ba/s]"
      ]
     },
     "metadata": {},
     "output_type": "display_data"
    },
    {
     "data": {
      "application/vnd.jupyter.widget-view+json": {
       "model_id": "6fd62d22669d482abdfa22d1bdffca92",
       "version_major": 2,
       "version_minor": 0
      },
      "text/plain": [
       "#1:   0%|          | 0/2 [00:00<?, ?ba/s]"
      ]
     },
     "metadata": {},
     "output_type": "display_data"
    }
   ],
   "source": [
    "def tokenize_fn(examples):\n",
    "    return tokenizer(examples[\"text\"])\n",
    "\n",
    "tokenized_hf_dataset = hf_dataset.map(\n",
    "    tokenize_fn, batched=True, num_proc=2, remove_columns=[\"text\"]\n",
    ")"
   ]
  },
  {
   "cell_type": "code",
   "execution_count": 8,
   "id": "814dfdea",
   "metadata": {},
   "outputs": [
    {
     "name": "stdout",
     "output_type": "stream",
     "text": [
      "    "
     ]
    },
    {
     "data": {
      "application/vnd.jupyter.widget-view+json": {
       "model_id": "042b709e373d4517a484d288285e4504",
       "version_major": 2,
       "version_minor": 0
      },
      "text/plain": [
       "#0:   0%|          | 0/23 [00:00<?, ?ba/s]"
      ]
     },
     "metadata": {},
     "output_type": "display_data"
    },
    {
     "data": {
      "application/vnd.jupyter.widget-view+json": {
       "model_id": "c3c35d1b7d51459db98374817a329ff8",
       "version_major": 2,
       "version_minor": 0
      },
      "text/plain": [
       "#1:   0%|          | 0/23 [00:00<?, ?ba/s]"
      ]
     },
     "metadata": {},
     "output_type": "display_data"
    },
    {
     "name": "stdout",
     "output_type": "stream",
     "text": [
      "    "
     ]
    },
    {
     "data": {
      "application/vnd.jupyter.widget-view+json": {
       "model_id": "15a47c1e579740759f485b37414dee43",
       "version_major": 2,
       "version_minor": 0
      },
      "text/plain": [
       "#0:   0%|          | 0/186 [00:00<?, ?ba/s]"
      ]
     },
     "metadata": {},
     "output_type": "display_data"
    },
    {
     "data": {
      "application/vnd.jupyter.widget-view+json": {
       "model_id": "d2b04885ccd54be78cb36ea53876662c",
       "version_major": 2,
       "version_minor": 0
      },
      "text/plain": [
       "#1:   0%|          | 0/186 [00:00<?, ?ba/s]"
      ]
     },
     "metadata": {},
     "output_type": "display_data"
    },
    {
     "name": "stdout",
     "output_type": "stream",
     "text": [
      "    "
     ]
    },
    {
     "data": {
      "application/vnd.jupyter.widget-view+json": {
       "model_id": "0181084f7a52401380df3a1cc9120c66",
       "version_major": 2,
       "version_minor": 0
      },
      "text/plain": [
       "#0:   0%|          | 0/20 [00:00<?, ?ba/s]"
      ]
     },
     "metadata": {},
     "output_type": "display_data"
    },
    {
     "data": {
      "application/vnd.jupyter.widget-view+json": {
       "model_id": "5409a4834add48aeb05212a6643b33d5",
       "version_major": 2,
       "version_minor": 0
      },
      "text/plain": [
       "#1:   0%|          | 0/20 [00:00<?, ?ba/s]"
      ]
     },
     "metadata": {},
     "output_type": "display_data"
    }
   ],
   "source": [
    "block_size = 128\n",
    "def group_texts(examples):\n",
    "    # Concatenate all texts.\n",
    "    concatenated_examples = {k: sum(examples[k], []) for k in examples.keys()}\n",
    "    total_length = len(concatenated_examples[list(examples.keys())[0]])\n",
    "    \n",
    "    total_length = (total_length // block_size) * block_size\n",
    "    \n",
    "    # Split by chunks of max_len.\n",
    "    result = {\n",
    "        k: [t[i : i + block_size] for i in range(0, total_length, block_size)]\n",
    "        for k, t in concatenated_examples.items()\n",
    "    }\n",
    "    \n",
    "    result[\"labels\"] = result[\"input_ids\"].copy()\n",
    "    return result\n",
    "\n",
    "lm_hf_dataset = tokenized_hf_dataset.map(\n",
    "    group_texts, batched=True, batch_size=64, num_proc=2\n",
    ")"
   ]
  },
  {
   "cell_type": "code",
   "execution_count": 9,
   "id": "34e017f5",
   "metadata": {},
   "outputs": [],
   "source": [
    "finetune_args = TrainingArguments(num_train_epochs=5, output_dir=\"privacy_meter_logs/\")"
   ]
  },
  {
   "cell_type": "code",
   "execution_count": 10,
   "id": "fb784f6d",
   "metadata": {},
   "outputs": [
    {
     "name": "stderr",
     "output_type": "stream",
     "text": [
      "/home/hongyan/.conda/envs/privacy_meter/lib/python3.9/site-packages/transformers/optimization.py:306: FutureWarning: This implementation of AdamW is deprecated and will be removed in a future version. Use the PyTorch implementation torch.optim.AdamW instead, or set `no_deprecation_warning=True` to disable this warning\n",
      "  warnings.warn(\n",
      "***** Running training *****\n",
      "  Num examples = 25\n",
      "  Num Epochs = 5\n",
      "  Instantaneous batch size per device = 8\n",
      "  Total train batch size (w. parallel, distributed & accumulation) = 16\n",
      "  Gradient Accumulation steps = 1\n",
      "  Total optimization steps = 10\n",
      "  Number of trainable parameters = 81912576\n",
      "/home/hongyan/.conda/envs/privacy_meter/lib/python3.9/site-packages/torch/nn/parallel/_functions.py:68: UserWarning: Was asked to gather along dimension 0, but all input tensors were scalars; will instead unsqueeze and return a vector.\n",
      "  warnings.warn('Was asked to gather along dimension 0, but all '\n"
     ]
    },
    {
     "data": {
      "text/html": [
       "\n",
       "    <div>\n",
       "      \n",
       "      <progress value='10' max='10' style='width:300px; height:20px; vertical-align: middle;'></progress>\n",
       "      [10/10 00:00, Epoch 5/5]\n",
       "    </div>\n",
       "    <table border=\"1\" class=\"dataframe\">\n",
       "  <thead>\n",
       " <tr style=\"text-align: left;\">\n",
       "      <th>Step</th>\n",
       "      <th>Training Loss</th>\n",
       "    </tr>\n",
       "  </thead>\n",
       "  <tbody>\n",
       "  </tbody>\n",
       "</table><p>"
      ],
      "text/plain": [
       "<IPython.core.display.HTML object>"
      ]
     },
     "metadata": {},
     "output_type": "display_data"
    },
    {
     "name": "stderr",
     "output_type": "stream",
     "text": [
      "\n",
      "\n",
      "Training completed. Do not forget to share your model on huggingface.co/models =)\n",
      "\n",
      "\n"
     ]
    },
    {
     "data": {
      "text/plain": [
       "TrainOutput(global_step=10, training_loss=4.060710144042969, metrics={'train_runtime': 4.0222, 'train_samples_per_second': 31.077, 'train_steps_per_second': 2.486, 'total_flos': 4082761728000.0, 'train_loss': 4.060710144042969, 'epoch': 5.0})"
      ]
     },
     "execution_count": 10,
     "metadata": {},
     "output_type": "execute_result"
    }
   ],
   "source": [
    "hf_trainer = Trainer(\n",
    "    model=model_obj,\n",
    "    args=finetune_args,\n",
    "    train_dataset=lm_hf_dataset[\"train\"].select(range(num_train_seqs)),\n",
    "    eval_dataset=lm_hf_dataset[\"validation\"]\n",
    ")\n",
    "\n",
    "hf_trainer.train()"
   ]
  },
  {
   "cell_type": "markdown",
   "id": "0123f22d",
   "metadata": {},
   "source": [
    "## Extend Privacy Meter to work with HuggingFace Causal LMs"
   ]
  },
  {
   "cell_type": "markdown",
   "id": "6549eb28",
   "metadata": {},
   "source": [
    "### Extend the Model class"
   ]
  },
  {
   "cell_type": "code",
   "execution_count": 20,
   "id": "20f61e9d",
   "metadata": {},
   "outputs": [],
   "source": [
    "class HfCausalLMModel(Model):\n",
    "    \"\"\"Inherits of the Model class, an interface to query a model without any assumption on how it is implemented.\n",
    "    This particular class is to be used with HuggingFace Causal LM models.\n",
    "    \"\"\"\n",
    "\n",
    "    def __init__(self, model_obj, loss_fn, stride=64):\n",
    "        \"\"\"Constructor\n",
    "        Args:\n",
    "            model_obj: model object\n",
    "            loss_fn: loss function\n",
    "            stride: window size that will be used by the fixed length \n",
    "            causal model for processing an input sequence\n",
    "        \"\"\"\n",
    "\n",
    "        # Initializes the parent model\n",
    "        super().__init__(model_obj, loss_fn)\n",
    "        \n",
    "        self.stride = stride\n",
    "        \n",
    "    def get_outputs(self, batch_samples):\n",
    "        \"\"\"Function to get the model output from a given input.\n",
    "        Args:\n",
    "            batch_samples: Model input\n",
    "        Returns:\n",
    "            Model output\n",
    "        \"\"\"\n",
    "        pass\n",
    "\n",
    "    def get_loss(self, batch_samples, batch_labels):\n",
    "        \"\"\"Function to get the model loss on a given input and an expected output.\n",
    "        Args:\n",
    "            batch_samples: Model input\n",
    "            batch_labels: Model expected output\n",
    "        Returns:\n",
    "            The loss value, as defined by the loss_fn attribute.\n",
    "        \"\"\"\n",
    "        pass\n",
    "\n",
    "    def get_logits(self, batch_samples):\n",
    "        return super().get_logits(batch_samples)\n",
    "    def get_grad(self, batch_samples, batch_labels):\n",
    "        \"\"\"Function to get the gradient of the model loss with respect to the model parameters, on a given input and an\n",
    "        expected output.\n",
    "        Args:\n",
    "            batch_samples: Model input\n",
    "            batch_labels: Model expected output\n",
    "        Returns:\n",
    "            A list of gradients of the model loss (one item per layer) with respect to the model parameters.\n",
    "        \"\"\"\n",
    "        pass\n",
    "\n",
    "    def get_intermediate_outputs(self, layers, batch_samples, forward_pass=True):\n",
    "        \"\"\"Function to get the intermediate output of layers (a.k.a. features), on a given input.\n",
    "        Args:\n",
    "            layers: List of integers and/or strings, indicating which layers values should be returned\n",
    "            batch_samples: Model input\n",
    "            forward_pass: Boolean indicating if a new forward pass should be executed. If True, then a forward pass is\n",
    "                executed on batch_samples. Else, the result is the one of the last forward pass.\n",
    "        Returns:\n",
    "            A list of intermediate outputs of layers.\n",
    "        \"\"\"\n",
    "        pass\n",
    "    \n",
    "    def get_perplexity(self, batch_samples):\n",
    "        \"\"\"Function to get the perplexity of the model loss, on a given input sequence.\n",
    "        Args:\n",
    "            batch_samples: Model input\n",
    "        Returns:\n",
    "            A list of perplexity values.\n",
    "        \"\"\" \n",
    "        max_length = self.model_obj.config.n_positions\n",
    "        \n",
    "        ppl_values = []\n",
    "        for sample in batch_samples:\n",
    "            sample_length = len(sample)\n",
    "            \n",
    "            sample = np.expand_dims(sample, axis=0) # the model takes in a batch of sequences\n",
    "            sample = torch.tensor(sample, dtype=torch.long)\n",
    "            \n",
    "            nlls = []\n",
    "            for i in range(0, sample_length, self.stride):\n",
    "                begin_loc = max(i + self.stride - max_length, 0)\n",
    "                end_loc = min(i + self.stride, sample_length)\n",
    "                \n",
    "                trg_len = end_loc - i  # may be different from stride on last loop\n",
    "                \n",
    "                input_ids = sample[:, begin_loc:end_loc]\n",
    "                target_ids = input_ids.clone()\n",
    "                target_ids[:, :-trg_len] = -100\n",
    "\n",
    "                with torch.no_grad():\n",
    "                    outputs = self.model_obj(input_ids, labels=target_ids)\n",
    "                    neg_log_likelihood = outputs[0] * trg_len\n",
    "\n",
    "                nlls.append(neg_log_likelihood)\n",
    "            ppl = torch.exp(torch.stack(nlls).sum() / end_loc)\n",
    "            \n",
    "            ppl_values.append(ppl)\n",
    "            \n",
    "        return ppl_values"
   ]
  },
  {
   "cell_type": "markdown",
   "id": "079c7b3d",
   "metadata": {},
   "source": [
    "### Create a new Signal for computing perplexity"
   ]
  },
  {
   "cell_type": "code",
   "execution_count": 12,
   "id": "ec923988",
   "metadata": {},
   "outputs": [],
   "source": [
    "class ModelPerplexity(Signal):\n",
    "    \"\"\"\n",
    "    Inherits of the Signal class, used to represent any type of signal that can be obtained from a Model and/or a Dataset.\n",
    "    This particular class is used to get the perplexity of a model.\n",
    "    \"\"\"\n",
    "\n",
    "    def __call__(self,\n",
    "                 models: List[Model],\n",
    "                 datasets: List[Dataset],\n",
    "                 model_to_split_mapping: List[Tuple[int, str, str, str]],\n",
    "                 extra: dict\n",
    "                 ):\n",
    "        \"\"\"Built-in call method.\n",
    "        Args:\n",
    "            models: List of models that can be queried.\n",
    "            datasets: List of datasets that can be queried.\n",
    "            model_to_split_mapping: List of tuples, indicating how each model should query the dataset.\n",
    "                More specifically, for model #i:\n",
    "                model_to_split_mapping[i][0] contains the index of the dataset in the list,\n",
    "                model_to_split_mapping[i][1] contains the name of the split,\n",
    "                model_to_split_mapping[i][2] contains the name of the input feature,\n",
    "                model_to_split_mapping[i][3] contains the name of the output feature.\n",
    "                This can also be provided once and for all at the instantiation of InformationSource, through the\n",
    "                default_model_to_split_mapping argument.\n",
    "            extra: Dictionary containing any additional parameter that should be passed to the signal object.\n",
    "        Returns:\n",
    "            The signal value.\n",
    "        \"\"\"\n",
    "\n",
    "        results = []\n",
    "        # Compute the signal for each model\n",
    "        for k, model in enumerate(models):\n",
    "            # Extract the features to be used\n",
    "            dataset_index, split_name, input_feature, output_feature = model_to_split_mapping[k]\n",
    "            x = datasets[dataset_index].get_feature(split_name, input_feature)\n",
    "            # Compute the signal\n",
    "            results.append(model.get_perplexity(x))\n",
    "        return results"
   ]
  },
  {
   "cell_type": "markdown",
   "id": "8f72ac31",
   "metadata": {},
   "source": [
    "### Audit LM using PopulationMetric"
   ]
  },
  {
   "cell_type": "markdown",
   "id": "914d0619",
   "metadata": {},
   "source": [
    "We first create the target and reference datasets using the `Dataset` class. Since we already processed the dataset before for finetuning, we do not need to pass a preprocessing function while creating the `Dataset` objects:"
   ]
  },
  {
   "cell_type": "code",
   "execution_count": 13,
   "id": "9387580a",
   "metadata": {},
   "outputs": [],
   "source": [
    "# split data into 'train', 'test', and 'population'\n",
    "train_split = lm_hf_dataset[\"train\"].select(range(num_train_seqs))\n",
    "test_split =  lm_hf_dataset[\"test\"].select(range(num_test_seqs))\n",
    "population_split = lm_hf_dataset[\"train\"].select(\n",
    "    range(num_train_seqs, (num_train_seqs + num_population_seqs))\n",
    ")"
   ]
  },
  {
   "cell_type": "code",
   "execution_count": 14,
   "id": "f3d3181c",
   "metadata": {},
   "outputs": [],
   "source": [
    "# set format of datasets to be compatible with Privacy Meter\n",
    "train_split.set_format(\"numpy\")\n",
    "test_split.set_format(\"numpy\")\n",
    "population_split.set_format(\"numpy\")"
   ]
  },
  {
   "cell_type": "code",
   "execution_count": 15,
   "id": "e53ed773",
   "metadata": {},
   "outputs": [],
   "source": [
    "train_ds = {'input': train_split['input_ids']}\n",
    "test_ds = {'input': test_split['input_ids']}\n",
    "population_ds = {'input': population_split['input_ids']}"
   ]
  },
  {
   "cell_type": "code",
   "execution_count": 16,
   "id": "937ea27f",
   "metadata": {},
   "outputs": [],
   "source": [
    "target_dataset = Dataset(\n",
    "    data_dict={'train': train_ds, 'test': test_ds},\n",
    "    default_input='input',\n",
    "    default_output=None\n",
    ")"
   ]
  },
  {
   "cell_type": "code",
   "execution_count": 17,
   "id": "87041f73",
   "metadata": {},
   "outputs": [],
   "source": [
    "reference_dataset = Dataset(\n",
    "    data_dict={'train': population_ds},\n",
    "    default_input='input',\n",
    "    default_output=None\n",
    ")"
   ]
  },
  {
   "cell_type": "markdown",
   "id": "5ef087cb",
   "metadata": {},
   "source": [
    "Then, we wrap the model we finetuned into our custom `HfCausalLMModel` class:"
   ]
  },
  {
   "cell_type": "code",
   "execution_count": 38,
   "id": "ff830896",
   "metadata": {},
   "outputs": [],
   "source": [
    "stride = 512\n",
    "model_obj.to('cpu')\n",
    "target_model = HfCausalLMModel(\n",
    "    model_obj=model_obj,\n",
    "    loss_fn=None,\n",
    "    stride=stride\n",
    ")"
   ]
  },
  {
   "cell_type": "markdown",
   "id": "7698beec",
   "metadata": {},
   "source": [
    "Next, we create the target and reference `InformationSource` objects for the audit:"
   ]
  },
  {
   "cell_type": "code",
   "execution_count": 39,
   "id": "00e6519e",
   "metadata": {},
   "outputs": [],
   "source": [
    "target_info_source = InformationSource(\n",
    "    models=[target_model], \n",
    "    datasets=[target_dataset]\n",
    ")\n",
    "\n",
    "reference_info_source = InformationSource(\n",
    "    models=[target_model],\n",
    "    datasets=[reference_dataset]\n",
    ")"
   ]
  },
  {
   "cell_type": "markdown",
   "id": "bdeec3dc",
   "metadata": {},
   "source": [
    "And now we create a `PopulationMetric` object that uses perplexity as the signal:"
   ]
  },
  {
   "cell_type": "code",
   "execution_count": 40,
   "id": "8c42991b",
   "metadata": {},
   "outputs": [],
   "source": [
    "population_metric_obj = PopulationMetric(\n",
    "    target_info_source=target_info_source,\n",
    "    reference_info_source=reference_info_source,\n",
    "    signals=[ModelPerplexity()],\n",
    "    hypothesis_test_func=threshold_func,\n",
    ")"
   ]
  },
  {
   "cell_type": "markdown",
   "id": "642a88f6",
   "metadata": {},
   "source": [
    "Finally, we create the `Audit` object and run the audit on our finetuned model:"
   ]
  },
  {
   "cell_type": "code",
   "execution_count": 41,
   "id": "7055a3ce",
   "metadata": {},
   "outputs": [
    {
     "name": "stdout",
     "output_type": "stream",
     "text": [
      "Results are stored in: ['/home/hongyan/Desktop/upgrade_privacy_meter/ml_privacy_meter/docs/log_2022-12-21_20-33-26-000']\n",
      "[<privacy_meter.metric_result.CombinedMetricResult object at 0x7f69320c40d0>]\n"
     ]
    }
   ],
   "source": [
    "audit_obj = Audit(\n",
    "    metrics=population_metric_obj,\n",
    "    target_info_sources=target_info_source,\n",
    "    reference_info_sources=reference_info_source,\n",
    "    fpr_tolerances=fpr_tolerance_list,\n",
    "    inference_game_type=InferenceGame.PRIVACY_LOSS_MODEL\n",
    ")\n",
    "audit_obj.prepare()\n",
    "\n",
    "audit_results = audit_obj.run()\n",
    "for result in audit_results:\n",
    "    print(result)"
   ]
  },
  {
   "cell_type": "code",
   "execution_count": 42,
   "id": "0b4c22bd",
   "metadata": {},
   "outputs": [],
   "source": [
    "# This instruction won't be needed once the tool is on pip\n",
    "from privacy_meter import audit_report\n",
    "audit_report.REPORT_FILES_DIR = '../privacy_meter/report_files'"
   ]
  },
  {
   "cell_type": "code",
   "execution_count": 47,
   "id": "8437a41b",
   "metadata": {},
   "outputs": [
    {
     "data": {
      "image/png": "[encoded data removed]",
      "text/plain": [
       "<Figure size 432x288 with 1 Axes>"
      ]
     },
     "metadata": {
      "needs_background": "light"
     },
     "output_type": "display_data"
    },
    {
     "data": {
      "text/plain": [
       "<Figure size 432x288 with 0 Axes>"
      ]
     },
     "metadata": {},
     "output_type": "display_data"
    }
   ],
   "source": [
    "ROCCurveReport.generate_report(\n",
    "    metric_result=audit_results[0],\n",
    "    inference_game_type=InferenceGame.PRIVACY_LOSS_MODEL,\n",
    "    show=True\n",
    ")"
   ]
  },
  {
   "cell_type": "code",
   "execution_count": 49,
   "id": "d153f6bd",
   "metadata": {},
   "outputs": [
    {
     "data": {
      "image/png": "[encoded data removed]",
      "text/plain": [
       "<Figure size 432x288 with 1 Axes>"
      ]
     },
     "metadata": {
      "needs_background": "light"
     },
     "output_type": "display_data"
    },
    {
     "data": {
      "text/plain": [
       "<Figure size 432x288 with 0 Axes>"
      ]
     },
     "metadata": {},
     "output_type": "display_data"
    }
   ],
   "source": [
    "SignalHistogramReport.generate_report(\n",
    "    metric_result=audit_results[0][0],\n",
    "    inference_game_type=InferenceGame.PRIVACY_LOSS_MODEL,\n",
    "    show=True\n",
    ")"
   ]
  },
  {
   "cell_type": "code",
   "execution_count": null,
   "id": "0b584a77",
   "metadata": {},
   "outputs": [],
   "source": []
  }
 ],
 "metadata": {
  "kernelspec": {
   "display_name": "privacy_meter",
   "language": "python",
   "name": "python3"
  },
  "language_info": {
   "codemirror_mode": {
    "name": "ipython",
    "version": 3
   },
   "file_extension": ".py",
   "mimetype": "text/x-python",
   "name": "python",
   "nbconvert_exporter": "python",
   "pygments_lexer": "ipython3",
   "version": "3.9.16 | packaged by conda-forge | (main, Feb  1 2023, 21:39:03) \n[GCC 11.3.0]"
  },
  "vscode": {
   "interpreter": {
    "hash": "ff5ee332438c92f929e001ac582f4dc65f589c5b69932de359bcb69410618153"
   }
  }
 },
 "nbformat": 4,
 "nbformat_minor": 5
}
