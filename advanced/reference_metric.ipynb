{
 "cells": [
  {
   "cell_type": "markdown",
   "id": "83b24837",
   "metadata": {
    "pycharm": {
     "name": "#%% md\n"
    }
   },
   "source": [
    "# Auditing a CNN trained on CIFAR100 using the Reference Attack"
   ]
  },
  {
   "cell_type": "markdown",
   "id": "b8ed55c1",
   "metadata": {
    "pycharm": {
     "name": "#%% md\n"
    }
   },
   "source": [
    "## Introduction\n",
    "\n",
    "In this tutorial, we will see:\n",
    "\n",
    "- How to specify the dataset and model for Privacy Meter\n",
    "- How to audit a Tensorflow model\n",
    "- How to use the `ReferenceMetric` to evaluate membership leakage using loss values from reference models\n",
    "- How to visualize the audit result"
   ]
  },
  {
   "attachments": {},
   "cell_type": "markdown",
   "id": "7593c892",
   "metadata": {},
   "source": [
    "<table class=\"tfo-notebook-buttons\" align=\"left\">\n",
    "<td>\n",
    "    <a target=\"_blank\" href=\"https://colab.research.google.com/github/privacytrustlab/ml_privacy_meter/blob/master/advanced/reference_metric.ipynb\"><img src=\"https://www.tensorflow.org/images/colab_logo_32px.png\" />Run in Google Colab</a>\n",
    "  </td>\n",
    "  <td>\n",
    "    <a target=\"_blank\" href=\"https://github.com/privacytrustlab/ml_privacy_meter/blob/master/advanced/reference_metric.ipynb\"><img src=\"https://www.tensorflow.org/images/GitHub-Mark-32px.png\" />View GitHub</a>\n",
    "  </td>\n",
    "</table>"
   ]
  },
  {
   "cell_type": "markdown",
   "id": "73dfc8ee",
   "metadata": {
    "pycharm": {
     "name": "#%% md\n"
    }
   },
   "source": [
    "## Imports"
   ]
  },
  {
   "cell_type": "code",
   "execution_count": 2,
   "id": "e571ad5b",
   "metadata": {
    "pycharm": {
     "name": "#%%\n"
    }
   },
   "outputs": [],
   "source": [
    "import numpy as np\n",
    "import tensorflow as tf"
   ]
  },
  {
   "cell_type": "markdown",
   "id": "fb7e67d4",
   "metadata": {
    "pycharm": {
     "name": "#%% md\n"
    }
   },
   "source": [
    "For now we install the Privacy Meter library from the local source. A version will be pushed to pip soon."
   ]
  },
  {
   "cell_type": "code",
   "execution_count": 4,
   "id": "9ee7e3da",
   "metadata": {
    "pycharm": {
     "name": "#%%\n"
    }
   },
   "outputs": [],
   "source": [
    "\n",
    "from privacy_meter.audit import Audit, MetricEnum\n",
    "from privacy_meter.audit_report import ROCCurveReport, SignalHistogramReport\n",
    "from privacy_meter.constants import InferenceGame\n",
    "from privacy_meter.dataset import Dataset\n",
    "from privacy_meter.information_source import InformationSource\n",
    "from privacy_meter.model import TensorflowModel"
   ]
  },
  {
   "cell_type": "markdown",
   "id": "d7802f1e",
   "metadata": {
    "pycharm": {
     "name": "#%% md\n"
    }
   },
   "source": [
    "## Settings"
   ]
  },
  {
   "cell_type": "markdown",
   "id": "d9d12b56",
   "metadata": {
    "pycharm": {
     "name": "#%% md\n"
    }
   },
   "source": [
    "Setting seed for reproducibility:"
   ]
  },
  {
   "cell_type": "code",
   "execution_count": 4,
   "id": "7f6f914c",
   "metadata": {
    "pycharm": {
     "name": "#%%\n"
    }
   },
   "outputs": [],
   "source": [
    "seed = 1234\n",
    "np.random.seed(seed)\n",
    "rng = np.random.default_rng(seed=seed)"
   ]
  },
  {
   "cell_type": "markdown",
   "id": "44ee72a9",
   "metadata": {
    "pycharm": {
     "name": "#%% md\n"
    }
   },
   "source": [
    "Hyperparameters:"
   ]
  },
  {
   "cell_type": "code",
   "execution_count": 5,
   "id": "c787a5d0",
   "metadata": {
    "pycharm": {
     "name": "#%%\n"
    }
   },
   "outputs": [],
   "source": [
    "# for training the target and reference models\n",
    "num_points_per_train_split = 5000\n",
    "num_points_per_test_split = 1000\n",
    "loss_fn = tf.keras.losses.CategoricalCrossentropy()\n",
    "optim_fn = 'adam'\n",
    "epochs = 10\n",
    "batch_size = 64\n",
    "regularizer_penalty = 0.01\n",
    "regularizer = tf.keras.regularizers.l2(l=regularizer_penalty)"
   ]
  },
  {
   "cell_type": "code",
   "execution_count": 6,
   "id": "90266375",
   "metadata": {
    "pycharm": {
     "name": "#%%\n"
    }
   },
   "outputs": [],
   "source": [
    "# for the reference metric\n",
    "num_reference_models = 10\n",
    "fpr_tolerance_list = [\n",
    "    0.0, 0.1, 0.2, 0.3, 0.4, 0.5, 0.6, 0.7, 0.8, 0.9, 1.0\n",
    "]"
   ]
  },
  {
   "cell_type": "markdown",
   "id": "81af2c28",
   "metadata": {
    "pycharm": {
     "name": "#%% md\n"
    }
   },
   "source": [
    "## Dataset creation"
   ]
  },
  {
   "cell_type": "markdown",
   "id": "fae07f3e",
   "metadata": {
    "pycharm": {
     "name": "#%% md\n"
    }
   },
   "source": [
    "We use the CIFAR100 dataset for this tutorial. As Tensorflow already has the data loading code for CIFAR100, we just need to add our pre-processing code on top of it."
   ]
  },
  {
   "cell_type": "code",
   "execution_count": 7,
   "id": "b35272cd",
   "metadata": {
    "pycharm": {
     "name": "#%%\n"
    }
   },
   "outputs": [],
   "source": [
    "def preprocess_cifar100_dataset():\n",
    "    input_shape, num_classes = (32, 32, 3), 100\n",
    "\n",
    "    # split the data between train and test sets\n",
    "    (x_train, y_train), (x_test, y_test) = tf.keras.datasets.cifar100.load_data()\n",
    "\n",
    "    # scale images to the [0, 1] range\n",
    "    x_train = x_train.astype(\"float32\") / 255\n",
    "    x_test = x_test.astype(\"float32\") / 255\n",
    "\n",
    "    # convert labels into one hot vectors\n",
    "    y_train = tf.keras.utils.to_categorical(y_train, num_classes)\n",
    "    y_test = tf.keras.utils.to_categorical(y_test, num_classes)\n",
    "\n",
    "    return x_train, y_train, x_test, y_test, input_shape, num_classes\n",
    "\n",
    "x_train_all, y_train_all, x_test_all, y_test_all, input_shape, num_classes = preprocess_cifar100_dataset()"
   ]
  },
  {
   "cell_type": "code",
   "execution_count": 8,
   "id": "d327057a",
   "metadata": {
    "pycharm": {
     "name": "#%%\n"
    }
   },
   "outputs": [
    {
     "name": "stdout",
     "output_type": "stream",
     "text": [
      "(50000, 32, 32, 3) (10000, 32, 32, 3)\n"
     ]
    }
   ],
   "source": [
    "print(x_train_all.shape, x_test_all.shape)"
   ]
  },
  {
   "cell_type": "markdown",
   "id": "35f88bf5",
   "metadata": {
    "pycharm": {
     "name": "#%% md\n"
    }
   },
   "source": [
    "CIFAR100 comes with the predetermined train and test partitions. We further split the train partition into more sets - 'train' and 'reference' for the audit. \n",
    "\n",
    "We will have the following sets at the end of this partitioning:\n",
    "\n",
    "- The 'train' set will be used to train the target model. It will be used as the 'member' set for the audit.\n",
    "- The 'test' set will be used as the 'non-member' set for the audit.\n",
    "- The 'reference' set will be used later as the pool of data to train the reference models."
   ]
  },
  {
   "cell_type": "markdown",
   "id": "cf40a032",
   "metadata": {
    "pycharm": {
     "name": "#%% md\n"
    }
   },
   "source": [
    "We wrap the sets into a `Dataset` object, which takes in the following arguments:\n",
    "\n",
    "- `data_dict` contains the actual dataset, in the form of a 2D dictionary. The first key corresponds to the split name (here we have two: \"train\" and \"test\"), and the second key to the feature name (here we also have two: \"x\" and \"y\").\n",
    "- `default_input` contains the name of the feature that should be used as the models input (here \"x\").\n",
    "- `default_output` contains the name of the feature that should be used as the label / models output (here \"y\")."
   ]
  },
  {
   "cell_type": "code",
   "execution_count": 9,
   "id": "5b834918",
   "metadata": {
    "pycharm": {
     "name": "#%%\n"
    }
   },
   "outputs": [],
   "source": [
    "# create the target model's dataset\n",
    "dataset = Dataset(\n",
    "    data_dict={\n",
    "        'train': {'x': x_train_all, 'y': y_train_all},\n",
    "        'test': {'x': x_test_all, 'y': y_test_all}\n",
    "    },\n",
    "    default_input='x',\n",
    "    default_output='y'\n",
    ")"
   ]
  },
  {
   "cell_type": "markdown",
   "id": "1ed0b1ac",
   "metadata": {
    "pycharm": {
     "name": "#%% md\n"
    }
   },
   "source": [
    "Finally, we use the built-in `Dataset.subdivide()` function, to split the two splits (\"train\" and \"test\") into multiple sub-datasets (one per model). The resulting sub-splits are included in the parent object (\"train000\", \"train001\", etc.) and are returned as a list of individual Dataset objects."
   ]
  },
  {
   "cell_type": "code",
   "execution_count": 10,
   "id": "5e59fedb",
   "metadata": {
    "pycharm": {
     "name": "#%%\n"
    }
   },
   "outputs": [],
   "source": [
    "datasets_list = dataset.subdivide(\n",
    "    num_splits=num_reference_models + 1,\n",
    "    delete_original=True,\n",
    "    in_place=False,\n",
    "    return_results=True,\n",
    "    method='hybrid',\n",
    "    split_size={'train': num_points_per_train_split, 'test': num_points_per_test_split}\n",
    ")"
   ]
  },
  {
   "cell_type": "code",
   "execution_count": 11,
   "id": "22ffdf03",
   "metadata": {
    "pycharm": {
     "name": "#%%\n"
    }
   },
   "outputs": [
    {
     "name": "stdout",
     "output_type": "stream",
     "text": [
      "0\n",
      "================ DATASET OBJECT ================\n",
      "Splits            = ['train', 'test']\n",
      "Features          = ['x', 'y']\n",
      "Default features  = x --> y\n",
      "================================================\n",
      "1\n",
      "================ DATASET OBJECT ================\n",
      "Splits            = ['train', 'test']\n",
      "Features          = ['x', 'y']\n",
      "Default features  = x --> y\n",
      "================================================\n",
      "2\n",
      "================ DATASET OBJECT ================\n",
      "Splits            = ['train', 'test']\n",
      "Features          = ['x', 'y']\n",
      "Default features  = x --> y\n",
      "================================================\n",
      "3\n",
      "================ DATASET OBJECT ================\n",
      "Splits            = ['train', 'test']\n",
      "Features          = ['x', 'y']\n",
      "Default features  = x --> y\n",
      "================================================\n",
      "4\n",
      "================ DATASET OBJECT ================\n",
      "Splits            = ['train', 'test']\n",
      "Features          = ['x', 'y']\n",
      "Default features  = x --> y\n",
      "================================================\n",
      "5\n",
      "================ DATASET OBJECT ================\n",
      "Splits            = ['train', 'test']\n",
      "Features          = ['x', 'y']\n",
      "Default features  = x --> y\n",
      "================================================\n",
      "6\n",
      "================ DATASET OBJECT ================\n",
      "Splits            = ['train', 'test']\n",
      "Features          = ['x', 'y']\n",
      "Default features  = x --> y\n",
      "================================================\n",
      "7\n",
      "================ DATASET OBJECT ================\n",
      "Splits            = ['train', 'test']\n",
      "Features          = ['x', 'y']\n",
      "Default features  = x --> y\n",
      "================================================\n",
      "8\n",
      "================ DATASET OBJECT ================\n",
      "Splits            = ['train', 'test']\n",
      "Features          = ['x', 'y']\n",
      "Default features  = x --> y\n",
      "================================================\n",
      "9\n",
      "================ DATASET OBJECT ================\n",
      "Splits            = ['train', 'test']\n",
      "Features          = ['x', 'y']\n",
      "Default features  = x --> y\n",
      "================================================\n",
      "10\n",
      "================ DATASET OBJECT ================\n",
      "Splits            = ['train', 'test']\n",
      "Features          = ['x', 'y']\n",
      "Default features  = x --> y\n",
      "================================================\n"
     ]
    }
   ],
   "source": [
    "for i, d in enumerate(datasets_list):\n",
    "    print(i)\n",
    "    print(d)"
   ]
  },
  {
   "cell_type": "markdown",
   "id": "2e8d71b2",
   "metadata": {
    "pycharm": {
     "name": "#%% md\n"
    }
   },
   "source": [
    "## Training the target and reference models"
   ]
  },
  {
   "cell_type": "markdown",
   "id": "54aeb6ab",
   "metadata": {
    "pycharm": {
     "name": "#%% md\n"
    }
   },
   "source": [
    "We define the Tensorflow model to be used as the target and reference models:"
   ]
  },
  {
   "cell_type": "code",
   "execution_count": 12,
   "id": "3b3a7e6d",
   "metadata": {
    "pycharm": {
     "name": "#%%\n"
    }
   },
   "outputs": [],
   "source": [
    "def get_tensorflow_cnn_classifier(input_shape, num_classes, regularizer):\n",
    "    # TODO: change model architecture\n",
    "    model = tf.keras.Sequential()\n",
    "    model.add(tf.keras.layers.Conv2D(32, kernel_size=(3, 3), activation='relu',\n",
    "                                     input_shape=input_shape, kernel_regularizer=regularizer))\n",
    "    model.add(tf.keras.layers.MaxPool2D(pool_size=(2, 2)))\n",
    "    model.add(tf.keras.layers.Conv2D(64, kernel_size=(3, 3), activation='relu',\n",
    "                                     kernel_regularizer=regularizer))\n",
    "    model.add(tf.keras.layers.MaxPool2D(pool_size=(2, 2)))\n",
    "    model.add(tf.keras.layers.Flatten())\n",
    "    model.add(tf.keras.layers.Dropout(0.5))\n",
    "    model.add(tf.keras.layers.Dense(num_classes, activation='softmax'))\n",
    "    return model"
   ]
  },
  {
   "cell_type": "markdown",
   "id": "6bfe1b46",
   "metadata": {
    "pycharm": {
     "name": "#%% md\n"
    }
   },
   "source": [
    "And we compile and train the target model using the target dataset we defined above:"
   ]
  },
  {
   "cell_type": "code",
   "execution_count": 13,
   "id": "7ce52692",
   "metadata": {
    "pycharm": {
     "name": "#%%\n"
    }
   },
   "outputs": [
    {
     "name": "stdout",
     "output_type": "stream",
     "text": [
      "Model: \"sequential\"\n",
      "_________________________________________________________________\n",
      " Layer (type)                Output Shape              Param #   \n",
      "=================================================================\n",
      " conv2d (Conv2D)             (None, 30, 30, 32)        896       \n",
      "                                                                 \n",
      " max_pooling2d (MaxPooling2D  (None, 15, 15, 32)       0         \n",
      " )                                                               \n",
      "                                                                 \n",
      " conv2d_1 (Conv2D)           (None, 13, 13, 64)        18496     \n",
      "                                                                 \n",
      " max_pooling2d_1 (MaxPooling  (None, 6, 6, 64)         0         \n",
      " 2D)                                                             \n",
      "                                                                 \n",
      " flatten (Flatten)           (None, 2304)              0         \n",
      "                                                                 \n",
      " dropout (Dropout)           (None, 2304)              0         \n",
      "                                                                 \n",
      " dense (Dense)               (None, 100)               230500    \n",
      "                                                                 \n",
      "=================================================================\n",
      "Total params: 249,892\n",
      "Trainable params: 249,892\n",
      "Non-trainable params: 0\n",
      "_________________________________________________________________\n",
      "Epoch 1/10\n"
     ]
    },
    {
     "name": "stderr",
     "output_type": "stream",
     "text": [
      "2022-12-21 19:45:28.605589: W tensorflow/stream_executor/platform/default/dso_loader.cc:64] Could not load dynamic library 'libcusolver.so.11'; dlerror: libcusolver.so.11: cannot open shared object file: No such file or directory; LD_LIBRARY_PATH: /usr/lib/x86_64-linux-gnu:\n",
      "2022-12-21 19:45:28.605664: W tensorflow/stream_executor/platform/default/dso_loader.cc:64] Could not load dynamic library 'libcusparse.so.11'; dlerror: libcusparse.so.11: cannot open shared object file: No such file or directory; LD_LIBRARY_PATH: /usr/lib/x86_64-linux-gnu:\n",
      "2022-12-21 19:45:28.605687: W tensorflow/core/common_runtime/gpu/gpu_device.cc:1850] Cannot dlopen some GPU libraries. Please make sure the missing libraries mentioned above are installed properly if you would like to use GPU. Follow the guide at https://www.tensorflow.org/install/gpu for how to download and setup the required libraries for your platform.\n",
      "Skipping registering GPU devices...\n",
      "2022-12-21 19:45:28.606781: I tensorflow/core/platform/cpu_feature_guard.cc:193] This TensorFlow binary is optimized with oneAPI Deep Neural Network Library (oneDNN) to use the following CPU instructions in performance-critical operations:  AVX2 AVX512F FMA\n",
      "To enable them in other operations, rebuild TensorFlow with the appropriate compiler flags.\n"
     ]
    },
    {
     "name": "stdout",
     "output_type": "stream",
     "text": [
      "79/79 - 1s - loss: 4.7642 - accuracy: 0.0216 - 1s/epoch - 14ms/step\n",
      "Epoch 2/10\n",
      "79/79 - 1s - loss: 4.3392 - accuracy: 0.0578 - 714ms/epoch - 9ms/step\n",
      "Epoch 3/10\n",
      "79/79 - 1s - loss: 4.0294 - accuracy: 0.1082 - 790ms/epoch - 10ms/step\n",
      "Epoch 4/10\n",
      "79/79 - 1s - loss: 3.8019 - accuracy: 0.1484 - 787ms/epoch - 10ms/step\n",
      "Epoch 5/10\n",
      "79/79 - 1s - loss: 3.6545 - accuracy: 0.1816 - 745ms/epoch - 9ms/step\n",
      "Epoch 6/10\n",
      "79/79 - 1s - loss: 3.5206 - accuracy: 0.2040 - 764ms/epoch - 10ms/step\n",
      "Epoch 7/10\n",
      "79/79 - 1s - loss: 3.4280 - accuracy: 0.2218 - 753ms/epoch - 10ms/step\n",
      "Epoch 8/10\n",
      "79/79 - 1s - loss: 3.3349 - accuracy: 0.2386 - 728ms/epoch - 9ms/step\n",
      "Epoch 9/10\n",
      "79/79 - 1s - loss: 3.2544 - accuracy: 0.2548 - 700ms/epoch - 9ms/step\n",
      "Epoch 10/10\n",
      "79/79 - 1s - loss: 3.1942 - accuracy: 0.2682 - 712ms/epoch - 9ms/step\n"
     ]
    },
    {
     "data": {
      "text/plain": [
       "<keras.callbacks.History at 0x7fd54c46c3a0>"
      ]
     },
     "execution_count": 13,
     "metadata": {},
     "output_type": "execute_result"
    }
   ],
   "source": [
    "x = datasets_list[0].get_feature('train', '<default_input>')\n",
    "y = datasets_list[0].get_feature('train', '<default_output>')\n",
    "model = get_tensorflow_cnn_classifier(input_shape, num_classes, regularizer)\n",
    "model.summary()\n",
    "model.compile(optimizer=optim_fn, loss=loss_fn, metrics=['accuracy'])\n",
    "model.fit(x, y, batch_size=batch_size, epochs=epochs, verbose=2)"
   ]
  },
  {
   "cell_type": "markdown",
   "id": "316f6760",
   "metadata": {
    "pycharm": {
     "name": "#%% md\n"
    }
   },
   "source": [
    "We wrap the target model in the `TensorflowModel` object:"
   ]
  },
  {
   "cell_type": "code",
   "execution_count": 14,
   "id": "9a499abd",
   "metadata": {
    "pycharm": {
     "name": "#%%\n"
    }
   },
   "outputs": [],
   "source": [
    "target_model = TensorflowModel(model_obj=model, loss_fn=loss_fn)"
   ]
  },
  {
   "cell_type": "markdown",
   "id": "43c04d2e",
   "metadata": {
    "pycharm": {
     "name": "#%% md\n"
    }
   },
   "source": [
    "We will now train reference models using the respective datasets that have been constructed for the models, and wrap each one in a `TensorflowModel` object:"
   ]
  },
  {
   "cell_type": "code",
   "execution_count": 15,
   "id": "1669704f",
   "metadata": {
    "pycharm": {
     "name": "#%%\n"
    }
   },
   "outputs": [
    {
     "name": "stdout",
     "output_type": "stream",
     "text": [
      "Training reference model 0...\n",
      "Epoch 1/10\n",
      "79/79 - 1s - loss: 4.7504 - accuracy: 0.0216 - 979ms/epoch - 12ms/step\n",
      "Epoch 2/10\n",
      "79/79 - 1s - loss: 4.2878 - accuracy: 0.0714 - 724ms/epoch - 9ms/step\n",
      "Epoch 3/10\n",
      "79/79 - 1s - loss: 3.9586 - accuracy: 0.1218 - 722ms/epoch - 9ms/step\n",
      "Epoch 4/10\n",
      "79/79 - 1s - loss: 3.7315 - accuracy: 0.1636 - 723ms/epoch - 9ms/step\n",
      "Epoch 5/10\n",
      "79/79 - 1s - loss: 3.5877 - accuracy: 0.1938 - 733ms/epoch - 9ms/step\n",
      "Epoch 6/10\n",
      "79/79 - 1s - loss: 3.4476 - accuracy: 0.2192 - 734ms/epoch - 9ms/step\n",
      "Epoch 7/10\n",
      "79/79 - 1s - loss: 3.3344 - accuracy: 0.2398 - 718ms/epoch - 9ms/step\n",
      "Epoch 8/10\n",
      "79/79 - 1s - loss: 3.2299 - accuracy: 0.2634 - 711ms/epoch - 9ms/step\n",
      "Epoch 9/10\n",
      "79/79 - 1s - loss: 3.1350 - accuracy: 0.2864 - 712ms/epoch - 9ms/step\n",
      "Epoch 10/10\n",
      "79/79 - 1s - loss: 3.0666 - accuracy: 0.2918 - 719ms/epoch - 9ms/step\n",
      "Training reference model 1...\n",
      "Epoch 1/10\n",
      "79/79 - 1s - loss: 4.7649 - accuracy: 0.0224 - 971ms/epoch - 12ms/step\n",
      "Epoch 2/10\n",
      "79/79 - 1s - loss: 4.3240 - accuracy: 0.0536 - 716ms/epoch - 9ms/step\n",
      "Epoch 3/10\n",
      "79/79 - 1s - loss: 4.0846 - accuracy: 0.0832 - 718ms/epoch - 9ms/step\n",
      "Epoch 4/10\n",
      "79/79 - 1s - loss: 3.9180 - accuracy: 0.1220 - 737ms/epoch - 9ms/step\n",
      "Epoch 5/10\n",
      "79/79 - 1s - loss: 3.7676 - accuracy: 0.1504 - 731ms/epoch - 9ms/step\n",
      "Epoch 6/10\n",
      "79/79 - 1s - loss: 3.6262 - accuracy: 0.1810 - 714ms/epoch - 9ms/step\n",
      "Epoch 7/10\n",
      "79/79 - 1s - loss: 3.5135 - accuracy: 0.2072 - 762ms/epoch - 10ms/step\n",
      "Epoch 8/10\n",
      "79/79 - 1s - loss: 3.4152 - accuracy: 0.2280 - 772ms/epoch - 10ms/step\n",
      "Epoch 9/10\n",
      "79/79 - 1s - loss: 3.3304 - accuracy: 0.2380 - 733ms/epoch - 9ms/step\n",
      "Epoch 10/10\n",
      "79/79 - 1s - loss: 3.2292 - accuracy: 0.2628 - 712ms/epoch - 9ms/step\n",
      "Training reference model 2...\n",
      "Epoch 1/10\n",
      "79/79 - 1s - loss: 4.7541 - accuracy: 0.0184 - 975ms/epoch - 12ms/step\n",
      "Epoch 2/10\n",
      "79/79 - 1s - loss: 4.3188 - accuracy: 0.0574 - 723ms/epoch - 9ms/step\n",
      "Epoch 3/10\n",
      "79/79 - 1s - loss: 4.0224 - accuracy: 0.1132 - 723ms/epoch - 9ms/step\n",
      "Epoch 4/10\n",
      "79/79 - 1s - loss: 3.7377 - accuracy: 0.1646 - 719ms/epoch - 9ms/step\n",
      "Epoch 5/10\n",
      "79/79 - 1s - loss: 3.5491 - accuracy: 0.1958 - 714ms/epoch - 9ms/step\n",
      "Epoch 6/10\n",
      "79/79 - 1s - loss: 3.3974 - accuracy: 0.2290 - 714ms/epoch - 9ms/step\n",
      "Epoch 7/10\n",
      "79/79 - 1s - loss: 3.2742 - accuracy: 0.2550 - 710ms/epoch - 9ms/step\n",
      "Epoch 8/10\n",
      "79/79 - 1s - loss: 3.1699 - accuracy: 0.2692 - 716ms/epoch - 9ms/step\n",
      "Epoch 9/10\n",
      "79/79 - 1s - loss: 3.0693 - accuracy: 0.2918 - 724ms/epoch - 9ms/step\n",
      "Epoch 10/10\n",
      "79/79 - 1s - loss: 3.0010 - accuracy: 0.3096 - 722ms/epoch - 9ms/step\n",
      "Training reference model 3...\n",
      "Epoch 1/10\n",
      "79/79 - 1s - loss: 4.7867 - accuracy: 0.0220 - 971ms/epoch - 12ms/step\n",
      "Epoch 2/10\n",
      "79/79 - 1s - loss: 4.3677 - accuracy: 0.0488 - 712ms/epoch - 9ms/step\n",
      "Epoch 3/10\n",
      "79/79 - 1s - loss: 4.0771 - accuracy: 0.1058 - 709ms/epoch - 9ms/step\n",
      "Epoch 4/10\n",
      "79/79 - 1s - loss: 3.8532 - accuracy: 0.1414 - 712ms/epoch - 9ms/step\n",
      "Epoch 5/10\n",
      "79/79 - 1s - loss: 3.7012 - accuracy: 0.1700 - 712ms/epoch - 9ms/step\n",
      "Epoch 6/10\n",
      "79/79 - 1s - loss: 3.5599 - accuracy: 0.1996 - 710ms/epoch - 9ms/step\n",
      "Epoch 7/10\n",
      "79/79 - 1s - loss: 3.4454 - accuracy: 0.2252 - 716ms/epoch - 9ms/step\n",
      "Epoch 8/10\n",
      "79/79 - 1s - loss: 3.3444 - accuracy: 0.2370 - 714ms/epoch - 9ms/step\n",
      "Epoch 9/10\n",
      "79/79 - 1s - loss: 3.2700 - accuracy: 0.2534 - 712ms/epoch - 9ms/step\n",
      "Epoch 10/10\n",
      "79/79 - 1s - loss: 3.1751 - accuracy: 0.2724 - 705ms/epoch - 9ms/step\n",
      "Training reference model 4...\n",
      "Epoch 1/10\n",
      "79/79 - 1s - loss: 4.7612 - accuracy: 0.0228 - 1s/epoch - 15ms/step\n",
      "Epoch 2/10\n",
      "79/79 - 1s - loss: 4.3187 - accuracy: 0.0606 - 719ms/epoch - 9ms/step\n",
      "Epoch 3/10\n",
      "79/79 - 1s - loss: 4.0494 - accuracy: 0.1088 - 710ms/epoch - 9ms/step\n",
      "Epoch 4/10\n",
      "79/79 - 1s - loss: 3.8375 - accuracy: 0.1430 - 709ms/epoch - 9ms/step\n",
      "Epoch 5/10\n",
      "79/79 - 1s - loss: 3.6683 - accuracy: 0.1714 - 710ms/epoch - 9ms/step\n",
      "Epoch 6/10\n",
      "79/79 - 1s - loss: 3.5196 - accuracy: 0.2070 - 715ms/epoch - 9ms/step\n",
      "Epoch 7/10\n",
      "79/79 - 1s - loss: 3.4091 - accuracy: 0.2210 - 708ms/epoch - 9ms/step\n",
      "Epoch 8/10\n",
      "79/79 - 1s - loss: 3.2791 - accuracy: 0.2520 - 717ms/epoch - 9ms/step\n",
      "Epoch 9/10\n",
      "79/79 - 1s - loss: 3.1823 - accuracy: 0.2744 - 716ms/epoch - 9ms/step\n",
      "Epoch 10/10\n",
      "79/79 - 1s - loss: 3.1047 - accuracy: 0.2856 - 711ms/epoch - 9ms/step\n",
      "Training reference model 5...\n",
      "Epoch 1/10\n",
      "79/79 - 1s - loss: 4.7453 - accuracy: 0.0278 - 971ms/epoch - 12ms/step\n",
      "Epoch 2/10\n",
      "79/79 - 1s - loss: 4.3064 - accuracy: 0.0604 - 714ms/epoch - 9ms/step\n",
      "Epoch 3/10\n",
      "79/79 - 1s - loss: 3.9956 - accuracy: 0.1162 - 714ms/epoch - 9ms/step\n",
      "Epoch 4/10\n",
      "79/79 - 1s - loss: 3.7712 - accuracy: 0.1510 - 721ms/epoch - 9ms/step\n",
      "Epoch 5/10\n",
      "79/79 - 1s - loss: 3.5985 - accuracy: 0.1986 - 716ms/epoch - 9ms/step\n",
      "Epoch 6/10\n",
      "79/79 - 1s - loss: 3.4691 - accuracy: 0.2210 - 720ms/epoch - 9ms/step\n",
      "Epoch 7/10\n",
      "79/79 - 1s - loss: 3.3434 - accuracy: 0.2464 - 716ms/epoch - 9ms/step\n",
      "Epoch 8/10\n",
      "79/79 - 1s - loss: 3.2745 - accuracy: 0.2562 - 710ms/epoch - 9ms/step\n",
      "Epoch 9/10\n",
      "79/79 - 1s - loss: 3.1425 - accuracy: 0.2872 - 712ms/epoch - 9ms/step\n",
      "Epoch 10/10\n",
      "79/79 - 1s - loss: 3.0671 - accuracy: 0.3034 - 709ms/epoch - 9ms/step\n",
      "Training reference model 6...\n",
      "Epoch 1/10\n",
      "79/79 - 1s - loss: 4.7457 - accuracy: 0.0268 - 999ms/epoch - 13ms/step\n",
      "Epoch 2/10\n",
      "79/79 - 1s - loss: 4.2966 - accuracy: 0.0690 - 711ms/epoch - 9ms/step\n",
      "Epoch 3/10\n",
      "79/79 - 1s - loss: 3.9958 - accuracy: 0.1144 - 714ms/epoch - 9ms/step\n",
      "Epoch 4/10\n",
      "79/79 - 1s - loss: 3.7747 - accuracy: 0.1562 - 712ms/epoch - 9ms/step\n",
      "Epoch 5/10\n",
      "79/79 - 1s - loss: 3.6022 - accuracy: 0.1870 - 713ms/epoch - 9ms/step\n",
      "Epoch 6/10\n",
      "79/79 - 1s - loss: 3.4572 - accuracy: 0.2154 - 712ms/epoch - 9ms/step\n",
      "Epoch 7/10\n",
      "79/79 - 1s - loss: 3.3360 - accuracy: 0.2436 - 714ms/epoch - 9ms/step\n",
      "Epoch 8/10\n",
      "79/79 - 1s - loss: 3.2513 - accuracy: 0.2670 - 718ms/epoch - 9ms/step\n",
      "Epoch 9/10\n",
      "79/79 - 1s - loss: 3.1311 - accuracy: 0.2896 - 712ms/epoch - 9ms/step\n",
      "Epoch 10/10\n",
      "79/79 - 1s - loss: 3.0466 - accuracy: 0.3004 - 713ms/epoch - 9ms/step\n",
      "Training reference model 7...\n",
      "Epoch 1/10\n",
      "79/79 - 1s - loss: 4.7246 - accuracy: 0.0226 - 977ms/epoch - 12ms/step\n",
      "Epoch 2/10\n",
      "79/79 - 1s - loss: 4.3135 - accuracy: 0.0566 - 709ms/epoch - 9ms/step\n",
      "Epoch 3/10\n",
      "79/79 - 1s - loss: 4.0628 - accuracy: 0.1048 - 707ms/epoch - 9ms/step\n",
      "Epoch 4/10\n",
      "79/79 - 1s - loss: 3.8113 - accuracy: 0.1538 - 714ms/epoch - 9ms/step\n",
      "Epoch 5/10\n",
      "79/79 - 1s - loss: 3.6264 - accuracy: 0.1820 - 711ms/epoch - 9ms/step\n",
      "Epoch 6/10\n",
      "79/79 - 1s - loss: 3.4736 - accuracy: 0.2110 - 711ms/epoch - 9ms/step\n",
      "Epoch 7/10\n",
      "79/79 - 1s - loss: 3.3383 - accuracy: 0.2428 - 712ms/epoch - 9ms/step\n",
      "Epoch 8/10\n",
      "79/79 - 1s - loss: 3.2347 - accuracy: 0.2604 - 708ms/epoch - 9ms/step\n",
      "Epoch 9/10\n",
      "79/79 - 1s - loss: 3.1322 - accuracy: 0.2838 - 712ms/epoch - 9ms/step\n",
      "Epoch 10/10\n",
      "79/79 - 1s - loss: 3.0370 - accuracy: 0.3038 - 712ms/epoch - 9ms/step\n",
      "Training reference model 8...\n",
      "Epoch 1/10\n",
      "79/79 - 1s - loss: 4.7299 - accuracy: 0.0218 - 981ms/epoch - 12ms/step\n",
      "Epoch 2/10\n",
      "79/79 - 1s - loss: 4.2773 - accuracy: 0.0652 - 716ms/epoch - 9ms/step\n",
      "Epoch 3/10\n",
      "79/79 - 1s - loss: 3.9792 - accuracy: 0.1154 - 719ms/epoch - 9ms/step\n",
      "Epoch 4/10\n",
      "79/79 - 1s - loss: 3.7545 - accuracy: 0.1600 - 711ms/epoch - 9ms/step\n",
      "Epoch 5/10\n",
      "79/79 - 1s - loss: 3.6004 - accuracy: 0.1840 - 712ms/epoch - 9ms/step\n",
      "Epoch 6/10\n",
      "79/79 - 1s - loss: 3.4811 - accuracy: 0.2108 - 717ms/epoch - 9ms/step\n",
      "Epoch 7/10\n",
      "79/79 - 1s - loss: 3.3728 - accuracy: 0.2378 - 717ms/epoch - 9ms/step\n",
      "Epoch 8/10\n",
      "79/79 - 1s - loss: 3.2534 - accuracy: 0.2598 - 712ms/epoch - 9ms/step\n",
      "Epoch 9/10\n",
      "79/79 - 1s - loss: 3.1578 - accuracy: 0.2802 - 713ms/epoch - 9ms/step\n",
      "Epoch 10/10\n",
      "79/79 - 1s - loss: 3.0734 - accuracy: 0.2956 - 712ms/epoch - 9ms/step\n",
      "Training reference model 9...\n",
      "Epoch 1/10\n",
      "79/79 - 1s - loss: 4.7420 - accuracy: 0.0230 - 971ms/epoch - 12ms/step\n",
      "Epoch 2/10\n",
      "79/79 - 1s - loss: 4.2535 - accuracy: 0.0708 - 720ms/epoch - 9ms/step\n",
      "Epoch 3/10\n",
      "79/79 - 1s - loss: 3.9410 - accuracy: 0.1218 - 724ms/epoch - 9ms/step\n",
      "Epoch 4/10\n",
      "79/79 - 1s - loss: 3.7355 - accuracy: 0.1578 - 719ms/epoch - 9ms/step\n",
      "Epoch 5/10\n",
      "79/79 - 1s - loss: 3.5789 - accuracy: 0.1824 - 720ms/epoch - 9ms/step\n",
      "Epoch 6/10\n",
      "79/79 - 1s - loss: 3.4373 - accuracy: 0.2186 - 722ms/epoch - 9ms/step\n",
      "Epoch 7/10\n",
      "79/79 - 1s - loss: 3.3303 - accuracy: 0.2438 - 717ms/epoch - 9ms/step\n",
      "Epoch 8/10\n",
      "79/79 - 1s - loss: 3.2609 - accuracy: 0.2576 - 725ms/epoch - 9ms/step\n",
      "Epoch 9/10\n",
      "79/79 - 1s - loss: 3.1397 - accuracy: 0.2808 - 721ms/epoch - 9ms/step\n",
      "Epoch 10/10\n",
      "79/79 - 1s - loss: 3.0374 - accuracy: 0.2996 - 722ms/epoch - 9ms/step\n"
     ]
    }
   ],
   "source": [
    "reference_models = []\n",
    "for model_idx in range(num_reference_models):\n",
    "    print(f\"Training reference model {model_idx}...\")\n",
    "    reference_model = get_tensorflow_cnn_classifier(input_shape, num_classes, regularizer)\n",
    "    reference_model.compile(optimizer=optim_fn, loss=loss_fn, metrics=['accuracy'])\n",
    "    reference_model.fit(\n",
    "        datasets_list[model_idx + 1].get_feature('train', '<default_input>'),\n",
    "        datasets_list[model_idx + 1].get_feature('train', '<default_output>'),\n",
    "        batch_size=batch_size,\n",
    "        epochs=epochs,\n",
    "        verbose=2\n",
    "    )\n",
    "    reference_models.append(\n",
    "        TensorflowModel(model_obj=reference_model, loss_fn=loss_fn)\n",
    "    )"
   ]
  },
  {
   "cell_type": "markdown",
   "id": "3b2cf473",
   "metadata": {
    "pycharm": {
     "name": "#%% md\n"
    }
   },
   "source": [
    "## Information Sources\n",
    "\n",
    "We can now define two `InformationSource` objects. Basically, an information source is an abstraction representing a set of models, and their corresponding dataset. Note that for the `ReferenceMetric` we use the same dataset in both the target and reference information sources, but the models that will be used for querying the dataset will differ."
   ]
  },
  {
   "cell_type": "code",
   "execution_count": 16,
   "id": "15ffcbae",
   "metadata": {
    "pycharm": {
     "name": "#%%\n"
    }
   },
   "outputs": [],
   "source": [
    "target_info_source = InformationSource(\n",
    "    models=[target_model],\n",
    "    datasets=[datasets_list[0]]\n",
    ")\n",
    "\n",
    "reference_info_source = InformationSource(\n",
    "    models=reference_models,\n",
    "    datasets=[datasets_list[0]] # we use the same dataset for the reference models\n",
    ")"
   ]
  },
  {
   "cell_type": "markdown",
   "id": "4b83dd40",
   "metadata": {
    "pycharm": {
     "name": "#%% md\n"
    }
   },
   "source": [
    "## Metric and Audit\n",
    "\n",
    "We now create a `Metric` object, which is an abstraction representing an algorithm used to measure something on an `InformationSource`, such as membership information leakage. In this case, we use the `ReferenceMetric` to measure the membership information leakage of `target_info_source` in a black-box setting, using loss values returned by the reference model on the target dataset in `reference_info_source`.\n",
    "\n",
    "The `Audit` object is a wrapper to actually run the audit, and display the results. More visualization options will be added soon.\n",
    "\n",
    "As we will be using the default version of the `ReferenceMetric`, we pass the `REFERENCE` enum value as the metric argument for the `Audit` object."
   ]
  },
  {
   "cell_type": "code",
   "execution_count": 17,
   "id": "68ee2a66",
   "metadata": {
    "pycharm": {
     "is_executing": true,
     "name": "#%%\n"
    }
   },
   "outputs": [],
   "source": [
    "\n",
    "\n",
    "\n",
    "audit_obj = Audit(\n",
    "    metrics=MetricEnum.REFERENCE,\n",
    "    inference_game_type=InferenceGame.PRIVACY_LOSS_MODEL,\n",
    "    target_info_sources=target_info_source,\n",
    "    reference_info_sources=reference_info_source,\n",
    "    fpr_tolerances=fpr_tolerance_list\n",
    ")\n",
    "audit_obj.prepare()"
   ]
  },
  {
   "cell_type": "code",
   "execution_count": 18,
   "id": "263c53b1",
   "metadata": {
    "pycharm": {
     "is_executing": true,
     "name": "#%%\n"
    }
   },
   "outputs": [
    {
     "name": "stdout",
     "output_type": "stream",
     "text": [
      "Results are stored in: ['/home/hongyan/Desktop/upgrade_privacy_meter/ml_privacy_meter/docs/log_2022-12-21_19-46-52-000']\n",
      "============= METRIC RESULT OBJECT =============\n",
      "Accuracy          = 0.16666666666666666\n",
      "ROC AUC Score     = 0.7131286\n",
      "FPR               = 0.0\n",
      "TN, FP, FN, TP    = (1000, 0, 5000, 0)\n",
      "\n",
      "============= METRIC RESULT OBJECT =============\n",
      "Accuracy          = 0.403\n",
      "ROC AUC Score     = 0.7131286\n",
      "FPR               = 0.088\n",
      "TN, FP, FN, TP    = (912, 88, 3494, 1506)\n",
      "\n",
      "============= METRIC RESULT OBJECT =============\n",
      "Accuracy          = 0.5356666666666666\n",
      "ROC AUC Score     = 0.7131286\n",
      "FPR               = 0.19\n",
      "TN, FP, FN, TP    = (810, 190, 2596, 2404)\n",
      "\n",
      "============= METRIC RESULT OBJECT =============\n",
      "Accuracy          = 0.6418333333333334\n",
      "ROC AUC Score     = 0.7131286\n",
      "FPR               = 0.311\n",
      "TN, FP, FN, TP    = (689, 311, 1838, 3162)\n",
      "\n",
      "============= METRIC RESULT OBJECT =============\n",
      "Accuracy          = 0.7098333333333333\n",
      "ROC AUC Score     = 0.7131286\n",
      "FPR               = 0.433\n",
      "TN, FP, FN, TP    = (567, 433, 1308, 3692)\n",
      "\n",
      "============= METRIC RESULT OBJECT =============\n",
      "Accuracy          = 0.758\n",
      "ROC AUC Score     = 0.7131286\n",
      "FPR               = 0.547\n",
      "TN, FP, FN, TP    = (453, 547, 905, 4095)\n",
      "\n",
      "============= METRIC RESULT OBJECT =============\n",
      "Accuracy          = 0.79\n",
      "ROC AUC Score     = 0.7131286\n",
      "FPR               = 0.654\n",
      "TN, FP, FN, TP    = (346, 654, 606, 4394)\n",
      "\n",
      "============= METRIC RESULT OBJECT =============\n",
      "Accuracy          = 0.8156666666666667\n",
      "ROC AUC Score     = 0.7131286\n",
      "FPR               = 0.749\n",
      "TN, FP, FN, TP    = (251, 749, 357, 4643)\n",
      "\n",
      "============= METRIC RESULT OBJECT =============\n",
      "Accuracy          = 0.8301666666666667\n",
      "ROC AUC Score     = 0.7131286\n",
      "FPR               = 0.843\n",
      "TN, FP, FN, TP    = (157, 843, 176, 4824)\n",
      "\n",
      "============= METRIC RESULT OBJECT =============\n",
      "Accuracy          = 0.8353333333333334\n",
      "ROC AUC Score     = 0.7131286\n",
      "FPR               = 0.918\n",
      "TN, FP, FN, TP    = (82, 918, 70, 4930)\n",
      "\n",
      "============= METRIC RESULT OBJECT =============\n",
      "Accuracy          = 0.8333333333333334\n",
      "ROC AUC Score     = 0.7131286\n",
      "FPR               = 1.0\n",
      "TN, FP, FN, TP    = (0, 1000, 0, 5000)\n"
     ]
    }
   ],
   "source": [
    "audit_results = audit_obj.run()[0]\n",
    "for result in audit_results:\n",
    "    print(result)"
   ]
  },
  {
   "cell_type": "markdown",
   "id": "3eec9d4a",
   "metadata": {
    "pycharm": {
     "name": "#%% md\n"
    }
   },
   "source": [
    "## Result visualization"
   ]
  },
  {
   "cell_type": "markdown",
   "id": "a4d92efb",
   "metadata": {
    "pycharm": {
     "name": "#%% md\n"
    }
   },
   "source": [
    "Several visualization tools are built in `privacy_tool`, such as ROC curves, signal values histogram, or confusion matrix."
   ]
  },
  {
   "cell_type": "code",
   "execution_count": 23,
   "id": "11a513b2",
   "metadata": {
    "pycharm": {
     "is_executing": true,
     "name": "#%%\n"
    }
   },
   "outputs": [],
   "source": [
    "# This instruction won't be needed once the tool is on pip\n",
    "from privacy_meter import audit_report\n",
    "audit_report.REPORT_FILES_DIR = '../privacy_meter/report_files'"
   ]
  },
  {
   "cell_type": "code",
   "execution_count": 24,
   "id": "e7e39ff1",
   "metadata": {},
   "outputs": [
    {
     "data": {
      "image/png": "[encoded data removed]",
      "text/plain": [
       "<Figure size 432x288 with 1 Axes>"
      ]
     },
     "metadata": {
      "needs_background": "light"
     },
     "output_type": "display_data"
    },
    {
     "data": {
      "text/plain": [
       "<Figure size 432x288 with 0 Axes>"
      ]
     },
     "metadata": {},
     "output_type": "display_data"
    }
   ],
   "source": [
    "ROCCurveReport.generate_report(\n",
    "    metric_result=audit_results,\n",
    "    inference_game_type=InferenceGame.PRIVACY_LOSS_MODEL,\n",
    "    show=True\n",
    ")"
   ]
  },
  {
   "cell_type": "code",
   "execution_count": 25,
   "id": "1573603e",
   "metadata": {
    "pycharm": {
     "is_executing": true,
     "name": "#%%\n"
    }
   },
   "outputs": [
    {
     "data": {
      "image/png": "[encoded data removed]",
      "text/plain": [
       "<Figure size 432x288 with 1 Axes>"
      ]
     },
     "metadata": {
      "needs_background": "light"
     },
     "output_type": "display_data"
    },
    {
     "data": {
      "text/plain": [
       "<Figure size 432x288 with 0 Axes>"
      ]
     },
     "metadata": {},
     "output_type": "display_data"
    }
   ],
   "source": [
    "SignalHistogramReport.generate_report(\n",
    "    metric_result=result,\n",
    "    inference_game_type=InferenceGame.PRIVACY_LOSS_MODEL,\n",
    "    show=True\n",
    ")"
   ]
  }
 ],
 "metadata": {
  "kernelspec": {
   "display_name": "privacy_meter_test",
   "language": "python",
   "name": "python3"
  },
  "language_info": {
   "codemirror_mode": {
    "name": "ipython",
    "version": 3
   },
   "file_extension": ".py",
   "mimetype": "text/x-python",
   "name": "python",
   "nbconvert_exporter": "python",
   "pygments_lexer": "ipython3",
   "version": "3.9.16"
  },
  "vscode": {
   "interpreter": {
    "hash": "af48e0a30d2a0b619bf296aea7d7271ba14c9beb98b0928b3e23c82f12ae949a"
   }
  }
 },
 "nbformat": 4,
 "nbformat_minor": 5
}
