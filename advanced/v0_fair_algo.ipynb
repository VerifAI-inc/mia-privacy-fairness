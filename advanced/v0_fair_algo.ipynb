{
 "cells": [
  {
   "cell_type": "code",
   "execution_count": 2,
   "metadata": {},
   "outputs": [],
   "source": [
    "import sys\n",
    "sys.path.append('../')"
   ]
  },
  {
   "cell_type": "code",
   "execution_count": 3,
   "metadata": {},
   "outputs": [],
   "source": [
    "import numpy as np\n",
    "from fairlearn.datasets import fetch_acs_income\n",
    "from sklearn import preprocessing\n",
    "from fairlearn.metrics import MetricFrame\n",
    "from fairlearn.metrics import equalized_odds_difference\n",
    "import numpy as np\n",
    "from privacy_meter.audit import Audit, MetricEnum\n",
    "from privacy_meter.dataset import Dataset\n",
    "from privacy_meter.information_source import InformationSource\n",
    "\n",
    "\n",
    "import keras as keras\n",
    "import tensorflow as tf\n",
    "import matplotlib.pyplot as plt\n",
    "# load dataset\n",
    "import pandas as pd\n",
    "from fairlearn.reductions import EqualizedOdds\n",
    "import warnings\n",
    "warnings.filterwarnings('ignore')\n",
    "\n",
    "from fairlearn.metrics import MetricFrame\n",
    "from sklearn.metrics import accuracy_score\n",
    "from sklearn.tree import DecisionTreeClassifier\n",
    "from privacy_meter.audit import Audit, MetricEnum\n",
    "from privacy_meter.dataset import Dataset\n",
    "from privacy_meter.information_source import InformationSource\n",
    "from privacy_meter.model import Fairlearn_Model, Sklearn_Model\n"
   ]
  },
  {
   "cell_type": "markdown",
   "metadata": {},
   "source": [
    "# load dataset"
   ]
  },
  {
   "cell_type": "code",
   "execution_count": 4,
   "metadata": {},
   "outputs": [],
   "source": [
    "data = fetch_acs_income(as_frame=False,states=[\"CA\"])\n",
    "sex = data.data[:,data['feature_names'].index('SEX')]\n",
    "X = data.data\n",
    "y_true = (data.target > 50000) * 1\n",
    "X = preprocessing.normalize(X, norm='l2')"
   ]
  },
  {
   "cell_type": "code",
   "execution_count": 5,
   "metadata": {},
   "outputs": [
    {
     "data": {
      "text/plain": [
       "((195665, 10), (195665,))"
      ]
     },
     "execution_count": 5,
     "metadata": {},
     "output_type": "execute_result"
    }
   ],
   "source": [
    "X.shape, y_true.shape"
   ]
  },
  {
   "cell_type": "markdown",
   "metadata": {},
   "source": [
    "# standard model"
   ]
  },
  {
   "cell_type": "code",
   "execution_count": 6,
   "metadata": {},
   "outputs": [
    {
     "name": "stdout",
     "output_type": "stream",
     "text": [
      "0.7455702348401605\n",
      "sensitive_feature_0\n",
      "1.0    0.732420\n",
      "2.0    0.760281\n",
      "Name: accuracy_score, dtype: float64\n",
      "0.029908267724111592\n"
     ]
    }
   ],
   "source": [
    "\n",
    "classifier = DecisionTreeClassifier(min_samples_leaf=10, max_depth=4)\n",
    "classifier.fit(X, y_true)\n",
    "\n",
    "y_pred = classifier.predict(X)\n",
    "gm = MetricFrame(metrics=accuracy_score, y_true=y_true, y_pred=y_pred, sensitive_features=sex)\n",
    "print(gm.overall)\n",
    "print(gm.by_group)\n",
    "print(equalized_odds_difference(y_true,\n",
    "                                y_pred,\n",
    "                                sensitive_features=sex))"
   ]
  },
  {
   "cell_type": "markdown",
   "metadata": {},
   "source": [
    "# fair models\n"
   ]
  },
  {
   "cell_type": "code",
   "execution_count": 7,
   "metadata": {},
   "outputs": [
    {
     "name": "stdout",
     "output_type": "stream",
     "text": [
      "0.7544016558914471\n",
      "sensitive_feature_0\n",
      "1.0    0.744606\n",
      "2.0    0.765359\n",
      "Name: accuracy_score, dtype: float64\n"
     ]
    }
   ],
   "source": [
    "from fairlearn.reductions import ExponentiatedGradient, DemographicParity\n",
    "from fairlearn.metrics import equalized_odds_difference\n",
    "\n",
    "np.random.seed(0)  # set seed for consistent results with ExponentiatedGradient\n",
    "constraint = EqualizedOdds(difference_bound=0.0001)\n",
    "classifier = DecisionTreeClassifier(min_samples_leaf=10, max_depth=4)\n",
    "mitigator = ExponentiatedGradient(classifier, constraint)\n",
    "mitigator.fit(X, y_true, sensitive_features=sex)\n",
    "y_pred_mitigated = mitigator.predict(X)\n",
    "sr_mitigated = MetricFrame(metrics=accuracy_score, y_true=y_true, y_pred=y_pred_mitigated, sensitive_features=sex)\n",
    "print(sr_mitigated.overall)\n",
    "print(sr_mitigated.by_group)"
   ]
  },
  {
   "cell_type": "code",
   "execution_count": 8,
   "metadata": {},
   "outputs": [
    {
     "name": "stdout",
     "output_type": "stream",
     "text": [
      "0.0006599766260567685\n"
     ]
    }
   ],
   "source": [
    "print(equalized_odds_difference(y_true,\n",
    "                                y_pred_mitigated,\n",
    "                                sensitive_features=sex))\n"
   ]
  },
  {
   "cell_type": "code",
   "execution_count": null,
   "metadata": {},
   "outputs": [],
   "source": []
  },
  {
   "cell_type": "markdown",
   "metadata": {},
   "source": [
    "# Attack models"
   ]
  },
  {
   "cell_type": "code",
   "execution_count": null,
   "metadata": {},
   "outputs": [],
   "source": []
  },
  {
   "cell_type": "code",
   "execution_count": 9,
   "metadata": {},
   "outputs": [],
   "source": [
    "# for the population metric\n",
    "seed = 1234\n",
    "np.random.seed(seed)\n",
    "rng = np.random.default_rng(seed=seed)\n",
    "# for training the target and reference models\n",
    "num_train_points = 2000\n",
    "num_test_points = 2000\n",
    "num_fair_train_points = 10000\n",
    "num_population_points = 30000\n",
    "\n",
    "train_index = np.random.choice(X.shape[0], num_train_points, replace=False)\n",
    "test_index = np.random.choice(X.shape[0], num_test_points, replace=False)\n",
    "fair_train_index = np.random.choice(X.shape[0], num_fair_train_points, replace=False)\n",
    "population_index = np.random.choice(X.shape[0], num_population_points, replace=False)"
   ]
  },
  {
   "cell_type": "code",
   "execution_count": 10,
   "metadata": {},
   "outputs": [],
   "source": [
    "input_shape= X.shape[-1]\n",
    "num_classes= 1"
   ]
  },
  {
   "cell_type": "code",
   "execution_count": 11,
   "metadata": {},
   "outputs": [],
   "source": [
    "# create the target model's dataset\n",
    "g_train  = (y_true[train_index])+ (sex[train_index])*2\n",
    "g_test  = (y_true[test_index])+ (sex[test_index])*2\n",
    "g_pop_train = (y_true[population_index])+ (sex[population_index])*2"
   ]
  },
  {
   "cell_type": "code",
   "execution_count": 12,
   "metadata": {},
   "outputs": [],
   "source": [
    "# create the target model's dataset\n",
    "train_ds = {'x': X[train_index], 'y': y_true[train_index],'g':g_train}\n",
    "test_ds = {'x': X[test_index], 'y': y_true[test_index], 'g':g_test}\n",
    "target_dataset = Dataset(\n",
    "    data_dict={'train': train_ds, 'test': test_ds},\n",
    "    default_input='x', default_output='y', default_group='g'\n",
    ")\n",
    "\n",
    "# create the reference dataset\n",
    "population_ds = {'x': X[population_index], 'y': y_true[population_index], 'g': g_pop_train}\n",
    "reference_dataset = Dataset(\n",
    "    data_dict={'train': population_ds},\n",
    "    default_input='x', default_output='y', default_group='g'\n",
    ")"
   ]
  },
  {
   "cell_type": "code",
   "execution_count": 13,
   "metadata": {},
   "outputs": [
    {
     "name": "stdout",
     "output_type": "stream",
     "text": [
      "DecisionTreeClassifier(max_depth=8, min_samples_leaf=10)\n",
      "0.7405 sensitive_feature_0\n",
      "1.0    0.746860\n",
      "2.0    0.733679\n",
      "Name: accuracy_score, dtype: float64\n",
      "0.806 sensitive_feature_0\n",
      "1.0    0.810732\n",
      "2.0    0.801026\n",
      "Name: accuracy_score, dtype: float64\n",
      "0.22076978939724035\n"
     ]
    }
   ],
   "source": [
    "def log(y, pre):\n",
    "    e = 0.0000001\n",
    "    pre = np.clip(pre, e, 1 - e)\n",
    "    return - y * np.log(pre) - (1 - y) * np.log(1 - pre)\n",
    "\n",
    "model = DecisionTreeClassifier(min_samples_leaf=10, max_depth=8)\n",
    "model.fit(X[train_index], y_true[train_index])\n",
    "target_model = Sklearn_Model(model_obj=model, loss_fn=log)\n",
    "print(model)\n",
    "y_pred_test= model.predict(X[test_index])\n",
    "sr_test = MetricFrame(metrics=accuracy_score, y_true=y_true[test_index], y_pred=y_pred_test, sensitive_features=sex[test_index])\n",
    "y_pred_train= model.predict(X[train_index])\n",
    "sr_train = MetricFrame(metrics=accuracy_score, y_true=y_true[train_index], y_pred=y_pred_train, sensitive_features=sex[train_index])\n",
    "print(sr_test.overall, sr_test.by_group)\n",
    "print(sr_train.overall, sr_train.by_group)\n",
    "print(equalized_odds_difference(y_true[test_index],y_pred_test, sensitive_features=sex[test_index]))"
   ]
  },
  {
   "cell_type": "code",
   "execution_count": 14,
   "metadata": {},
   "outputs": [
    {
     "name": "stdout",
     "output_type": "stream",
     "text": [
      "ExponentiatedGradient(constraints=<fairlearn.reductions._moments.utility_parity.EqualizedOdds object at 0x0000022103DFEA50>,\n",
      "                      estimator=DecisionTreeClassifier(max_depth=8,\n",
      "                                                       min_samples_leaf=10),\n",
      "                      nu=0.004422134963885591)\n",
      "0.742 sensitive_feature_0\n",
      "1.0    0.743961\n",
      "2.0    0.739896\n",
      "Name: accuracy_score, dtype: float64\n",
      "0.8135 sensitive_feature_0\n",
      "1.0    0.815610\n",
      "2.0    0.811282\n",
      "Name: accuracy_score, dtype: float64\n",
      "0.05319535221496008\n"
     ]
    }
   ],
   "source": [
    "constraint = EqualizedOdds(difference_bound=0.0001)\n",
    "classifier = DecisionTreeClassifier(min_samples_leaf=10, max_depth=8)\n",
    "mitigator = ExponentiatedGradient(classifier, constraint)\n",
    "mitigator.fit(X[train_index], y_true[train_index], sensitive_features=sex[train_index])\n",
    "fair_target_model = Fairlearn_Model(model_obj=mitigator, loss_fn=log)\n",
    "print(mitigator)\n",
    "y_pred_test= mitigator.predict(X[test_index])\n",
    "sr_test = MetricFrame(metrics=accuracy_score, y_true=y_true[test_index], y_pred=y_pred_test, sensitive_features=sex[test_index])\n",
    "y_pred_train= mitigator.predict(X[train_index])\n",
    "sr_train = MetricFrame(metrics=accuracy_score, y_true=y_true[train_index], y_pred=y_pred_train, sensitive_features=sex[train_index])\n",
    "print(sr_test.overall, sr_test.by_group)\n",
    "print(sr_train.overall, sr_train.by_group)\n",
    "print(equalized_odds_difference(y_true[test_index],y_pred_test, sensitive_features=sex[test_index]))"
   ]
  },
  {
   "cell_type": "code",
   "execution_count": 15,
   "metadata": {},
   "outputs": [],
   "source": [
    "un_target_info_source = InformationSource(\n",
    "    models=[target_model], \n",
    "    datasets=[target_dataset]\n",
    ")\n",
    "\n",
    "un_reference_info_source = InformationSource(\n",
    "    models=[target_model],\n",
    "    datasets=[reference_dataset]\n",
    ")\n",
    "\n",
    "fair_target_info_source = InformationSource(\n",
    "    models=[fair_target_model], \n",
    "    datasets=[target_dataset]\n",
    ")\n",
    "\n",
    "fair_reference_info_source = InformationSource(\n",
    "    models=[fair_target_model],\n",
    "    datasets=[reference_dataset]\n",
    ")"
   ]
  },
  {
   "cell_type": "code",
   "execution_count": 16,
   "metadata": {},
   "outputs": [],
   "source": [
    "from privacy_meter import audit_report\n",
    "from privacy_meter.audit_report import *\n",
    "\n",
    "\n",
    "un_audit_obj = Audit(\n",
    "    metrics=MetricEnum.GROUPPOPULATION,\n",
    "    inference_game_type=InferenceGame.PRIVACY_LOSS_MODEL,\n",
    "    target_info_sources=un_target_info_source,\n",
    "    reference_info_sources=un_reference_info_source,\n",
    "    logs_directory_names='un_log'\n",
    ")\n",
    "un_audit_obj.prepare()"
   ]
  },
  {
   "cell_type": "code",
   "execution_count": 17,
   "metadata": {},
   "outputs": [],
   "source": [
    "fair_audit_obj = Audit(\n",
    "    metrics=MetricEnum.GROUPPOPULATION,\n",
    "    inference_game_type=InferenceGame.PRIVACY_LOSS_MODEL,\n",
    "    target_info_sources=fair_target_info_source,\n",
    "    reference_info_sources=fair_reference_info_source,\n",
    "    logs_directory_names='fair_log'\n",
    ")\n",
    "fair_audit_obj.prepare()"
   ]
  },
  {
   "cell_type": "code",
   "execution_count": 18,
   "metadata": {},
   "outputs": [
    {
     "name": "stdout",
     "output_type": "stream",
     "text": [
      "Results are stored in: ['un_log']\n",
      "Results are stored in: ['fair_log']\n"
     ]
    }
   ],
   "source": [
    "un_audit_results = un_audit_obj.run()[0]\n",
    "fair_audit_results = fair_audit_obj.run()[0]"
   ]
  },
  {
   "cell_type": "code",
   "execution_count": 19,
   "metadata": {},
   "outputs": [],
   "source": [
    "# tpr = un_audit_results[0].tp/(un_audit_results[0].tp+un_audit_results[0].fn)\n",
    "# fpr = un_audit_results[0].fp/(un_audit_results[0].fp+un_audit_results[0].tn)\n",
    "# roc = np.trapz(tpr, fpr)\n",
    "# fair_tpr = fair_audit_results[0].tp/(fair_audit_results[0].tp+fair_audit_results[0].fn)\n",
    "# fair_fpr = fair_audit_results[0].fp/(fair_audit_results[0].fp+fair_audit_results[0].tn)\n",
    "# fair_roc = np.trapz(fair_tpr, fair_fpr)\n",
    "# plt.title('Overall ROC')\n",
    "# plt.plot([0, 1], [0, 1], 'k--', label='Random Guess')\n",
    "# plt.plot(fpr, tpr, label=f'Unfair-ROC:{roc:.3f}')\n",
    "# plt.plot(fair_fpr, fair_tpr, label=f'Fair-ROC:{fair_roc:.3f}')\n",
    "# plt.legend()\n",
    "# plt.xlabel('False Positive Rate')\n",
    "# plt.ylabel('True Positive Rate')"
   ]
  },
  {
   "cell_type": "code",
   "execution_count": 20,
   "metadata": {},
   "outputs": [],
   "source": [
    "# show the results in each group \n",
    "un_train_signal = un_audit_obj.metric_objects[0].member_signals\n",
    "un_test_signal = un_audit_obj.metric_objects[0].non_member_signals\n",
    "un_pop_signal = un_audit_obj.metric_objects[0].reference_signals\n",
    "\n",
    "fair_train_signal = fair_audit_obj.metric_objects[0].member_signals\n",
    "fair_test_signal = fair_audit_obj.metric_objects[0].non_member_signals\n",
    "fair_pop_signal = fair_audit_obj.metric_objects[0].reference_signals"
   ]
  },
  {
   "cell_type": "code",
   "execution_count": 21,
   "metadata": {},
   "outputs": [],
   "source": [
    "import scipy\n",
    "def compute_p_value( target_value, observed_distribution):\n",
    "    return scipy.stats.percentileofscore(observed_distribution, target_value)/100\n",
    "\n",
    "p_results = {}\n",
    "p_fair_results = {}\n",
    "\n",
    "for g in np.unique(g_train):\n",
    "    un_pop = un_pop_signal[g_pop_train==g]\n",
    "    p_train = compute_p_value(un_train_signal[g_train==g], un_pop)\n",
    "    p_test = compute_p_value(un_test_signal[g_test==g], un_pop)\n",
    "    p_results[g] = {}\n",
    "    p_results[g]['p'] = np.concatenate([p_train, p_test])\n",
    "    p_results[g]['mem'] = np.concatenate([np.ones(len(p_train)), np.zeros(len(p_test))])\n",
    "    \n",
    "    \n",
    "    fair_pop  = fair_pop_signal[g_pop_train==g]\n",
    "    p_fair_train = compute_p_value(fair_train_signal[g_train==g], fair_pop)\n",
    "    p_fair_test = compute_p_value(fair_test_signal[g_test==g], fair_pop)\n",
    "    p_fair_results[g] = {}\n",
    "    p_fair_results[g]['p'] = np.concatenate([p_fair_train, p_fair_test])\n",
    "    p_fair_results[g]['mem'] = np.concatenate([np.ones(len(p_fair_train)), np.zeros(len(p_fair_test))])\n",
    "    "
   ]
  },
  {
   "cell_type": "code",
   "execution_count": 22,
   "metadata": {},
   "outputs": [
    {
     "data": {
      "text/plain": [
       "(2000,)"
      ]
     },
     "execution_count": 22,
     "metadata": {},
     "output_type": "execute_result"
    }
   ],
   "source": [
    "g_train.shape"
   ]
  },
  {
   "cell_type": "code",
   "execution_count": 23,
   "metadata": {},
   "outputs": [
    {
     "data": {
      "image/png": "[encoded data removed]",
      "text/plain": [
       "<Figure size 1200x300 with 4 Axes>"
      ]
     },
     "metadata": {},
     "output_type": "display_data"
    }
   ],
   "source": [
    "figs, axes = plt.subplots(1,4, figsize=(12,3), sharey=True, sharex=True)\n",
    "\n",
    "# group = np.unique(g_train)\n",
    "for idx, group in enumerate(np.unique(g_train)):\n",
    "    tpr = [np.mean(p_results[group]['p'][p_results[group]['mem']==1]<i) for i in np.linspace(0,1,100)]\n",
    "    fpr = [np.mean(p_results[group]['p'][p_results[group]['mem']==0]<i) for i in np.linspace(0,1,100)]\n",
    "\n",
    "    fair_tpr = [np.mean(p_fair_results[group]['p'][p_fair_results[group]['mem']==1]<i) for i in np.linspace(0,1,100)]\n",
    "    fair_fpr = [np.mean(p_fair_results[group]['p'][p_fair_results[group]['mem']==0]<i) for i in np.linspace(0,1,100)]\n",
    "\n",
    "    roc = np.trapz(tpr, fpr)\n",
    "    fair_roc = np.trapz(fair_tpr, fair_fpr)\n",
    "\n",
    "    axes[idx].plot([0, 1], [0, 1], 'k--', label='Random Guess', color='grey')\n",
    "    axes[idx].plot(fpr, tpr, label=f'Unfair-ROC:{roc:.3f}', color='blue')\n",
    "    axes[idx].plot(fair_fpr, fair_tpr, label=f'Fair-ROC:{fair_roc:.3f}', ls='--', color='red')\n",
    "    axes[idx].set_xlabel('False Positive Rate')\n",
    "    axes[idx].set_title(f'Subgroup {idx}')\n",
    "    axes[idx].legend()\n",
    "axes[0].set_ylabel('True Positive Rate')\n",
    "plt.tight_layout()"
   ]
  }
 ],
 "metadata": {
  "kernelspec": {
   "display_name": "Python 3 (ipykernel)",
   "language": "python",
   "name": "python3"
  },
  "language_info": {
   "codemirror_mode": {
    "name": "ipython",
    "version": 3
   },
   "file_extension": ".py",
   "mimetype": "text/x-python",
   "name": "python",
   "nbconvert_exporter": "python",
   "pygments_lexer": "ipython3",
   "version": "3.11.1"
  },
  "vscode": {
   "interpreter": {
    "hash": "af48e0a30d2a0b619bf296aea7d7271ba14c9beb98b0928b3e23c82f12ae949a"
   }
  }
 },
 "nbformat": 4,
 "nbformat_minor": 2
}
