{
 "cells": [
  {
   "attachments": {},
   "cell_type": "markdown",
   "metadata": {},
   "source": [
    "# Whitebox attack using Privacy Meter"
   ]
  },
  {
   "attachments": {},
   "cell_type": "markdown",
   "metadata": {},
   "source": [
    "## Introduction\n",
    "\n",
    "In this tutorial we will see:\n",
    "\n",
    "- How to use the Privacy Meter to audit model implemented on Pytorch\n",
    "- How to extract the white-box signal (i.e., gradient norm)\n",
    "- How to run membership inference attack based on white-box attack based on the population attack"
   ]
  },
  {
   "attachments": {},
   "cell_type": "markdown",
   "metadata": {},
   "source": [
    "<table class=\"tfo-notebook-buttons\" align=\"left\">\n",
    "<td>\n",
    "    <a target=\"_blank\" href=\"https://colab.research.google.com/github/privacytrustlab/ml_privacy_meter/blob/master/advanced/white_box_attack.ipynb\"><img src=\"https://www.tensorflow.org/images/colab_logo_32px.png\" />Run in Google Colab</a>\n",
    "  </td>\n",
    "  <td>\n",
    "    <a target=\"_blank\" href=\"https://github.com/privacytrustlab/ml_privacy_meter/blob/master/advanced/white_box_attack.ipynb\"><img src=\"https://www.tensorflow.org/images/GitHub-Mark-32px.png\" />View GitHub</a>\n",
    "  </td>\n",
    "</table>"
   ]
  },
  {
   "attachments": {},
   "cell_type": "markdown",
   "metadata": {},
   "source": [
    "# Import"
   ]
  },
  {
   "cell_type": "code",
   "execution_count": 27,
   "metadata": {},
   "outputs": [],
   "source": [
    "import numpy as np\n",
    "\n",
    "import torch.nn.functional as F\n",
    "from torch import nn\n",
    "import torchvision\n",
    "import os\n",
    "import pickle\n",
    "from ast import List\n",
    "import time\n",
    "import numpy as np\n",
    "import torch\n",
    "import torchvision\n",
    "from torchvision import transforms"
   ]
  },
  {
   "cell_type": "code",
   "execution_count": 28,
   "metadata": {},
   "outputs": [],
   "source": [
    "from privacy_meter.audit import Audit, MetricEnum\n",
    "from privacy_meter.metric import PopulationMetric\n",
    "from privacy_meter.information_source_signal import ModelGradientNorm, ModelGradient, ModelLoss\n",
    "from privacy_meter.hypothesis_test import linear_itp_threshold_func\n",
    "from privacy_meter.audit_report import ROCCurveReport, SignalHistogramReport\n",
    "from privacy_meter.constants import InferenceGame\n",
    "from privacy_meter.dataset import Dataset\n",
    "from privacy_meter.information_source import InformationSource\n",
    "from privacy_meter.model import PytorchModelTensor"
   ]
  },
  {
   "attachments": {},
   "cell_type": "markdown",
   "metadata": {},
   "source": [
    "# Define hyper-parameters"
   ]
  },
  {
   "cell_type": "code",
   "execution_count": 29,
   "metadata": {},
   "outputs": [],
   "source": [
    "# for training the target model\n",
    "num_train_points = 5000\n",
    "num_test_points = 5000\n",
    "num_population_points = 10000\n",
    "batch_size=64\n",
    "learning_rate = 0.001\n",
    "epochs=50"
   ]
  },
  {
   "attachments": {},
   "cell_type": "markdown",
   "metadata": {},
   "source": [
    "# Define the model"
   ]
  },
  {
   "cell_type": "code",
   "execution_count": 30,
   "metadata": {},
   "outputs": [],
   "source": [
    "\n",
    "class Net(nn.Module):\n",
    "    \"\"\"Simple CNN for CIFAR10 dataset.\"\"\"\n",
    "\n",
    "    def __init__(self):\n",
    "        super().__init__()\n",
    "        self.conv1 = nn.Conv2d(3, 6, 5)\n",
    "        self.pool = nn.MaxPool2d(2, 2)\n",
    "        self.conv2 = nn.Conv2d(6, 16, 5)\n",
    "        self.fc1 = nn.Linear(16 * 5 * 5, 120)\n",
    "        self.fc2 = nn.Linear(120, 84)\n",
    "        self.fc3 = nn.Linear(84, 10)\n",
    "\n",
    "    def forward(self, inputs):\n",
    "        \"\"\"Forward pass of the model.\"\"\"\n",
    "        inputs = self.pool(F.relu(self.conv1(inputs)))\n",
    "        inputs = self.pool(F.relu(self.conv2(inputs)))\n",
    "        # flatten all dimensions except batch\n",
    "        inputs = inputs.reshape(-1, 16 * 5 * 5)\n",
    "        inputs = F.relu(self.fc1(inputs))\n",
    "        inputs = F.relu(self.fc2(inputs))\n",
    "        outputs = self.fc3(inputs)\n",
    "        return outputs\n",
    "    "
   ]
  },
  {
   "attachments": {},
   "cell_type": "markdown",
   "metadata": {},
   "source": [
    "# Create the data"
   ]
  },
  {
   "attachments": {},
   "cell_type": "markdown",
   "metadata": {},
   "source": [
    "Load all the data"
   ]
  },
  {
   "cell_type": "code",
   "execution_count": 31,
   "metadata": {},
   "outputs": [
    {
     "name": "stdout",
     "output_type": "stream",
     "text": [
      "Files already downloaded and verified\n",
      "Files already downloaded and verified\n"
     ]
    }
   ],
   "source": [
    "transform = transforms.Compose([transforms.ToTensor()])\n",
    "all_data = torchvision.datasets.CIFAR10(\n",
    "    root='.', train=True, download=True, transform=transform\n",
    ")\n",
    "test_data = torchvision.datasets.CIFAR10(\n",
    "    root='.', train=False, download=True, transform=transform\n",
    ")\n",
    "all_features = np.concatenate([all_data.data, test_data.data], axis=0)\n",
    "all_targets = np.concatenate([all_data.targets, test_data.targets], axis=0)\n",
    "\n",
    "all_data.data = all_features\n",
    "all_data.targets = all_targets"
   ]
  },
  {
   "attachments": {},
   "cell_type": "markdown",
   "metadata": {},
   "source": [
    "Split the data into train, test and population"
   ]
  },
  {
   "cell_type": "code",
   "execution_count": 32,
   "metadata": {},
   "outputs": [],
   "source": [
    "all_index = np.arange(len(all_data))\n",
    "train_index = np.random.choice(all_index, num_train_points, replace=False)\n",
    "test_index = np.random.choice([i for i in all_index if i not in train_index], num_test_points, replace=False)\n",
    "population_index = np.random.choice([i for i in all_index if i not in train_index and i not in test_index], num_population_points, replace=False)"
   ]
  },
  {
   "attachments": {},
   "cell_type": "markdown",
   "metadata": {},
   "source": [
    "Create the data loader for training the target model"
   ]
  },
  {
   "cell_type": "code",
   "execution_count": 33,
   "metadata": {},
   "outputs": [],
   "source": [
    "train_loader = torch.utils.data.DataLoader(\n",
    "            torch.utils.data.Subset(all_data,train_index),\n",
    "            batch_size=batch_size,\n",
    "            shuffle=True,\n",
    "            num_workers=4,\n",
    "            pin_memory=True,\n",
    "            persistent_workers=True,\n",
    "            prefetch_factor=16)\n",
    "test_loader = torch.utils.data.DataLoader(\n",
    "            torch.utils.data.Subset(all_data,test_index),\n",
    "            batch_size=batch_size,\n",
    "            shuffle=True,\n",
    "            num_workers=4,\n",
    "            pin_memory=True,\n",
    "            persistent_workers=True,\n",
    "            prefetch_factor=16)"
   ]
  },
  {
   "attachments": {},
   "cell_type": "markdown",
   "metadata": {},
   "source": [
    "# Train the target model"
   ]
  },
  {
   "cell_type": "code",
   "execution_count": 36,
   "metadata": {},
   "outputs": [
    {
     "name": "stdout",
     "output_type": "stream",
     "text": [
      "Epoch: 1/50 | Loss: 2.21932691\n",
      "Epoch: 2/50 | Loss: 1.91558365\n",
      "Epoch: 3/50 | Loss: 1.79438184\n",
      "Epoch: 4/50 | Loss: 1.67080713\n",
      "Epoch: 5/50 | Loss: 1.62384876\n",
      "Epoch: 6/50 | Loss: 1.59812175\n",
      "Epoch: 7/50 | Loss: 1.54739146\n",
      "Epoch: 8/50 | Loss: 1.53910470\n",
      "Epoch: 9/50 | Loss: 1.49032518\n",
      "Epoch: 10/50 | Loss: 1.44806050\n",
      "Epoch: 11/50 | Loss: 1.44459975\n",
      "Epoch: 12/50 | Loss: 1.41474296\n",
      "Epoch: 13/50 | Loss: 1.37183570\n",
      "Epoch: 14/50 | Loss: 1.33535517\n",
      "Epoch: 15/50 | Loss: 1.31236610\n",
      "Epoch: 16/50 | Loss: 1.29817597\n",
      "Epoch: 17/50 | Loss: 1.25635267\n",
      "Epoch: 18/50 | Loss: 1.23293347\n",
      "Epoch: 19/50 | Loss: 1.19884221\n",
      "Epoch: 20/50 | Loss: 1.16003329\n",
      "Epoch: 21/50 | Loss: 1.12182806\n",
      "Epoch: 22/50 | Loss: 1.09693339\n",
      "Epoch: 23/50 | Loss: 1.08800511\n",
      "Epoch: 24/50 | Loss: 1.05695517\n",
      "Epoch: 25/50 | Loss: 1.00201308\n",
      "Epoch: 26/50 | Loss: 1.00469009\n",
      "Epoch: 27/50 | Loss: 0.94503378\n",
      "Epoch: 28/50 | Loss: 0.95994923\n",
      "Epoch: 29/50 | Loss: 0.88732846\n",
      "Epoch: 30/50 | Loss: 0.87197132\n",
      "Epoch: 31/50 | Loss: 0.84926866\n",
      "Epoch: 32/50 | Loss: 0.79291960\n",
      "Epoch: 33/50 | Loss: 0.77235257\n",
      "Epoch: 34/50 | Loss: 0.74229721\n",
      "Epoch: 35/50 | Loss: 0.69996587\n",
      "Epoch: 36/50 | Loss: 0.67657879\n",
      "Epoch: 37/50 | Loss: 0.63166645\n",
      "Epoch: 38/50 | Loss: 0.60689736\n",
      "Epoch: 39/50 | Loss: 0.59782889\n",
      "Epoch: 40/50 | Loss: 0.58264765\n",
      "Epoch: 41/50 | Loss: 0.51502191\n",
      "Epoch: 42/50 | Loss: 0.49782700\n",
      "Epoch: 43/50 | Loss: 0.46290391\n",
      "Epoch: 44/50 | Loss: 0.42105352\n",
      "Epoch: 45/50 | Loss: 0.41939447\n",
      "Epoch: 46/50 | Loss: 0.36605129\n",
      "Epoch: 47/50 | Loss: 0.34605895\n",
      "Epoch: 48/50 | Loss: 0.32160068\n",
      "Epoch: 49/50 | Loss: 0.31566558\n",
      "Epoch: 50/50 | Loss: 0.34060352\n",
      "training the target model uses:  15.33395266532898\n",
      "Train Loss: 0.2976, Train Accuracy: 89.20%\n",
      "Test Loss: 2.7190, Test Accuracy: 47.22%\n"
     ]
    },
    {
     "data": {
      "text/plain": [
       "Net(\n",
       "  (conv1): Conv2d(3, 6, kernel_size=(5, 5), stride=(1, 1))\n",
       "  (pool): MaxPool2d(kernel_size=2, stride=2, padding=0, dilation=1, ceil_mode=False)\n",
       "  (conv2): Conv2d(6, 16, kernel_size=(5, 5), stride=(1, 1))\n",
       "  (fc1): Linear(in_features=400, out_features=120, bias=True)\n",
       "  (fc2): Linear(in_features=120, out_features=84, bias=True)\n",
       "  (fc3): Linear(in_features=84, out_features=10, bias=True)\n",
       ")"
      ]
     },
     "execution_count": 36,
     "metadata": {},
     "output_type": "execute_result"
    }
   ],
   "source": [
    "model = Net()\n",
    "device = 'cpu' # you can change it to 'cuda' if you have GPU\n",
    "model.to(device)\n",
    "model.train()\n",
    "\n",
    "# Set the loss function and optimizer\n",
    "criterion = nn.CrossEntropyLoss()\n",
    "optimizer = torch.optim.Adam(model.parameters(), lr=learning_rate)\n",
    "start_time = time.time()\n",
    "# Loop over each epoch\n",
    "for epoch_idx in range(epochs):\n",
    "    train_loss = 0\n",
    "    # Loop over the training set\n",
    "    for data, target in train_loader:\n",
    "        # Move data to the device\n",
    "        data, target = data.to(device, non_blocking=True), target.to(device,non_blocking=True)\n",
    "        # Cast target to long tensor\n",
    "        target = target.long()\n",
    "\n",
    "        # Set the gradients to zero\n",
    "        optimizer.zero_grad(set_to_none=True)\n",
    "\n",
    "        # Get the model output\n",
    "        output = model(data)\n",
    "\n",
    "        # Calculate the loss\n",
    "        loss = criterion(output, target)\n",
    "\n",
    "        # Perform the backward pass\n",
    "        loss.backward()\n",
    "        # Take a step using optimizer\n",
    "        optimizer.step()\n",
    "\n",
    "        # Add the loss to the total loss\n",
    "        train_loss += loss.item()\n",
    "\n",
    "    # Print the epoch and loss summary\n",
    "    print(f\"Epoch: {epoch_idx+1}/{epochs} |\", end=\" \")\n",
    "    print(f\"Loss: {train_loss/len(train_loader):.8f}\")\n",
    "\n",
    "print(\"training the target model uses: \", time.time() - start_time)\n",
    "\n",
    "# Validate the performance of the model \n",
    "model.eval()\n",
    "# Assigning variables for computing loss and accuracy\n",
    "loss, acc, criterion = 0, 0, nn.CrossEntropyLoss()\n",
    "\n",
    "# Disable gradient calculation to save memory\n",
    "with torch.no_grad():\n",
    "    for data, target in train_loader:\n",
    "        # Moving data and target to the device\n",
    "        data, target = data.to(device), target.to(device)\n",
    "        # Cast target to long tensor\n",
    "        target = target.long()\n",
    "\n",
    "        # Computing output and loss\n",
    "        output = model(data)\n",
    "        loss += criterion(output, target).item()\n",
    "\n",
    "        # Computing accuracy\n",
    "        pred = output.data.max(1, keepdim=True)[1]\n",
    "        acc += pred.eq(target.data.view_as(pred)).sum()\n",
    "\n",
    "    # Averaging the losses\n",
    "    loss /= len(train_loader)\n",
    "\n",
    "    # Calculating accuracy\n",
    "    acc = float(acc) / len(train_loader.dataset)\n",
    "    print(\"Train Loss: {:.4f}, Train Accuracy: {:.2f}%\".format(loss, 100. * acc))\n",
    "\n",
    "    for data, target in test_loader:\n",
    "        # Moving data and target to the device\n",
    "        data, target = data.to(device), target.to(device)\n",
    "        # Cast target to long tensor\n",
    "        target = target.long()\n",
    "\n",
    "        # Computing output and loss\n",
    "        output = model(data)\n",
    "        loss += criterion(output, target).item()\n",
    "\n",
    "        # Computing accuracy\n",
    "        pred = output.data.max(1, keepdim=True)[1]\n",
    "        acc += pred.eq(target.data.view_as(pred)).sum()\n",
    "\n",
    "    # Averaging the losses\n",
    "    loss /= len(test_loader)\n",
    "\n",
    "    # Calculating accuracy\n",
    "    acc = float(acc) / len(test_loader.dataset)\n",
    "    print(\"Test Loss: {:.4f}, Test Accuracy: {:.2f}%\".format(loss, 100. * acc))\n",
    "\n",
    "# Move the model back to the CPU to save memory\n",
    "model.to(\"cpu\")\n",
    "\n",
    "\n"
   ]
  },
  {
   "attachments": {},
   "cell_type": "markdown",
   "metadata": {},
   "source": [
    "# Wrap the target model and datasets\n",
    "The `batch_size` parameter determines the number of samples used in each iteration when computing the signals. Larger batch sizes can increase computation speed, but they also consume more memory. If you're computing the loss, you can use a larger batch size, but if you're using the GPU to compute gradient information such as gradient norm, using a batch size that is too large may result in an Out Of Memory (OOM) error. This is largely dependent on the size of your model and the memory capacity of your GPU. As a general guideline, we recommend using a batch size of 10 when computing gradient information"
   ]
  },
  {
   "cell_type": "code",
   "execution_count": 45,
   "metadata": {},
   "outputs": [],
   "source": [
    "\n",
    "target_model = PytorchModelTensor(model_obj=model, loss_fn=criterion, device=device,batch_size=10)"
   ]
  },
  {
   "attachments": {},
   "cell_type": "markdown",
   "metadata": {},
   "source": [
    "Get the dataset in the tensor formate"
   ]
  },
  {
   "cell_type": "code",
   "execution_count": 38,
   "metadata": {},
   "outputs": [],
   "source": [
    "\n",
    "def get_dataset_subset(dataset: torchvision.datasets, index: List(int)):\n",
    "    \"\"\"Get a subset of the dataset.\n",
    "\n",
    "    Args:\n",
    "        dataset (torchvision.datasets): Whole dataset.\n",
    "        index (list): List of index.\n",
    "    \"\"\"\n",
    "    assert max(index) < len(dataset) and min(index) >= 0, \"Index out of range\"\n",
    "    data = (\n",
    "        torch.from_numpy(dataset.data[index]).float().permute(0, 3, 1, 2) / 255\n",
    "    )  # channel first\n",
    "    targets = list(np.array(dataset.targets)[index])\n",
    "    targets = torch.tensor(targets, dtype=torch.long)\n",
    "    return data, targets"
   ]
  },
  {
   "cell_type": "code",
   "execution_count": 39,
   "metadata": {},
   "outputs": [],
   "source": [
    "train_data, train_targets = get_dataset_subset(all_data, train_index)\n",
    "test_data, test_targets = get_dataset_subset(all_data, test_index)\n",
    "audit_data, audit_targets = get_dataset_subset(all_data, population_index)\n",
    "target_dataset = Dataset(\n",
    "    data_dict={\n",
    "        \"train\": {\"x\": train_data, \"y\": train_targets},\n",
    "        \"test\": {\"x\": test_data, \"y\": test_targets},\n",
    "    },\n",
    "    default_input=\"x\",\n",
    "    default_output=\"y\",\n",
    ")\n",
    "\n",
    "\n",
    "audit_dataset = Dataset(\n",
    "        data_dict={\"train\": {\"x\": audit_data, \"y\": audit_targets}},\n",
    "        default_input=\"x\",\n",
    "        default_output=\"y\",\n",
    "    )\n",
    " \n"
   ]
  },
  {
   "attachments": {},
   "cell_type": "markdown",
   "metadata": {},
   "source": [
    "# Create Information Sources"
   ]
  },
  {
   "cell_type": "code",
   "execution_count": null,
   "metadata": {},
   "outputs": [],
   "source": [
    "target_info_source = InformationSource(\n",
    "    models=[target_model], \n",
    "    datasets=[target_dataset]\n",
    ")\n",
    "\n",
    "reference_info_source = InformationSource(\n",
    "    models=[target_model],\n",
    "    datasets=[audit_dataset]\n",
    ")"
   ]
  },
  {
   "attachments": {},
   "cell_type": "markdown",
   "metadata": {},
   "source": [
    "# Metric and Audit \n",
    "We assess the privacy risk of our trained model using a population attack that is based on both the loss of the target model and the gradient norm of the target model. The results based on the loss indicate the privacy risk of the model in a black-box setting, where the adversary does not have access to the entire model. Conversely, computing the gradient norm per sample requires the adversary to have access to the entire model parameters, which corresponds to a white-box setting."
   ]
  },
  {
   "cell_type": "code",
   "execution_count": 40,
   "metadata": {},
   "outputs": [
    {
     "name": "stdout",
     "output_type": "stream",
     "text": [
      "Results are stored in: ['/home/hongyan/Desktop/ml_privacy_test/ml_privacy_meter/advanced/log_2023-02-10_13-51-49-000']\n"
     ]
    }
   ],
   "source": [
    "metric = PopulationMetric(\n",
    "            target_info_source=target_info_source,\n",
    "            reference_info_source=reference_info_source,\n",
    "            signals=[ModelLoss()],\n",
    "            hypothesis_test_func=linear_itp_threshold_func,\n",
    "        )\n",
    "audit_obj = Audit(\n",
    "    metrics=metric,\n",
    "    inference_game_type=InferenceGame.PRIVACY_LOSS_MODEL,\n",
    "    target_info_sources=target_info_source,\n",
    "    reference_info_sources=reference_info_source,\n",
    ")\n",
    "audit_obj.prepare()\n",
    "loss_audit_results = audit_obj.run()[0]"
   ]
  },
  {
   "cell_type": "code",
   "execution_count": 41,
   "metadata": {},
   "outputs": [
    {
     "name": "stderr",
     "output_type": "stream",
     "text": [
      "/home/hongyan/.conda/envs/privacy_meter_test/lib/python3.9/site-packages/torch/nn/modules/module.py:1113: UserWarning: Using a non-full backward hook when the forward contains multiple autograd Nodes is deprecated and will be removed in future versions. This hook will be missing some grad_input. Please use register_full_backward_hook to get the documented behavior.\n",
      "  warnings.warn(\"Using a non-full backward hook when the forward contains multiple autograd Nodes \"\n"
     ]
    },
    {
     "name": "stdout",
     "output_type": "stream",
     "text": [
      "Results are stored in: ['/home/hongyan/Desktop/ml_privacy_test/ml_privacy_meter/advanced/log_2023-02-10_13-51-51-000']\n"
     ]
    }
   ],
   "source": [
    "metric = PopulationMetric(\n",
    "            target_info_source=target_info_source,\n",
    "            reference_info_source=reference_info_source,\n",
    "            signals=[ModelGradientNorm()],\n",
    "            hypothesis_test_func=linear_itp_threshold_func,\n",
    "        )\n",
    "audit_obj = Audit(\n",
    "    metrics=metric,\n",
    "    inference_game_type=InferenceGame.PRIVACY_LOSS_MODEL,\n",
    "    target_info_sources=target_info_source,\n",
    "    reference_info_sources=reference_info_source,\n",
    ")\n",
    "audit_obj.prepare()\n",
    "gradient_norm_audit_results = audit_obj.run()[0]"
   ]
  },
  {
   "attachments": {},
   "cell_type": "markdown",
   "metadata": {},
   "source": [
    "# Compare the results"
   ]
  },
  {
   "cell_type": "code",
   "execution_count": 42,
   "metadata": {},
   "outputs": [],
   "source": [
    "# This instruction won't be needed once the tool is on pip\n",
    "from privacy_meter import audit_report\n",
    "audit_report.REPORT_FILES_DIR = '../privacy_meter/report_files'"
   ]
  },
  {
   "cell_type": "code",
   "execution_count": 43,
   "metadata": {},
   "outputs": [
    {
     "data": {
      "image/png": "[encoded data removed]",
      "text/plain": [
       "<Figure size 640x480 with 1 Axes>"
      ]
     },
     "metadata": {},
     "output_type": "display_data"
    },
    {
     "data": {
      "text/plain": [
       "<Figure size 640x480 with 0 Axes>"
      ]
     },
     "metadata": {},
     "output_type": "display_data"
    }
   ],
   "source": [
    "ROCCurveReport.generate_report(\n",
    "    metric_result=loss_audit_results[0],\n",
    "    inference_game_type=InferenceGame.PRIVACY_LOSS_MODEL,\n",
    "    show=True\n",
    ")"
   ]
  },
  {
   "cell_type": "code",
   "execution_count": 44,
   "metadata": {},
   "outputs": [
    {
     "data": {
      "image/png": "[encoded data removed]",
      "text/plain": [
       "<Figure size 640x480 with 1 Axes>"
      ]
     },
     "metadata": {},
     "output_type": "display_data"
    },
    {
     "data": {
      "text/plain": [
       "<Figure size 640x480 with 0 Axes>"
      ]
     },
     "metadata": {},
     "output_type": "display_data"
    }
   ],
   "source": [
    "ROCCurveReport.generate_report(\n",
    "    metric_result=gradient_norm_audit_results[0],\n",
    "    inference_game_type=InferenceGame.PRIVACY_LOSS_MODEL,\n",
    "    show=True\n",
    ")"
   ]
  }
 ],
 "metadata": {
  "kernelspec": {
   "display_name": "privacy_meter_test",
   "language": "python",
   "name": "python3"
  },
  "language_info": {
   "codemirror_mode": {
    "name": "ipython",
    "version": 3
   },
   "file_extension": ".py",
   "mimetype": "text/x-python",
   "name": "python",
   "nbconvert_exporter": "python",
   "pygments_lexer": "ipython3",
   "version": "3.9.16"
  },
  "orig_nbformat": 4,
  "vscode": {
   "interpreter": {
    "hash": "af48e0a30d2a0b619bf296aea7d7271ba14c9beb98b0928b3e23c82f12ae949a"
   }
  }
 },
 "nbformat": 4,
 "nbformat_minor": 2
}
