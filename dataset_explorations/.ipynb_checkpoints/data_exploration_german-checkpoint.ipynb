{
 "cells": [
  {
   "cell_type": "markdown",
   "id": "14d01e19",
   "metadata": {},
   "source": [
    "# BANK"
   ]
  },
  {
   "cell_type": "markdown",
   "id": "0790e058",
   "metadata": {},
   "source": [
    "## Setup"
   ]
  },
  {
   "cell_type": "code",
   "execution_count": 1,
   "id": "abb999f6",
   "metadata": {},
   "outputs": [],
   "source": [
    "import matplotlib.pyplot as plt\n",
    "import seaborn as sns\n",
    "from sklearn.preprocessing import LabelEncoder\n",
    "import numpy as np"
   ]
  },
  {
   "cell_type": "code",
   "execution_count": 2,
   "id": "80724b99",
   "metadata": {},
   "outputs": [],
   "source": [
    "from aif360.datasets import BankDataset"
   ]
  },
  {
   "cell_type": "code",
   "execution_count": 3,
   "id": "77909527",
   "metadata": {},
   "outputs": [
    {
     "name": "stderr",
     "output_type": "stream",
     "text": [
      "WARNING:root:Missing Data: 10700 rows removed from BankDataset.\n"
     ]
    }
   ],
   "source": [
    "# Load the dataset\n",
    "dataset_b = BankDataset()\n",
    "\n",
    "# Convert to pandas DataFrame\n",
    "df_b, _ = dataset_b.convert_to_dataframe()"
   ]
  },
  {
   "cell_type": "markdown",
   "id": "358034dd",
   "metadata": {},
   "source": [
    "## Get To Know Data"
   ]
  },
  {
   "cell_type": "code",
   "execution_count": 4,
   "id": "6f3fa50e",
   "metadata": {
    "scrolled": true
   },
   "outputs": [
    {
     "data": {
      "text/html": [
       "<div>\n",
       "<style scoped>\n",
       "    .dataframe tbody tr th:only-of-type {\n",
       "        vertical-align: middle;\n",
       "    }\n",
       "\n",
       "    .dataframe tbody tr th {\n",
       "        vertical-align: top;\n",
       "    }\n",
       "\n",
       "    .dataframe thead th {\n",
       "        text-align: right;\n",
       "    }\n",
       "</style>\n",
       "<table border=\"1\" class=\"dataframe\">\n",
       "  <thead>\n",
       "    <tr style=\"text-align: right;\">\n",
       "      <th></th>\n",
       "      <th>age</th>\n",
       "      <th>duration</th>\n",
       "      <th>campaign</th>\n",
       "      <th>pdays</th>\n",
       "      <th>previous</th>\n",
       "      <th>emp.var.rate</th>\n",
       "      <th>cons.price.idx</th>\n",
       "      <th>cons.conf.idx</th>\n",
       "      <th>euribor3m</th>\n",
       "      <th>nr.employed</th>\n",
       "      <th>...</th>\n",
       "      <th>month=sep</th>\n",
       "      <th>day_of_week=fri</th>\n",
       "      <th>day_of_week=mon</th>\n",
       "      <th>day_of_week=thu</th>\n",
       "      <th>day_of_week=tue</th>\n",
       "      <th>day_of_week=wed</th>\n",
       "      <th>poutcome=failure</th>\n",
       "      <th>poutcome=nonexistent</th>\n",
       "      <th>poutcome=success</th>\n",
       "      <th>y</th>\n",
       "    </tr>\n",
       "  </thead>\n",
       "  <tbody>\n",
       "    <tr>\n",
       "      <th>0</th>\n",
       "      <td>1.0</td>\n",
       "      <td>261.0</td>\n",
       "      <td>1.0</td>\n",
       "      <td>999.0</td>\n",
       "      <td>0.0</td>\n",
       "      <td>1.1</td>\n",
       "      <td>93.994</td>\n",
       "      <td>-36.4</td>\n",
       "      <td>4.857</td>\n",
       "      <td>5191.0</td>\n",
       "      <td>...</td>\n",
       "      <td>0.0</td>\n",
       "      <td>0.0</td>\n",
       "      <td>1.0</td>\n",
       "      <td>0.0</td>\n",
       "      <td>0.0</td>\n",
       "      <td>0.0</td>\n",
       "      <td>0.0</td>\n",
       "      <td>1.0</td>\n",
       "      <td>0.0</td>\n",
       "      <td>0.0</td>\n",
       "    </tr>\n",
       "    <tr>\n",
       "      <th>2</th>\n",
       "      <td>1.0</td>\n",
       "      <td>226.0</td>\n",
       "      <td>1.0</td>\n",
       "      <td>999.0</td>\n",
       "      <td>0.0</td>\n",
       "      <td>1.1</td>\n",
       "      <td>93.994</td>\n",
       "      <td>-36.4</td>\n",
       "      <td>4.857</td>\n",
       "      <td>5191.0</td>\n",
       "      <td>...</td>\n",
       "      <td>0.0</td>\n",
       "      <td>0.0</td>\n",
       "      <td>1.0</td>\n",
       "      <td>0.0</td>\n",
       "      <td>0.0</td>\n",
       "      <td>0.0</td>\n",
       "      <td>0.0</td>\n",
       "      <td>1.0</td>\n",
       "      <td>0.0</td>\n",
       "      <td>0.0</td>\n",
       "    </tr>\n",
       "    <tr>\n",
       "      <th>3</th>\n",
       "      <td>1.0</td>\n",
       "      <td>151.0</td>\n",
       "      <td>1.0</td>\n",
       "      <td>999.0</td>\n",
       "      <td>0.0</td>\n",
       "      <td>1.1</td>\n",
       "      <td>93.994</td>\n",
       "      <td>-36.4</td>\n",
       "      <td>4.857</td>\n",
       "      <td>5191.0</td>\n",
       "      <td>...</td>\n",
       "      <td>0.0</td>\n",
       "      <td>0.0</td>\n",
       "      <td>1.0</td>\n",
       "      <td>0.0</td>\n",
       "      <td>0.0</td>\n",
       "      <td>0.0</td>\n",
       "      <td>0.0</td>\n",
       "      <td>1.0</td>\n",
       "      <td>0.0</td>\n",
       "      <td>0.0</td>\n",
       "    </tr>\n",
       "    <tr>\n",
       "      <th>4</th>\n",
       "      <td>1.0</td>\n",
       "      <td>307.0</td>\n",
       "      <td>1.0</td>\n",
       "      <td>999.0</td>\n",
       "      <td>0.0</td>\n",
       "      <td>1.1</td>\n",
       "      <td>93.994</td>\n",
       "      <td>-36.4</td>\n",
       "      <td>4.857</td>\n",
       "      <td>5191.0</td>\n",
       "      <td>...</td>\n",
       "      <td>0.0</td>\n",
       "      <td>0.0</td>\n",
       "      <td>1.0</td>\n",
       "      <td>0.0</td>\n",
       "      <td>0.0</td>\n",
       "      <td>0.0</td>\n",
       "      <td>0.0</td>\n",
       "      <td>1.0</td>\n",
       "      <td>0.0</td>\n",
       "      <td>0.0</td>\n",
       "    </tr>\n",
       "    <tr>\n",
       "      <th>6</th>\n",
       "      <td>1.0</td>\n",
       "      <td>139.0</td>\n",
       "      <td>1.0</td>\n",
       "      <td>999.0</td>\n",
       "      <td>0.0</td>\n",
       "      <td>1.1</td>\n",
       "      <td>93.994</td>\n",
       "      <td>-36.4</td>\n",
       "      <td>4.857</td>\n",
       "      <td>5191.0</td>\n",
       "      <td>...</td>\n",
       "      <td>0.0</td>\n",
       "      <td>0.0</td>\n",
       "      <td>1.0</td>\n",
       "      <td>0.0</td>\n",
       "      <td>0.0</td>\n",
       "      <td>0.0</td>\n",
       "      <td>0.0</td>\n",
       "      <td>1.0</td>\n",
       "      <td>0.0</td>\n",
       "      <td>0.0</td>\n",
       "    </tr>\n",
       "  </tbody>\n",
       "</table>\n",
       "<p>5 rows × 58 columns</p>\n",
       "</div>"
      ],
      "text/plain": [
       "   age  duration  campaign  pdays  previous  emp.var.rate  cons.price.idx  \\\n",
       "0  1.0     261.0       1.0  999.0       0.0           1.1          93.994   \n",
       "2  1.0     226.0       1.0  999.0       0.0           1.1          93.994   \n",
       "3  1.0     151.0       1.0  999.0       0.0           1.1          93.994   \n",
       "4  1.0     307.0       1.0  999.0       0.0           1.1          93.994   \n",
       "6  1.0     139.0       1.0  999.0       0.0           1.1          93.994   \n",
       "\n",
       "   cons.conf.idx  euribor3m  nr.employed  ...  month=sep  day_of_week=fri  \\\n",
       "0          -36.4      4.857       5191.0  ...        0.0              0.0   \n",
       "2          -36.4      4.857       5191.0  ...        0.0              0.0   \n",
       "3          -36.4      4.857       5191.0  ...        0.0              0.0   \n",
       "4          -36.4      4.857       5191.0  ...        0.0              0.0   \n",
       "6          -36.4      4.857       5191.0  ...        0.0              0.0   \n",
       "\n",
       "   day_of_week=mon  day_of_week=thu  day_of_week=tue  day_of_week=wed  \\\n",
       "0              1.0              0.0              0.0              0.0   \n",
       "2              1.0              0.0              0.0              0.0   \n",
       "3              1.0              0.0              0.0              0.0   \n",
       "4              1.0              0.0              0.0              0.0   \n",
       "6              1.0              0.0              0.0              0.0   \n",
       "\n",
       "   poutcome=failure  poutcome=nonexistent  poutcome=success    y  \n",
       "0               0.0                   1.0               0.0  0.0  \n",
       "2               0.0                   1.0               0.0  0.0  \n",
       "3               0.0                   1.0               0.0  0.0  \n",
       "4               0.0                   1.0               0.0  0.0  \n",
       "6               0.0                   1.0               0.0  0.0  \n",
       "\n",
       "[5 rows x 58 columns]"
      ]
     },
     "execution_count": 4,
     "metadata": {},
     "output_type": "execute_result"
    }
   ],
   "source": [
    "df_b.head()"
   ]
  },
  {
   "cell_type": "code",
   "execution_count": 5,
   "id": "569e7f1b",
   "metadata": {
    "scrolled": false
   },
   "outputs": [
    {
     "data": {
      "text/plain": [
       "Index(['age', 'duration', 'campaign', 'pdays', 'previous', 'emp.var.rate',\n",
       "       'cons.price.idx', 'cons.conf.idx', 'euribor3m', 'nr.employed',\n",
       "       'job=admin.', 'job=blue-collar', 'job=entrepreneur', 'job=housemaid',\n",
       "       'job=management', 'job=retired', 'job=self-employed', 'job=services',\n",
       "       'job=student', 'job=technician', 'job=unemployed', 'marital=divorced',\n",
       "       'marital=married', 'marital=single', 'education=basic.4y',\n",
       "       'education=basic.6y', 'education=basic.9y', 'education=high.school',\n",
       "       'education=illiterate', 'education=professional.course',\n",
       "       'education=university.degree', 'default=no', 'default=yes',\n",
       "       'housing=no', 'housing=yes', 'loan=no', 'loan=yes', 'contact=cellular',\n",
       "       'contact=telephone', 'month=apr', 'month=aug', 'month=dec', 'month=jul',\n",
       "       'month=jun', 'month=mar', 'month=may', 'month=nov', 'month=oct',\n",
       "       'month=sep', 'day_of_week=fri', 'day_of_week=mon', 'day_of_week=thu',\n",
       "       'day_of_week=tue', 'day_of_week=wed', 'poutcome=failure',\n",
       "       'poutcome=nonexistent', 'poutcome=success', 'y'],\n",
       "      dtype='object')"
      ]
     },
     "execution_count": 5,
     "metadata": {},
     "output_type": "execute_result"
    }
   ],
   "source": [
    "df_b.columns"
   ]
  },
  {
   "cell_type": "code",
   "execution_count": 6,
   "id": "9731f54b",
   "metadata": {},
   "outputs": [
    {
     "data": {
      "text/plain": [
       "(30488, 58)"
      ]
     },
     "execution_count": 6,
     "metadata": {},
     "output_type": "execute_result"
    }
   ],
   "source": [
    "df_b.shape"
   ]
  },
  {
   "cell_type": "markdown",
   "id": "a2028eae",
   "metadata": {},
   "source": [
    "## Filter"
   ]
  },
  {
   "cell_type": "code",
   "execution_count": 7,
   "id": "ead47b04",
   "metadata": {},
   "outputs": [],
   "source": [
    "# Apply the filters\n",
    "for col in df_b.columns:\n",
    "    df_b = df_b[~df_b[col].isin([\"\", \" \"])]"
   ]
  },
  {
   "cell_type": "code",
   "execution_count": 8,
   "id": "57700b59",
   "metadata": {},
   "outputs": [
    {
     "data": {
      "text/plain": [
       "(30488, 58)"
      ]
     },
     "execution_count": 8,
     "metadata": {},
     "output_type": "execute_result"
    }
   ],
   "source": [
    "df_b.shape"
   ]
  },
  {
   "cell_type": "code",
   "execution_count": 9,
   "id": "757cafa6",
   "metadata": {},
   "outputs": [
    {
     "data": {
      "text/plain": [
       "previous\n",
       "0.0    25836\n",
       "1.0     3752\n",
       "2.0      633\n",
       "3.0      190\n",
       "4.0       56\n",
       "5.0       16\n",
       "6.0        4\n",
       "7.0        1\n",
       "Name: count, dtype: int64"
      ]
     },
     "execution_count": 9,
     "metadata": {},
     "output_type": "execute_result"
    }
   ],
   "source": [
    "df_b['previous'].value_counts()"
   ]
  },
  {
   "cell_type": "code",
   "execution_count": 10,
   "id": "fb86ead9",
   "metadata": {},
   "outputs": [],
   "source": [
    "df_b_reduced = df_b[df_b[\"previous\"].isin([0.0])]"
   ]
  },
  {
   "cell_type": "code",
   "execution_count": 11,
   "id": "7062598e",
   "metadata": {},
   "outputs": [
    {
     "data": {
      "text/plain": [
       "(25836, 58)"
      ]
     },
     "execution_count": 11,
     "metadata": {},
     "output_type": "execute_result"
    }
   ],
   "source": [
    "df_b_reduced.shape"
   ]
  },
  {
   "cell_type": "markdown",
   "id": "5fc3c9da",
   "metadata": {},
   "source": [
    "## Duplicates & Null Values"
   ]
  },
  {
   "cell_type": "code",
   "execution_count": 12,
   "id": "6844e9f5",
   "metadata": {
    "scrolled": true
   },
   "outputs": [
    {
     "data": {
      "text/plain": [
       "age                              0\n",
       "duration                         0\n",
       "campaign                         0\n",
       "pdays                            0\n",
       "previous                         0\n",
       "emp.var.rate                     0\n",
       "cons.price.idx                   0\n",
       "cons.conf.idx                    0\n",
       "euribor3m                        0\n",
       "nr.employed                      0\n",
       "job=admin.                       0\n",
       "job=blue-collar                  0\n",
       "job=entrepreneur                 0\n",
       "job=housemaid                    0\n",
       "job=management                   0\n",
       "job=retired                      0\n",
       "job=self-employed                0\n",
       "job=services                     0\n",
       "job=student                      0\n",
       "job=technician                   0\n",
       "job=unemployed                   0\n",
       "marital=divorced                 0\n",
       "marital=married                  0\n",
       "marital=single                   0\n",
       "education=basic.4y               0\n",
       "education=basic.6y               0\n",
       "education=basic.9y               0\n",
       "education=high.school            0\n",
       "education=illiterate             0\n",
       "education=professional.course    0\n",
       "education=university.degree      0\n",
       "default=no                       0\n",
       "default=yes                      0\n",
       "housing=no                       0\n",
       "housing=yes                      0\n",
       "loan=no                          0\n",
       "loan=yes                         0\n",
       "contact=cellular                 0\n",
       "contact=telephone                0\n",
       "month=apr                        0\n",
       "month=aug                        0\n",
       "month=dec                        0\n",
       "month=jul                        0\n",
       "month=jun                        0\n",
       "month=mar                        0\n",
       "month=may                        0\n",
       "month=nov                        0\n",
       "month=oct                        0\n",
       "month=sep                        0\n",
       "day_of_week=fri                  0\n",
       "day_of_week=mon                  0\n",
       "day_of_week=thu                  0\n",
       "day_of_week=tue                  0\n",
       "day_of_week=wed                  0\n",
       "poutcome=failure                 0\n",
       "poutcome=nonexistent             0\n",
       "poutcome=success                 0\n",
       "y                                0\n",
       "dtype: int64"
      ]
     },
     "execution_count": 12,
     "metadata": {},
     "output_type": "execute_result"
    }
   ],
   "source": [
    "df_b_reduced.isnull().sum()"
   ]
  },
  {
   "cell_type": "code",
   "execution_count": 15,
   "id": "4f2357e4",
   "metadata": {},
   "outputs": [
    {
     "data": {
      "text/plain": [
       "False    30448\n",
       "True        40\n",
       "Name: count, dtype: int64"
      ]
     },
     "execution_count": 15,
     "metadata": {},
     "output_type": "execute_result"
    }
   ],
   "source": [
    "df_b.duplicated().value_counts()"
   ]
  },
  {
   "cell_type": "code",
   "execution_count": 17,
   "id": "891b8032",
   "metadata": {},
   "outputs": [],
   "source": [
    "df_b_non_dup = df_b.drop_duplicates()"
   ]
  },
  {
   "cell_type": "code",
   "execution_count": 18,
   "id": "a82c47dc",
   "metadata": {},
   "outputs": [
    {
     "data": {
      "text/html": [
       "<div>\n",
       "<style scoped>\n",
       "    .dataframe tbody tr th:only-of-type {\n",
       "        vertical-align: middle;\n",
       "    }\n",
       "\n",
       "    .dataframe tbody tr th {\n",
       "        vertical-align: top;\n",
       "    }\n",
       "\n",
       "    .dataframe thead th {\n",
       "        text-align: right;\n",
       "    }\n",
       "</style>\n",
       "<table border=\"1\" class=\"dataframe\">\n",
       "  <thead>\n",
       "    <tr style=\"text-align: right;\">\n",
       "      <th></th>\n",
       "      <th>age</th>\n",
       "      <th>duration</th>\n",
       "      <th>campaign</th>\n",
       "      <th>pdays</th>\n",
       "      <th>previous</th>\n",
       "      <th>emp.var.rate</th>\n",
       "      <th>cons.price.idx</th>\n",
       "      <th>cons.conf.idx</th>\n",
       "      <th>euribor3m</th>\n",
       "      <th>nr.employed</th>\n",
       "      <th>...</th>\n",
       "      <th>month=sep</th>\n",
       "      <th>day_of_week=fri</th>\n",
       "      <th>day_of_week=mon</th>\n",
       "      <th>day_of_week=thu</th>\n",
       "      <th>day_of_week=tue</th>\n",
       "      <th>day_of_week=wed</th>\n",
       "      <th>poutcome=failure</th>\n",
       "      <th>poutcome=nonexistent</th>\n",
       "      <th>poutcome=success</th>\n",
       "      <th>y</th>\n",
       "    </tr>\n",
       "  </thead>\n",
       "  <tbody>\n",
       "    <tr>\n",
       "      <th>0</th>\n",
       "      <td>1.0</td>\n",
       "      <td>261.0</td>\n",
       "      <td>1.0</td>\n",
       "      <td>999.0</td>\n",
       "      <td>0.0</td>\n",
       "      <td>1.1</td>\n",
       "      <td>93.994</td>\n",
       "      <td>-36.4</td>\n",
       "      <td>4.857</td>\n",
       "      <td>5191.0</td>\n",
       "      <td>...</td>\n",
       "      <td>0.0</td>\n",
       "      <td>0.0</td>\n",
       "      <td>1.0</td>\n",
       "      <td>0.0</td>\n",
       "      <td>0.0</td>\n",
       "      <td>0.0</td>\n",
       "      <td>0.0</td>\n",
       "      <td>1.0</td>\n",
       "      <td>0.0</td>\n",
       "      <td>0.0</td>\n",
       "    </tr>\n",
       "    <tr>\n",
       "      <th>2</th>\n",
       "      <td>1.0</td>\n",
       "      <td>226.0</td>\n",
       "      <td>1.0</td>\n",
       "      <td>999.0</td>\n",
       "      <td>0.0</td>\n",
       "      <td>1.1</td>\n",
       "      <td>93.994</td>\n",
       "      <td>-36.4</td>\n",
       "      <td>4.857</td>\n",
       "      <td>5191.0</td>\n",
       "      <td>...</td>\n",
       "      <td>0.0</td>\n",
       "      <td>0.0</td>\n",
       "      <td>1.0</td>\n",
       "      <td>0.0</td>\n",
       "      <td>0.0</td>\n",
       "      <td>0.0</td>\n",
       "      <td>0.0</td>\n",
       "      <td>1.0</td>\n",
       "      <td>0.0</td>\n",
       "      <td>0.0</td>\n",
       "    </tr>\n",
       "    <tr>\n",
       "      <th>3</th>\n",
       "      <td>1.0</td>\n",
       "      <td>151.0</td>\n",
       "      <td>1.0</td>\n",
       "      <td>999.0</td>\n",
       "      <td>0.0</td>\n",
       "      <td>1.1</td>\n",
       "      <td>93.994</td>\n",
       "      <td>-36.4</td>\n",
       "      <td>4.857</td>\n",
       "      <td>5191.0</td>\n",
       "      <td>...</td>\n",
       "      <td>0.0</td>\n",
       "      <td>0.0</td>\n",
       "      <td>1.0</td>\n",
       "      <td>0.0</td>\n",
       "      <td>0.0</td>\n",
       "      <td>0.0</td>\n",
       "      <td>0.0</td>\n",
       "      <td>1.0</td>\n",
       "      <td>0.0</td>\n",
       "      <td>0.0</td>\n",
       "    </tr>\n",
       "    <tr>\n",
       "      <th>4</th>\n",
       "      <td>1.0</td>\n",
       "      <td>307.0</td>\n",
       "      <td>1.0</td>\n",
       "      <td>999.0</td>\n",
       "      <td>0.0</td>\n",
       "      <td>1.1</td>\n",
       "      <td>93.994</td>\n",
       "      <td>-36.4</td>\n",
       "      <td>4.857</td>\n",
       "      <td>5191.0</td>\n",
       "      <td>...</td>\n",
       "      <td>0.0</td>\n",
       "      <td>0.0</td>\n",
       "      <td>1.0</td>\n",
       "      <td>0.0</td>\n",
       "      <td>0.0</td>\n",
       "      <td>0.0</td>\n",
       "      <td>0.0</td>\n",
       "      <td>1.0</td>\n",
       "      <td>0.0</td>\n",
       "      <td>0.0</td>\n",
       "    </tr>\n",
       "    <tr>\n",
       "      <th>6</th>\n",
       "      <td>1.0</td>\n",
       "      <td>139.0</td>\n",
       "      <td>1.0</td>\n",
       "      <td>999.0</td>\n",
       "      <td>0.0</td>\n",
       "      <td>1.1</td>\n",
       "      <td>93.994</td>\n",
       "      <td>-36.4</td>\n",
       "      <td>4.857</td>\n",
       "      <td>5191.0</td>\n",
       "      <td>...</td>\n",
       "      <td>0.0</td>\n",
       "      <td>0.0</td>\n",
       "      <td>1.0</td>\n",
       "      <td>0.0</td>\n",
       "      <td>0.0</td>\n",
       "      <td>0.0</td>\n",
       "      <td>0.0</td>\n",
       "      <td>1.0</td>\n",
       "      <td>0.0</td>\n",
       "      <td>0.0</td>\n",
       "    </tr>\n",
       "    <tr>\n",
       "      <th>...</th>\n",
       "      <td>...</td>\n",
       "      <td>...</td>\n",
       "      <td>...</td>\n",
       "      <td>...</td>\n",
       "      <td>...</td>\n",
       "      <td>...</td>\n",
       "      <td>...</td>\n",
       "      <td>...</td>\n",
       "      <td>...</td>\n",
       "      <td>...</td>\n",
       "      <td>...</td>\n",
       "      <td>...</td>\n",
       "      <td>...</td>\n",
       "      <td>...</td>\n",
       "      <td>...</td>\n",
       "      <td>...</td>\n",
       "      <td>...</td>\n",
       "      <td>...</td>\n",
       "      <td>...</td>\n",
       "      <td>...</td>\n",
       "      <td>...</td>\n",
       "    </tr>\n",
       "    <tr>\n",
       "      <th>41183</th>\n",
       "      <td>0.0</td>\n",
       "      <td>334.0</td>\n",
       "      <td>1.0</td>\n",
       "      <td>999.0</td>\n",
       "      <td>0.0</td>\n",
       "      <td>-1.1</td>\n",
       "      <td>94.767</td>\n",
       "      <td>-50.8</td>\n",
       "      <td>1.028</td>\n",
       "      <td>4963.6</td>\n",
       "      <td>...</td>\n",
       "      <td>0.0</td>\n",
       "      <td>1.0</td>\n",
       "      <td>0.0</td>\n",
       "      <td>0.0</td>\n",
       "      <td>0.0</td>\n",
       "      <td>0.0</td>\n",
       "      <td>0.0</td>\n",
       "      <td>1.0</td>\n",
       "      <td>0.0</td>\n",
       "      <td>1.0</td>\n",
       "    </tr>\n",
       "    <tr>\n",
       "      <th>41184</th>\n",
       "      <td>1.0</td>\n",
       "      <td>383.0</td>\n",
       "      <td>1.0</td>\n",
       "      <td>999.0</td>\n",
       "      <td>0.0</td>\n",
       "      <td>-1.1</td>\n",
       "      <td>94.767</td>\n",
       "      <td>-50.8</td>\n",
       "      <td>1.028</td>\n",
       "      <td>4963.6</td>\n",
       "      <td>...</td>\n",
       "      <td>0.0</td>\n",
       "      <td>1.0</td>\n",
       "      <td>0.0</td>\n",
       "      <td>0.0</td>\n",
       "      <td>0.0</td>\n",
       "      <td>0.0</td>\n",
       "      <td>0.0</td>\n",
       "      <td>1.0</td>\n",
       "      <td>0.0</td>\n",
       "      <td>0.0</td>\n",
       "    </tr>\n",
       "    <tr>\n",
       "      <th>41185</th>\n",
       "      <td>1.0</td>\n",
       "      <td>189.0</td>\n",
       "      <td>2.0</td>\n",
       "      <td>999.0</td>\n",
       "      <td>0.0</td>\n",
       "      <td>-1.1</td>\n",
       "      <td>94.767</td>\n",
       "      <td>-50.8</td>\n",
       "      <td>1.028</td>\n",
       "      <td>4963.6</td>\n",
       "      <td>...</td>\n",
       "      <td>0.0</td>\n",
       "      <td>1.0</td>\n",
       "      <td>0.0</td>\n",
       "      <td>0.0</td>\n",
       "      <td>0.0</td>\n",
       "      <td>0.0</td>\n",
       "      <td>0.0</td>\n",
       "      <td>1.0</td>\n",
       "      <td>0.0</td>\n",
       "      <td>0.0</td>\n",
       "    </tr>\n",
       "    <tr>\n",
       "      <th>41186</th>\n",
       "      <td>1.0</td>\n",
       "      <td>442.0</td>\n",
       "      <td>1.0</td>\n",
       "      <td>999.0</td>\n",
       "      <td>0.0</td>\n",
       "      <td>-1.1</td>\n",
       "      <td>94.767</td>\n",
       "      <td>-50.8</td>\n",
       "      <td>1.028</td>\n",
       "      <td>4963.6</td>\n",
       "      <td>...</td>\n",
       "      <td>0.0</td>\n",
       "      <td>1.0</td>\n",
       "      <td>0.0</td>\n",
       "      <td>0.0</td>\n",
       "      <td>0.0</td>\n",
       "      <td>0.0</td>\n",
       "      <td>0.0</td>\n",
       "      <td>1.0</td>\n",
       "      <td>0.0</td>\n",
       "      <td>1.0</td>\n",
       "    </tr>\n",
       "    <tr>\n",
       "      <th>41187</th>\n",
       "      <td>0.0</td>\n",
       "      <td>239.0</td>\n",
       "      <td>3.0</td>\n",
       "      <td>999.0</td>\n",
       "      <td>1.0</td>\n",
       "      <td>-1.1</td>\n",
       "      <td>94.767</td>\n",
       "      <td>-50.8</td>\n",
       "      <td>1.028</td>\n",
       "      <td>4963.6</td>\n",
       "      <td>...</td>\n",
       "      <td>0.0</td>\n",
       "      <td>1.0</td>\n",
       "      <td>0.0</td>\n",
       "      <td>0.0</td>\n",
       "      <td>0.0</td>\n",
       "      <td>0.0</td>\n",
       "      <td>1.0</td>\n",
       "      <td>0.0</td>\n",
       "      <td>0.0</td>\n",
       "      <td>0.0</td>\n",
       "    </tr>\n",
       "  </tbody>\n",
       "</table>\n",
       "<p>30448 rows × 58 columns</p>\n",
       "</div>"
      ],
      "text/plain": [
       "       age  duration  campaign  pdays  previous  emp.var.rate  cons.price.idx  \\\n",
       "0      1.0     261.0       1.0  999.0       0.0           1.1          93.994   \n",
       "2      1.0     226.0       1.0  999.0       0.0           1.1          93.994   \n",
       "3      1.0     151.0       1.0  999.0       0.0           1.1          93.994   \n",
       "4      1.0     307.0       1.0  999.0       0.0           1.1          93.994   \n",
       "6      1.0     139.0       1.0  999.0       0.0           1.1          93.994   \n",
       "...    ...       ...       ...    ...       ...           ...             ...   \n",
       "41183  0.0     334.0       1.0  999.0       0.0          -1.1          94.767   \n",
       "41184  1.0     383.0       1.0  999.0       0.0          -1.1          94.767   \n",
       "41185  1.0     189.0       2.0  999.0       0.0          -1.1          94.767   \n",
       "41186  1.0     442.0       1.0  999.0       0.0          -1.1          94.767   \n",
       "41187  0.0     239.0       3.0  999.0       1.0          -1.1          94.767   \n",
       "\n",
       "       cons.conf.idx  euribor3m  nr.employed  ...  month=sep  day_of_week=fri  \\\n",
       "0              -36.4      4.857       5191.0  ...        0.0              0.0   \n",
       "2              -36.4      4.857       5191.0  ...        0.0              0.0   \n",
       "3              -36.4      4.857       5191.0  ...        0.0              0.0   \n",
       "4              -36.4      4.857       5191.0  ...        0.0              0.0   \n",
       "6              -36.4      4.857       5191.0  ...        0.0              0.0   \n",
       "...              ...        ...          ...  ...        ...              ...   \n",
       "41183          -50.8      1.028       4963.6  ...        0.0              1.0   \n",
       "41184          -50.8      1.028       4963.6  ...        0.0              1.0   \n",
       "41185          -50.8      1.028       4963.6  ...        0.0              1.0   \n",
       "41186          -50.8      1.028       4963.6  ...        0.0              1.0   \n",
       "41187          -50.8      1.028       4963.6  ...        0.0              1.0   \n",
       "\n",
       "       day_of_week=mon  day_of_week=thu  day_of_week=tue  day_of_week=wed  \\\n",
       "0                  1.0              0.0              0.0              0.0   \n",
       "2                  1.0              0.0              0.0              0.0   \n",
       "3                  1.0              0.0              0.0              0.0   \n",
       "4                  1.0              0.0              0.0              0.0   \n",
       "6                  1.0              0.0              0.0              0.0   \n",
       "...                ...              ...              ...              ...   \n",
       "41183              0.0              0.0              0.0              0.0   \n",
       "41184              0.0              0.0              0.0              0.0   \n",
       "41185              0.0              0.0              0.0              0.0   \n",
       "41186              0.0              0.0              0.0              0.0   \n",
       "41187              0.0              0.0              0.0              0.0   \n",
       "\n",
       "       poutcome=failure  poutcome=nonexistent  poutcome=success    y  \n",
       "0                   0.0                   1.0               0.0  0.0  \n",
       "2                   0.0                   1.0               0.0  0.0  \n",
       "3                   0.0                   1.0               0.0  0.0  \n",
       "4                   0.0                   1.0               0.0  0.0  \n",
       "6                   0.0                   1.0               0.0  0.0  \n",
       "...                 ...                   ...               ...  ...  \n",
       "41183               0.0                   1.0               0.0  1.0  \n",
       "41184               0.0                   1.0               0.0  0.0  \n",
       "41185               0.0                   1.0               0.0  0.0  \n",
       "41186               0.0                   1.0               0.0  1.0  \n",
       "41187               1.0                   0.0               0.0  0.0  \n",
       "\n",
       "[30448 rows x 58 columns]"
      ]
     },
     "execution_count": 18,
     "metadata": {},
     "output_type": "execute_result"
    }
   ],
   "source": [
    "df_b_non_dup"
   ]
  },
  {
   "cell_type": "code",
   "execution_count": 16,
   "id": "0f1e0807",
   "metadata": {
    "scrolled": true
   },
   "outputs": [
    {
     "data": {
      "text/plain": [
       "False    25796\n",
       "True        40\n",
       "Name: count, dtype: int64"
      ]
     },
     "execution_count": 16,
     "metadata": {},
     "output_type": "execute_result"
    }
   ],
   "source": [
    "df_b_reduced.duplicated().value_counts()"
   ]
  },
  {
   "cell_type": "code",
   "execution_count": 19,
   "id": "70341661",
   "metadata": {},
   "outputs": [],
   "source": [
    "df_b_reduced_non_dup = df_b_reduced.drop_duplicates()"
   ]
  },
  {
   "cell_type": "code",
   "execution_count": 20,
   "id": "a80d020f",
   "metadata": {},
   "outputs": [
    {
     "data": {
      "text/html": [
       "<div>\n",
       "<style scoped>\n",
       "    .dataframe tbody tr th:only-of-type {\n",
       "        vertical-align: middle;\n",
       "    }\n",
       "\n",
       "    .dataframe tbody tr th {\n",
       "        vertical-align: top;\n",
       "    }\n",
       "\n",
       "    .dataframe thead th {\n",
       "        text-align: right;\n",
       "    }\n",
       "</style>\n",
       "<table border=\"1\" class=\"dataframe\">\n",
       "  <thead>\n",
       "    <tr style=\"text-align: right;\">\n",
       "      <th></th>\n",
       "      <th>age</th>\n",
       "      <th>duration</th>\n",
       "      <th>campaign</th>\n",
       "      <th>pdays</th>\n",
       "      <th>previous</th>\n",
       "      <th>emp.var.rate</th>\n",
       "      <th>cons.price.idx</th>\n",
       "      <th>cons.conf.idx</th>\n",
       "      <th>euribor3m</th>\n",
       "      <th>nr.employed</th>\n",
       "      <th>...</th>\n",
       "      <th>month=sep</th>\n",
       "      <th>day_of_week=fri</th>\n",
       "      <th>day_of_week=mon</th>\n",
       "      <th>day_of_week=thu</th>\n",
       "      <th>day_of_week=tue</th>\n",
       "      <th>day_of_week=wed</th>\n",
       "      <th>poutcome=failure</th>\n",
       "      <th>poutcome=nonexistent</th>\n",
       "      <th>poutcome=success</th>\n",
       "      <th>y</th>\n",
       "    </tr>\n",
       "  </thead>\n",
       "  <tbody>\n",
       "    <tr>\n",
       "      <th>0</th>\n",
       "      <td>1.0</td>\n",
       "      <td>261.0</td>\n",
       "      <td>1.0</td>\n",
       "      <td>999.0</td>\n",
       "      <td>0.0</td>\n",
       "      <td>1.1</td>\n",
       "      <td>93.994</td>\n",
       "      <td>-36.4</td>\n",
       "      <td>4.857</td>\n",
       "      <td>5191.0</td>\n",
       "      <td>...</td>\n",
       "      <td>0.0</td>\n",
       "      <td>0.0</td>\n",
       "      <td>1.0</td>\n",
       "      <td>0.0</td>\n",
       "      <td>0.0</td>\n",
       "      <td>0.0</td>\n",
       "      <td>0.0</td>\n",
       "      <td>1.0</td>\n",
       "      <td>0.0</td>\n",
       "      <td>0.0</td>\n",
       "    </tr>\n",
       "    <tr>\n",
       "      <th>2</th>\n",
       "      <td>1.0</td>\n",
       "      <td>226.0</td>\n",
       "      <td>1.0</td>\n",
       "      <td>999.0</td>\n",
       "      <td>0.0</td>\n",
       "      <td>1.1</td>\n",
       "      <td>93.994</td>\n",
       "      <td>-36.4</td>\n",
       "      <td>4.857</td>\n",
       "      <td>5191.0</td>\n",
       "      <td>...</td>\n",
       "      <td>0.0</td>\n",
       "      <td>0.0</td>\n",
       "      <td>1.0</td>\n",
       "      <td>0.0</td>\n",
       "      <td>0.0</td>\n",
       "      <td>0.0</td>\n",
       "      <td>0.0</td>\n",
       "      <td>1.0</td>\n",
       "      <td>0.0</td>\n",
       "      <td>0.0</td>\n",
       "    </tr>\n",
       "    <tr>\n",
       "      <th>3</th>\n",
       "      <td>1.0</td>\n",
       "      <td>151.0</td>\n",
       "      <td>1.0</td>\n",
       "      <td>999.0</td>\n",
       "      <td>0.0</td>\n",
       "      <td>1.1</td>\n",
       "      <td>93.994</td>\n",
       "      <td>-36.4</td>\n",
       "      <td>4.857</td>\n",
       "      <td>5191.0</td>\n",
       "      <td>...</td>\n",
       "      <td>0.0</td>\n",
       "      <td>0.0</td>\n",
       "      <td>1.0</td>\n",
       "      <td>0.0</td>\n",
       "      <td>0.0</td>\n",
       "      <td>0.0</td>\n",
       "      <td>0.0</td>\n",
       "      <td>1.0</td>\n",
       "      <td>0.0</td>\n",
       "      <td>0.0</td>\n",
       "    </tr>\n",
       "    <tr>\n",
       "      <th>4</th>\n",
       "      <td>1.0</td>\n",
       "      <td>307.0</td>\n",
       "      <td>1.0</td>\n",
       "      <td>999.0</td>\n",
       "      <td>0.0</td>\n",
       "      <td>1.1</td>\n",
       "      <td>93.994</td>\n",
       "      <td>-36.4</td>\n",
       "      <td>4.857</td>\n",
       "      <td>5191.0</td>\n",
       "      <td>...</td>\n",
       "      <td>0.0</td>\n",
       "      <td>0.0</td>\n",
       "      <td>1.0</td>\n",
       "      <td>0.0</td>\n",
       "      <td>0.0</td>\n",
       "      <td>0.0</td>\n",
       "      <td>0.0</td>\n",
       "      <td>1.0</td>\n",
       "      <td>0.0</td>\n",
       "      <td>0.0</td>\n",
       "    </tr>\n",
       "    <tr>\n",
       "      <th>6</th>\n",
       "      <td>1.0</td>\n",
       "      <td>139.0</td>\n",
       "      <td>1.0</td>\n",
       "      <td>999.0</td>\n",
       "      <td>0.0</td>\n",
       "      <td>1.1</td>\n",
       "      <td>93.994</td>\n",
       "      <td>-36.4</td>\n",
       "      <td>4.857</td>\n",
       "      <td>5191.0</td>\n",
       "      <td>...</td>\n",
       "      <td>0.0</td>\n",
       "      <td>0.0</td>\n",
       "      <td>1.0</td>\n",
       "      <td>0.0</td>\n",
       "      <td>0.0</td>\n",
       "      <td>0.0</td>\n",
       "      <td>0.0</td>\n",
       "      <td>1.0</td>\n",
       "      <td>0.0</td>\n",
       "      <td>0.0</td>\n",
       "    </tr>\n",
       "    <tr>\n",
       "      <th>...</th>\n",
       "      <td>...</td>\n",
       "      <td>...</td>\n",
       "      <td>...</td>\n",
       "      <td>...</td>\n",
       "      <td>...</td>\n",
       "      <td>...</td>\n",
       "      <td>...</td>\n",
       "      <td>...</td>\n",
       "      <td>...</td>\n",
       "      <td>...</td>\n",
       "      <td>...</td>\n",
       "      <td>...</td>\n",
       "      <td>...</td>\n",
       "      <td>...</td>\n",
       "      <td>...</td>\n",
       "      <td>...</td>\n",
       "      <td>...</td>\n",
       "      <td>...</td>\n",
       "      <td>...</td>\n",
       "      <td>...</td>\n",
       "      <td>...</td>\n",
       "    </tr>\n",
       "    <tr>\n",
       "      <th>41181</th>\n",
       "      <td>1.0</td>\n",
       "      <td>281.0</td>\n",
       "      <td>1.0</td>\n",
       "      <td>999.0</td>\n",
       "      <td>0.0</td>\n",
       "      <td>-1.1</td>\n",
       "      <td>94.767</td>\n",
       "      <td>-50.8</td>\n",
       "      <td>1.028</td>\n",
       "      <td>4963.6</td>\n",
       "      <td>...</td>\n",
       "      <td>0.0</td>\n",
       "      <td>1.0</td>\n",
       "      <td>0.0</td>\n",
       "      <td>0.0</td>\n",
       "      <td>0.0</td>\n",
       "      <td>0.0</td>\n",
       "      <td>0.0</td>\n",
       "      <td>1.0</td>\n",
       "      <td>0.0</td>\n",
       "      <td>1.0</td>\n",
       "    </tr>\n",
       "    <tr>\n",
       "      <th>41183</th>\n",
       "      <td>0.0</td>\n",
       "      <td>334.0</td>\n",
       "      <td>1.0</td>\n",
       "      <td>999.0</td>\n",
       "      <td>0.0</td>\n",
       "      <td>-1.1</td>\n",
       "      <td>94.767</td>\n",
       "      <td>-50.8</td>\n",
       "      <td>1.028</td>\n",
       "      <td>4963.6</td>\n",
       "      <td>...</td>\n",
       "      <td>0.0</td>\n",
       "      <td>1.0</td>\n",
       "      <td>0.0</td>\n",
       "      <td>0.0</td>\n",
       "      <td>0.0</td>\n",
       "      <td>0.0</td>\n",
       "      <td>0.0</td>\n",
       "      <td>1.0</td>\n",
       "      <td>0.0</td>\n",
       "      <td>1.0</td>\n",
       "    </tr>\n",
       "    <tr>\n",
       "      <th>41184</th>\n",
       "      <td>1.0</td>\n",
       "      <td>383.0</td>\n",
       "      <td>1.0</td>\n",
       "      <td>999.0</td>\n",
       "      <td>0.0</td>\n",
       "      <td>-1.1</td>\n",
       "      <td>94.767</td>\n",
       "      <td>-50.8</td>\n",
       "      <td>1.028</td>\n",
       "      <td>4963.6</td>\n",
       "      <td>...</td>\n",
       "      <td>0.0</td>\n",
       "      <td>1.0</td>\n",
       "      <td>0.0</td>\n",
       "      <td>0.0</td>\n",
       "      <td>0.0</td>\n",
       "      <td>0.0</td>\n",
       "      <td>0.0</td>\n",
       "      <td>1.0</td>\n",
       "      <td>0.0</td>\n",
       "      <td>0.0</td>\n",
       "    </tr>\n",
       "    <tr>\n",
       "      <th>41185</th>\n",
       "      <td>1.0</td>\n",
       "      <td>189.0</td>\n",
       "      <td>2.0</td>\n",
       "      <td>999.0</td>\n",
       "      <td>0.0</td>\n",
       "      <td>-1.1</td>\n",
       "      <td>94.767</td>\n",
       "      <td>-50.8</td>\n",
       "      <td>1.028</td>\n",
       "      <td>4963.6</td>\n",
       "      <td>...</td>\n",
       "      <td>0.0</td>\n",
       "      <td>1.0</td>\n",
       "      <td>0.0</td>\n",
       "      <td>0.0</td>\n",
       "      <td>0.0</td>\n",
       "      <td>0.0</td>\n",
       "      <td>0.0</td>\n",
       "      <td>1.0</td>\n",
       "      <td>0.0</td>\n",
       "      <td>0.0</td>\n",
       "    </tr>\n",
       "    <tr>\n",
       "      <th>41186</th>\n",
       "      <td>1.0</td>\n",
       "      <td>442.0</td>\n",
       "      <td>1.0</td>\n",
       "      <td>999.0</td>\n",
       "      <td>0.0</td>\n",
       "      <td>-1.1</td>\n",
       "      <td>94.767</td>\n",
       "      <td>-50.8</td>\n",
       "      <td>1.028</td>\n",
       "      <td>4963.6</td>\n",
       "      <td>...</td>\n",
       "      <td>0.0</td>\n",
       "      <td>1.0</td>\n",
       "      <td>0.0</td>\n",
       "      <td>0.0</td>\n",
       "      <td>0.0</td>\n",
       "      <td>0.0</td>\n",
       "      <td>0.0</td>\n",
       "      <td>1.0</td>\n",
       "      <td>0.0</td>\n",
       "      <td>1.0</td>\n",
       "    </tr>\n",
       "  </tbody>\n",
       "</table>\n",
       "<p>25796 rows × 58 columns</p>\n",
       "</div>"
      ],
      "text/plain": [
       "       age  duration  campaign  pdays  previous  emp.var.rate  cons.price.idx  \\\n",
       "0      1.0     261.0       1.0  999.0       0.0           1.1          93.994   \n",
       "2      1.0     226.0       1.0  999.0       0.0           1.1          93.994   \n",
       "3      1.0     151.0       1.0  999.0       0.0           1.1          93.994   \n",
       "4      1.0     307.0       1.0  999.0       0.0           1.1          93.994   \n",
       "6      1.0     139.0       1.0  999.0       0.0           1.1          93.994   \n",
       "...    ...       ...       ...    ...       ...           ...             ...   \n",
       "41181  1.0     281.0       1.0  999.0       0.0          -1.1          94.767   \n",
       "41183  0.0     334.0       1.0  999.0       0.0          -1.1          94.767   \n",
       "41184  1.0     383.0       1.0  999.0       0.0          -1.1          94.767   \n",
       "41185  1.0     189.0       2.0  999.0       0.0          -1.1          94.767   \n",
       "41186  1.0     442.0       1.0  999.0       0.0          -1.1          94.767   \n",
       "\n",
       "       cons.conf.idx  euribor3m  nr.employed  ...  month=sep  day_of_week=fri  \\\n",
       "0              -36.4      4.857       5191.0  ...        0.0              0.0   \n",
       "2              -36.4      4.857       5191.0  ...        0.0              0.0   \n",
       "3              -36.4      4.857       5191.0  ...        0.0              0.0   \n",
       "4              -36.4      4.857       5191.0  ...        0.0              0.0   \n",
       "6              -36.4      4.857       5191.0  ...        0.0              0.0   \n",
       "...              ...        ...          ...  ...        ...              ...   \n",
       "41181          -50.8      1.028       4963.6  ...        0.0              1.0   \n",
       "41183          -50.8      1.028       4963.6  ...        0.0              1.0   \n",
       "41184          -50.8      1.028       4963.6  ...        0.0              1.0   \n",
       "41185          -50.8      1.028       4963.6  ...        0.0              1.0   \n",
       "41186          -50.8      1.028       4963.6  ...        0.0              1.0   \n",
       "\n",
       "       day_of_week=mon  day_of_week=thu  day_of_week=tue  day_of_week=wed  \\\n",
       "0                  1.0              0.0              0.0              0.0   \n",
       "2                  1.0              0.0              0.0              0.0   \n",
       "3                  1.0              0.0              0.0              0.0   \n",
       "4                  1.0              0.0              0.0              0.0   \n",
       "6                  1.0              0.0              0.0              0.0   \n",
       "...                ...              ...              ...              ...   \n",
       "41181              0.0              0.0              0.0              0.0   \n",
       "41183              0.0              0.0              0.0              0.0   \n",
       "41184              0.0              0.0              0.0              0.0   \n",
       "41185              0.0              0.0              0.0              0.0   \n",
       "41186              0.0              0.0              0.0              0.0   \n",
       "\n",
       "       poutcome=failure  poutcome=nonexistent  poutcome=success    y  \n",
       "0                   0.0                   1.0               0.0  0.0  \n",
       "2                   0.0                   1.0               0.0  0.0  \n",
       "3                   0.0                   1.0               0.0  0.0  \n",
       "4                   0.0                   1.0               0.0  0.0  \n",
       "6                   0.0                   1.0               0.0  0.0  \n",
       "...                 ...                   ...               ...  ...  \n",
       "41181               0.0                   1.0               0.0  1.0  \n",
       "41183               0.0                   1.0               0.0  1.0  \n",
       "41184               0.0                   1.0               0.0  0.0  \n",
       "41185               0.0                   1.0               0.0  0.0  \n",
       "41186               0.0                   1.0               0.0  1.0  \n",
       "\n",
       "[25796 rows x 58 columns]"
      ]
     },
     "execution_count": 20,
     "metadata": {},
     "output_type": "execute_result"
    }
   ],
   "source": [
    "df_b_reduced_non_dup"
   ]
  },
  {
   "cell_type": "markdown",
   "id": "a1ded413",
   "metadata": {},
   "source": [
    "## Encoding"
   ]
  },
  {
   "cell_type": "code",
   "execution_count": 21,
   "id": "a9b88307",
   "metadata": {
    "scrolled": true
   },
   "outputs": [
    {
     "name": "stdout",
     "output_type": "stream",
     "text": [
      "<class 'pandas.core.frame.DataFrame'>\n",
      "Index: 30488 entries, 0 to 41187\n",
      "Data columns (total 58 columns):\n",
      " #   Column                         Non-Null Count  Dtype  \n",
      "---  ------                         --------------  -----  \n",
      " 0   age                            30488 non-null  float64\n",
      " 1   duration                       30488 non-null  float64\n",
      " 2   campaign                       30488 non-null  float64\n",
      " 3   pdays                          30488 non-null  float64\n",
      " 4   previous                       30488 non-null  float64\n",
      " 5   emp.var.rate                   30488 non-null  float64\n",
      " 6   cons.price.idx                 30488 non-null  float64\n",
      " 7   cons.conf.idx                  30488 non-null  float64\n",
      " 8   euribor3m                      30488 non-null  float64\n",
      " 9   nr.employed                    30488 non-null  float64\n",
      " 10  job=admin.                     30488 non-null  float64\n",
      " 11  job=blue-collar                30488 non-null  float64\n",
      " 12  job=entrepreneur               30488 non-null  float64\n",
      " 13  job=housemaid                  30488 non-null  float64\n",
      " 14  job=management                 30488 non-null  float64\n",
      " 15  job=retired                    30488 non-null  float64\n",
      " 16  job=self-employed              30488 non-null  float64\n",
      " 17  job=services                   30488 non-null  float64\n",
      " 18  job=student                    30488 non-null  float64\n",
      " 19  job=technician                 30488 non-null  float64\n",
      " 20  job=unemployed                 30488 non-null  float64\n",
      " 21  marital=divorced               30488 non-null  float64\n",
      " 22  marital=married                30488 non-null  float64\n",
      " 23  marital=single                 30488 non-null  float64\n",
      " 24  education=basic.4y             30488 non-null  float64\n",
      " 25  education=basic.6y             30488 non-null  float64\n",
      " 26  education=basic.9y             30488 non-null  float64\n",
      " 27  education=high.school          30488 non-null  float64\n",
      " 28  education=illiterate           30488 non-null  float64\n",
      " 29  education=professional.course  30488 non-null  float64\n",
      " 30  education=university.degree    30488 non-null  float64\n",
      " 31  default=no                     30488 non-null  float64\n",
      " 32  default=yes                    30488 non-null  float64\n",
      " 33  housing=no                     30488 non-null  float64\n",
      " 34  housing=yes                    30488 non-null  float64\n",
      " 35  loan=no                        30488 non-null  float64\n",
      " 36  loan=yes                       30488 non-null  float64\n",
      " 37  contact=cellular               30488 non-null  float64\n",
      " 38  contact=telephone              30488 non-null  float64\n",
      " 39  month=apr                      30488 non-null  float64\n",
      " 40  month=aug                      30488 non-null  float64\n",
      " 41  month=dec                      30488 non-null  float64\n",
      " 42  month=jul                      30488 non-null  float64\n",
      " 43  month=jun                      30488 non-null  float64\n",
      " 44  month=mar                      30488 non-null  float64\n",
      " 45  month=may                      30488 non-null  float64\n",
      " 46  month=nov                      30488 non-null  float64\n",
      " 47  month=oct                      30488 non-null  float64\n",
      " 48  month=sep                      30488 non-null  float64\n",
      " 49  day_of_week=fri                30488 non-null  float64\n",
      " 50  day_of_week=mon                30488 non-null  float64\n",
      " 51  day_of_week=thu                30488 non-null  float64\n",
      " 52  day_of_week=tue                30488 non-null  float64\n",
      " 53  day_of_week=wed                30488 non-null  float64\n",
      " 54  poutcome=failure               30488 non-null  float64\n",
      " 55  poutcome=nonexistent           30488 non-null  float64\n",
      " 56  poutcome=success               30488 non-null  float64\n",
      " 57  y                              30488 non-null  float64\n",
      "dtypes: float64(58)\n",
      "memory usage: 14.7+ MB\n"
     ]
    }
   ],
   "source": [
    "df_b.info()"
   ]
  },
  {
   "cell_type": "code",
   "execution_count": 22,
   "id": "75668bdc",
   "metadata": {},
   "outputs": [],
   "source": [
    "categorical_cols = df_b.select_dtypes(include=['object', 'category']).columns\n",
    "\n",
    "# Attempt to convert object columns to numeric\n",
    "for col in categorical_cols:\n",
    "    try:\n",
    "        df_b[col] = pd.to_numeric(df_b[col])\n",
    "    except ValueError:\n",
    "        print(f\"Column '{col}' cannot be converted to numeric.\")"
   ]
  },
  {
   "cell_type": "code",
   "execution_count": 23,
   "id": "61e594e3",
   "metadata": {},
   "outputs": [],
   "source": [
    "catvar = [key for key in dict(df_b.dtypes)\n",
    "             if dict(df_b.dtypes)[key] in ['object'] ] # Categorical Variable\n",
    "\n",
    "for cat in catvar:\n",
    "    df_b[cat] = LabelEncoder().fit_transform(df[cat])"
   ]
  },
  {
   "cell_type": "code",
   "execution_count": 24,
   "id": "15c861e2",
   "metadata": {},
   "outputs": [],
   "source": [
    "categorical_cols = df_b.select_dtypes(include=['object', 'category']).columns"
   ]
  },
  {
   "cell_type": "code",
   "execution_count": 25,
   "id": "cd9fe317",
   "metadata": {},
   "outputs": [
    {
     "name": "stdout",
     "output_type": "stream",
     "text": [
      "Index([], dtype='object')\n"
     ]
    }
   ],
   "source": [
    "print(categorical_cols)"
   ]
  },
  {
   "cell_type": "markdown",
   "id": "358c0b54",
   "metadata": {},
   "source": [
    "## High Correlations"
   ]
  },
  {
   "cell_type": "code",
   "execution_count": 26,
   "id": "2fdcbfd4",
   "metadata": {},
   "outputs": [],
   "source": [
    "corrmat = df_b.corr().abs()\n",
    "\n",
    "upper = corrmat.where(np.triu(np.ones(corrmat.shape), k=1).astype(bool))\n",
    "\n",
    "to_drop = [column for column in upper.columns if any(upper[column] > 0.95)]"
   ]
  },
  {
   "cell_type": "code",
   "execution_count": 27,
   "id": "709e3c24",
   "metadata": {},
   "outputs": [
    {
     "name": "stdout",
     "output_type": "stream",
     "text": [
      "['euribor3m', 'default=yes', 'housing=yes', 'loan=yes', 'contact=telephone', 'poutcome=success']\n"
     ]
    }
   ],
   "source": [
    "print(to_drop)"
   ]
  },
  {
   "cell_type": "code",
   "execution_count": 28,
   "id": "e0d58d3e",
   "metadata": {
    "scrolled": true
   },
   "outputs": [
    {
     "data": {
      "text/plain": [
       "euribor3m                        1.000000\n",
       "emp.var.rate                     0.969412\n",
       "nr.employed                      0.944871\n",
       "cons.price.idx                   0.667292\n",
       "poutcome=nonexistent             0.470402\n",
       "previous                         0.438863\n",
       "contact=cellular                 0.383964\n",
       "contact=telephone                0.383964\n",
       "poutcome=failure                 0.362333\n",
       "month=apr                        0.322834\n",
       "y                                0.315869\n",
       "pdays                            0.295188\n",
       "month=jul                        0.290655\n",
       "poutcome=success                 0.279786\n",
       "cons.conf.idx                    0.243637\n",
       "age                              0.218864\n",
       "month=sep                        0.189770\n",
       "month=oct                        0.184834\n",
       "month=aug                        0.176879\n",
       "month=mar                        0.161879\n",
       "month=may                        0.142501\n",
       "campaign                         0.140836\n",
       "job=student                      0.135431\n",
       "job=retired                      0.127483\n",
       "month=jun                        0.121604\n",
       "month=dec                        0.104064\n",
       "marital=single                   0.088214\n",
       "job=technician                   0.065386\n",
       "marital=married                  0.062236\n",
       "housing=no                       0.058551\n",
       "housing=yes                      0.058551\n",
       "month=nov                        0.047938\n",
       "day_of_week=wed                  0.036634\n",
       "marital=divorced                 0.031198\n",
       "day_of_week=mon                  0.029475\n",
       "duration                         0.028922\n",
       "job=housemaid                    0.028671\n",
       "job=blue-collar                  0.028083\n",
       "education=professional.course    0.028035\n",
       "job=unemployed                   0.026938\n",
       "job=entrepreneur                 0.024500\n",
       "education=basic.4y               0.021000\n",
       "day_of_week=tue                  0.018439\n",
       "education=basic.9y               0.017751\n",
       "education=university.degree      0.017056\n",
       "job=services                     0.015206\n",
       "education=basic.6y               0.013495\n",
       "day_of_week=thu                  0.013033\n",
       "day_of_week=fri                  0.012188\n",
       "education=high.school            0.011523\n",
       "job=admin.                       0.008637\n",
       "default=yes                      0.006883\n",
       "default=no                       0.006883\n",
       "job=management                   0.006412\n",
       "job=self-employed                0.005338\n",
       "loan=no                          0.002462\n",
       "loan=yes                         0.002462\n",
       "education=illiterate             0.001451\n",
       "Name: euribor3m, dtype: float64"
      ]
     },
     "execution_count": 28,
     "metadata": {},
     "output_type": "execute_result"
    }
   ],
   "source": [
    "corrmat['euribor3m'].sort_values(ascending = False)"
   ]
  },
  {
   "cell_type": "code",
   "execution_count": 29,
   "id": "ecb7e6ff",
   "metadata": {},
   "outputs": [
    {
     "data": {
      "text/plain": [
       "default=no                       1.000000\n",
       "default=yes                      1.000000\n",
       "day_of_week=tue                  0.020135\n",
       "job=unemployed                   0.019953\n",
       "education=professional.course    0.014931\n",
       "month=aug                        0.014137\n",
       "job=technician                   0.012592\n",
       "marital=married                  0.008551\n",
       "nr.employed                      0.007460\n",
       "education=university.degree      0.007144\n",
       "contact=telephone                0.006954\n",
       "contact=cellular                 0.006954\n",
       "euribor3m                        0.006883\n",
       "poutcome=failure                 0.006874\n",
       "month=nov                        0.006808\n",
       "month=may                        0.006793\n",
       "marital=single                   0.006645\n",
       "job=admin.                       0.006287\n",
       "emp.var.rate                     0.005985\n",
       "duration                         0.005919\n",
       "cons.conf.idx                    0.005252\n",
       "day_of_week=thu                  0.005111\n",
       "day_of_week=mon                  0.005052\n",
       "poutcome=nonexistent             0.004986\n",
       "day_of_week=wed                  0.004974\n",
       "day_of_week=fri                  0.004774\n",
       "job=blue-collar                  0.004744\n",
       "month=jul                        0.004436\n",
       "campaign                         0.004333\n",
       "loan=no                          0.004271\n",
       "loan=yes                         0.004271\n",
       "housing=yes                      0.004152\n",
       "housing=no                       0.004152\n",
       "education=basic.9y               0.004007\n",
       "y                                0.003776\n",
       "month=jun                        0.003638\n",
       "marital=divorced                 0.003603\n",
       "job=services                     0.003190\n",
       "education=basic.4y               0.002887\n",
       "job=management                   0.002841\n",
       "cons.price.idx                   0.002722\n",
       "month=apr                        0.002708\n",
       "previous                         0.002639\n",
       "age                              0.002445\n",
       "education=basic.6y               0.002167\n",
       "pdays                            0.002102\n",
       "job=retired                      0.002022\n",
       "poutcome=success                 0.002000\n",
       "job=self-employed                0.001912\n",
       "job=entrepreneur                 0.001909\n",
       "education=high.school            0.001845\n",
       "job=housemaid                    0.001510\n",
       "month=oct                        0.001455\n",
       "job=student                      0.001417\n",
       "month=sep                        0.001274\n",
       "month=mar                        0.001257\n",
       "month=dec                        0.000714\n",
       "education=illiterate             0.000188\n",
       "Name: default=yes, dtype: float64"
      ]
     },
     "execution_count": 29,
     "metadata": {},
     "output_type": "execute_result"
    }
   ],
   "source": [
    "corrmat['default=yes'].sort_values(ascending = False)"
   ]
  },
  {
   "cell_type": "code",
   "execution_count": 30,
   "id": "af108c62",
   "metadata": {},
   "outputs": [
    {
     "data": {
      "text/plain": [
       "housing=no                       1.000000\n",
       "housing=yes                      1.000000\n",
       "contact=cellular                 0.080567\n",
       "contact=telephone                0.080567\n",
       "cons.price.idx                   0.077432\n",
       "emp.var.rate                     0.059164\n",
       "euribor3m                        0.058551\n",
       "month=jun                        0.052823\n",
       "loan=no                          0.046994\n",
       "loan=yes                         0.046994\n",
       "nr.employed                      0.045070\n",
       "cons.conf.idx                    0.036032\n",
       "month=nov                        0.031316\n",
       "month=apr                        0.026405\n",
       "poutcome=nonexistent             0.025108\n",
       "poutcome=failure                 0.022108\n",
       "month=may                        0.021771\n",
       "previous                         0.021081\n",
       "month=aug                        0.020973\n",
       "month=mar                        0.017844\n",
       "education=basic.4y               0.015137\n",
       "education=high.school            0.014542\n",
       "day_of_week=thu                  0.012878\n",
       "education=university.degree      0.012756\n",
       "education=professional.course    0.012743\n",
       "day_of_week=tue                  0.012276\n",
       "job=technician                   0.012052\n",
       "campaign                         0.011203\n",
       "day_of_week=fri                  0.010979\n",
       "job=services                     0.010429\n",
       "poutcome=success                 0.010402\n",
       "y                                0.010071\n",
       "job=blue-collar                  0.009844\n",
       "marital=single                   0.009820\n",
       "day_of_week=mon                  0.009035\n",
       "job=unemployed                   0.008176\n",
       "duration                         0.007806\n",
       "job=management                   0.007784\n",
       "pdays                            0.007542\n",
       "month=sep                        0.007171\n",
       "marital=married                  0.007143\n",
       "age                              0.007046\n",
       "month=dec                        0.006368\n",
       "job=admin.                       0.006340\n",
       "education=basic.6y               0.004634\n",
       "job=housemaid                    0.004382\n",
       "job=entrepreneur                 0.004216\n",
       "default=yes                      0.004152\n",
       "default=no                       0.004152\n",
       "marital=divorced                 0.003143\n",
       "month=jul                        0.002529\n",
       "education=basic.9y               0.002445\n",
       "month=oct                        0.002343\n",
       "job=student                      0.001199\n",
       "job=retired                      0.001032\n",
       "day_of_week=wed                  0.000649\n",
       "education=illiterate             0.000136\n",
       "job=self-employed                0.000093\n",
       "Name: housing=yes, dtype: float64"
      ]
     },
     "execution_count": 30,
     "metadata": {},
     "output_type": "execute_result"
    }
   ],
   "source": [
    "corrmat['housing=yes'].sort_values(ascending = False)"
   ]
  },
  {
   "cell_type": "code",
   "execution_count": 31,
   "id": "97849a1f",
   "metadata": {
    "scrolled": true
   },
   "outputs": [
    {
     "data": {
      "text/plain": [
       "loan=no                          1.000000\n",
       "loan=yes                         1.000000\n",
       "housing=no                       0.046994\n",
       "housing=yes                      0.046994\n",
       "job=admin.                       0.023491\n",
       "cons.conf.idx                    0.018878\n",
       "month=jul                        0.014147\n",
       "month=oct                        0.012832\n",
       "job=retired                      0.011153\n",
       "job=technician                   0.010569\n",
       "month=aug                        0.009978\n",
       "education=university.degree      0.009649\n",
       "day_of_week=fri                  0.009535\n",
       "month=dec                        0.009395\n",
       "contact=telephone                0.009017\n",
       "contact=cellular                 0.009017\n",
       "education=illiterate             0.008180\n",
       "job=self-employed                0.008152\n",
       "day_of_week=tue                  0.007812\n",
       "age                              0.006629\n",
       "job=housemaid                    0.006623\n",
       "campaign                         0.006597\n",
       "duration                         0.006320\n",
       "education=basic.4y               0.005792\n",
       "job=entrepreneur                 0.005502\n",
       "day_of_week=thu                  0.005348\n",
       "y                                0.005026\n",
       "marital=divorced                 0.004968\n",
       "day_of_week=mon                  0.004920\n",
       "month=nov                        0.004460\n",
       "poutcome=success                 0.004316\n",
       "job=services                     0.004278\n",
       "default=yes                      0.004271\n",
       "default=no                       0.004271\n",
       "job=student                      0.004258\n",
       "month=may                        0.004235\n",
       "previous                         0.003506\n",
       "month=sep                        0.003153\n",
       "education=basic.6y               0.003129\n",
       "pdays                            0.003056\n",
       "month=jun                        0.002847\n",
       "education=professional.course    0.002786\n",
       "education=basic.9y               0.002528\n",
       "euribor3m                        0.002462\n",
       "nr.employed                      0.002447\n",
       "month=mar                        0.002447\n",
       "cons.price.idx                   0.002232\n",
       "month=apr                        0.002216\n",
       "job=management                   0.002189\n",
       "poutcome=failure                 0.001918\n",
       "marital=married                  0.001906\n",
       "marital=single                   0.001409\n",
       "job=blue-collar                  0.001274\n",
       "day_of_week=wed                  0.001101\n",
       "education=high.school            0.000840\n",
       "job=unemployed                   0.000832\n",
       "poutcome=nonexistent             0.000634\n",
       "emp.var.rate                     0.000020\n",
       "Name: loan=yes, dtype: float64"
      ]
     },
     "execution_count": 31,
     "metadata": {},
     "output_type": "execute_result"
    }
   ],
   "source": [
    "corrmat['loan=yes'].sort_values(ascending = False)"
   ]
  },
  {
   "cell_type": "code",
   "execution_count": 32,
   "id": "4a32470e",
   "metadata": {
    "scrolled": true
   },
   "outputs": [
    {
     "data": {
      "text/plain": [
       "contact=cellular                 1.000000\n",
       "contact=telephone                1.000000\n",
       "cons.price.idx                   0.564491\n",
       "euribor3m                        0.383964\n",
       "emp.var.rate                     0.380922\n",
       "month=jun                        0.367496\n",
       "month=may                        0.317829\n",
       "nr.employed                      0.259555\n",
       "month=aug                        0.256011\n",
       "poutcome=nonexistent             0.231077\n",
       "cons.conf.idx                    0.225466\n",
       "previous                         0.201760\n",
       "poutcome=failure                 0.195410\n",
       "month=nov                        0.171018\n",
       "month=jul                        0.168539\n",
       "month=apr                        0.149088\n",
       "y                                0.143859\n",
       "pdays                            0.115152\n",
       "poutcome=success                 0.108918\n",
       "education=university.degree      0.086598\n",
       "housing=no                       0.080567\n",
       "housing=yes                      0.080567\n",
       "campaign                         0.079889\n",
       "age                              0.076062\n",
       "job=blue-collar                  0.074986\n",
       "marital=single                   0.069156\n",
       "month=mar                        0.057514\n",
       "marital=married                  0.054587\n",
       "education=basic.9y               0.052686\n",
       "month=sep                        0.046984\n",
       "day_of_week=fri                  0.044251\n",
       "day_of_week=thu                  0.041134\n",
       "job=technician                   0.041132\n",
       "job=retired                      0.039812\n",
       "education=basic.6y               0.037936\n",
       "job=services                     0.036803\n",
       "job=student                      0.035871\n",
       "job=admin.                       0.034511\n",
       "month=oct                        0.033304\n",
       "education=high.school            0.030258\n",
       "duration                         0.028954\n",
       "education=basic.4y               0.027274\n",
       "job=entrepreneur                 0.023765\n",
       "month=dec                        0.023133\n",
       "education=professional.course    0.015538\n",
       "marital=divorced                 0.015524\n",
       "day_of_week=mon                  0.014282\n",
       "job=housemaid                    0.013449\n",
       "day_of_week=wed                  0.011838\n",
       "job=management                   0.011183\n",
       "education=illiterate             0.009643\n",
       "loan=no                          0.009017\n",
       "loan=yes                         0.009017\n",
       "default=no                       0.006954\n",
       "default=yes                      0.006954\n",
       "job=unemployed                   0.003110\n",
       "job=self-employed                0.001958\n",
       "day_of_week=tue                  0.001229\n",
       "Name: contact=telephone, dtype: float64"
      ]
     },
     "execution_count": 32,
     "metadata": {},
     "output_type": "execute_result"
    }
   ],
   "source": [
    "corrmat['contact=telephone'].sort_values(ascending = False)"
   ]
  },
  {
   "cell_type": "code",
   "execution_count": 33,
   "id": "6a789057",
   "metadata": {},
   "outputs": [
    {
     "data": {
      "text/plain": [
       "poutcome=success                 1.000000\n",
       "pdays                            0.951930\n",
       "previous                         0.527393\n",
       "poutcome=nonexistent             0.475157\n",
       "nr.employed                      0.350337\n",
       "y                                0.319874\n",
       "euribor3m                        0.279786\n",
       "emp.var.rate                     0.254479\n",
       "month=sep                        0.146896\n",
       "age                              0.117152\n",
       "month=oct                        0.110742\n",
       "contact=cellular                 0.108918\n",
       "contact=telephone                0.108918\n",
       "cons.conf.idx                    0.094996\n",
       "job=retired                      0.075694\n",
       "month=dec                        0.075372\n",
       "job=student                      0.073954\n",
       "poutcome=failure                 0.072152\n",
       "month=may                        0.069075\n",
       "cons.price.idx                   0.065387\n",
       "month=mar                        0.057233\n",
       "job=blue-collar                  0.053365\n",
       "campaign                         0.052282\n",
       "duration                         0.045186\n",
       "month=jul                        0.044285\n",
       "education=university.degree      0.035078\n",
       "job=unemployed                   0.034335\n",
       "education=basic.9y               0.034146\n",
       "job=services                     0.028817\n",
       "marital=single                   0.028599\n",
       "marital=married                  0.019621\n",
       "job=admin.                       0.018605\n",
       "job=entrepreneur                 0.017825\n",
       "education=basic.6y               0.015637\n",
       "job=technician                   0.012704\n",
       "education=basic.4y               0.012637\n",
       "day_of_week=thu                  0.012550\n",
       "job=self-employed                0.012443\n",
       "marital=divorced                 0.010972\n",
       "education=high.school            0.010816\n",
       "housing=no                       0.010402\n",
       "housing=yes                      0.010402\n",
       "day_of_week=fri                  0.009962\n",
       "month=apr                        0.008247\n",
       "job=housemaid                    0.008020\n",
       "month=jun                        0.007950\n",
       "day_of_week=mon                  0.006818\n",
       "month=nov                        0.006073\n",
       "loan=yes                         0.004316\n",
       "loan=no                          0.004316\n",
       "day_of_week=tue                  0.004001\n",
       "education=illiterate             0.003830\n",
       "default=yes                      0.002000\n",
       "default=no                       0.002000\n",
       "job=management                   0.001457\n",
       "month=aug                        0.000682\n",
       "education=professional.course    0.000387\n",
       "day_of_week=wed                  0.000114\n",
       "Name: poutcome=success, dtype: float64"
      ]
     },
     "execution_count": 33,
     "metadata": {},
     "output_type": "execute_result"
    }
   ],
   "source": [
    "corrmat['poutcome=success'].sort_values(ascending = False)"
   ]
  },
  {
   "cell_type": "code",
   "execution_count": 34,
   "id": "44f3ee32",
   "metadata": {
    "scrolled": true
   },
   "outputs": [
    {
     "data": {
      "text/plain": [
       "<Axes: >"
      ]
     },
     "execution_count": 34,
     "metadata": {},
     "output_type": "execute_result"
    },
    {
     "data": {
      "image/png": "[encoded data removed]",
      "text/plain": [
       "<Figure size 1200x900 with 2 Axes>"
      ]
     },
     "metadata": {},
     "output_type": "display_data"
    }
   ],
   "source": [
    "corrmat = df_b.corr()\n",
    "plt.subplots(figsize=(12, 9))\n",
    "sns.heatmap(corrmat, vmax=.3, square=True)"
   ]
  },
  {
   "cell_type": "code",
   "execution_count": 35,
   "id": "317bcfcb",
   "metadata": {
    "scrolled": true
   },
   "outputs": [
    {
     "data": {
      "text/plain": [
       "duration                         0.393530\n",
       "poutcome=success                 0.319874\n",
       "previous                         0.228003\n",
       "month=mar                        0.146298\n",
       "contact=cellular                 0.143859\n",
       "month=oct                        0.141358\n",
       "month=sep                        0.124378\n",
       "job=retired                      0.102376\n",
       "job=student                      0.088617\n",
       "month=apr                        0.077764\n",
       "month=dec                        0.074600\n",
       "cons.conf.idx                    0.061638\n",
       "education=university.degree      0.046619\n",
       "marital=single                   0.042191\n",
       "job=admin.                       0.024025\n",
       "poutcome=failure                 0.021745\n",
       "job=unemployed                   0.020917\n",
       "day_of_week=thu                  0.016853\n",
       "housing=yes                      0.010071\n",
       "education=basic.4y               0.009102\n",
       "day_of_week=tue                  0.008771\n",
       "education=illiterate             0.008351\n",
       "day_of_week=wed                  0.008305\n",
       "loan=no                          0.005026\n",
       "default=no                       0.003776\n",
       "job=housemaid                   -0.000223\n",
       "month=jun                       -0.001660\n",
       "job=management                  -0.002428\n",
       "education=professional.course   -0.002525\n",
       "job=self-employed               -0.003301\n",
       "default=yes                     -0.003776\n",
       "loan=yes                        -0.005026\n",
       "education=high.school           -0.009195\n",
       "housing=no                      -0.010071\n",
       "marital=divorced                -0.012211\n",
       "day_of_week=fri                 -0.012566\n",
       "job=technician                  -0.013300\n",
       "month=aug                       -0.016014\n",
       "education=basic.6y              -0.018834\n",
       "job=entrepreneur                -0.019582\n",
       "day_of_week=mon                 -0.021652\n",
       "month=nov                       -0.023996\n",
       "marital=married                 -0.031525\n",
       "month=jul                       -0.034709\n",
       "job=services                    -0.035077\n",
       "education=basic.9y              -0.045803\n",
       "job=blue-collar                 -0.067496\n",
       "campaign                        -0.069206\n",
       "month=may                       -0.112564\n",
       "cons.price.idx                  -0.128752\n",
       "contact=telephone               -0.143859\n",
       "age                             -0.149019\n",
       "poutcome=nonexistent            -0.191534\n",
       "emp.var.rate                    -0.305365\n",
       "euribor3m                       -0.315869\n",
       "pdays                           -0.327509\n",
       "nr.employed                     -0.364230\n",
       "dtype: float64"
      ]
     },
     "execution_count": 35,
     "metadata": {},
     "output_type": "execute_result"
    }
   ],
   "source": [
    "df_b.drop(\"y\", axis=1).apply(lambda x: (x.corr(df_b['y']))).sort_values(ascending=False)"
   ]
  },
  {
   "cell_type": "code",
   "execution_count": 36,
   "id": "fd3eda79",
   "metadata": {
    "scrolled": true
   },
   "outputs": [
    {
     "data": {
      "text/html": [
       "<div>\n",
       "<style scoped>\n",
       "    .dataframe tbody tr th:only-of-type {\n",
       "        vertical-align: middle;\n",
       "    }\n",
       "\n",
       "    .dataframe tbody tr th {\n",
       "        vertical-align: top;\n",
       "    }\n",
       "\n",
       "    .dataframe thead th {\n",
       "        text-align: right;\n",
       "    }\n",
       "</style>\n",
       "<table border=\"1\" class=\"dataframe\">\n",
       "  <thead>\n",
       "    <tr style=\"text-align: right;\">\n",
       "      <th></th>\n",
       "      <th>age</th>\n",
       "      <th>duration</th>\n",
       "      <th>campaign</th>\n",
       "      <th>pdays</th>\n",
       "      <th>previous</th>\n",
       "      <th>emp.var.rate</th>\n",
       "      <th>cons.price.idx</th>\n",
       "      <th>cons.conf.idx</th>\n",
       "      <th>euribor3m</th>\n",
       "      <th>nr.employed</th>\n",
       "      <th>...</th>\n",
       "      <th>month=sep</th>\n",
       "      <th>day_of_week=fri</th>\n",
       "      <th>day_of_week=mon</th>\n",
       "      <th>day_of_week=thu</th>\n",
       "      <th>day_of_week=tue</th>\n",
       "      <th>day_of_week=wed</th>\n",
       "      <th>poutcome=failure</th>\n",
       "      <th>poutcome=nonexistent</th>\n",
       "      <th>poutcome=success</th>\n",
       "      <th>y</th>\n",
       "    </tr>\n",
       "  </thead>\n",
       "  <tbody>\n",
       "    <tr>\n",
       "      <th>0</th>\n",
       "      <td>1.0</td>\n",
       "      <td>261.0</td>\n",
       "      <td>1.0</td>\n",
       "      <td>999.0</td>\n",
       "      <td>0.0</td>\n",
       "      <td>1.1</td>\n",
       "      <td>93.994</td>\n",
       "      <td>-36.4</td>\n",
       "      <td>4.857</td>\n",
       "      <td>5191.0</td>\n",
       "      <td>...</td>\n",
       "      <td>0.0</td>\n",
       "      <td>0.0</td>\n",
       "      <td>1.0</td>\n",
       "      <td>0.0</td>\n",
       "      <td>0.0</td>\n",
       "      <td>0.0</td>\n",
       "      <td>0.0</td>\n",
       "      <td>1.0</td>\n",
       "      <td>0.0</td>\n",
       "      <td>0.0</td>\n",
       "    </tr>\n",
       "    <tr>\n",
       "      <th>2</th>\n",
       "      <td>1.0</td>\n",
       "      <td>226.0</td>\n",
       "      <td>1.0</td>\n",
       "      <td>999.0</td>\n",
       "      <td>0.0</td>\n",
       "      <td>1.1</td>\n",
       "      <td>93.994</td>\n",
       "      <td>-36.4</td>\n",
       "      <td>4.857</td>\n",
       "      <td>5191.0</td>\n",
       "      <td>...</td>\n",
       "      <td>0.0</td>\n",
       "      <td>0.0</td>\n",
       "      <td>1.0</td>\n",
       "      <td>0.0</td>\n",
       "      <td>0.0</td>\n",
       "      <td>0.0</td>\n",
       "      <td>0.0</td>\n",
       "      <td>1.0</td>\n",
       "      <td>0.0</td>\n",
       "      <td>0.0</td>\n",
       "    </tr>\n",
       "    <tr>\n",
       "      <th>3</th>\n",
       "      <td>1.0</td>\n",
       "      <td>151.0</td>\n",
       "      <td>1.0</td>\n",
       "      <td>999.0</td>\n",
       "      <td>0.0</td>\n",
       "      <td>1.1</td>\n",
       "      <td>93.994</td>\n",
       "      <td>-36.4</td>\n",
       "      <td>4.857</td>\n",
       "      <td>5191.0</td>\n",
       "      <td>...</td>\n",
       "      <td>0.0</td>\n",
       "      <td>0.0</td>\n",
       "      <td>1.0</td>\n",
       "      <td>0.0</td>\n",
       "      <td>0.0</td>\n",
       "      <td>0.0</td>\n",
       "      <td>0.0</td>\n",
       "      <td>1.0</td>\n",
       "      <td>0.0</td>\n",
       "      <td>0.0</td>\n",
       "    </tr>\n",
       "    <tr>\n",
       "      <th>4</th>\n",
       "      <td>1.0</td>\n",
       "      <td>307.0</td>\n",
       "      <td>1.0</td>\n",
       "      <td>999.0</td>\n",
       "      <td>0.0</td>\n",
       "      <td>1.1</td>\n",
       "      <td>93.994</td>\n",
       "      <td>-36.4</td>\n",
       "      <td>4.857</td>\n",
       "      <td>5191.0</td>\n",
       "      <td>...</td>\n",
       "      <td>0.0</td>\n",
       "      <td>0.0</td>\n",
       "      <td>1.0</td>\n",
       "      <td>0.0</td>\n",
       "      <td>0.0</td>\n",
       "      <td>0.0</td>\n",
       "      <td>0.0</td>\n",
       "      <td>1.0</td>\n",
       "      <td>0.0</td>\n",
       "      <td>0.0</td>\n",
       "    </tr>\n",
       "    <tr>\n",
       "      <th>6</th>\n",
       "      <td>1.0</td>\n",
       "      <td>139.0</td>\n",
       "      <td>1.0</td>\n",
       "      <td>999.0</td>\n",
       "      <td>0.0</td>\n",
       "      <td>1.1</td>\n",
       "      <td>93.994</td>\n",
       "      <td>-36.4</td>\n",
       "      <td>4.857</td>\n",
       "      <td>5191.0</td>\n",
       "      <td>...</td>\n",
       "      <td>0.0</td>\n",
       "      <td>0.0</td>\n",
       "      <td>1.0</td>\n",
       "      <td>0.0</td>\n",
       "      <td>0.0</td>\n",
       "      <td>0.0</td>\n",
       "      <td>0.0</td>\n",
       "      <td>1.0</td>\n",
       "      <td>0.0</td>\n",
       "      <td>0.0</td>\n",
       "    </tr>\n",
       "    <tr>\n",
       "      <th>...</th>\n",
       "      <td>...</td>\n",
       "      <td>...</td>\n",
       "      <td>...</td>\n",
       "      <td>...</td>\n",
       "      <td>...</td>\n",
       "      <td>...</td>\n",
       "      <td>...</td>\n",
       "      <td>...</td>\n",
       "      <td>...</td>\n",
       "      <td>...</td>\n",
       "      <td>...</td>\n",
       "      <td>...</td>\n",
       "      <td>...</td>\n",
       "      <td>...</td>\n",
       "      <td>...</td>\n",
       "      <td>...</td>\n",
       "      <td>...</td>\n",
       "      <td>...</td>\n",
       "      <td>...</td>\n",
       "      <td>...</td>\n",
       "      <td>...</td>\n",
       "    </tr>\n",
       "    <tr>\n",
       "      <th>41183</th>\n",
       "      <td>0.0</td>\n",
       "      <td>334.0</td>\n",
       "      <td>1.0</td>\n",
       "      <td>999.0</td>\n",
       "      <td>0.0</td>\n",
       "      <td>-1.1</td>\n",
       "      <td>94.767</td>\n",
       "      <td>-50.8</td>\n",
       "      <td>1.028</td>\n",
       "      <td>4963.6</td>\n",
       "      <td>...</td>\n",
       "      <td>0.0</td>\n",
       "      <td>1.0</td>\n",
       "      <td>0.0</td>\n",
       "      <td>0.0</td>\n",
       "      <td>0.0</td>\n",
       "      <td>0.0</td>\n",
       "      <td>0.0</td>\n",
       "      <td>1.0</td>\n",
       "      <td>0.0</td>\n",
       "      <td>1.0</td>\n",
       "    </tr>\n",
       "    <tr>\n",
       "      <th>41184</th>\n",
       "      <td>1.0</td>\n",
       "      <td>383.0</td>\n",
       "      <td>1.0</td>\n",
       "      <td>999.0</td>\n",
       "      <td>0.0</td>\n",
       "      <td>-1.1</td>\n",
       "      <td>94.767</td>\n",
       "      <td>-50.8</td>\n",
       "      <td>1.028</td>\n",
       "      <td>4963.6</td>\n",
       "      <td>...</td>\n",
       "      <td>0.0</td>\n",
       "      <td>1.0</td>\n",
       "      <td>0.0</td>\n",
       "      <td>0.0</td>\n",
       "      <td>0.0</td>\n",
       "      <td>0.0</td>\n",
       "      <td>0.0</td>\n",
       "      <td>1.0</td>\n",
       "      <td>0.0</td>\n",
       "      <td>0.0</td>\n",
       "    </tr>\n",
       "    <tr>\n",
       "      <th>41185</th>\n",
       "      <td>1.0</td>\n",
       "      <td>189.0</td>\n",
       "      <td>2.0</td>\n",
       "      <td>999.0</td>\n",
       "      <td>0.0</td>\n",
       "      <td>-1.1</td>\n",
       "      <td>94.767</td>\n",
       "      <td>-50.8</td>\n",
       "      <td>1.028</td>\n",
       "      <td>4963.6</td>\n",
       "      <td>...</td>\n",
       "      <td>0.0</td>\n",
       "      <td>1.0</td>\n",
       "      <td>0.0</td>\n",
       "      <td>0.0</td>\n",
       "      <td>0.0</td>\n",
       "      <td>0.0</td>\n",
       "      <td>0.0</td>\n",
       "      <td>1.0</td>\n",
       "      <td>0.0</td>\n",
       "      <td>0.0</td>\n",
       "    </tr>\n",
       "    <tr>\n",
       "      <th>41186</th>\n",
       "      <td>1.0</td>\n",
       "      <td>442.0</td>\n",
       "      <td>1.0</td>\n",
       "      <td>999.0</td>\n",
       "      <td>0.0</td>\n",
       "      <td>-1.1</td>\n",
       "      <td>94.767</td>\n",
       "      <td>-50.8</td>\n",
       "      <td>1.028</td>\n",
       "      <td>4963.6</td>\n",
       "      <td>...</td>\n",
       "      <td>0.0</td>\n",
       "      <td>1.0</td>\n",
       "      <td>0.0</td>\n",
       "      <td>0.0</td>\n",
       "      <td>0.0</td>\n",
       "      <td>0.0</td>\n",
       "      <td>0.0</td>\n",
       "      <td>1.0</td>\n",
       "      <td>0.0</td>\n",
       "      <td>1.0</td>\n",
       "    </tr>\n",
       "    <tr>\n",
       "      <th>41187</th>\n",
       "      <td>0.0</td>\n",
       "      <td>239.0</td>\n",
       "      <td>3.0</td>\n",
       "      <td>999.0</td>\n",
       "      <td>1.0</td>\n",
       "      <td>-1.1</td>\n",
       "      <td>94.767</td>\n",
       "      <td>-50.8</td>\n",
       "      <td>1.028</td>\n",
       "      <td>4963.6</td>\n",
       "      <td>...</td>\n",
       "      <td>0.0</td>\n",
       "      <td>1.0</td>\n",
       "      <td>0.0</td>\n",
       "      <td>0.0</td>\n",
       "      <td>0.0</td>\n",
       "      <td>0.0</td>\n",
       "      <td>1.0</td>\n",
       "      <td>0.0</td>\n",
       "      <td>0.0</td>\n",
       "      <td>0.0</td>\n",
       "    </tr>\n",
       "  </tbody>\n",
       "</table>\n",
       "<p>30488 rows × 58 columns</p>\n",
       "</div>"
      ],
      "text/plain": [
       "       age  duration  campaign  pdays  previous  emp.var.rate  cons.price.idx  \\\n",
       "0      1.0     261.0       1.0  999.0       0.0           1.1          93.994   \n",
       "2      1.0     226.0       1.0  999.0       0.0           1.1          93.994   \n",
       "3      1.0     151.0       1.0  999.0       0.0           1.1          93.994   \n",
       "4      1.0     307.0       1.0  999.0       0.0           1.1          93.994   \n",
       "6      1.0     139.0       1.0  999.0       0.0           1.1          93.994   \n",
       "...    ...       ...       ...    ...       ...           ...             ...   \n",
       "41183  0.0     334.0       1.0  999.0       0.0          -1.1          94.767   \n",
       "41184  1.0     383.0       1.0  999.0       0.0          -1.1          94.767   \n",
       "41185  1.0     189.0       2.0  999.0       0.0          -1.1          94.767   \n",
       "41186  1.0     442.0       1.0  999.0       0.0          -1.1          94.767   \n",
       "41187  0.0     239.0       3.0  999.0       1.0          -1.1          94.767   \n",
       "\n",
       "       cons.conf.idx  euribor3m  nr.employed  ...  month=sep  day_of_week=fri  \\\n",
       "0              -36.4      4.857       5191.0  ...        0.0              0.0   \n",
       "2              -36.4      4.857       5191.0  ...        0.0              0.0   \n",
       "3              -36.4      4.857       5191.0  ...        0.0              0.0   \n",
       "4              -36.4      4.857       5191.0  ...        0.0              0.0   \n",
       "6              -36.4      4.857       5191.0  ...        0.0              0.0   \n",
       "...              ...        ...          ...  ...        ...              ...   \n",
       "41183          -50.8      1.028       4963.6  ...        0.0              1.0   \n",
       "41184          -50.8      1.028       4963.6  ...        0.0              1.0   \n",
       "41185          -50.8      1.028       4963.6  ...        0.0              1.0   \n",
       "41186          -50.8      1.028       4963.6  ...        0.0              1.0   \n",
       "41187          -50.8      1.028       4963.6  ...        0.0              1.0   \n",
       "\n",
       "       day_of_week=mon  day_of_week=thu  day_of_week=tue  day_of_week=wed  \\\n",
       "0                  1.0              0.0              0.0              0.0   \n",
       "2                  1.0              0.0              0.0              0.0   \n",
       "3                  1.0              0.0              0.0              0.0   \n",
       "4                  1.0              0.0              0.0              0.0   \n",
       "6                  1.0              0.0              0.0              0.0   \n",
       "...                ...              ...              ...              ...   \n",
       "41183              0.0              0.0              0.0              0.0   \n",
       "41184              0.0              0.0              0.0              0.0   \n",
       "41185              0.0              0.0              0.0              0.0   \n",
       "41186              0.0              0.0              0.0              0.0   \n",
       "41187              0.0              0.0              0.0              0.0   \n",
       "\n",
       "       poutcome=failure  poutcome=nonexistent  poutcome=success    y  \n",
       "0                   0.0                   1.0               0.0  0.0  \n",
       "2                   0.0                   1.0               0.0  0.0  \n",
       "3                   0.0                   1.0               0.0  0.0  \n",
       "4                   0.0                   1.0               0.0  0.0  \n",
       "6                   0.0                   1.0               0.0  0.0  \n",
       "...                 ...                   ...               ...  ...  \n",
       "41183               0.0                   1.0               0.0  1.0  \n",
       "41184               0.0                   1.0               0.0  0.0  \n",
       "41185               0.0                   1.0               0.0  0.0  \n",
       "41186               0.0                   1.0               0.0  1.0  \n",
       "41187               1.0                   0.0               0.0  0.0  \n",
       "\n",
       "[30488 rows x 58 columns]"
      ]
     },
     "execution_count": 36,
     "metadata": {},
     "output_type": "execute_result"
    }
   ],
   "source": [
    "df_b"
   ]
  },
  {
   "cell_type": "code",
   "execution_count": 37,
   "id": "d1ebc934",
   "metadata": {
    "scrolled": true
   },
   "outputs": [
    {
     "data": {
      "text/plain": [
       "age\n",
       "1.0    28742\n",
       "0.0     1746\n",
       "Name: count, dtype: int64"
      ]
     },
     "execution_count": 37,
     "metadata": {},
     "output_type": "execute_result"
    }
   ],
   "source": [
    "df_b['age'].value_counts()"
   ]
  },
  {
   "cell_type": "code",
   "execution_count": 39,
   "id": "ca8fc531",
   "metadata": {},
   "outputs": [],
   "source": [
    "df_b_reduced.to_csv(\"../data/bank_reduced.csv\")"
   ]
  },
  {
   "cell_type": "code",
   "execution_count": 38,
   "id": "12d506b9",
   "metadata": {},
   "outputs": [],
   "source": [
    "df_b_reduced_non_dup.to_csv(\"../data/bank_reduced_dup.csv\")"
   ]
  },
  {
   "cell_type": "code",
   "execution_count": 40,
   "id": "3c5aa603",
   "metadata": {},
   "outputs": [],
   "source": [
    "df_b_non_dup.to_csv(\"../data/bank_dup.csv\")"
   ]
  },
  {
   "cell_type": "markdown",
   "id": "39ffe9aa",
   "metadata": {},
   "source": [
    "# COMPAS"
   ]
  },
  {
   "cell_type": "code",
   "execution_count": 1,
   "id": "ed6fb9bc",
   "metadata": {},
   "outputs": [],
   "source": [
    "from aif360.algorithms.preprocessing.optim_preproc_helpers.data_preproc_functions import load_preproc_data_compas"
   ]
  },
  {
   "cell_type": "code",
   "execution_count": 2,
   "id": "0d4d2c45",
   "metadata": {},
   "outputs": [],
   "source": [
    "from sklearn.preprocessing import LabelEncoder"
   ]
  },
  {
   "cell_type": "code",
   "execution_count": 3,
   "id": "e7b4dbb1",
   "metadata": {},
   "outputs": [],
   "source": [
    "import pandas as pd"
   ]
  },
  {
   "cell_type": "code",
   "execution_count": 4,
   "id": "492b7b55",
   "metadata": {},
   "outputs": [],
   "source": [
    "import seaborn as sns\n",
    "import matplotlib.pyplot as plt"
   ]
  },
  {
   "cell_type": "code",
   "execution_count": 5,
   "id": "046f7872",
   "metadata": {},
   "outputs": [
    {
     "name": "stderr",
     "output_type": "stream",
     "text": [
      "WARNING:root:Missing Data: 5 rows removed from CompasDataset.\n"
     ]
    }
   ],
   "source": [
    "from aif360.datasets import CompasDataset\n",
    "\n",
    "# Load the dataset\n",
    "dataset = CompasDataset()\n",
    "\n",
    "# Convert to pandas DataFrame\n",
    "df, _ = dataset.convert_to_dataframe()"
   ]
  },
  {
   "cell_type": "code",
   "execution_count": 6,
   "id": "80697d8d",
   "metadata": {},
   "outputs": [],
   "source": [
    "df_3 = pd.read_csv(\"./data/compas-scores-two-years.csv\")"
   ]
  },
  {
   "cell_type": "code",
   "execution_count": 7,
   "id": "e7a2a2b2",
   "metadata": {
    "scrolled": true
   },
   "outputs": [
    {
     "data": {
      "text/plain": [
       "Index(['id', 'name', 'first', 'last', 'compas_screening_date', 'sex', 'dob',\n",
       "       'age', 'age_cat', 'race', 'juv_fel_count', 'decile_score',\n",
       "       'juv_misd_count', 'juv_other_count', 'priors_count',\n",
       "       'days_b_screening_arrest', 'c_jail_in', 'c_jail_out', 'c_case_number',\n",
       "       'c_offense_date', 'c_arrest_date', 'c_days_from_compas',\n",
       "       'c_charge_degree', 'c_charge_desc', 'is_recid', 'r_case_number',\n",
       "       'r_charge_degree', 'r_days_from_arrest', 'r_offense_date',\n",
       "       'r_charge_desc', 'r_jail_in', 'r_jail_out', 'violent_recid',\n",
       "       'is_violent_recid', 'vr_case_number', 'vr_charge_degree',\n",
       "       'vr_offense_date', 'vr_charge_desc', 'type_of_assessment',\n",
       "       'decile_score.1', 'score_text', 'screening_date',\n",
       "       'v_type_of_assessment', 'v_decile_score', 'v_score_text',\n",
       "       'v_screening_date', 'in_custody', 'out_custody', 'priors_count.1',\n",
       "       'start', 'end', 'event', 'two_year_recid'],\n",
       "      dtype='object')"
      ]
     },
     "execution_count": 7,
     "metadata": {},
     "output_type": "execute_result"
    }
   ],
   "source": [
    "df_3.columns"
   ]
  },
  {
   "cell_type": "code",
   "execution_count": 8,
   "id": "1e254f51",
   "metadata": {},
   "outputs": [],
   "source": [
    "# Indices of data samples to keep\n",
    "ix = df_3['days_b_screening_arrest'] <= 30\n",
    "ix = (df_3['days_b_screening_arrest'] >= -30) & ix\n",
    "ix = (df_3['is_recid'] != -1) & ix\n",
    "ix = (df_3['c_charge_degree'] != \"O\") & ix\n",
    "ix = (df_3['score_text'] != 'N/A') & ix\n",
    "df_3 = df_3.loc[ix,:]"
   ]
  },
  {
   "cell_type": "code",
   "execution_count": 9,
   "id": "8126d97d",
   "metadata": {},
   "outputs": [],
   "source": [
    "features_to_keep=['sex', 'age', 'age_cat', 'race',\n",
    "                     'juv_fel_count', 'juv_misd_count', 'juv_other_count',\n",
    "                     'priors_count', 'c_charge_degree', 'c_charge_desc',\n",
    "                     'two_year_recid']"
   ]
  },
  {
   "cell_type": "code",
   "execution_count": 10,
   "id": "0918e06d",
   "metadata": {},
   "outputs": [],
   "source": [
    "df_3 = df_3[features_to_keep]"
   ]
  },
  {
   "cell_type": "code",
   "execution_count": 11,
   "id": "fe975bc2",
   "metadata": {
    "scrolled": true
   },
   "outputs": [
    {
     "data": {
      "text/plain": [
       "(6172, 11)"
      ]
     },
     "execution_count": 11,
     "metadata": {},
     "output_type": "execute_result"
    }
   ],
   "source": [
    "df_3.shape"
   ]
  },
  {
   "cell_type": "code",
   "execution_count": 12,
   "id": "7abf3d29",
   "metadata": {
    "scrolled": true
   },
   "outputs": [
    {
     "name": "stderr",
     "output_type": "stream",
     "text": [
      "C:\\Users\\ilham\\AppData\\Local\\Programs\\Python\\Python311\\Lib\\site-packages\\aif360\\algorithms\\preprocessing\\optim_preproc_helpers\\data_preproc_functions.py:163: FutureWarning: Downcasting behavior in `replace` is deprecated and will be removed in a future version. To retain the old behavior, explicitly call `result.infer_objects(copy=False)`. To opt-in to the future behavior, set `pd.set_option('future.no_silent_downcasting', True)`\n",
      "  dfcutQ['sex'] = dfcutQ['sex'].replace({'Female': 1.0, 'Male': 0.0})\n"
     ]
    }
   ],
   "source": [
    "dataset_2 = load_preproc_data_compas()"
   ]
  },
  {
   "cell_type": "code",
   "execution_count": 13,
   "id": "66132191",
   "metadata": {},
   "outputs": [],
   "source": [
    "# Convert to pandas DataFrame\n",
    "df_2, _ = dataset_2.convert_to_dataframe()"
   ]
  },
  {
   "cell_type": "code",
   "execution_count": 14,
   "id": "e713f7ca",
   "metadata": {
    "scrolled": true
   },
   "outputs": [
    {
     "name": "stdout",
     "output_type": "stream",
     "text": [
      "    sex  race  age_cat=25 to 45  age_cat=Greater than 45  \\\n",
      "3   0.0   0.0               1.0                      0.0   \n",
      "4   0.0   0.0               0.0                      0.0   \n",
      "8   0.0   1.0               1.0                      0.0   \n",
      "10  1.0   1.0               1.0                      0.0   \n",
      "14  0.0   1.0               1.0                      0.0   \n",
      "\n",
      "    age_cat=Less than 25  priors_count=0  priors_count=1 to 3  \\\n",
      "3                    0.0             1.0                  0.0   \n",
      "4                    1.0             0.0                  0.0   \n",
      "8                    0.0             0.0                  0.0   \n",
      "10                   0.0             1.0                  0.0   \n",
      "14                   0.0             1.0                  0.0   \n",
      "\n",
      "    priors_count=More than 3  c_charge_degree=F  c_charge_degree=M  \\\n",
      "3                        0.0                1.0                0.0   \n",
      "4                        1.0                1.0                0.0   \n",
      "8                        1.0                1.0                0.0   \n",
      "10                       0.0                0.0                1.0   \n",
      "14                       0.0                1.0                0.0   \n",
      "\n",
      "    two_year_recid  \n",
      "3              1.0  \n",
      "4              1.0  \n",
      "8              1.0  \n",
      "10             0.0  \n",
      "14             0.0  \n"
     ]
    }
   ],
   "source": [
    "# Display the first few rows of the dataset\n",
    "print(df_2.head())"
   ]
  },
  {
   "cell_type": "code",
   "execution_count": 15,
   "id": "e4426cce",
   "metadata": {
    "scrolled": true
   },
   "outputs": [
    {
     "data": {
      "text/plain": [
       "(5278, 11)"
      ]
     },
     "execution_count": 15,
     "metadata": {},
     "output_type": "execute_result"
    }
   ],
   "source": [
    "df_2.shape"
   ]
  },
  {
   "cell_type": "code",
   "execution_count": 16,
   "id": "ce71a206",
   "metadata": {},
   "outputs": [
    {
     "data": {
      "text/plain": [
       "Index(['sex', 'race', 'age_cat=25 to 45', 'age_cat=Greater than 45',\n",
       "       'age_cat=Less than 25', 'priors_count=0', 'priors_count=1 to 3',\n",
       "       'priors_count=More than 3', 'c_charge_degree=F', 'c_charge_degree=M',\n",
       "       'two_year_recid'],\n",
       "      dtype='object')"
      ]
     },
     "execution_count": 16,
     "metadata": {},
     "output_type": "execute_result"
    }
   ],
   "source": [
    "df_2.columns"
   ]
  },
  {
   "cell_type": "code",
   "execution_count": 17,
   "id": "23b47eab",
   "metadata": {},
   "outputs": [],
   "source": [
    "# Apply the filters\n",
    "for col in df_2.columns:\n",
    "    df_2 = df_2[~df_2[col].isin([\"\", \" \"])]"
   ]
  },
  {
   "cell_type": "code",
   "execution_count": 18,
   "id": "37c4150a",
   "metadata": {},
   "outputs": [],
   "source": [
    "# Apply the filters\n",
    "for col in df_3.columns:\n",
    "    df_3 = df_3[~df_3[col].isin([\"\", \" \"])]"
   ]
  },
  {
   "cell_type": "code",
   "execution_count": 19,
   "id": "2ae331fc",
   "metadata": {},
   "outputs": [
    {
     "data": {
      "text/plain": [
       "(5278, 11)"
      ]
     },
     "execution_count": 19,
     "metadata": {},
     "output_type": "execute_result"
    }
   ],
   "source": [
    "df_2.shape"
   ]
  },
  {
   "cell_type": "code",
   "execution_count": 20,
   "id": "d8367f49",
   "metadata": {},
   "outputs": [
    {
     "data": {
      "text/plain": [
       "(6172, 11)"
      ]
     },
     "execution_count": 20,
     "metadata": {},
     "output_type": "execute_result"
    }
   ],
   "source": [
    "df_3.shape"
   ]
  },
  {
   "cell_type": "code",
   "execution_count": 21,
   "id": "a627062e",
   "metadata": {},
   "outputs": [
    {
     "data": {
      "image/png": "[encoded data removed]",
      "text/plain": [
       "<Figure size 1200x1000 with 2 Axes>"
      ]
     },
     "metadata": {},
     "output_type": "display_data"
    }
   ],
   "source": [
    "# Correlation matrix\n",
    "corr = df_2.corr()\n",
    "\n",
    "# Heatmap\n",
    "plt.figure(figsize=(12,10))\n",
    "sns.heatmap(corr, annot=True, fmt=\".2f\", cmap='coolwarm')\n",
    "plt.title('Correlation Matrix')\n",
    "plt.show()"
   ]
  },
  {
   "cell_type": "code",
   "execution_count": 22,
   "id": "743aa234",
   "metadata": {
    "scrolled": false
   },
   "outputs": [
    {
     "data": {
      "text/plain": [
       "race\n",
       "African-American    3175\n",
       "Caucasian           2103\n",
       "Hispanic             509\n",
       "Other                343\n",
       "Asian                 31\n",
       "Native American       11\n",
       "Name: count, dtype: int64"
      ]
     },
     "execution_count": 22,
     "metadata": {},
     "output_type": "execute_result"
    }
   ],
   "source": [
    "df_3['race'].value_counts()"
   ]
  },
  {
   "cell_type": "code",
   "execution_count": 102,
   "id": "1ad689c5",
   "metadata": {},
   "outputs": [
    {
     "data": {
      "text/plain": [
       "['sex', 'age_cat', 'race', 'c_charge_degree', 'c_charge_desc']"
      ]
     },
     "execution_count": 102,
     "metadata": {},
     "output_type": "execute_result"
    }
   ],
   "source": [
    "catvar = [key for key in dict(df_3.dtypes)\n",
    "             if dict(df_3.dtypes)[key] in ['object'] ] # Categorical Variable\n",
    "\n",
    "catvar"
   ]
  },
  {
   "cell_type": "code",
   "execution_count": 103,
   "id": "a40fa0c6",
   "metadata": {},
   "outputs": [],
   "source": [
    "df_3['sex'] = df_3['sex'].map({'Male': 0, 'Female': 1})"
   ]
  },
  {
   "cell_type": "code",
   "execution_count": 104,
   "id": "a95185b0",
   "metadata": {},
   "outputs": [],
   "source": [
    "for cat in catvar:\n",
    "    df_3[cat] = LabelEncoder().fit_transform(df_3[cat])"
   ]
  },
  {
   "cell_type": "code",
   "execution_count": 105,
   "id": "7af08b98",
   "metadata": {},
   "outputs": [
    {
     "data": {
      "text/html": [
       "<div>\n",
       "<style scoped>\n",
       "    .dataframe tbody tr th:only-of-type {\n",
       "        vertical-align: middle;\n",
       "    }\n",
       "\n",
       "    .dataframe tbody tr th {\n",
       "        vertical-align: top;\n",
       "    }\n",
       "\n",
       "    .dataframe thead th {\n",
       "        text-align: right;\n",
       "    }\n",
       "</style>\n",
       "<table border=\"1\" class=\"dataframe\">\n",
       "  <thead>\n",
       "    <tr style=\"text-align: right;\">\n",
       "      <th></th>\n",
       "      <th>sex</th>\n",
       "      <th>age</th>\n",
       "      <th>age_cat</th>\n",
       "      <th>race</th>\n",
       "      <th>juv_fel_count</th>\n",
       "      <th>juv_misd_count</th>\n",
       "      <th>juv_other_count</th>\n",
       "      <th>priors_count</th>\n",
       "      <th>c_charge_degree</th>\n",
       "      <th>c_charge_desc</th>\n",
       "      <th>two_year_recid</th>\n",
       "    </tr>\n",
       "  </thead>\n",
       "  <tbody>\n",
       "    <tr>\n",
       "      <th>0</th>\n",
       "      <td>0</td>\n",
       "      <td>69</td>\n",
       "      <td>1</td>\n",
       "      <td>5</td>\n",
       "      <td>0</td>\n",
       "      <td>0</td>\n",
       "      <td>0</td>\n",
       "      <td>0</td>\n",
       "      <td>0</td>\n",
       "      <td>15</td>\n",
       "      <td>0</td>\n",
       "    </tr>\n",
       "    <tr>\n",
       "      <th>1</th>\n",
       "      <td>0</td>\n",
       "      <td>34</td>\n",
       "      <td>0</td>\n",
       "      <td>0</td>\n",
       "      <td>0</td>\n",
       "      <td>0</td>\n",
       "      <td>0</td>\n",
       "      <td>0</td>\n",
       "      <td>0</td>\n",
       "      <td>150</td>\n",
       "      <td>1</td>\n",
       "    </tr>\n",
       "    <tr>\n",
       "      <th>2</th>\n",
       "      <td>0</td>\n",
       "      <td>24</td>\n",
       "      <td>2</td>\n",
       "      <td>0</td>\n",
       "      <td>0</td>\n",
       "      <td>0</td>\n",
       "      <td>1</td>\n",
       "      <td>4</td>\n",
       "      <td>0</td>\n",
       "      <td>282</td>\n",
       "      <td>1</td>\n",
       "    </tr>\n",
       "    <tr>\n",
       "      <th>5</th>\n",
       "      <td>0</td>\n",
       "      <td>44</td>\n",
       "      <td>0</td>\n",
       "      <td>5</td>\n",
       "      <td>0</td>\n",
       "      <td>0</td>\n",
       "      <td>0</td>\n",
       "      <td>0</td>\n",
       "      <td>1</td>\n",
       "      <td>38</td>\n",
       "      <td>0</td>\n",
       "    </tr>\n",
       "    <tr>\n",
       "      <th>6</th>\n",
       "      <td>0</td>\n",
       "      <td>41</td>\n",
       "      <td>0</td>\n",
       "      <td>2</td>\n",
       "      <td>0</td>\n",
       "      <td>0</td>\n",
       "      <td>0</td>\n",
       "      <td>14</td>\n",
       "      <td>0</td>\n",
       "      <td>261</td>\n",
       "      <td>1</td>\n",
       "    </tr>\n",
       "  </tbody>\n",
       "</table>\n",
       "</div>"
      ],
      "text/plain": [
       "   sex  age  age_cat  race  juv_fel_count  juv_misd_count  juv_other_count  \\\n",
       "0    0   69        1     5              0               0                0   \n",
       "1    0   34        0     0              0               0                0   \n",
       "2    0   24        2     0              0               0                1   \n",
       "5    0   44        0     5              0               0                0   \n",
       "6    0   41        0     2              0               0                0   \n",
       "\n",
       "   priors_count  c_charge_degree  c_charge_desc  two_year_recid  \n",
       "0             0                0             15               0  \n",
       "1             0                0            150               1  \n",
       "2             4                0            282               1  \n",
       "5             0                1             38               0  \n",
       "6            14                0            261               1  "
      ]
     },
     "execution_count": 105,
     "metadata": {},
     "output_type": "execute_result"
    }
   ],
   "source": [
    "df_3.head()"
   ]
  },
  {
   "cell_type": "code",
   "execution_count": 106,
   "id": "90b2c237",
   "metadata": {
    "scrolled": true
   },
   "outputs": [
    {
     "data": {
      "image/png": "[encoded data removed]",
      "text/plain": [
       "<Figure size 1200x1000 with 2 Axes>"
      ]
     },
     "metadata": {},
     "output_type": "display_data"
    }
   ],
   "source": [
    "# Correlation matrix\n",
    "corr = df_3.corr()\n",
    "\n",
    "# Heatmap\n",
    "plt.figure(figsize=(12,10))\n",
    "sns.heatmap(corr, annot=True, fmt=\".2f\", cmap='coolwarm')\n",
    "plt.title('Correlation Matrix')\n",
    "plt.show()"
   ]
  },
  {
   "cell_type": "code",
   "execution_count": 107,
   "id": "c5533000",
   "metadata": {},
   "outputs": [],
   "source": [
    "df_3.to_csv(\"compas_preprocessed.csv\")"
   ]
  }
 ],
 "metadata": {
  "kernelspec": {
   "display_name": "Python 3 (ipykernel)",
   "language": "python",
   "name": "python3"
  },
  "language_info": {
   "codemirror_mode": {
    "name": "ipython",
    "version": 3
   },
   "file_extension": ".py",
   "mimetype": "text/x-python",
   "name": "python",
   "nbconvert_exporter": "python",
   "pygments_lexer": "ipython3",
   "version": "3.11.1"
  }
 },
 "nbformat": 4,
 "nbformat_minor": 5
}
