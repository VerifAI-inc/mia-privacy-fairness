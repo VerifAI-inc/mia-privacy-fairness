{
 "cells": [
  {
   "cell_type": "code",
   "execution_count": 5,
   "id": "57d2dbc3",
   "metadata": {
    "collapsed": true
   },
   "outputs": [
    {
     "ename": "ModuleNotFoundError",
     "evalue": "No module named 'catboost'",
     "output_type": "error",
     "traceback": [
      "\u001b[1;31m---------------------------------------------------------------------------\u001b[0m",
      "\u001b[1;31mModuleNotFoundError\u001b[0m                       Traceback (most recent call last)",
      "Cell \u001b[1;32mIn[5], line 9\u001b[0m\n\u001b[0;32m      7\u001b[0m \u001b[38;5;28;01mimport\u001b[39;00m \u001b[38;5;21;01moptuna\u001b[39;00m\n\u001b[0;32m      8\u001b[0m \u001b[38;5;28;01mimport\u001b[39;00m \u001b[38;5;21;01mpandas\u001b[39;00m \u001b[38;5;28;01mas\u001b[39;00m \u001b[38;5;21;01mpd\u001b[39;00m\n\u001b[1;32m----> 9\u001b[0m \u001b[38;5;28;01mfrom\u001b[39;00m \u001b[38;5;21;01mcatboost\u001b[39;00m \u001b[38;5;28;01mimport\u001b[39;00m CatBoostClassifier, CatBoostRegressor\n\u001b[0;32m     10\u001b[0m \u001b[38;5;28;01mfrom\u001b[39;00m \u001b[38;5;21;01mcatboost\u001b[39;00m\u001b[38;5;21;01m.\u001b[39;00m\u001b[38;5;21;01mmetrics\u001b[39;00m \u001b[38;5;28;01mimport\u001b[39;00m RMSEWithUncertainty\n\u001b[0;32m     11\u001b[0m \u001b[38;5;28;01mfrom\u001b[39;00m \u001b[38;5;21;01msklearn\u001b[39;00m\u001b[38;5;21;01m.\u001b[39;00m\u001b[38;5;21;01mmetrics\u001b[39;00m \u001b[38;5;28;01mimport\u001b[39;00m roc_auc_score\n",
      "\u001b[1;31mModuleNotFoundError\u001b[0m: No module named 'catboost'"
     ]
    }
   ],
   "source": [
    "import pandas as pd\n",
    "from aif360.datasets import BinaryLabelDataset\n",
    "\n",
    "import argparse\n",
    "\n",
    "import numpy as np\n",
    "import optuna\n",
    "import pandas as pd\n",
    "from catboost import CatBoostClassifier, CatBoostRegressor\n",
    "from catboost.metrics import RMSEWithUncertainty\n",
    "from sklearn.metrics import roc_auc_score\n",
    "from sklearn.model_selection import train_test_split\n",
    "from sklearn.preprocessing import LabelEncoder"
   ]
  },
  {
   "cell_type": "code",
   "execution_count": 130,
   "id": "0d1bf83d",
   "metadata": {},
   "outputs": [],
   "source": [
    "privileged_groups = [{'race': 1}]\n",
    "unprivileged_groups = [{'race': 0}]\n",
    "df = pd.read_csv(\"./data/compas_preprocessed_final.csv\")\n",
    "dataset = BinaryLabelDataset(\n",
    "                  favorable_label=1,  \n",
    "                  unfavorable_label=0,  \n",
    "                  df=df,\n",
    "                  label_names=['two_year_recid'], \n",
    "                  protected_attribute_names=['race'])\n"
   ]
  },
  {
   "cell_type": "code",
   "execution_count": 131,
   "id": "e76ccdf7",
   "metadata": {},
   "outputs": [],
   "source": [
    "X = dataset.features\n",
    "y = dataset.labels.ravel()"
   ]
  },
  {
   "cell_type": "code",
   "execution_count": 132,
   "id": "a01d9f07",
   "metadata": {},
   "outputs": [
    {
     "data": {
      "text/plain": [
       "(6172,)"
      ]
     },
     "execution_count": 132,
     "metadata": {},
     "output_type": "execute_result"
    }
   ],
   "source": [
    "y.shape"
   ]
  },
  {
   "cell_type": "code",
   "execution_count": 133,
   "id": "4cff07b3",
   "metadata": {},
   "outputs": [],
   "source": [
    "X_train, X_test, y_train, y_test = train_test_split(X, y, test_size=0.5, random_state=42, stratify=y)"
   ]
  },
  {
   "cell_type": "code",
   "execution_count": 136,
   "id": "960f0c32",
   "metadata": {},
   "outputs": [
    {
     "data": {
      "text/plain": [
       "array([0., 0., 0., ..., 1., 1., 1.])"
      ]
     },
     "execution_count": 136,
     "metadata": {},
     "output_type": "execute_result"
    }
   ],
   "source": [
    "y_test"
   ]
  },
  {
   "cell_type": "code",
   "execution_count": 139,
   "id": "a1a35ac6",
   "metadata": {},
   "outputs": [],
   "source": [
    "X_val, X_test_us, y_val, y_test_us = train_test_split(X_test, y_test, test_size=0.2, random_state=42, stratify=y_test)"
   ]
  },
  {
   "cell_type": "code",
   "execution_count": 140,
   "id": "4fbbb4dc",
   "metadata": {},
   "outputs": [
    {
     "data": {
      "text/plain": [
       "array([1., 0., 1., ..., 0., 1., 1.])"
      ]
     },
     "execution_count": 140,
     "metadata": {},
     "output_type": "execute_result"
    }
   ],
   "source": [
    "y_val"
   ]
  },
  {
   "cell_type": "code",
   "execution_count": 141,
   "id": "ed33643e",
   "metadata": {},
   "outputs": [],
   "source": [
    "X_test = np.concatenate((X_train, X_test_us), axis=0)\n",
    "y_test = np.concatenate((y_train, y_test_us), axis=0)"
   ]
  },
  {
   "cell_type": "code",
   "execution_count": 142,
   "id": "f02ba32e",
   "metadata": {},
   "outputs": [
    {
     "data": {
      "text/plain": [
       "array([1., 0., 0., ..., 0., 0., 0.])"
      ]
     },
     "execution_count": 142,
     "metadata": {},
     "output_type": "execute_result"
    }
   ],
   "source": [
    "y_test"
   ]
  },
  {
   "cell_type": "code",
   "execution_count": 143,
   "id": "7ed5c381",
   "metadata": {},
   "outputs": [],
   "source": [
    "membership = [\"in\"] * X_train.shape[0] + [\"out\"] * X_test_us.shape[0]"
   ]
  },
  {
   "cell_type": "code",
   "execution_count": 144,
   "id": "8b8c4e8d",
   "metadata": {},
   "outputs": [],
   "source": [
    "def objective(trial):\n",
    "    param = {\n",
    "        \"depth\": trial.suggest_int(\"depth\", 1, 10),\n",
    "        \"l2_leaf_reg\": trial.suggest_float(\"l2_leaf_reg\", 1, 10, log=True),\n",
    "        \"learning_rate\": trial.suggest_float(\"learning_rate\", 0.01, 1, log=True),\n",
    "        \"random_strength\": trial.suggest_float(\"random_strength\", 1, 10, log=True),\n",
    "        \"objective\": trial.suggest_categorical(\n",
    "            \"objective\", [\"Logloss\", \"CrossEntropy\"]\n",
    "        ),\n",
    "        \"iterations\": trial.suggest_int(\"iterations\", 1, 1000, log=True),\n",
    "    }\n",
    "\n",
    "    # param[\"early_stopping_rounds\"] = 5\n",
    "    param[\"thread_count\"] = 4\n",
    "    param[\"random_seed\"] = 42\n",
    "    \n",
    "    _X_train, _X_valid, _y_train, _y_valid = train_test_split(\n",
    "        X_train,\n",
    "        y_train,\n",
    "        test_size=0.2,\n",
    "        stratify=y_train,\n",
    "        random_state=np.random.randint(0, 1000),\n",
    "    )\n",
    "    \n",
    "    \n",
    "\n",
    "    clf = CatBoostClassifier(**param)\n",
    "    clf.fit(_X_train, _y_train, verbose=0)\n",
    "    _y_pred_test = clf.predict(_X_valid, prediction_type=\"Probability\")[:, 1]\n",
    "    score = roc_auc_score(\n",
    "        _y_valid,\n",
    "        _y_pred_test,\n",
    "    )\n",
    "\n",
    "    return score\n",
    "\n"
   ]
  },
  {
   "cell_type": "code",
   "execution_count": 145,
   "id": "3e346f45",
   "metadata": {
    "collapsed": true
   },
   "outputs": [
    {
     "name": "stderr",
     "output_type": "stream",
     "text": [
      "[I 2024-10-24 00:09:11,883] A new study created in memory with name: no-name-da260968-6992-45f8-a6ba-c0c253462388\n",
      "[I 2024-10-24 00:09:13,803] Trial 0 finished with value: 0.707699293536226 and parameters: {'depth': 10, 'l2_leaf_reg': 1.248663430543325, 'learning_rate': 0.025096150073010134, 'random_strength': 1.2027593397072713, 'objective': 'Logloss', 'iterations': 444}. Best is trial 0 with value: 0.707699293536226.\n",
      "[I 2024-10-24 00:09:13,892] Trial 1 finished with value: 0.7092304930462422 and parameters: {'depth': 8, 'l2_leaf_reg': 1.2888202849107029, 'learning_rate': 0.17742551761574213, 'random_strength': 1.01310833104929, 'objective': 'CrossEntropy', 'iterations': 56}. Best is trial 1 with value: 0.7092304930462422.\n",
      "[I 2024-10-24 00:09:13,910] Trial 2 finished with value: 0.6738492243682481 and parameters: {'depth': 5, 'l2_leaf_reg': 8.101207845595134, 'learning_rate': 0.01706081360453126, 'random_strength': 1.4517657818000946, 'objective': 'Logloss', 'iterations': 1}. Best is trial 1 with value: 0.7092304930462422.\n",
      "[I 2024-10-24 00:09:13,925] Trial 3 finished with value: 0.6905498590240451 and parameters: {'depth': 4, 'l2_leaf_reg': 1.4671487372527774, 'learning_rate': 0.2115182226879548, 'random_strength': 1.9624760574282594, 'objective': 'Logloss', 'iterations': 2}. Best is trial 1 with value: 0.7092304930462422.\n",
      "[I 2024-10-24 00:09:13,956] Trial 4 finished with value: 0.6976989767363275 and parameters: {'depth': 3, 'l2_leaf_reg': 1.0999967769738062, 'learning_rate': 0.08449158407766919, 'random_strength': 5.578266573767096, 'objective': 'Logloss', 'iterations': 43}. Best is trial 1 with value: 0.7092304930462422.\n",
      "[I 2024-10-24 00:09:13,984] Trial 5 finished with value: 0.738756243598002 and parameters: {'depth': 7, 'l2_leaf_reg': 1.5320539331871692, 'learning_rate': 0.045119739491299674, 'random_strength': 2.5142810006608305, 'objective': 'CrossEntropy', 'iterations': 16}. Best is trial 5 with value: 0.738756243598002.\n",
      "[I 2024-10-24 00:09:14,233] Trial 6 finished with value: 0.6752695439137459 and parameters: {'depth': 4, 'l2_leaf_reg': 1.317753516321916, 'learning_rate': 0.4770689411220319, 'random_strength': 1.976522077836072, 'objective': 'Logloss', 'iterations': 243}. Best is trial 5 with value: 0.738756243598002.\n",
      "[I 2024-10-24 00:09:14,282] Trial 7 finished with value: 0.7455304814302459 and parameters: {'depth': 3, 'l2_leaf_reg': 1.5600894890870358, 'learning_rate': 0.015581190774880495, 'random_strength': 1.3408744038507567, 'objective': 'Logloss', 'iterations': 92}. Best is trial 7 with value: 0.7455304814302459.\n",
      "[I 2024-10-24 00:09:14,301] Trial 8 finished with value: 0.6527133911317148 and parameters: {'depth': 5, 'l2_leaf_reg': 8.20183811553719, 'learning_rate': 0.6819096591884735, 'random_strength': 8.986858921391587, 'objective': 'CrossEntropy', 'iterations': 2}. Best is trial 7 with value: 0.7455304814302459.\n",
      "[I 2024-10-24 00:09:14,321] Trial 9 finished with value: 0.7537672787944708 and parameters: {'depth': 2, 'l2_leaf_reg': 2.465301196525164, 'learning_rate': 0.6756298287269061, 'random_strength': 8.13260437911557, 'objective': 'CrossEntropy', 'iterations': 18}. Best is trial 9 with value: 0.7537672787944708.\n",
      "[I 2024-10-24 00:09:14,353] Trial 10 finished with value: 0.7154028110711004 and parameters: {'depth': 1, 'l2_leaf_reg': 3.1227286250053266, 'learning_rate': 0.8716376738334636, 'random_strength': 4.461556430898756, 'objective': 'CrossEntropy', 'iterations': 9}. Best is trial 9 with value: 0.7537672787944708.\n",
      "[I 2024-10-24 00:09:14,403] Trial 11 finished with value: 0.709109053085103 and parameters: {'depth': 1, 'l2_leaf_reg': 2.656263039688455, 'learning_rate': 0.0103847296121757, 'random_strength': 8.962509485793289, 'objective': 'CrossEntropy', 'iterations': 108}. Best is trial 9 with value: 0.7537672787944708.\n",
      "[I 2024-10-24 00:09:14,433] Trial 12 finished with value: 0.6822813816699579 and parameters: {'depth': 2, 'l2_leaf_reg': 2.119575432063692, 'learning_rate': 0.058174177081522976, 'random_strength': 4.003060745873204, 'objective': 'Logloss', 'iterations': 9}. Best is trial 9 with value: 0.7537672787944708.\n",
      "[I 2024-10-24 00:09:14,515] Trial 13 finished with value: 0.72699768736074 and parameters: {'depth': 3, 'l2_leaf_reg': 4.6459920339915435, 'learning_rate': 0.3026682939871742, 'random_strength': 5.9236412659789135, 'objective': 'CrossEntropy', 'iterations': 143}. Best is trial 9 with value: 0.7537672787944708.\n",
      "[I 2024-10-24 00:09:15,130] Trial 14 finished with value: 0.6973188168579787 and parameters: {'depth': 2, 'l2_leaf_reg': 2.0699790097155577, 'learning_rate': 0.12968781382384437, 'random_strength': 2.8437187062824685, 'objective': 'Logloss', 'iterations': 768}. Best is trial 9 with value: 0.7537672787944708.\n"
     ]
    }
   ],
   "source": [
    "study = optuna.create_study(direction=\"maximize\")\n",
    "study.optimize(objective, n_trials=15)"
   ]
  },
  {
   "cell_type": "code",
   "execution_count": 146,
   "id": "450bb885",
   "metadata": {},
   "outputs": [],
   "source": [
    "def detailed_objective(trial):\n",
    "    param = {\n",
    "        \"depth\": trial.suggest_int(\"depth\", 1, 10),\n",
    "        \"l2_leaf_reg\": trial.suggest_float(\"l2_leaf_reg\", 1, 10, log=True),\n",
    "        \"learning_rate\": trial.suggest_float(\"learning_rate\", 0.01, 1, log=True),\n",
    "        \"random_strength\": trial.suggest_float(\"random_strength\", 1, 10, log=True),\n",
    "        \"objective\": trial.suggest_categorical(\n",
    "            \"objective\", [\"Logloss\", \"CrossEntropy\"]\n",
    "        ),\n",
    "        \"iterations\": trial.suggest_int(\"iterations\", 1, 1000, log=True),\n",
    "    }\n",
    "\n",
    "    param[\"thread_count\"] = 4\n",
    "    param[\"random_seed\"] = 42\n",
    "\n",
    "    clf = CatBoostClassifier(**param)\n",
    "    clf.fit(X_train, y_train, verbose=0)\n",
    "\n",
    "    score_val = clf.predict(X_val, prediction_type=\"Probability\")[:, 1]\n",
    "    score_test = clf.predict(X_test, prediction_type=\"Probability\")[:, 1]\n",
    "\n",
    "    return score_val, score_test\n"
   ]
  },
  {
   "cell_type": "code",
   "execution_count": 147,
   "id": "1a861a5b",
   "metadata": {},
   "outputs": [],
   "source": [
    "y_score_val, y_score_test = detailed_objective(study.best_trial)"
   ]
  },
  {
   "cell_type": "code",
   "execution_count": 148,
   "id": "cc36b8e7",
   "metadata": {},
   "outputs": [
    {
     "data": {
      "text/plain": [
       "numpy.ndarray"
      ]
     },
     "execution_count": 148,
     "metadata": {},
     "output_type": "execute_result"
    }
   ],
   "source": [
    "type(y_score_test)"
   ]
  },
  {
   "cell_type": "code",
   "execution_count": 149,
   "id": "d5dee8a6",
   "metadata": {},
   "outputs": [
    {
     "data": {
      "text/plain": [
       "(2468, 11)"
      ]
     },
     "execution_count": 149,
     "metadata": {},
     "output_type": "execute_result"
    }
   ],
   "source": [
    "X_val.shape"
   ]
  },
  {
   "cell_type": "code",
   "execution_count": 150,
   "id": "b7ae6f48",
   "metadata": {},
   "outputs": [],
   "source": [
    "f_scores = lambda prob, l: (np.log(prob) - np.log(1 - prob)) * (2 * l - 1)"
   ]
  },
  {
   "cell_type": "code",
   "execution_count": 151,
   "id": "0b867f13",
   "metadata": {},
   "outputs": [],
   "source": [
    "y_score_test = f_score(y_score_test, y_test)\n",
    "y_score_val = f_score(y_score_val, y_val)"
   ]
  },
  {
   "cell_type": "code",
   "execution_count": 153,
   "id": "059ddf54",
   "metadata": {},
   "outputs": [
    {
     "data": {
      "text/plain": [
       "array([ 1.58045868, -0.38077105,  0.85201487, ...,  0.79002577,\n",
       "       -1.12522019,  0.61227023])"
      ]
     },
     "execution_count": 153,
     "metadata": {},
     "output_type": "execute_result"
    }
   ],
   "source": [
    "y_score_val"
   ]
  },
  {
   "cell_type": "code",
   "execution_count": 154,
   "id": "b14cb307",
   "metadata": {},
   "outputs": [],
   "source": [
    "rng = np.random.RandomState(42)"
   ]
  },
  {
   "cell_type": "code",
   "execution_count": 156,
   "id": "3ddf22d9",
   "metadata": {},
   "outputs": [],
   "source": [
    "def objective_2(trial):\n",
    "    param = {\n",
    "        \"depth\": trial.suggest_int(\"depth\", 1, 10),\n",
    "        \"l2_leaf_reg\": trial.suggest_float(\"l2_leaf_reg\", 1e-4, 1e4, log=True),\n",
    "        \"learning_rate\": trial.suggest_float(\"learning_rate\", 1e-4, 1, log=True),\n",
    "        \"iterations\": trial.suggest_int(\"iterations\", 1, 1000, log=True),\n",
    "    }\n",
    "\n",
    "    param[\"thread_count\"] = 1\n",
    "    param[\"objective\"] = \"RMSEWithUncertainty\"\n",
    "    param[\"posterior_sampling\"] = True\n",
    "    param[\"random_seed\"] = 42\n",
    "    eval_metric = RMSEWithUncertainty()\n",
    "    \n",
    "    _X_train, _X_valid, _y_train, _y_valid = train_test_split(\n",
    "        X_val,\n",
    "        y_score_val,\n",
    "        test_size=0.2,\n",
    "        random_state=rng.randint(0, 1000),\n",
    "        stratify=y_val,\n",
    "    )\n",
    "    \n",
    "    clf = CatBoostRegressor(**param)\n",
    "    try:\n",
    "        clf.fit(_X_train, _y_train, verbose=0)\n",
    "        _y_pred_valid = clf.predict(_X_valid, prediction_type=\"RawFormulaVal\")\n",
    "        score = eval_metric.eval(label=_y_valid.T, approx=_y_pred_valid.T)\n",
    "        return score\n",
    "    except:\n",
    "        return np.inf\n"
   ]
  },
  {
   "cell_type": "code",
   "execution_count": 157,
   "id": "f22a5415",
   "metadata": {
    "collapsed": true
   },
   "outputs": [
    {
     "name": "stderr",
     "output_type": "stream",
     "text": [
      "[I 2024-10-24 00:09:45,062] A new study created in memory with name: no-name-a76431e4-94b5-4d45-a121-b3535e30c303\n",
      "[I 2024-10-24 00:09:45,221] Trial 8 finished with value: 1.2919392962736547 and parameters: {'depth': 2, 'l2_leaf_reg': 0.027089870503053236, 'learning_rate': 0.06380385072881259, 'iterations': 4}. Best is trial 8 with value: 1.2919392962736547.\n",
      "[I 2024-10-24 00:09:45,225] Trial 6 finished with value: 1.353624544202955 and parameters: {'depth': 5, 'l2_leaf_reg': 2580.9313287389405, 'learning_rate': 0.00020938160395582466, 'iterations': 1}. Best is trial 8 with value: 1.2919392962736547.\n",
      "[I 2024-10-24 00:09:45,227] Trial 2 finished with value: 1.322183880768951 and parameters: {'depth': 8, 'l2_leaf_reg': 8936.052771777877, 'learning_rate': 0.06620389957423026, 'iterations': 2}. Best is trial 8 with value: 1.2919392962736547.\n",
      "[I 2024-10-24 00:09:45,228] Trial 5 finished with value: 1.3445301823667715 and parameters: {'depth': 7, 'l2_leaf_reg': 0.0001058504179837069, 'learning_rate': 0.00537465842094999, 'iterations': 1}. Best is trial 8 with value: 1.2919392962736547.\n",
      "[I 2024-10-24 00:09:45,244] Trial 14 finished with value: 1.180624477976422 and parameters: {'depth': 6, 'l2_leaf_reg': 0.06216772308504265, 'learning_rate': 0.47975733953494243, 'iterations': 1}. Best is trial 14 with value: 1.180624477976422.\n",
      "[I 2024-10-24 00:09:45,247] Trial 13 finished with value: 1.295832978908362 and parameters: {'depth': 5, 'l2_leaf_reg': 1.5628900390670326, 'learning_rate': 0.00024529622234108716, 'iterations': 8}. Best is trial 14 with value: 1.180624477976422.\n",
      "[I 2024-10-24 00:09:45,248] Trial 3 finished with value: 1.316889225897497 and parameters: {'depth': 3, 'l2_leaf_reg': 35.75391779590711, 'learning_rate': 0.0004212188433241528, 'iterations': 3}. Best is trial 14 with value: 1.180624477976422.\n",
      "[I 2024-10-24 00:09:45,252] Trial 10 finished with value: 1.329672582378518 and parameters: {'depth': 6, 'l2_leaf_reg': 0.24514449409983072, 'learning_rate': 0.00018015808569385526, 'iterations': 19}. Best is trial 14 with value: 1.180624477976422.\n",
      "[I 2024-10-24 00:09:45,255] Trial 0 finished with value: 1.3673118305309397 and parameters: {'depth': 8, 'l2_leaf_reg': 0.0015816938082487192, 'learning_rate': 0.0025667024831368323, 'iterations': 13}. Best is trial 14 with value: 1.180624477976422.\n",
      "[I 2024-10-24 00:09:45,297] Trial 1 finished with value: 1.3001137332515718 and parameters: {'depth': 2, 'l2_leaf_reg': 9162.496776064056, 'learning_rate': 0.0007204221414418223, 'iterations': 122}. Best is trial 14 with value: 1.180624477976422.\n",
      "[I 2024-10-24 00:09:45,318] Trial 4 finished with value: 1.1637642768113634 and parameters: {'depth': 7, 'l2_leaf_reg': 0.1465275541041365, 'learning_rate': 0.02439193560169414, 'iterations': 35}. Best is trial 4 with value: 1.1637642768113634.\n",
      "[I 2024-10-24 00:09:45,784] Trial 7 finished with value: 1.310890012521263 and parameters: {'depth': 10, 'l2_leaf_reg': 0.001175620721147034, 'learning_rate': 0.0004649752098682752, 'iterations': 35}. Best is trial 4 with value: 1.1637642768113634.\n",
      "[I 2024-10-24 00:09:45,788] Trial 12 finished with value: 1.2330305285563794 and parameters: {'depth': 10, 'l2_leaf_reg': 613.628302117996, 'learning_rate': 0.05059958394006487, 'iterations': 36}. Best is trial 4 with value: 1.1637642768113634.\n",
      "[I 2024-10-24 00:09:48,498] Trial 11 finished with value: 1.0529896468644169 and parameters: {'depth': 9, 'l2_leaf_reg': 21.308952305052077, 'learning_rate': 0.012778738492586275, 'iterations': 379}. Best is trial 11 with value: 1.0529896468644169.\n",
      "[I 2024-10-24 00:09:48,883] Trial 9 finished with value: 1.2253881256575916 and parameters: {'depth': 9, 'l2_leaf_reg': 0.08007962921468878, 'learning_rate': 0.0005280500975721751, 'iterations': 460}. Best is trial 11 with value: 1.0529896468644169.\n"
     ]
    }
   ],
   "source": [
    "study = optuna.create_study(\n",
    "    direction=\"minimize\", sampler=None, pruner=optuna.pruners.HyperbandPruner\n",
    ")\n",
    "study.optimize(objective_2, n_trials=15, n_jobs=30)"
   ]
  },
  {
   "cell_type": "code",
   "execution_count": 158,
   "id": "b227e12b",
   "metadata": {},
   "outputs": [],
   "source": [
    "def detailed_objective2(trial):\n",
    "    param = {\n",
    "        \"depth\": trial.suggest_int(\"depth\", 1, 10),\n",
    "        \"l2_leaf_reg\": trial.suggest_float(\"l2_leaf_reg\", 1e-4, 1e4, log=True),\n",
    "        \"learning_rate\": trial.suggest_float(\"learning_rate\", 1e-4, 1, log=True),\n",
    "        \"iterations\": trial.suggest_int(\"iterations\", 1, 1000, log=True),\n",
    "    }\n",
    "\n",
    "    param[\"thread_count\"] = 1\n",
    "    param[\"objective\"] = \"RMSEWithUncertainty\"\n",
    "    param[\"posterior_sampling\"] = True\n",
    "    param[\"random_seed\"] = 42\n",
    "\n",
    "    clf = CatBoostRegressor(**param)\n",
    "    clf.fit(X_val, y_score_val, verbose=0)\n",
    "\n",
    "    conf_test = clf.predict(X_test, prediction_type=\"RawFormulaVal\")\n",
    "\n",
    "    return conf_test"
   ]
  },
  {
   "cell_type": "code",
   "execution_count": 159,
   "id": "b6848574",
   "metadata": {},
   "outputs": [],
   "source": [
    "y_conf = detailed_objective2(study.best_trial)"
   ]
  },
  {
   "cell_type": "code",
   "execution_count": 160,
   "id": "06e87d47",
   "metadata": {},
   "outputs": [
    {
     "data": {
      "text/plain": [
       "array([[ 0.26942777, -0.52455162],\n",
       "       [ 0.74101589, -0.16426721],\n",
       "       [ 0.3177515 , -0.33531891],\n",
       "       ...,\n",
       "       [ 0.55111523, -0.26652674],\n",
       "       [ 1.07496108,  0.33549692],\n",
       "       [ 0.26013298, -0.36100899]])"
      ]
     },
     "execution_count": 160,
     "metadata": {},
     "output_type": "execute_result"
    }
   ],
   "source": [
    "y_conf"
   ]
  },
  {
   "cell_type": "code",
   "execution_count": 161,
   "id": "6892e6f7",
   "metadata": {},
   "outputs": [],
   "source": [
    "gaussian_pred = {}\n",
    "\n",
    "gaussian_pred[\"score\"] = y_score_test\n",
    "gaussian_pred[\"mu\"] = y_conf[:, 0]\n",
    "gaussian_pred[\"log_sigma\"] = y_conf[:, 1]\n",
    "gaussian_pred[\"membership\"] = membership\n",
    "\n",
    "gaussian_pred = pd.DataFrame(gaussian_pred)"
   ]
  },
  {
   "cell_type": "code",
   "execution_count": 162,
   "id": "27967dca",
   "metadata": {},
   "outputs": [
    {
     "data": {
      "text/html": [
       "<div>\n",
       "<style scoped>\n",
       "    .dataframe tbody tr th:only-of-type {\n",
       "        vertical-align: middle;\n",
       "    }\n",
       "\n",
       "    .dataframe tbody tr th {\n",
       "        vertical-align: top;\n",
       "    }\n",
       "\n",
       "    .dataframe thead th {\n",
       "        text-align: right;\n",
       "    }\n",
       "</style>\n",
       "<table border=\"1\" class=\"dataframe\">\n",
       "  <thead>\n",
       "    <tr style=\"text-align: right;\">\n",
       "      <th></th>\n",
       "      <th>score</th>\n",
       "      <th>mu</th>\n",
       "      <th>log_sigma</th>\n",
       "      <th>membership</th>\n",
       "    </tr>\n",
       "  </thead>\n",
       "  <tbody>\n",
       "    <tr>\n",
       "      <th>0</th>\n",
       "      <td>0.841834</td>\n",
       "      <td>0.269428</td>\n",
       "      <td>-0.524552</td>\n",
       "      <td>in</td>\n",
       "    </tr>\n",
       "    <tr>\n",
       "      <th>1</th>\n",
       "      <td>1.272788</td>\n",
       "      <td>0.741016</td>\n",
       "      <td>-0.164267</td>\n",
       "      <td>in</td>\n",
       "    </tr>\n",
       "    <tr>\n",
       "      <th>2</th>\n",
       "      <td>-0.975373</td>\n",
       "      <td>0.317751</td>\n",
       "      <td>-0.335319</td>\n",
       "      <td>in</td>\n",
       "    </tr>\n",
       "    <tr>\n",
       "      <th>3</th>\n",
       "      <td>-0.462765</td>\n",
       "      <td>0.242633</td>\n",
       "      <td>-0.658045</td>\n",
       "      <td>in</td>\n",
       "    </tr>\n",
       "    <tr>\n",
       "      <th>4</th>\n",
       "      <td>0.686706</td>\n",
       "      <td>0.192311</td>\n",
       "      <td>-0.643044</td>\n",
       "      <td>in</td>\n",
       "    </tr>\n",
       "    <tr>\n",
       "      <th>...</th>\n",
       "      <td>...</td>\n",
       "      <td>...</td>\n",
       "      <td>...</td>\n",
       "      <td>...</td>\n",
       "    </tr>\n",
       "    <tr>\n",
       "      <th>3699</th>\n",
       "      <td>0.961860</td>\n",
       "      <td>0.235420</td>\n",
       "      <td>-0.450417</td>\n",
       "      <td>out</td>\n",
       "    </tr>\n",
       "    <tr>\n",
       "      <th>3700</th>\n",
       "      <td>0.389257</td>\n",
       "      <td>0.262767</td>\n",
       "      <td>-0.406303</td>\n",
       "      <td>out</td>\n",
       "    </tr>\n",
       "    <tr>\n",
       "      <th>3701</th>\n",
       "      <td>-1.172062</td>\n",
       "      <td>0.551115</td>\n",
       "      <td>-0.266527</td>\n",
       "      <td>out</td>\n",
       "    </tr>\n",
       "    <tr>\n",
       "      <th>3702</th>\n",
       "      <td>1.864374</td>\n",
       "      <td>1.074961</td>\n",
       "      <td>0.335497</td>\n",
       "      <td>out</td>\n",
       "    </tr>\n",
       "    <tr>\n",
       "      <th>3703</th>\n",
       "      <td>0.834274</td>\n",
       "      <td>0.260133</td>\n",
       "      <td>-0.361009</td>\n",
       "      <td>out</td>\n",
       "    </tr>\n",
       "  </tbody>\n",
       "</table>\n",
       "<p>3704 rows × 4 columns</p>\n",
       "</div>"
      ],
      "text/plain": [
       "         score        mu  log_sigma membership\n",
       "0     0.841834  0.269428  -0.524552         in\n",
       "1     1.272788  0.741016  -0.164267         in\n",
       "2    -0.975373  0.317751  -0.335319         in\n",
       "3    -0.462765  0.242633  -0.658045         in\n",
       "4     0.686706  0.192311  -0.643044         in\n",
       "...        ...       ...        ...        ...\n",
       "3699  0.961860  0.235420  -0.450417        out\n",
       "3700  0.389257  0.262767  -0.406303        out\n",
       "3701 -1.172062  0.551115  -0.266527        out\n",
       "3702  1.864374  1.074961   0.335497        out\n",
       "3703  0.834274  0.260133  -0.361009        out\n",
       "\n",
       "[3704 rows x 4 columns]"
      ]
     },
     "execution_count": 162,
     "metadata": {},
     "output_type": "execute_result"
    }
   ],
   "source": [
    "gaussian_pred"
   ]
  },
  {
   "cell_type": "code",
   "execution_count": 122,
   "id": "1be64fd5",
   "metadata": {},
   "outputs": [],
   "source": [
    "gaussian_pred.to_csv(\"GAUSSIAN_PRED.csv\")"
   ]
  },
  {
   "cell_type": "code",
   "execution_count": 6,
   "id": "8e8f1e1e",
   "metadata": {},
   "outputs": [
    {
     "ename": "NameError",
     "evalue": "name 'gaussian_pred' is not defined",
     "output_type": "error",
     "traceback": [
      "\u001b[1;31m---------------------------------------------------------------------------\u001b[0m",
      "\u001b[1;31mNameError\u001b[0m                                 Traceback (most recent call last)",
      "Cell \u001b[1;32mIn[6], line 5\u001b[0m\n\u001b[0;32m      2\u001b[0m threshold \u001b[38;5;241m=\u001b[39m \u001b[38;5;241m0.5\u001b[39m  \u001b[38;5;66;03m# Adjust this threshold as necessary based on your experiment\u001b[39;00m\n\u001b[0;32m      4\u001b[0m \u001b[38;5;66;03m# Step 2: Create a predicted membership list based on the mu values from the Gaussian model\u001b[39;00m\n\u001b[1;32m----> 5\u001b[0m predicted_membership \u001b[38;5;241m=\u001b[39m [\u001b[38;5;124m\"\u001b[39m\u001b[38;5;124min\u001b[39m\u001b[38;5;124m\"\u001b[39m \u001b[38;5;28;01mif\u001b[39;00m mu_value \u001b[38;5;241m<\u001b[39m threshold \u001b[38;5;28;01melse\u001b[39;00m \u001b[38;5;124m\"\u001b[39m\u001b[38;5;124mout\u001b[39m\u001b[38;5;124m\"\u001b[39m \u001b[38;5;28;01mfor\u001b[39;00m mu_value \u001b[38;5;129;01min\u001b[39;00m \u001b[43mgaussian_pred\u001b[49m[\u001b[38;5;124m\"\u001b[39m\u001b[38;5;124mmu\u001b[39m\u001b[38;5;124m\"\u001b[39m]]\n\u001b[0;32m      7\u001b[0m \u001b[38;5;66;03m# Step 3: Calculate the accuracy by comparing the predicted membership with the true membership\u001b[39;00m\n\u001b[0;32m      8\u001b[0m \u001b[38;5;28;01mfrom\u001b[39;00m \u001b[38;5;21;01msklearn\u001b[39;00m\u001b[38;5;21;01m.\u001b[39;00m\u001b[38;5;21;01mmetrics\u001b[39;00m \u001b[38;5;28;01mimport\u001b[39;00m accuracy_score\n",
      "\u001b[1;31mNameError\u001b[0m: name 'gaussian_pred' is not defined"
     ]
    }
   ],
   "source": [
    "# Step 1: Set a threshold for membership prediction, here we use 0 as a default threshold\n",
    "threshold = 0.5  # Adjust this threshold as necessary based on your experiment\n",
    "\n",
    "# Step 2: Create a predicted membership list based on the mu values from the Gaussian model\n",
    "predicted_membership = [\"in\" if mu_value < threshold else \"out\" for mu_value in gaussian_pred[\"mu\"]]\n",
    "\n",
    "# Step 3: Calculate the accuracy by comparing the predicted membership with the true membership\n",
    "from sklearn.metrics import accuracy_score\n",
    "\n",
    "# True membership is already in the dataframe, so we directly use it\n",
    "true_membership = gaussian_pred[\"membership\"]\n",
    "\n",
    "# Calculate the accuracy\n",
    "qmia_accuracy = accuracy_score(true_membership, predicted_membership)\n",
    "\n",
    "print(f\"QMIA Privacy Accuracy: {qmia_accuracy}\")"
   ]
  },
  {
   "cell_type": "code",
   "execution_count": null,
   "id": "ee1aa176",
   "metadata": {},
   "outputs": [],
   "source": []
  }
 ],
 "metadata": {
  "kernelspec": {
   "display_name": "Python 3 (ipykernel)",
   "language": "python",
   "name": "python3"
  },
  "language_info": {
   "codemirror_mode": {
    "name": "ipython",
    "version": 3
   },
   "file_extension": ".py",
   "mimetype": "text/x-python",
   "name": "python",
   "nbconvert_exporter": "python",
   "pygments_lexer": "ipython3",
   "version": "3.11.1"
  }
 },
 "nbformat": 4,
 "nbformat_minor": 5
}
